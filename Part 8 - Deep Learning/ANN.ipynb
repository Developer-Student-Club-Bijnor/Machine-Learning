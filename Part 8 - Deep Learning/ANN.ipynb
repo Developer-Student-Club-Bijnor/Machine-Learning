{
  "nbformat": 4,
  "nbformat_minor": 0,
  "metadata": {
    "language_info": {
      "name": "python",
      "codemirror_mode": {
        "name": "ipython",
        "version": 3
      },
      "version": "3.7.6-final"
    },
    "orig_nbformat": 2,
    "file_extension": ".py",
    "mimetype": "text/x-python",
    "name": "python",
    "npconvert_exporter": "python",
    "pygments_lexer": "ipython3",
    "version": 3,
    "kernelspec": {
      "name": "python3",
      "display_name": "Python 3"
    },
    "colab": {
      "name": "ANN.ipynb",
      "provenance": [],
      "include_colab_link": true
    }
  },
  "cells": [
    {
      "cell_type": "markdown",
      "metadata": {
        "id": "view-in-github",
        "colab_type": "text"
      },
      "source": [
        "<a href=\"https://colab.research.google.com/github/its-Kumar/Machine-Learning/blob/master/Part%208%20-%20Deep%20Learning/ANN.ipynb\" target=\"_parent\"><img src=\"https://colab.research.google.com/assets/colab-badge.svg\" alt=\"Open In Colab\"/></a>"
      ]
    },
    {
      "cell_type": "markdown",
      "metadata": {
        "id": "wiuLaPBW7t7F",
        "colab_type": "text"
      },
      "source": [
        "# Artificial Neural Network"
      ]
    },
    {
      "cell_type": "markdown",
      "metadata": {
        "id": "_NdlokYh0hZU",
        "colab_type": "text"
      },
      "source": [
        "## Installing Keras\n",
        "\n",
        "**Now Keras is the part of the tensorflow library So, You don't need to install it seprately**"
      ]
    },
    {
      "cell_type": "markdown",
      "metadata": {
        "id": "vAwU3Gx51Frn",
        "colab_type": "text"
      },
      "source": [
        "## Part 1 - Data Preprocessing"
      ]
    },
    {
      "cell_type": "code",
      "metadata": {
        "id": "T-77NeKj0RoP",
        "colab_type": "code",
        "colab": {
          "base_uri": "https://localhost:8080/",
          "height": 35
        },
        "outputId": "032bc994-210e-4cec-df75-bce4bf453c8e"
      },
      "source": [
        "# Importing the libraries\n",
        "import numpy as np\n",
        "import matplotlib.pyplot as plt\n",
        "import pandas as pd\n",
        "import tensorflow as tf\n",
        "tf.__version__"
      ],
      "execution_count": 1,
      "outputs": [
        {
          "output_type": "execute_result",
          "data": {
            "application/vnd.google.colaboratory.intrinsic+json": {
              "type": "string"
            },
            "text/plain": [
              "'2.2.0'"
            ]
          },
          "metadata": {
            "tags": []
          },
          "execution_count": 1
        }
      ]
    },
    {
      "cell_type": "markdown",
      "metadata": {
        "id": "JXBwtKG22M8K",
        "colab_type": "text"
      },
      "source": [
        "### Importing the dataset"
      ]
    },
    {
      "cell_type": "code",
      "metadata": {
        "id": "c2BtbMcZ0Roc",
        "colab_type": "code",
        "colab": {
          "base_uri": "https://localhost:8080/",
          "height": 439
        },
        "outputId": "0d588d15-2c71-4569-d636-ae0c506eb01b"
      },
      "source": [
        "dataset = pd.read_csv('Churn_Modelling.csv')\n",
        "dataset"
      ],
      "execution_count": 2,
      "outputs": [
        {
          "output_type": "execute_result",
          "data": {
            "text/html": [
              "<div>\n",
              "<style scoped>\n",
              "    .dataframe tbody tr th:only-of-type {\n",
              "        vertical-align: middle;\n",
              "    }\n",
              "\n",
              "    .dataframe tbody tr th {\n",
              "        vertical-align: top;\n",
              "    }\n",
              "\n",
              "    .dataframe thead th {\n",
              "        text-align: right;\n",
              "    }\n",
              "</style>\n",
              "<table border=\"1\" class=\"dataframe\">\n",
              "  <thead>\n",
              "    <tr style=\"text-align: right;\">\n",
              "      <th></th>\n",
              "      <th>RowNumber</th>\n",
              "      <th>CustomerId</th>\n",
              "      <th>Surname</th>\n",
              "      <th>CreditScore</th>\n",
              "      <th>Geography</th>\n",
              "      <th>Gender</th>\n",
              "      <th>Age</th>\n",
              "      <th>Tenure</th>\n",
              "      <th>Balance</th>\n",
              "      <th>NumOfProducts</th>\n",
              "      <th>HasCrCard</th>\n",
              "      <th>IsActiveMember</th>\n",
              "      <th>EstimatedSalary</th>\n",
              "      <th>Exited</th>\n",
              "    </tr>\n",
              "  </thead>\n",
              "  <tbody>\n",
              "    <tr>\n",
              "      <th>0</th>\n",
              "      <td>1</td>\n",
              "      <td>15634602</td>\n",
              "      <td>Hargrave</td>\n",
              "      <td>619</td>\n",
              "      <td>France</td>\n",
              "      <td>Female</td>\n",
              "      <td>42</td>\n",
              "      <td>2</td>\n",
              "      <td>0.00</td>\n",
              "      <td>1</td>\n",
              "      <td>1</td>\n",
              "      <td>1</td>\n",
              "      <td>101348.88</td>\n",
              "      <td>1</td>\n",
              "    </tr>\n",
              "    <tr>\n",
              "      <th>1</th>\n",
              "      <td>2</td>\n",
              "      <td>15647311</td>\n",
              "      <td>Hill</td>\n",
              "      <td>608</td>\n",
              "      <td>Spain</td>\n",
              "      <td>Female</td>\n",
              "      <td>41</td>\n",
              "      <td>1</td>\n",
              "      <td>83807.86</td>\n",
              "      <td>1</td>\n",
              "      <td>0</td>\n",
              "      <td>1</td>\n",
              "      <td>112542.58</td>\n",
              "      <td>0</td>\n",
              "    </tr>\n",
              "    <tr>\n",
              "      <th>2</th>\n",
              "      <td>3</td>\n",
              "      <td>15619304</td>\n",
              "      <td>Onio</td>\n",
              "      <td>502</td>\n",
              "      <td>France</td>\n",
              "      <td>Female</td>\n",
              "      <td>42</td>\n",
              "      <td>8</td>\n",
              "      <td>159660.80</td>\n",
              "      <td>3</td>\n",
              "      <td>1</td>\n",
              "      <td>0</td>\n",
              "      <td>113931.57</td>\n",
              "      <td>1</td>\n",
              "    </tr>\n",
              "    <tr>\n",
              "      <th>3</th>\n",
              "      <td>4</td>\n",
              "      <td>15701354</td>\n",
              "      <td>Boni</td>\n",
              "      <td>699</td>\n",
              "      <td>France</td>\n",
              "      <td>Female</td>\n",
              "      <td>39</td>\n",
              "      <td>1</td>\n",
              "      <td>0.00</td>\n",
              "      <td>2</td>\n",
              "      <td>0</td>\n",
              "      <td>0</td>\n",
              "      <td>93826.63</td>\n",
              "      <td>0</td>\n",
              "    </tr>\n",
              "    <tr>\n",
              "      <th>4</th>\n",
              "      <td>5</td>\n",
              "      <td>15737888</td>\n",
              "      <td>Mitchell</td>\n",
              "      <td>850</td>\n",
              "      <td>Spain</td>\n",
              "      <td>Female</td>\n",
              "      <td>43</td>\n",
              "      <td>2</td>\n",
              "      <td>125510.82</td>\n",
              "      <td>1</td>\n",
              "      <td>1</td>\n",
              "      <td>1</td>\n",
              "      <td>79084.10</td>\n",
              "      <td>0</td>\n",
              "    </tr>\n",
              "    <tr>\n",
              "      <th>...</th>\n",
              "      <td>...</td>\n",
              "      <td>...</td>\n",
              "      <td>...</td>\n",
              "      <td>...</td>\n",
              "      <td>...</td>\n",
              "      <td>...</td>\n",
              "      <td>...</td>\n",
              "      <td>...</td>\n",
              "      <td>...</td>\n",
              "      <td>...</td>\n",
              "      <td>...</td>\n",
              "      <td>...</td>\n",
              "      <td>...</td>\n",
              "      <td>...</td>\n",
              "    </tr>\n",
              "    <tr>\n",
              "      <th>9995</th>\n",
              "      <td>9996</td>\n",
              "      <td>15606229</td>\n",
              "      <td>Obijiaku</td>\n",
              "      <td>771</td>\n",
              "      <td>France</td>\n",
              "      <td>Male</td>\n",
              "      <td>39</td>\n",
              "      <td>5</td>\n",
              "      <td>0.00</td>\n",
              "      <td>2</td>\n",
              "      <td>1</td>\n",
              "      <td>0</td>\n",
              "      <td>96270.64</td>\n",
              "      <td>0</td>\n",
              "    </tr>\n",
              "    <tr>\n",
              "      <th>9996</th>\n",
              "      <td>9997</td>\n",
              "      <td>15569892</td>\n",
              "      <td>Johnstone</td>\n",
              "      <td>516</td>\n",
              "      <td>France</td>\n",
              "      <td>Male</td>\n",
              "      <td>35</td>\n",
              "      <td>10</td>\n",
              "      <td>57369.61</td>\n",
              "      <td>1</td>\n",
              "      <td>1</td>\n",
              "      <td>1</td>\n",
              "      <td>101699.77</td>\n",
              "      <td>0</td>\n",
              "    </tr>\n",
              "    <tr>\n",
              "      <th>9997</th>\n",
              "      <td>9998</td>\n",
              "      <td>15584532</td>\n",
              "      <td>Liu</td>\n",
              "      <td>709</td>\n",
              "      <td>France</td>\n",
              "      <td>Female</td>\n",
              "      <td>36</td>\n",
              "      <td>7</td>\n",
              "      <td>0.00</td>\n",
              "      <td>1</td>\n",
              "      <td>0</td>\n",
              "      <td>1</td>\n",
              "      <td>42085.58</td>\n",
              "      <td>1</td>\n",
              "    </tr>\n",
              "    <tr>\n",
              "      <th>9998</th>\n",
              "      <td>9999</td>\n",
              "      <td>15682355</td>\n",
              "      <td>Sabbatini</td>\n",
              "      <td>772</td>\n",
              "      <td>Germany</td>\n",
              "      <td>Male</td>\n",
              "      <td>42</td>\n",
              "      <td>3</td>\n",
              "      <td>75075.31</td>\n",
              "      <td>2</td>\n",
              "      <td>1</td>\n",
              "      <td>0</td>\n",
              "      <td>92888.52</td>\n",
              "      <td>1</td>\n",
              "    </tr>\n",
              "    <tr>\n",
              "      <th>9999</th>\n",
              "      <td>10000</td>\n",
              "      <td>15628319</td>\n",
              "      <td>Walker</td>\n",
              "      <td>792</td>\n",
              "      <td>France</td>\n",
              "      <td>Female</td>\n",
              "      <td>28</td>\n",
              "      <td>4</td>\n",
              "      <td>130142.79</td>\n",
              "      <td>1</td>\n",
              "      <td>1</td>\n",
              "      <td>0</td>\n",
              "      <td>38190.78</td>\n",
              "      <td>0</td>\n",
              "    </tr>\n",
              "  </tbody>\n",
              "</table>\n",
              "<p>10000 rows × 14 columns</p>\n",
              "</div>"
            ],
            "text/plain": [
              "      RowNumber  CustomerId    Surname  ...  IsActiveMember EstimatedSalary Exited\n",
              "0             1    15634602   Hargrave  ...               1       101348.88      1\n",
              "1             2    15647311       Hill  ...               1       112542.58      0\n",
              "2             3    15619304       Onio  ...               0       113931.57      1\n",
              "3             4    15701354       Boni  ...               0        93826.63      0\n",
              "4             5    15737888   Mitchell  ...               1        79084.10      0\n",
              "...         ...         ...        ...  ...             ...             ...    ...\n",
              "9995       9996    15606229   Obijiaku  ...               0        96270.64      0\n",
              "9996       9997    15569892  Johnstone  ...               1       101699.77      0\n",
              "9997       9998    15584532        Liu  ...               1        42085.58      1\n",
              "9998       9999    15682355  Sabbatini  ...               0        92888.52      1\n",
              "9999      10000    15628319     Walker  ...               0        38190.78      0\n",
              "\n",
              "[10000 rows x 14 columns]"
            ]
          },
          "metadata": {
            "tags": []
          },
          "execution_count": 2
        }
      ]
    },
    {
      "cell_type": "code",
      "metadata": {
        "id": "j_GqHR8_2TGU",
        "colab_type": "code",
        "colab": {}
      },
      "source": [
        "X = dataset.iloc[:, 3:-1].values\n",
        "y = dataset.iloc[:, -1].values"
      ],
      "execution_count": 3,
      "outputs": []
    },
    {
      "cell_type": "code",
      "metadata": {
        "id": "ew52SkeE28Fb",
        "colab_type": "code",
        "colab": {
          "base_uri": "https://localhost:8080/",
          "height": 136
        },
        "outputId": "0101b7ab-bb95-48ad-9eae-d9a2b96f3ac5"
      },
      "source": [
        "X"
      ],
      "execution_count": 4,
      "outputs": [
        {
          "output_type": "execute_result",
          "data": {
            "text/plain": [
              "array([[619, 'France', 'Female', ..., 1, 1, 101348.88],\n",
              "       [608, 'Spain', 'Female', ..., 0, 1, 112542.58],\n",
              "       [502, 'France', 'Female', ..., 1, 0, 113931.57],\n",
              "       ...,\n",
              "       [709, 'France', 'Female', ..., 0, 1, 42085.58],\n",
              "       [772, 'Germany', 'Male', ..., 1, 0, 92888.52],\n",
              "       [792, 'France', 'Female', ..., 1, 0, 38190.78]], dtype=object)"
            ]
          },
          "metadata": {
            "tags": []
          },
          "execution_count": 4
        }
      ]
    },
    {
      "cell_type": "markdown",
      "metadata": {
        "id": "e4wEA43O3TVX",
        "colab_type": "text"
      },
      "source": [
        "### Encoding categorical data\n"
      ]
    },
    {
      "cell_type": "code",
      "metadata": {
        "id": "mIhhTgri0Roy",
        "colab_type": "code",
        "colab": {}
      },
      "source": [
        "# Encoding the Gender column\n",
        "from sklearn.preprocessing import LabelEncoder\n",
        "le = LabelEncoder()\n",
        "X[:, 2] = le.fit_transform(X[:, 2])"
      ],
      "execution_count": 5,
      "outputs": []
    },
    {
      "cell_type": "code",
      "metadata": {
        "id": "v4W5xOJo4LHo",
        "colab_type": "code",
        "colab": {}
      },
      "source": [
        "# Encoding the Geography column\n",
        "from sklearn.compose import ColumnTransformer\n",
        "from sklearn.preprocessing import OneHotEncoder\n",
        "ct = ColumnTransformer(transformers=[('encoder', OneHotEncoder(), [1])], remainder='passthrough')\n",
        "X = np.array(ct.fit_transform(X))"
      ],
      "execution_count": 6,
      "outputs": []
    },
    {
      "cell_type": "code",
      "metadata": {
        "id": "1E48Jx9p5lk6",
        "colab_type": "code",
        "colab": {
          "base_uri": "https://localhost:8080/",
          "height": 136
        },
        "outputId": "f801e73c-a668-424f-a174-ba45b789f5ef"
      },
      "source": [
        "X"
      ],
      "execution_count": 7,
      "outputs": [
        {
          "output_type": "execute_result",
          "data": {
            "text/plain": [
              "array([[1.0, 0.0, 0.0, ..., 1, 1, 101348.88],\n",
              "       [0.0, 0.0, 1.0, ..., 0, 1, 112542.58],\n",
              "       [1.0, 0.0, 0.0, ..., 1, 0, 113931.57],\n",
              "       ...,\n",
              "       [1.0, 0.0, 0.0, ..., 0, 1, 42085.58],\n",
              "       [0.0, 1.0, 0.0, ..., 1, 0, 92888.52],\n",
              "       [1.0, 0.0, 0.0, ..., 1, 0, 38190.78]], dtype=object)"
            ]
          },
          "metadata": {
            "tags": []
          },
          "execution_count": 7
        }
      ]
    },
    {
      "cell_type": "markdown",
      "metadata": {
        "id": "g3Oc6sTX5yl1",
        "colab_type": "text"
      },
      "source": [
        "### Splitting the dataset into the Training set and Test set\n"
      ]
    },
    {
      "cell_type": "code",
      "metadata": {
        "id": "EbAFXcgz0RpG",
        "colab_type": "code",
        "colab": {}
      },
      "source": [
        "from sklearn.model_selection import train_test_split\n",
        "X_train, X_test, y_train, y_test = train_test_split(X, y,\n",
        "                                                    test_size=0.2,\n",
        "                                                    random_state=0)"
      ],
      "execution_count": 8,
      "outputs": []
    },
    {
      "cell_type": "markdown",
      "metadata": {
        "id": "2WdMG9uK6HuP",
        "colab_type": "text"
      },
      "source": [
        "###  Feature Scaling\n"
      ]
    },
    {
      "cell_type": "code",
      "metadata": {
        "id": "785UFciR0RpU",
        "colab_type": "code",
        "colab": {}
      },
      "source": [
        "from sklearn.preprocessing import StandardScaler\n",
        "sc = StandardScaler()\n",
        "X_train = sc.fit_transform(X_train)\n",
        "X_test = sc.transform(X_test)"
      ],
      "execution_count": 9,
      "outputs": []
    },
    {
      "cell_type": "markdown",
      "metadata": {
        "id": "ew0rCNRc1W3C",
        "colab_type": "text"
      },
      "source": [
        "## Part 2 - Now let's make the ANN!"
      ]
    },
    {
      "cell_type": "markdown",
      "metadata": {
        "id": "4e4JtlJb6Uu0",
        "colab_type": "text"
      },
      "source": [
        "### Initialising the ANN\n",
        "\n"
      ]
    },
    {
      "cell_type": "code",
      "metadata": {
        "id": "nSx85EnO0Rp2",
        "colab_type": "code",
        "colab": {}
      },
      "source": [
        "import tensorflow.keras as keras\n",
        "ann = keras.models.Sequential()"
      ],
      "execution_count": 10,
      "outputs": []
    },
    {
      "cell_type": "markdown",
      "metadata": {
        "id": "aLpnZX-k7-_a",
        "colab_type": "text"
      },
      "source": [
        "### Adding the input layer and the first hidden layer\n"
      ]
    },
    {
      "cell_type": "code",
      "metadata": {
        "id": "XTGXzvXS0Rp-",
        "colab_type": "code",
        "colab": {}
      },
      "source": [
        "ann.add(keras.layers.Dense(units=8,\n",
        "                                  activation='relu'))"
      ],
      "execution_count": 11,
      "outputs": []
    },
    {
      "cell_type": "markdown",
      "metadata": {
        "id": "-y23KJ9l8MAJ",
        "colab_type": "text"
      },
      "source": [
        "### Adding the second hidden layer\n"
      ]
    },
    {
      "cell_type": "code",
      "metadata": {
        "id": "ya6whRLv0RqG",
        "colab_type": "code",
        "colab": {}
      },
      "source": [
        "ann.add(keras.layers.Dense(units=8,\n",
        "                                  activation='relu'))"
      ],
      "execution_count": 12,
      "outputs": []
    },
    {
      "cell_type": "markdown",
      "metadata": {
        "id": "ak8gVci88XYK",
        "colab_type": "text"
      },
      "source": [
        "### Adding the output layer\n"
      ]
    },
    {
      "cell_type": "code",
      "metadata": {
        "id": "tbPUkgYP0RqP",
        "colab_type": "code",
        "colab": {}
      },
      "source": [
        "ann.add(keras.layers.Dense(units=1,\n",
        "                                  activation='sigmoid'))"
      ],
      "execution_count": 13,
      "outputs": []
    },
    {
      "cell_type": "markdown",
      "metadata": {
        "id": "Sa-E-paO8gFe",
        "colab_type": "text"
      },
      "source": [
        "### Compiling the ANN\n"
      ]
    },
    {
      "cell_type": "code",
      "metadata": {
        "id": "7qQSRakj0Rqa",
        "colab_type": "code",
        "colab": {}
      },
      "source": [
        "ann.compile(optimizer='adam',\n",
        "                   loss='binary_crossentropy',\n",
        "                   metrics=['accuracy'])"
      ],
      "execution_count": 14,
      "outputs": []
    },
    {
      "cell_type": "markdown",
      "metadata": {
        "id": "Idx93kea8la7",
        "colab_type": "text"
      },
      "source": [
        "### Fitting the ANN to the Training set\n"
      ]
    },
    {
      "cell_type": "code",
      "metadata": {
        "id": "ZO90z-pr0Rqj",
        "colab_type": "code",
        "colab": {
          "base_uri": "https://localhost:8080/",
          "height": 1000
        },
        "outputId": "5c5a9a84-9e32-40c0-a4fa-7218d9e0691f"
      },
      "source": [
        "ann.fit(X_train,\n",
        "               y_train,\n",
        "               batch_size=25,\n",
        "               epochs=100)"
      ],
      "execution_count": 15,
      "outputs": [
        {
          "output_type": "stream",
          "text": [
            "Epoch 1/100\n",
            "320/320 [==============================] - 1s 2ms/step - loss: 0.6286 - accuracy: 0.6543\n",
            "Epoch 2/100\n",
            "320/320 [==============================] - 1s 2ms/step - loss: 0.4550 - accuracy: 0.8051\n",
            "Epoch 3/100\n",
            "320/320 [==============================] - 1s 2ms/step - loss: 0.4303 - accuracy: 0.8133\n",
            "Epoch 4/100\n",
            "320/320 [==============================] - 1s 2ms/step - loss: 0.4109 - accuracy: 0.8240\n",
            "Epoch 5/100\n",
            "320/320 [==============================] - 1s 2ms/step - loss: 0.3896 - accuracy: 0.8391\n",
            "Epoch 6/100\n",
            "320/320 [==============================] - 1s 2ms/step - loss: 0.3720 - accuracy: 0.8457\n",
            "Epoch 7/100\n",
            "320/320 [==============================] - 1s 2ms/step - loss: 0.3599 - accuracy: 0.8515\n",
            "Epoch 8/100\n",
            "320/320 [==============================] - 1s 2ms/step - loss: 0.3535 - accuracy: 0.8546\n",
            "Epoch 9/100\n",
            "320/320 [==============================] - 1s 2ms/step - loss: 0.3502 - accuracy: 0.8549\n",
            "Epoch 10/100\n",
            "320/320 [==============================] - 1s 2ms/step - loss: 0.3481 - accuracy: 0.8558\n",
            "Epoch 11/100\n",
            "320/320 [==============================] - 1s 2ms/step - loss: 0.3470 - accuracy: 0.8568\n",
            "Epoch 12/100\n",
            "320/320 [==============================] - 1s 2ms/step - loss: 0.3459 - accuracy: 0.8568\n",
            "Epoch 13/100\n",
            "320/320 [==============================] - 1s 2ms/step - loss: 0.3450 - accuracy: 0.8571\n",
            "Epoch 14/100\n",
            "320/320 [==============================] - 1s 2ms/step - loss: 0.3437 - accuracy: 0.8576\n",
            "Epoch 15/100\n",
            "320/320 [==============================] - 1s 2ms/step - loss: 0.3437 - accuracy: 0.8586\n",
            "Epoch 16/100\n",
            "320/320 [==============================] - 1s 2ms/step - loss: 0.3423 - accuracy: 0.8570\n",
            "Epoch 17/100\n",
            "320/320 [==============================] - 1s 2ms/step - loss: 0.3420 - accuracy: 0.8584\n",
            "Epoch 18/100\n",
            "320/320 [==============================] - 0s 1ms/step - loss: 0.3411 - accuracy: 0.8591\n",
            "Epoch 19/100\n",
            "320/320 [==============================] - 0s 1ms/step - loss: 0.3411 - accuracy: 0.8596\n",
            "Epoch 20/100\n",
            "320/320 [==============================] - 0s 1ms/step - loss: 0.3400 - accuracy: 0.8601\n",
            "Epoch 21/100\n",
            "320/320 [==============================] - 0s 1ms/step - loss: 0.3402 - accuracy: 0.8590\n",
            "Epoch 22/100\n",
            "320/320 [==============================] - 0s 1ms/step - loss: 0.3396 - accuracy: 0.8593\n",
            "Epoch 23/100\n",
            "320/320 [==============================] - 0s 1ms/step - loss: 0.3389 - accuracy: 0.8601\n",
            "Epoch 24/100\n",
            "320/320 [==============================] - 0s 1ms/step - loss: 0.3387 - accuracy: 0.8591\n",
            "Epoch 25/100\n",
            "320/320 [==============================] - 0s 1ms/step - loss: 0.3385 - accuracy: 0.8602\n",
            "Epoch 26/100\n",
            "320/320 [==============================] - 0s 1ms/step - loss: 0.3380 - accuracy: 0.8611\n",
            "Epoch 27/100\n",
            "320/320 [==============================] - 0s 1ms/step - loss: 0.3381 - accuracy: 0.8604\n",
            "Epoch 28/100\n",
            "320/320 [==============================] - 0s 1ms/step - loss: 0.3372 - accuracy: 0.8608\n",
            "Epoch 29/100\n",
            "320/320 [==============================] - 0s 1ms/step - loss: 0.3373 - accuracy: 0.8629\n",
            "Epoch 30/100\n",
            "320/320 [==============================] - 0s 1ms/step - loss: 0.3368 - accuracy: 0.8625\n",
            "Epoch 31/100\n",
            "320/320 [==============================] - 0s 1ms/step - loss: 0.3364 - accuracy: 0.8609\n",
            "Epoch 32/100\n",
            "320/320 [==============================] - 0s 1ms/step - loss: 0.3368 - accuracy: 0.8610\n",
            "Epoch 33/100\n",
            "320/320 [==============================] - 0s 1ms/step - loss: 0.3362 - accuracy: 0.8615\n",
            "Epoch 34/100\n",
            "320/320 [==============================] - 0s 1ms/step - loss: 0.3360 - accuracy: 0.8618\n",
            "Epoch 35/100\n",
            "320/320 [==============================] - 0s 1ms/step - loss: 0.3359 - accuracy: 0.8621\n",
            "Epoch 36/100\n",
            "320/320 [==============================] - 0s 1ms/step - loss: 0.3354 - accuracy: 0.8611\n",
            "Epoch 37/100\n",
            "320/320 [==============================] - 0s 1ms/step - loss: 0.3352 - accuracy: 0.8626\n",
            "Epoch 38/100\n",
            "320/320 [==============================] - 0s 1ms/step - loss: 0.3356 - accuracy: 0.8626\n",
            "Epoch 39/100\n",
            "320/320 [==============================] - 0s 1ms/step - loss: 0.3353 - accuracy: 0.8612\n",
            "Epoch 40/100\n",
            "320/320 [==============================] - 0s 1ms/step - loss: 0.3350 - accuracy: 0.8625\n",
            "Epoch 41/100\n",
            "320/320 [==============================] - 0s 1ms/step - loss: 0.3349 - accuracy: 0.8627\n",
            "Epoch 42/100\n",
            "320/320 [==============================] - 0s 1ms/step - loss: 0.3347 - accuracy: 0.8627\n",
            "Epoch 43/100\n",
            "320/320 [==============================] - 0s 1ms/step - loss: 0.3347 - accuracy: 0.8615\n",
            "Epoch 44/100\n",
            "320/320 [==============================] - 0s 1ms/step - loss: 0.3347 - accuracy: 0.8627\n",
            "Epoch 45/100\n",
            "320/320 [==============================] - 0s 1ms/step - loss: 0.3341 - accuracy: 0.8637\n",
            "Epoch 46/100\n",
            "320/320 [==============================] - 0s 1ms/step - loss: 0.3341 - accuracy: 0.8624\n",
            "Epoch 47/100\n",
            "320/320 [==============================] - 0s 1ms/step - loss: 0.3337 - accuracy: 0.8644\n",
            "Epoch 48/100\n",
            "320/320 [==============================] - 0s 1ms/step - loss: 0.3338 - accuracy: 0.8615\n",
            "Epoch 49/100\n",
            "320/320 [==============================] - 0s 1ms/step - loss: 0.3338 - accuracy: 0.8625\n",
            "Epoch 50/100\n",
            "320/320 [==============================] - 0s 1ms/step - loss: 0.3335 - accuracy: 0.8621\n",
            "Epoch 51/100\n",
            "320/320 [==============================] - 0s 1ms/step - loss: 0.3334 - accuracy: 0.8616\n",
            "Epoch 52/100\n",
            "320/320 [==============================] - 0s 1ms/step - loss: 0.3331 - accuracy: 0.8612\n",
            "Epoch 53/100\n",
            "320/320 [==============================] - 0s 1ms/step - loss: 0.3331 - accuracy: 0.8622\n",
            "Epoch 54/100\n",
            "320/320 [==============================] - 0s 1ms/step - loss: 0.3327 - accuracy: 0.8625\n",
            "Epoch 55/100\n",
            "320/320 [==============================] - 0s 1ms/step - loss: 0.3332 - accuracy: 0.8633\n",
            "Epoch 56/100\n",
            "320/320 [==============================] - 0s 1ms/step - loss: 0.3331 - accuracy: 0.8620\n",
            "Epoch 57/100\n",
            "320/320 [==============================] - 0s 1ms/step - loss: 0.3329 - accuracy: 0.8615\n",
            "Epoch 58/100\n",
            "320/320 [==============================] - 0s 1ms/step - loss: 0.3325 - accuracy: 0.8636\n",
            "Epoch 59/100\n",
            "320/320 [==============================] - 0s 1ms/step - loss: 0.3320 - accuracy: 0.8636\n",
            "Epoch 60/100\n",
            "320/320 [==============================] - 0s 1ms/step - loss: 0.3323 - accuracy: 0.8629\n",
            "Epoch 61/100\n",
            "320/320 [==============================] - 0s 1ms/step - loss: 0.3322 - accuracy: 0.8620\n",
            "Epoch 62/100\n",
            "320/320 [==============================] - 0s 1ms/step - loss: 0.3322 - accuracy: 0.8631\n",
            "Epoch 63/100\n",
            "320/320 [==============================] - 0s 1ms/step - loss: 0.3320 - accuracy: 0.8643\n",
            "Epoch 64/100\n",
            "320/320 [==============================] - 0s 1ms/step - loss: 0.3321 - accuracy: 0.8639\n",
            "Epoch 65/100\n",
            "320/320 [==============================] - 0s 1ms/step - loss: 0.3317 - accuracy: 0.8639\n",
            "Epoch 66/100\n",
            "320/320 [==============================] - 0s 1ms/step - loss: 0.3316 - accuracy: 0.8630\n",
            "Epoch 67/100\n",
            "320/320 [==============================] - 0s 1ms/step - loss: 0.3317 - accuracy: 0.8648\n",
            "Epoch 68/100\n",
            "320/320 [==============================] - 0s 1ms/step - loss: 0.3314 - accuracy: 0.8644\n",
            "Epoch 69/100\n",
            "320/320 [==============================] - 0s 1ms/step - loss: 0.3310 - accuracy: 0.8646\n",
            "Epoch 70/100\n",
            "320/320 [==============================] - 0s 1ms/step - loss: 0.3311 - accuracy: 0.8648\n",
            "Epoch 71/100\n",
            "320/320 [==============================] - 0s 1ms/step - loss: 0.3310 - accuracy: 0.8635\n",
            "Epoch 72/100\n",
            "320/320 [==============================] - 0s 1ms/step - loss: 0.3309 - accuracy: 0.8635\n",
            "Epoch 73/100\n",
            "320/320 [==============================] - 0s 1ms/step - loss: 0.3311 - accuracy: 0.8637\n",
            "Epoch 74/100\n",
            "320/320 [==============================] - 0s 1ms/step - loss: 0.3312 - accuracy: 0.8639\n",
            "Epoch 75/100\n",
            "320/320 [==============================] - 0s 1ms/step - loss: 0.3306 - accuracy: 0.8630\n",
            "Epoch 76/100\n",
            "320/320 [==============================] - 0s 1ms/step - loss: 0.3311 - accuracy: 0.8649\n",
            "Epoch 77/100\n",
            "320/320 [==============================] - 0s 1ms/step - loss: 0.3304 - accuracy: 0.8640\n",
            "Epoch 78/100\n",
            "320/320 [==============================] - 0s 1ms/step - loss: 0.3299 - accuracy: 0.8634\n",
            "Epoch 79/100\n",
            "320/320 [==============================] - 0s 1ms/step - loss: 0.3302 - accuracy: 0.8639\n",
            "Epoch 80/100\n",
            "320/320 [==============================] - 0s 1ms/step - loss: 0.3302 - accuracy: 0.8641\n",
            "Epoch 81/100\n",
            "320/320 [==============================] - 0s 1ms/step - loss: 0.3301 - accuracy: 0.8641\n",
            "Epoch 82/100\n",
            "320/320 [==============================] - 0s 1ms/step - loss: 0.3299 - accuracy: 0.8641\n",
            "Epoch 83/100\n",
            "320/320 [==============================] - 0s 1ms/step - loss: 0.3300 - accuracy: 0.8664\n",
            "Epoch 84/100\n",
            "320/320 [==============================] - 0s 1ms/step - loss: 0.3294 - accuracy: 0.8644\n",
            "Epoch 85/100\n",
            "320/320 [==============================] - 0s 1ms/step - loss: 0.3296 - accuracy: 0.8641\n",
            "Epoch 86/100\n",
            "320/320 [==============================] - 0s 1ms/step - loss: 0.3295 - accuracy: 0.8634\n",
            "Epoch 87/100\n",
            "320/320 [==============================] - 0s 1ms/step - loss: 0.3295 - accuracy: 0.8636\n",
            "Epoch 88/100\n",
            "320/320 [==============================] - 0s 1ms/step - loss: 0.3291 - accuracy: 0.8655\n",
            "Epoch 89/100\n",
            "320/320 [==============================] - 0s 1ms/step - loss: 0.3291 - accuracy: 0.8639\n",
            "Epoch 90/100\n",
            "320/320 [==============================] - 0s 1ms/step - loss: 0.3291 - accuracy: 0.8656\n",
            "Epoch 91/100\n",
            "320/320 [==============================] - 0s 1ms/step - loss: 0.3290 - accuracy: 0.8643\n",
            "Epoch 92/100\n",
            "320/320 [==============================] - 0s 1ms/step - loss: 0.3288 - accuracy: 0.8651\n",
            "Epoch 93/100\n",
            "320/320 [==============================] - 0s 1ms/step - loss: 0.3287 - accuracy: 0.8654\n",
            "Epoch 94/100\n",
            "320/320 [==============================] - 0s 1ms/step - loss: 0.3286 - accuracy: 0.8635\n",
            "Epoch 95/100\n",
            "320/320 [==============================] - 0s 1ms/step - loss: 0.3285 - accuracy: 0.8658\n",
            "Epoch 96/100\n",
            "320/320 [==============================] - 0s 1ms/step - loss: 0.3283 - accuracy: 0.8662\n",
            "Epoch 97/100\n",
            "320/320 [==============================] - 0s 1ms/step - loss: 0.3281 - accuracy: 0.8645\n",
            "Epoch 98/100\n",
            "320/320 [==============================] - 1s 2ms/step - loss: 0.3281 - accuracy: 0.8656\n",
            "Epoch 99/100\n",
            "320/320 [==============================] - 0s 1ms/step - loss: 0.3283 - accuracy: 0.8648\n",
            "Epoch 100/100\n",
            "320/320 [==============================] - 0s 1ms/step - loss: 0.3281 - accuracy: 0.8651\n"
          ],
          "name": "stdout"
        },
        {
          "output_type": "execute_result",
          "data": {
            "text/plain": [
              "<tensorflow.python.keras.callbacks.History at 0x7f326dcbfa90>"
            ]
          },
          "metadata": {
            "tags": []
          },
          "execution_count": 15
        }
      ]
    },
    {
      "cell_type": "markdown",
      "metadata": {
        "id": "dJqv89AK1hEn",
        "colab_type": "text"
      },
      "source": [
        "## Part 3 - Making the predictions and evaluating the model"
      ]
    },
    {
      "cell_type": "markdown",
      "metadata": {
        "id": "A6cBWZ4AA6OF",
        "colab_type": "text"
      },
      "source": [
        "### Predicting the result of a single observation"
      ]
    },
    {
      "cell_type": "markdown",
      "metadata": {
        "id": "oIZgdXEYHyYH",
        "colab_type": "text"
      },
      "source": [
        "**Homework**\n",
        "\n",
        "Use our ANN model to predict if the customer with the following informations will leave the bank: \n",
        "\n",
        "Geography: France\n",
        "\n",
        "Credit Score: 600\n",
        "\n",
        "Gender: Male\n",
        "\n",
        "Age: 40 years old\n",
        "\n",
        "Tenure: 3 years\n",
        "\n",
        "Balance: \\$ 60000\n",
        "\n",
        "Number of Products: 2\n",
        "\n",
        "Does this customer have a credit card? Yes\n",
        "\n",
        "Is this customer an Active Member: Yes\n",
        "\n",
        "Estimated Salary: \\$ 50000\n",
        "\n",
        "So, should we say goodbye to that customer?"
      ]
    },
    {
      "cell_type": "code",
      "metadata": {
        "id": "A8mBUPwpBEaz",
        "colab_type": "code",
        "colab": {
          "base_uri": "https://localhost:8080/",
          "height": 34
        },
        "outputId": "190d72c7-d5bf-47a0-8847-a266ad6d3bde"
      },
      "source": [
        "ann.predict(\n",
        "    sc.transform([[1, 0, 0, 600, 1, 40, 3, 60000, 2, 1, 1, 50000]])\n",
        "    ) > 0.5"
      ],
      "execution_count": 16,
      "outputs": [
        {
          "output_type": "execute_result",
          "data": {
            "text/plain": [
              "array([[False]])"
            ]
          },
          "metadata": {
            "tags": []
          },
          "execution_count": 16
        }
      ]
    },
    {
      "cell_type": "markdown",
      "metadata": {
        "id": "9FeGb-_lGPGN",
        "colab_type": "text"
      },
      "source": [
        "### Predicting the Test set results\n"
      ]
    },
    {
      "cell_type": "code",
      "metadata": {
        "id": "GfITD6iT0Rq3",
        "colab_type": "code",
        "colab": {
          "base_uri": "https://localhost:8080/",
          "height": 136
        },
        "outputId": "f27b6809-e1d6-4221-99a9-e6b29a88f636"
      },
      "source": [
        "y_pred = ann.predict(X_test)\n",
        "y_pred = (y_pred > 0.5)\n",
        "print(np.concatenate(\n",
        "    (y_pred.reshape(len(y_pred),1), y_test.reshape(len(y_test),1)),\n",
        "    axis =1)\n",
        ")"
      ],
      "execution_count": 17,
      "outputs": [
        {
          "output_type": "stream",
          "text": [
            "[[0 0]\n",
            " [0 1]\n",
            " [0 0]\n",
            " ...\n",
            " [0 0]\n",
            " [0 0]\n",
            " [0 0]]\n"
          ],
          "name": "stdout"
        }
      ]
    },
    {
      "cell_type": "markdown",
      "metadata": {
        "id": "xsURCPaGGT2N",
        "colab_type": "text"
      },
      "source": [
        "### Making the Confusion Matrix\n"
      ]
    },
    {
      "cell_type": "code",
      "metadata": {
        "id": "UqMdvTMe0RrF",
        "colab_type": "code",
        "colab": {
          "base_uri": "https://localhost:8080/",
          "height": 51
        },
        "outputId": "bd33946f-d67b-4463-dafb-c0655ae2f84e"
      },
      "source": [
        "from sklearn.metrics import confusion_matrix, accuracy_score\n",
        "cm = confusion_matrix(y_test, y_pred)\n",
        "cm"
      ],
      "execution_count": 18,
      "outputs": [
        {
          "output_type": "execute_result",
          "data": {
            "text/plain": [
              "array([[1525,   70],\n",
              "       [ 194,  211]])"
            ]
          },
          "metadata": {
            "tags": []
          },
          "execution_count": 18
        }
      ]
    },
    {
      "cell_type": "code",
      "metadata": {
        "id": "nT4wLh9N0RrP",
        "colab_type": "code",
        "colab": {
          "base_uri": "https://localhost:8080/",
          "height": 34
        },
        "outputId": "d32d424b-371c-44ee-df4e-af266c836422"
      },
      "source": [
        "accuracy_score(y_test, y_pred)"
      ],
      "execution_count": 19,
      "outputs": [
        {
          "output_type": "execute_result",
          "data": {
            "text/plain": [
              "0.868"
            ]
          },
          "metadata": {
            "tags": []
          },
          "execution_count": 19
        }
      ]
    },
    {
      "cell_type": "code",
      "metadata": {
        "id": "Ch4-7y0_I_Sk",
        "colab_type": "code",
        "colab": {}
      },
      "source": [
        ""
      ],
      "execution_count": null,
      "outputs": []
    }
  ]
}