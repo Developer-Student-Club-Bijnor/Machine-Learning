{
 "nbformat": 4,
 "nbformat_minor": 2,
 "metadata": {
  "language_info": {
   "name": "python",
   "codemirror_mode": {
    "name": "ipython",
    "version": 3
   },
   "version": "3.7.6-final"
  },
  "orig_nbformat": 2,
  "file_extension": ".py",
  "mimetype": "text/x-python",
  "name": "python",
  "npconvert_exporter": "python",
  "pygments_lexer": "ipython3",
  "version": 3,
  "kernelspec": {
   "name": "python3",
   "display_name": "Python 3"
  }
 },
 "cells": [
  {
   "cell_type": "code",
   "execution_count": 1,
   "metadata": {},
   "outputs": [
    {
     "output_type": "stream",
     "name": "stdout",
     "text": "Requirement already satisfied: tensorflow in /home/ks/anaconda3/lib/python3.7/site-packages (2.1.0)\nRequirement already satisfied: grpcio>=1.8.6 in /home/ks/anaconda3/lib/python3.7/site-packages (from tensorflow) (1.27.2)\nRequirement already satisfied: wrapt>=1.11.1 in /home/ks/anaconda3/lib/python3.7/site-packages (from tensorflow) (1.11.1)\nRequirement already satisfied: google-pasta>=0.1.6 in /home/ks/anaconda3/lib/python3.7/site-packages (from tensorflow) (0.1.8)\nRequirement already satisfied: absl-py>=0.7.0 in /home/ks/anaconda3/lib/python3.7/site-packages (from tensorflow) (0.9.0)\nRequirement already satisfied: numpy<2.0,>=1.16.0 in /home/ks/anaconda3/lib/python3.7/site-packages (from tensorflow) (1.18.1)\nRequirement already satisfied: tensorboard<2.2.0,>=2.1.0 in /home/ks/anaconda3/lib/python3.7/site-packages (from tensorflow) (2.1.0)\nRequirement already satisfied: gast==0.2.2 in /home/ks/anaconda3/lib/python3.7/site-packages (from tensorflow) (0.2.2)\nRequirement already satisfied: keras-applications>=1.0.8 in /home/ks/anaconda3/lib/python3.7/site-packages (from tensorflow) (1.0.8)\nRequirement already satisfied: six>=1.12.0 in /home/ks/anaconda3/lib/python3.7/site-packages (from tensorflow) (1.14.0)\nRequirement already satisfied: wheel>=0.26; python_version >= \"3\" in /home/ks/anaconda3/lib/python3.7/site-packages (from tensorflow) (0.34.2)\nRequirement already satisfied: tensorflow-estimator<2.2.0,>=2.1.0rc0 in /home/ks/anaconda3/lib/python3.7/site-packages (from tensorflow) (2.1.0)\nRequirement already satisfied: scipy==1.4.1; python_version >= \"3\" in /home/ks/anaconda3/lib/python3.7/site-packages (from tensorflow) (1.4.1)\nRequirement already satisfied: protobuf>=3.8.0 in /home/ks/anaconda3/lib/python3.7/site-packages (from tensorflow) (3.11.4)\nRequirement already satisfied: termcolor>=1.1.0 in /home/ks/anaconda3/lib/python3.7/site-packages (from tensorflow) (1.1.0)\nRequirement already satisfied: keras-preprocessing>=1.1.0 in /home/ks/anaconda3/lib/python3.7/site-packages (from tensorflow) (1.1.0)\nRequirement already satisfied: astor>=0.6.0 in /home/ks/anaconda3/lib/python3.7/site-packages (from tensorflow) (0.8.0)\nRequirement already satisfied: opt-einsum>=2.3.2 in /home/ks/anaconda3/lib/python3.7/site-packages (from tensorflow) (3.1.0)\nRequirement already satisfied: google-auth<2,>=1.6.3 in /home/ks/anaconda3/lib/python3.7/site-packages (from tensorboard<2.2.0,>=2.1.0->tensorflow) (1.11.2)\nRequirement already satisfied: requests<3,>=2.21.0 in /home/ks/anaconda3/lib/python3.7/site-packages (from tensorboard<2.2.0,>=2.1.0->tensorflow) (2.23.0)\nRequirement already satisfied: setuptools>=41.0.0 in /home/ks/anaconda3/lib/python3.7/site-packages (from tensorboard<2.2.0,>=2.1.0->tensorflow) (46.0.0.post20200309)\nRequirement already satisfied: markdown>=2.6.8 in /home/ks/anaconda3/lib/python3.7/site-packages (from tensorboard<2.2.0,>=2.1.0->tensorflow) (3.1.1)\nRequirement already satisfied: google-auth-oauthlib<0.5,>=0.4.1 in /home/ks/anaconda3/lib/python3.7/site-packages (from tensorboard<2.2.0,>=2.1.0->tensorflow) (0.4.1)\nRequirement already satisfied: werkzeug>=0.11.15 in /home/ks/anaconda3/lib/python3.7/site-packages (from tensorboard<2.2.0,>=2.1.0->tensorflow) (1.0.0)\nRequirement already satisfied: h5py in /home/ks/anaconda3/lib/python3.7/site-packages (from keras-applications>=1.0.8->tensorflow) (2.10.0)\nRequirement already satisfied: rsa<4.1,>=3.1.4 in /home/ks/anaconda3/lib/python3.7/site-packages (from google-auth<2,>=1.6.3->tensorboard<2.2.0,>=2.1.0->tensorflow) (4.0)\nRequirement already satisfied: pyasn1-modules>=0.2.1 in /home/ks/anaconda3/lib/python3.7/site-packages (from google-auth<2,>=1.6.3->tensorboard<2.2.0,>=2.1.0->tensorflow) (0.2.7)\nRequirement already satisfied: cachetools<5.0,>=2.0.0 in /home/ks/anaconda3/lib/python3.7/site-packages (from google-auth<2,>=1.6.3->tensorboard<2.2.0,>=2.1.0->tensorflow) (3.1.1)\nRequirement already satisfied: urllib3!=1.25.0,!=1.25.1,<1.26,>=1.21.1 in /home/ks/anaconda3/lib/python3.7/site-packages (from requests<3,>=2.21.0->tensorboard<2.2.0,>=2.1.0->tensorflow) (1.25.8)\nRequirement already satisfied: certifi>=2017.4.17 in /home/ks/anaconda3/lib/python3.7/site-packages (from requests<3,>=2.21.0->tensorboard<2.2.0,>=2.1.0->tensorflow) (2019.11.28)\nRequirement already satisfied: chardet<4,>=3.0.2 in /home/ks/anaconda3/lib/python3.7/site-packages (from requests<3,>=2.21.0->tensorboard<2.2.0,>=2.1.0->tensorflow) (3.0.4)\nRequirement already satisfied: idna<3,>=2.5 in /home/ks/anaconda3/lib/python3.7/site-packages (from requests<3,>=2.21.0->tensorboard<2.2.0,>=2.1.0->tensorflow) (2.9)\nRequirement already satisfied: requests-oauthlib>=0.7.0 in /home/ks/anaconda3/lib/python3.7/site-packages (from google-auth-oauthlib<0.5,>=0.4.1->tensorboard<2.2.0,>=2.1.0->tensorflow) (1.3.0)\nRequirement already satisfied: pyasn1>=0.1.3 in /home/ks/anaconda3/lib/python3.7/site-packages (from rsa<4.1,>=3.1.4->google-auth<2,>=1.6.3->tensorboard<2.2.0,>=2.1.0->tensorflow) (0.4.8)\nRequirement already satisfied: oauthlib>=3.0.0 in /home/ks/anaconda3/lib/python3.7/site-packages (from requests-oauthlib>=0.7.0->google-auth-oauthlib<0.5,>=0.4.1->tensorboard<2.2.0,>=2.1.0->tensorflow) (3.1.0)\n"
    }
   ],
   "source": [
    "!pip install tensorflow"
   ]
  },
  {
   "cell_type": "code",
   "execution_count": 2,
   "metadata": {},
   "outputs": [],
   "source": [
    "# Artificial Neural Network\n",
    "\n",
    "# Installing Keras\n",
    "# Enter the following command in a terminal (or anaconda prompt for Windows users): conda install -c conda-forge keras"
   ]
  },
  {
   "cell_type": "code",
   "execution_count": 3,
   "metadata": {},
   "outputs": [],
   "source": [
    "# Part 1 - Data Preprocessing"
   ]
  },
  {
   "cell_type": "code",
   "execution_count": 4,
   "metadata": {},
   "outputs": [],
   "source": [
    "# Importing the libraries\n",
    "import numpy as np\n",
    "import matplotlib.pyplot as plt\n",
    "import pandas as pd"
   ]
  },
  {
   "cell_type": "code",
   "execution_count": 5,
   "metadata": {},
   "outputs": [],
   "source": [
    "# Importing the dataset\n",
    "dataset = pd.read_csv('Churn_Modelling.csv')\n",
    "X = dataset.iloc[:, 3:13].values\n",
    "y = dataset.iloc[:, 13].values"
   ]
  },
  {
   "cell_type": "code",
   "execution_count": 6,
   "metadata": {},
   "outputs": [],
   "source": [
    "\n",
    "# Encoding categorical data\n",
    "\n",
    "from sklearn.compose import ColumnTransformer\n",
    "from sklearn.preprocessing import LabelEncoder, OneHotEncoder\n",
    "\n",
    "labelencoder_X_1 = LabelEncoder()\n",
    "X[:, 1] = labelencoder_X_1.fit_transform(X[:, 1])\n",
    "labelencoder_X_2 = LabelEncoder()\n",
    "X[:, 2] = labelencoder_X_2.fit_transform(X[:, 2])\n",
    "ct = ColumnTransformer([('encoder', OneHotEncoder(), [1])], remainder='passthrough')\n",
    "X = np.array(ct.fit_transform(X), dtype=np.float)\n",
    "X = X[:, 1:]\n",
    ""
   ]
  },
  {
   "cell_type": "code",
   "execution_count": 7,
   "metadata": {},
   "outputs": [],
   "source": [
    "# Splitting the dataset into the Training set and Test set\n",
    "from sklearn.model_selection import train_test_split\n",
    "X_train, X_test, y_train, y_test = train_test_split(X, y, test_size = 0.2, random_state = 0)"
   ]
  },
  {
   "cell_type": "code",
   "execution_count": 8,
   "metadata": {},
   "outputs": [],
   "source": [
    "#  Feature Scaling\n",
    "from sklearn.preprocessing import StandardScaler\n",
    "sc = StandardScaler()\n",
    "X_train = sc.fit_transform(X_train)\n",
    "X_test = sc.transform(X_test)"
   ]
  },
  {
   "cell_type": "code",
   "execution_count": 9,
   "metadata": {},
   "outputs": [],
   "source": [
    "# Part 2 - Now let's make the ANN!"
   ]
  },
  {
   "cell_type": "code",
   "execution_count": 10,
   "metadata": {},
   "outputs": [
    {
     "output_type": "stream",
     "name": "stderr",
     "text": "Using TensorFlow backend.\n"
    }
   ],
   "source": [
    "\n",
    "# Importing the Keras libraries and packages\n",
    "import keras\n",
    "from keras.models import Sequential\n",
    "from keras.layers import Dense\n",
    ""
   ]
  },
  {
   "cell_type": "code",
   "execution_count": 11,
   "metadata": {},
   "outputs": [],
   "source": [
    "# Initialising the ANN\n",
    "classifier = Sequential()"
   ]
  },
  {
   "cell_type": "code",
   "execution_count": 12,
   "metadata": {},
   "outputs": [],
   "source": [
    "# Adding the input layer and the first hidden layer\n",
    "classifier.add(Dense(units = 6, kernel_initializer = 'uniform', activation = 'relu', input_dim = 11))"
   ]
  },
  {
   "cell_type": "code",
   "execution_count": 13,
   "metadata": {},
   "outputs": [],
   "source": [
    "# Adding the second hidden layer\n",
    "classifier.add(Dense(units = 6, kernel_initializer = 'uniform', activation = 'relu'))"
   ]
  },
  {
   "cell_type": "code",
   "execution_count": 14,
   "metadata": {},
   "outputs": [],
   "source": [
    "# Adding the output layer\n",
    "classifier.add(Dense(units = 1, kernel_initializer = 'uniform', activation = 'sigmoid'))"
   ]
  },
  {
   "cell_type": "code",
   "execution_count": 15,
   "metadata": {},
   "outputs": [],
   "source": [
    "# Compiling the ANN\n",
    "classifier.compile(optimizer = 'adam', loss = 'binary_crossentropy', metrics = ['accuracy'])\n",
    ""
   ]
  },
  {
   "cell_type": "code",
   "execution_count": 16,
   "metadata": {},
   "outputs": [
    {
     "output_type": "stream",
     "name": "stdout",
     "text": "Epoch 1/100\n8000/8000 [==============================] - 21s 3ms/step - loss: 0.4858 - accuracy: 0.7947\nEpoch 2/100\n8000/8000 [==============================] - 12s 2ms/step - loss: 0.4281 - accuracy: 0.7960\nEpoch 3/100\n8000/8000 [==============================] - 13s 2ms/step - loss: 0.4221 - accuracy: 0.7974\nEpoch 4/100\n8000/8000 [==============================] - 14s 2ms/step - loss: 0.4182 - accuracy: 0.8190\nEpoch 5/100\n8000/8000 [==============================] - 14s 2ms/step - loss: 0.4158 - accuracy: 0.8254\nEpoch 6/100\n8000/8000 [==============================] - 13s 2ms/step - loss: 0.4141 - accuracy: 0.8306\nEpoch 7/100\n8000/8000 [==============================] - 13s 2ms/step - loss: 0.4122 - accuracy: 0.8309\nEpoch 8/100\n8000/8000 [==============================] - 13s 2ms/step - loss: 0.4111 - accuracy: 0.8324\nEpoch 9/100\n8000/8000 [==============================] - 13s 2ms/step - loss: 0.4094 - accuracy: 0.8321\nEpoch 10/100\n8000/8000 [==============================] - 12s 1ms/step - loss: 0.4087 - accuracy: 0.8336\nEpoch 11/100\n8000/8000 [==============================] - 12s 2ms/step - loss: 0.4081 - accuracy: 0.8340\nEpoch 12/100\n8000/8000 [==============================] - 14s 2ms/step - loss: 0.4072 - accuracy: 0.8335\nEpoch 13/100\n8000/8000 [==============================] - 14s 2ms/step - loss: 0.4065 - accuracy: 0.8339\nEpoch 14/100\n8000/8000 [==============================] - 13s 2ms/step - loss: 0.4063 - accuracy: 0.8340\nEpoch 15/100\n8000/8000 [==============================] - 13s 2ms/step - loss: 0.4058 - accuracy: 0.8350\nEpoch 16/100\n8000/8000 [==============================] - 12s 1ms/step - loss: 0.4051 - accuracy: 0.8353\nEpoch 17/100\n8000/8000 [==============================] - 11s 1ms/step - loss: 0.4053 - accuracy: 0.8339\nEpoch 18/100\n8000/8000 [==============================] - 11s 1ms/step - loss: 0.4045 - accuracy: 0.8345\nEpoch 19/100\n8000/8000 [==============================] - 11s 1ms/step - loss: 0.4043 - accuracy: 0.8353\nEpoch 20/100\n8000/8000 [==============================] - 11s 1ms/step - loss: 0.4037 - accuracy: 0.8355\nEpoch 21/100\n8000/8000 [==============================] - 10s 1ms/step - loss: 0.4037 - accuracy: 0.8351\nEpoch 22/100\n8000/8000 [==============================] - 8s 1ms/step - loss: 0.4034 - accuracy: 0.8356\nEpoch 23/100\n8000/8000 [==============================] - 12s 2ms/step - loss: 0.4033 - accuracy: 0.8344\nEpoch 24/100\n8000/8000 [==============================] - 11s 1ms/step - loss: 0.4027 - accuracy: 0.8361\nEpoch 25/100\n8000/8000 [==============================] - 9s 1ms/step - loss: 0.4023 - accuracy: 0.8356\nEpoch 26/100\n8000/8000 [==============================] - 10s 1ms/step - loss: 0.4027 - accuracy: 0.8344\nEpoch 27/100\n8000/8000 [==============================] - 11s 1ms/step - loss: 0.4025 - accuracy: 0.8345\nEpoch 28/100\n8000/8000 [==============================] - 14s 2ms/step - loss: 0.4026 - accuracy: 0.8340\nEpoch 29/100\n8000/8000 [==============================] - 14s 2ms/step - loss: 0.4021 - accuracy: 0.8355\nEpoch 30/100\n8000/8000 [==============================] - 11s 1ms/step - loss: 0.4019 - accuracy: 0.8322\nEpoch 31/100\n8000/8000 [==============================] - 12s 2ms/step - loss: 0.4021 - accuracy: 0.8341\nEpoch 32/100\n8000/8000 [==============================] - 13s 2ms/step - loss: 0.4019 - accuracy: 0.8354\nEpoch 33/100\n8000/8000 [==============================] - 14s 2ms/step - loss: 0.4016 - accuracy: 0.8359\nEpoch 34/100\n8000/8000 [==============================] - 12s 2ms/step - loss: 0.4014 - accuracy: 0.8346\nEpoch 35/100\n8000/8000 [==============================] - 12s 2ms/step - loss: 0.4016 - accuracy: 0.8353\nEpoch 36/100\n8000/8000 [==============================] - 11s 1ms/step - loss: 0.4016 - accuracy: 0.8345\nEpoch 37/100\n8000/8000 [==============================] - 12s 1ms/step - loss: 0.4013 - accuracy: 0.8350\nEpoch 38/100\n8000/8000 [==============================] - 12s 1ms/step - loss: 0.4016 - accuracy: 0.8370\nEpoch 39/100\n8000/8000 [==============================] - 11s 1ms/step - loss: 0.4013 - accuracy: 0.8357\nEpoch 40/100\n8000/8000 [==============================] - 12s 1ms/step - loss: 0.4006 - accuracy: 0.8365\nEpoch 41/100\n8000/8000 [==============================] - 12s 1ms/step - loss: 0.4012 - accuracy: 0.8349\nEpoch 42/100\n8000/8000 [==============================] - 12s 1ms/step - loss: 0.4012 - accuracy: 0.8365\nEpoch 43/100\n8000/8000 [==============================] - 11s 1ms/step - loss: 0.4008 - accuracy: 0.8366\nEpoch 44/100\n8000/8000 [==============================] - 12s 2ms/step - loss: 0.4016 - accuracy: 0.8367\nEpoch 45/100\n8000/8000 [==============================] - 13s 2ms/step - loss: 0.4010 - accuracy: 0.8339\nEpoch 46/100\n8000/8000 [==============================] - 15s 2ms/step - loss: 0.4009 - accuracy: 0.8355\nEpoch 47/100\n8000/8000 [==============================] - 19s 2ms/step - loss: 0.4007 - accuracy: 0.8369\nEpoch 48/100\n8000/8000 [==============================] - 21s 3ms/step - loss: 0.4011 - accuracy: 0.8347\nEpoch 49/100\n8000/8000 [==============================] - 18s 2ms/step - loss: 0.4010 - accuracy: 0.8357\nEpoch 50/100\n8000/8000 [==============================] - 17s 2ms/step - loss: 0.4004 - accuracy: 0.8356\nEpoch 51/100\n8000/8000 [==============================] - 17s 2ms/step - loss: 0.4008 - accuracy: 0.8346\nEpoch 52/100\n8000/8000 [==============================] - 16s 2ms/step - loss: 0.4006 - accuracy: 0.8361\nEpoch 53/100\n8000/8000 [==============================] - 17s 2ms/step - loss: 0.4007 - accuracy: 0.8355\nEpoch 54/100\n8000/8000 [==============================] - 17s 2ms/step - loss: 0.4007 - accuracy: 0.8340\nEpoch 55/100\n8000/8000 [==============================] - 18s 2ms/step - loss: 0.4006 - accuracy: 0.8354\nEpoch 56/100\n8000/8000 [==============================] - 17s 2ms/step - loss: 0.4002 - accuracy: 0.8361\nEpoch 57/100\n8000/8000 [==============================] - 15s 2ms/step - loss: 0.4009 - accuracy: 0.8359\nEpoch 58/100\n8000/8000 [==============================] - 16s 2ms/step - loss: 0.4007 - accuracy: 0.8350\nEpoch 59/100\n8000/8000 [==============================] - 17s 2ms/step - loss: 0.4006 - accuracy: 0.8350\nEpoch 60/100\n8000/8000 [==============================] - 17s 2ms/step - loss: 0.4001 - accuracy: 0.8346\nEpoch 61/100\n8000/8000 [==============================] - 15s 2ms/step - loss: 0.4001 - accuracy: 0.8360\nEpoch 62/100\n8000/8000 [==============================] - 16s 2ms/step - loss: 0.4006 - accuracy: 0.8350\nEpoch 63/100\n8000/8000 [==============================] - 17s 2ms/step - loss: 0.4003 - accuracy: 0.8354\nEpoch 64/100\n8000/8000 [==============================] - 17s 2ms/step - loss: 0.4008 - accuracy: 0.8365\nEpoch 65/100\n8000/8000 [==============================] - 16s 2ms/step - loss: 0.4007 - accuracy: 0.8357\nEpoch 66/100\n8000/8000 [==============================] - 17s 2ms/step - loss: 0.4002 - accuracy: 0.8339\nEpoch 67/100\n8000/8000 [==============================] - 17s 2ms/step - loss: 0.4006 - accuracy: 0.8353\nEpoch 68/100\n8000/8000 [==============================] - 18s 2ms/step - loss: 0.4003 - accuracy: 0.8367\nEpoch 69/100\n8000/8000 [==============================] - 16s 2ms/step - loss: 0.3997 - accuracy: 0.8361\nEpoch 70/100\n8000/8000 [==============================] - 16s 2ms/step - loss: 0.4004 - accuracy: 0.8346\nEpoch 71/100\n8000/8000 [==============================] - 17s 2ms/step - loss: 0.4001 - accuracy: 0.8364\nEpoch 72/100\n8000/8000 [==============================] - 17s 2ms/step - loss: 0.4001 - accuracy: 0.8378\nEpoch 73/100\n8000/8000 [==============================] - 17s 2ms/step - loss: 0.4005 - accuracy: 0.8357\nEpoch 74/100\n8000/8000 [==============================] - 16s 2ms/step - loss: 0.4000 - accuracy: 0.8355\nEpoch 75/100\n8000/8000 [==============================] - 17s 2ms/step - loss: 0.4005 - accuracy: 0.8340\nEpoch 76/100\n8000/8000 [==============================] - 17s 2ms/step - loss: 0.4005 - accuracy: 0.8361\nEpoch 77/100\n8000/8000 [==============================] - 18s 2ms/step - loss: 0.4003 - accuracy: 0.8363\nEpoch 78/100\n8000/8000 [==============================] - 16s 2ms/step - loss: 0.3997 - accuracy: 0.8351\nEpoch 79/100\n7990/8000 [============================>.] - ETA: 0s - loss: 0.4003 - accuracy: 0.838000/8000 [==============================] - 16s 2ms/step - loss: 0.4004 - accuracy: 0.8361\nEpoch 80/100\n8000/8000 [==============================] - 18s 2ms/step - loss: 0.4002 - accuracy: 0.8355\nEpoch 81/100\n8000/8000 [==============================] - 18s 2ms/step - loss: 0.4002 - accuracy: 0.8345\nEpoch 82/100\n8000/8000 [==============================] - 16s 2ms/step - loss: 0.3999 - accuracy: 0.8347\nEpoch 83/100\n8000/8000 [==============================] - 16s 2ms/step - loss: 0.4003 - accuracy: 0.8349\nEpoch 84/100\n8000/8000 [==============================] - 16s 2ms/step - loss: 0.3999 - accuracy: 0.8351\nEpoch 85/100\n8000/8000 [==============================] - 16s 2ms/step - loss: 0.3998 - accuracy: 0.8357\nEpoch 86/100\n8000/8000 [==============================] - 16s 2ms/step - loss: 0.3996 - accuracy: 0.8353\nEpoch 87/100\n8000/8000 [==============================] - 17s 2ms/step - loss: 0.3999 - accuracy: 0.8371\nEpoch 88/100\n8000/8000 [==============================] - 17s 2ms/step - loss: 0.3999 - accuracy: 0.8363\nEpoch 89/100\n8000/8000 [==============================] - 17s 2ms/step - loss: 0.4004 - accuracy: 0.8357\nEpoch 90/100\n8000/8000 [==============================] - 17s 2ms/step - loss: 0.3999 - accuracy: 0.8357\nEpoch 91/100\n8000/8000 [==============================] - 18s 2ms/step - loss: 0.4000 - accuracy: 0.8354\nEpoch 92/100\n8000/8000 [==============================] - 16s 2ms/step - loss: 0.4000 - accuracy: 0.8369\nEpoch 93/100\n8000/8000 [==============================] - 17s 2ms/step - loss: 0.4000 - accuracy: 0.8367\nEpoch 94/100\n8000/8000 [==============================] - 15s 2ms/step - loss: 0.3997 - accuracy: 0.8357\nEpoch 95/100\n8000/8000 [==============================] - 16s 2ms/step - loss: 0.3997 - accuracy: 0.8345\nEpoch 96/100\n8000/8000 [==============================] - 16s 2ms/step - loss: 0.3999 - accuracy: 0.8355\nEpoch 97/100\n8000/8000 [==============================] - 17s 2ms/step - loss: 0.4000 - accuracy: 0.8359\nEpoch 98/100\n8000/8000 [==============================] - 17s 2ms/step - loss: 0.4004 - accuracy: 0.8354\nEpoch 99/100\n8000/8000 [==============================] - 16s 2ms/step - loss: 0.4001 - accuracy: 0.8340\nEpoch 100/100\n8000/8000 [==============================] - 16s 2ms/step - loss: 0.3997 - accuracy: 0.8344\n"
    },
    {
     "output_type": "execute_result",
     "data": {
      "text/plain": "<keras.callbacks.callbacks.History at 0x7f252c53ab50>"
     },
     "metadata": {},
     "execution_count": 16
    }
   ],
   "source": [
    "# Fitting the ANN to the Training set\n",
    "classifier.fit(X_train, y_train, batch_size = 10, epochs = 100)"
   ]
  },
  {
   "cell_type": "code",
   "execution_count": 17,
   "metadata": {},
   "outputs": [],
   "source": [
    "# Part 3 - Making the predictions and evaluating the model"
   ]
  },
  {
   "cell_type": "code",
   "execution_count": 20,
   "metadata": {},
   "outputs": [],
   "source": [
    "# Predicting the Test set results\n",
    "y_pred = classifier.predict(X_test)\n",
    "y_pred = (y_pred > 0.5)"
   ]
  },
  {
   "cell_type": "code",
   "execution_count": 21,
   "metadata": {},
   "outputs": [],
   "source": [
    "# Making the Confusion Matrix\n",
    "from sklearn.metrics import confusion_matrix\n",
    "cm = confusion_matrix(y_test, y_pred)"
   ]
  },
  {
   "cell_type": "code",
   "execution_count": null,
   "metadata": {},
   "outputs": [],
   "source": []
  }
 ]
}