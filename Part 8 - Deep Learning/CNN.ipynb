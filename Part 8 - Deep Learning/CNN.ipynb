{
  "nbformat": 4,
  "nbformat_minor": 0,
  "metadata": {
    "language_info": {
      "codemirror_mode": {
        "name": "ipython",
        "version": 3
      },
      "file_extension": ".py",
      "mimetype": "text/x-python",
      "name": "python",
      "nbconvert_exporter": "python",
      "pygments_lexer": "ipython3",
      "version": 3
    },
    "orig_nbformat": 2,
    "kernelspec": {
      "name": "python_defaultSpec_1595946636919",
      "display_name": "Python 3.7.4 64-bit ('Learning': conda)"
    },
    "colab": {
      "name": "CNN.ipynb",
      "provenance": [],
      "toc_visible": true
    }
  },
  "cells": [
    {
      "cell_type": "markdown",
      "metadata": {
        "id": "sFMvdynWWjop",
        "colab_type": "text"
      },
      "source": [
        "# Convolutional Neural Network"
      ]
    },
    {
      "cell_type": "code",
      "metadata": {
        "id": "4icxbnwaWjow",
        "colab_type": "code",
        "colab": {
          "base_uri": "https://localhost:8080/",
          "height": 35
        },
        "outputId": "f8b6311d-b0ca-4e4c-f4d2-2598ceb8816d"
      },
      "source": [
        "# Importing the keras libraries and packages\n",
        "import numpy\n",
        "import tensorflow as tf\n",
        "from tensorflow import keras\n",
        "from keras.preprocessing import image\n",
        "tf.__version__"
      ],
      "execution_count": 8,
      "outputs": [
        {
          "output_type": "execute_result",
          "data": {
            "application/vnd.google.colaboratory.intrinsic+json": {
              "type": "string"
            },
            "text/plain": [
              "'2.2.0'"
            ]
          },
          "metadata": {
            "tags": []
          },
          "execution_count": 8
        }
      ]
    },
    {
      "cell_type": "markdown",
      "metadata": {
        "id": "b3WzbvoccPFW",
        "colab_type": "text"
      },
      "source": [
        "## Part 1 - Data Preprocessing"
      ]
    },
    {
      "cell_type": "markdown",
      "metadata": {
        "id": "ZSslx3qUdE4g",
        "colab_type": "text"
      },
      "source": [
        "### Preprocessing the training set"
      ]
    },
    {
      "cell_type": "code",
      "metadata": {
        "id": "2r0-xChUWjo9",
        "colab_type": "code",
        "colab": {}
      },
      "source": [
        "train_datagen = image.ImageDataGenerator(\n",
        "        rescale=1./255,\n",
        "        shear_range=0.2,\n",
        "        zoom_range=0.2,\n",
        "        horizontal_flip=True)\n",
        "training_set = train_datagen.flow_from_directory(\n",
        "        'dataset/training_set',\n",
        "        target_size=(64, 64),\n",
        "        batch_size=32,\n",
        "        class_mode='binary')"
      ],
      "execution_count": null,
      "outputs": []
    },
    {
      "cell_type": "markdown",
      "metadata": {
        "id": "1V1rgTlTdcVv",
        "colab_type": "text"
      },
      "source": [
        "### Preprocessing the test set"
      ]
    },
    {
      "cell_type": "code",
      "metadata": {
        "id": "kRG0aHhidNiz",
        "colab_type": "code",
        "colab": {}
      },
      "source": [
        "test_datagen = image.ImageDataGenerator(rescale=1./255)\n",
        "test_set = test_datagen.flow_from_directory(\n",
        "        'dataset/test_set',\n",
        "        target_size=(64, 64),\n",
        "        batch_size=32,\n",
        "        class_mode='binary')"
      ],
      "execution_count": null,
      "outputs": []
    },
    {
      "cell_type": "markdown",
      "metadata": {
        "id": "Jw_851mgdyO_",
        "colab_type": "text"
      },
      "source": [
        "## Part 2- Building the CNN"
      ]
    },
    {
      "cell_type": "markdown",
      "metadata": {
        "id": "zBDX3S4JeHVb",
        "colab_type": "text"
      },
      "source": [
        "### Initialising the CNN"
      ]
    },
    {
      "cell_type": "code",
      "metadata": {
        "id": "iF_1nbIld5ks",
        "colab_type": "code",
        "colab": {}
      },
      "source": [
        "cnn = keras.models.Sequential()"
      ],
      "execution_count": 7,
      "outputs": []
    },
    {
      "cell_type": "markdown",
      "metadata": {
        "id": "WSxO5RASeh3N",
        "colab_type": "text"
      },
      "source": [
        "### Step 1 - Convolution\n"
      ]
    },
    {
      "cell_type": "code",
      "metadata": {
        "id": "Ez5QL3yDWjpH",
        "colab_type": "code",
        "colab": {}
      },
      "source": [
        "cnn.add(keras.layers.Conv2D(\n",
        "    filters=32,\n",
        "    kernel_size=(3, 3),\n",
        "    input_shape=(64, 64, 3),\n",
        "    activation='relu'))"
      ],
      "execution_count": null,
      "outputs": []
    },
    {
      "cell_type": "markdown",
      "metadata": {
        "id": "2RQ_BNAyeybv",
        "colab_type": "text"
      },
      "source": [
        "### Step 2 - Pooling\n"
      ]
    },
    {
      "cell_type": "code",
      "metadata": {
        "id": "koGGYPKIWjpT",
        "colab_type": "code",
        "colab": {}
      },
      "source": [
        "cnn.add(keras.layers.MaxPool2D(\n",
        "    pool_size=(2, 2),\n",
        "    strides=2,\n",
        "    padding='valid'))"
      ],
      "execution_count": null,
      "outputs": []
    },
    {
      "cell_type": "markdown",
      "metadata": {
        "id": "v4tgRWbHfj5U",
        "colab_type": "text"
      },
      "source": [
        "### Adding a second Convolution layer\n"
      ]
    },
    {
      "cell_type": "code",
      "metadata": {
        "id": "NsNxg7aNWjpd",
        "colab_type": "code",
        "colab": {}
      },
      "source": [
        "cnn.add(keras.layers.Conv2D(\n",
        "    filters=32,\n",
        "    kernel_size=(3, 3),\n",
        "    activation='relu'))\n",
        "cnn.add(keras.layers.MaxPool2D(\n",
        "    pool_size=(2, 2),\n",
        "    strides=2,\n",
        "    padding='valid'))"
      ],
      "execution_count": null,
      "outputs": []
    },
    {
      "cell_type": "markdown",
      "metadata": {
        "id": "YAwuPlWNgkPS",
        "colab_type": "text"
      },
      "source": [
        "### Step 3- Flattening\n"
      ]
    },
    {
      "cell_type": "code",
      "metadata": {
        "id": "WGck_M-kWjpu",
        "colab_type": "code",
        "colab": {}
      },
      "source": [
        "cnn.add(keras.layers.Flatten())"
      ],
      "execution_count": null,
      "outputs": []
    },
    {
      "cell_type": "markdown",
      "metadata": {
        "id": "Cry9Kh-sguG_",
        "colab_type": "text"
      },
      "source": [
        "### Step 4 - Full Connection"
      ]
    },
    {
      "cell_type": "code",
      "metadata": {
        "id": "2eOnY70SWjp3",
        "colab_type": "code",
        "colab": {}
      },
      "source": [
        "cnn.add(keras.layers.Dense(\n",
        "    units=128,\n",
        "    activation='relu'))\n",
        "\n",
        "# Output Layer\n",
        "cnn.add(keras.layers.Dense(\n",
        "    units=1,\n",
        "    activation='sigmoid'))"
      ],
      "execution_count": null,
      "outputs": []
    },
    {
      "cell_type": "markdown",
      "metadata": {
        "id": "_Wn_FpX2WjqM",
        "colab_type": "text"
      },
      "source": [
        "## Part 3 - Training the CNN"
      ]
    },
    {
      "cell_type": "markdown",
      "metadata": {
        "id": "bezOjawrg97T",
        "colab_type": "text"
      },
      "source": [
        "### Compiling the CNN\n"
      ]
    },
    {
      "cell_type": "code",
      "metadata": {
        "id": "cp93M2Y9WjqD",
        "colab_type": "code",
        "colab": {}
      },
      "source": [
        "cnn.compile(\n",
        "    optimizer='adam',\n",
        "    loss='binary_crossentropy',\n",
        "    metrics=['accuracy'])"
      ],
      "execution_count": null,
      "outputs": []
    },
    {
      "cell_type": "markdown",
      "metadata": {
        "id": "F7RQHXR3iG1c",
        "colab_type": "text"
      },
      "source": [
        "### Training the CNN on the Training set and evaluating it on the Test set"
      ]
    },
    {
      "cell_type": "code",
      "metadata": {
        "id": "n-zal2_bWjqm",
        "colab_type": "code",
        "colab": {}
      },
      "source": [
        "cnn.fit(\n",
        "    x=training_set,\n",
        "    validation_data=test_set,\n",
        "    epochs=25)"
      ],
      "execution_count": null,
      "outputs": []
    },
    {
      "cell_type": "markdown",
      "metadata": {
        "id": "AKy9zvYsWjqu",
        "colab_type": "text"
      },
      "source": [
        "## Part 4 - Making a single Prediction\n"
      ]
    },
    {
      "cell_type": "code",
      "metadata": {
        "id": "-NmOfLIAjT7t",
        "colab_type": "code",
        "colab": {}
      },
      "source": [
        "test_image = image.load_img(\n",
        "    'dataset/single_prediction/img1.jpg',\n",
        "    target_size=(64, 64))\n",
        "test_image = image.img_to_array(test_image)\n",
        "test_image = np.expand_dims(test_image, axis=0)\n",
        "result = cnn.fit(test_image)"
      ],
      "execution_count": null,
      "outputs": []
    },
    {
      "cell_type": "code",
      "metadata": {
        "id": "lXsuOKWolwuv",
        "colab_type": "code",
        "colab": {}
      },
      "source": [
        "trainig_set.class_indices"
      ],
      "execution_count": null,
      "outputs": []
    },
    {
      "cell_type": "code",
      "metadata": {
        "id": "JE70kRrHWjqw",
        "colab_type": "code",
        "colab": {}
      },
      "source": [
        "(\"Cat\", \"Dog\")[result[0][0]]"
      ],
      "execution_count": null,
      "outputs": []
    },
    {
      "cell_type": "code",
      "metadata": {
        "id": "Lab3syzJmLuW",
        "colab_type": "code",
        "colab": {}
      },
      "source": [
        "test_image = image.load_img(\n",
        "    'dataset/single_prediction/img2.jpg',\n",
        "    target_size=(64, 64))\n",
        "test_image = image.img_to_array(test_image)\n",
        "test_image = np.expand_dims(test_image, axis=0)\n",
        "result = cnn.fit(test_image)"
      ],
      "execution_count": null,
      "outputs": []
    },
    {
      "cell_type": "code",
      "metadata": {
        "id": "qhSFNlxYnVs6",
        "colab_type": "code",
        "colab": {}
      },
      "source": [
        "(\"Cat\", \"Dog\")[result[0][0]]"
      ],
      "execution_count": null,
      "outputs": []
    }
  ]
}