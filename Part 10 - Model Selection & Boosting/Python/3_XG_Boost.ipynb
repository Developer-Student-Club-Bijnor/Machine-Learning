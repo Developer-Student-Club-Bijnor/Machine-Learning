{
 "cells": [
  {
   "cell_type": "markdown",
   "metadata": {},
   "source": [
    "# XGBoost"
   ]
  },
  {
   "cell_type": "code",
   "execution_count": 1,
   "metadata": {},
   "outputs": [],
   "source": [
    "# Importing the libraries\n",
    "import numpy as np\n",
    "import matplotlib.pyplot as plt\n",
    "import pandas as pd"
   ]
  },
  {
   "cell_type": "code",
   "execution_count": 2,
   "metadata": {},
   "outputs": [],
   "source": [
    "# Importing the dataset\n",
    "dataset = pd.read_csv('Data.csv')\n",
    "X = dataset.iloc[:, :-1].values\n",
    "y = dataset.iloc[:, -1].values"
   ]
  },
  {
   "cell_type": "code",
   "execution_count": 3,
   "metadata": {},
   "outputs": [],
   "source": [
    "# Splitting the dataset into the Training set and Test set\n",
    "from sklearn.model_selection import train_test_split\n",
    "X_train, X_test, y_train, y_test = train_test_split(X, y, test_size = 0.2, random_state = 0)"
   ]
  },
  {
   "cell_type": "code",
   "execution_count": 4,
   "metadata": {
    "tags": []
   },
   "outputs": [
    {
     "output_type": "stream",
     "name": "stdout",
     "text": "Collecting xgboost\n\u001b[?25l  Downloading https://files.pythonhosted.org/packages/7c/32/a11befbb003e0e6b7e062a77f010dfcec0ec3589be537b02d2eb2ff93b9a/xgboost-1.1.1-py3-none-manylinux2010_x86_64.whl (127.6MB)\n\u001b[K     |██████████████████████████▌     | 105.9MB 3.1MB/s eta 0:00:07\u001b[31mERROR: Exception:\nTraceback (most recent call last):\n  File \"/home/its-k/anaconda3/envs/Learning/lib/python3.7/site-packages/pip/_vendor/urllib3/contrib/pyopenssl.py\", line 304, in recv_into\n    return self.connection.recv_into(*args, **kwargs)\n  File \"/home/its-k/anaconda3/envs/Learning/lib/python3.7/site-packages/OpenSSL/SSL.py\", line 1822, in recv_into\n    self._raise_ssl_error(self._ssl, result)\n  File \"/home/its-k/anaconda3/envs/Learning/lib/python3.7/site-packages/OpenSSL/SSL.py\", line 1622, in _raise_ssl_error\n    raise WantReadError()\nOpenSSL.SSL.WantReadError\n\nDuring handling of the above exception, another exception occurred:\n\nTraceback (most recent call last):\n  File \"/home/its-k/anaconda3/envs/Learning/lib/python3.7/site-packages/pip/_vendor/urllib3/contrib/pyopenssl.py\", line 304, in recv_into\n    return self.connection.recv_into(*args, **kwargs)\n  File \"/home/its-k/anaconda3/envs/Learning/lib/python3.7/site-packages/OpenSSL/SSL.py\", line 1822, in recv_into\n    self._raise_ssl_error(self._ssl, result)\n  File \"/home/its-k/anaconda3/envs/Learning/lib/python3.7/site-packages/OpenSSL/SSL.py\", line 1622, in _raise_ssl_error\n    raise WantReadError()\nOpenSSL.SSL.WantReadError\n\nDuring handling of the above exception, another exception occurred:\n\nTraceback (most recent call last):\n  File \"/home/its-k/anaconda3/envs/Learning/lib/python3.7/site-packages/pip/_vendor/urllib3/response.py\", line 397, in _error_catcher\n    yield\n  File \"/home/its-k/anaconda3/envs/Learning/lib/python3.7/site-packages/pip/_vendor/urllib3/response.py\", line 479, in read\n    data = self._fp.read(amt)\n  File \"/home/its-k/anaconda3/envs/Learning/lib/python3.7/site-packages/pip/_vendor/cachecontrol/filewrapper.py\", line 62, in read\n    data = self.__fp.read(amt)\n  File \"/home/its-k/anaconda3/envs/Learning/lib/python3.7/http/client.py\", line 457, in read\n    n = self.readinto(b)\n  File \"/home/its-k/anaconda3/envs/Learning/lib/python3.7/http/client.py\", line 501, in readinto\n    n = self.fp.readinto(b)\n  File \"/home/its-k/anaconda3/envs/Learning/lib/python3.7/socket.py\", line 589, in readinto\n    return self._sock.recv_into(b)\n  File \"/home/its-k/anaconda3/envs/Learning/lib/python3.7/site-packages/pip/_vendor/urllib3/contrib/pyopenssl.py\", line 319, in recv_into\n    return self.recv_into(*args, **kwargs)\n  File \"/home/its-k/anaconda3/envs/Learning/lib/python3.7/site-packages/pip/_vendor/urllib3/contrib/pyopenssl.py\", line 317, in recv_into\n    raise timeout('The read operation timed out')\nsocket.timeout: The read operation timed out\n\nDuring handling of the above exception, another exception occurred:\n\nTraceback (most recent call last):\n  File \"/home/its-k/anaconda3/envs/Learning/lib/python3.7/site-packages/pip/_internal/cli/base_command.py\", line 188, in main\n    status = self.run(options, args)\n  File \"/home/its-k/anaconda3/envs/Learning/lib/python3.7/site-packages/pip/_internal/commands/install.py\", line 345, in run\n    resolver.resolve(requirement_set)\n  File \"/home/its-k/anaconda3/envs/Learning/lib/python3.7/site-packages/pip/_internal/legacy_resolve.py\", line 196, in resolve\n    self._resolve_one(requirement_set, req)\n  File \"/home/its-k/anaconda3/envs/Learning/lib/python3.7/site-packages/pip/_internal/legacy_resolve.py\", line 359, in _resolve_one\n    abstract_dist = self._get_abstract_dist_for(req_to_install)\n  File \"/home/its-k/anaconda3/envs/Learning/lib/python3.7/site-packages/pip/_internal/legacy_resolve.py\", line 307, in _get_abstract_dist_for\n    self.require_hashes\n  File \"/home/its-k/anaconda3/envs/Learning/lib/python3.7/site-packages/pip/_internal/operations/prepare.py\", line 199, in prepare_linked_requirement\n    progress_bar=self.progress_bar\n  File \"/home/its-k/anaconda3/envs/Learning/lib/python3.7/site-packages/pip/_internal/download.py\", line 1064, in unpack_url\n    progress_bar=progress_bar\n  File \"/home/its-k/anaconda3/envs/Learning/lib/python3.7/site-packages/pip/_internal/download.py\", line 924, in unpack_http_url\n    progress_bar)\n  File \"/home/its-k/anaconda3/envs/Learning/lib/python3.7/site-packages/pip/_internal/download.py\", line 1152, in _download_http_url\n    _download_url(resp, link, content_file, hashes, progress_bar)\n  File \"/home/its-k/anaconda3/envs/Learning/lib/python3.7/site-packages/pip/_internal/download.py\", line 861, in _download_url\n    hashes.check_against_chunks(downloaded_chunks)\n  File \"/home/its-k/anaconda3/envs/Learning/lib/python3.7/site-packages/pip/_internal/utils/hashes.py\", line 75, in check_against_chunks\n    for chunk in chunks:\n  File \"/home/its-k/anaconda3/envs/Learning/lib/python3.7/site-packages/pip/_internal/download.py\", line 829, in written_chunks\n    for chunk in chunks:\n  File \"/home/its-k/anaconda3/envs/Learning/lib/python3.7/site-packages/pip/_internal/utils/ui.py\", line 156, in iter\n    for x in it:\n  File \"/home/its-k/anaconda3/envs/Learning/lib/python3.7/site-packages/pip/_internal/download.py\", line 818, in resp_read\n    decode_content=False):\n  File \"/home/its-k/anaconda3/envs/Learning/lib/python3.7/site-packages/pip/_vendor/urllib3/response.py\", line 531, in stream\n    data = self.read(amt=amt, decode_content=decode_content)\n  File \"/home/its-k/anaconda3/envs/Learning/lib/python3.7/site-packages/pip/_vendor/urllib3/response.py\", line 496, in read\n    raise IncompleteRead(self._fp_bytes_read, self.length_remaining)\n  File \"/home/its-k/anaconda3/envs/Learning/lib/python3.7/contextlib.py\", line 130, in __exit__\n    self.gen.throw(type, value, traceback)\n  File \"/home/its-k/anaconda3/envs/Learning/lib/python3.7/site-packages/pip/_vendor/urllib3/response.py\", line 402, in _error_catcher\n    raise ReadTimeoutError(self._pool, None, 'Read timed out.')\npip._vendor.urllib3.exceptions.ReadTimeoutError: HTTPSConnectionPool(host='files.pythonhosted.org', port=443): Read timed out.\u001b[0m\n"
    },
    {
     "output_type": "error",
     "ename": "ModuleNotFoundError",
     "evalue": "No module named 'xgboost'",
     "traceback": [
      "\u001b[0;31m---------------------------------------------------------------------------\u001b[0m",
      "\u001b[0;31mModuleNotFoundError\u001b[0m                       Traceback (most recent call last)",
      "\u001b[0;32m<ipython-input-4-74fdbc62c843>\u001b[0m in \u001b[0;36m<module>\u001b[0;34m\u001b[0m\n\u001b[1;32m      1\u001b[0m \u001b[0;31m# Fitting XGBoost to the Training set\u001b[0m\u001b[0;34m\u001b[0m\u001b[0;34m\u001b[0m\u001b[0;34m\u001b[0m\u001b[0m\n\u001b[1;32m      2\u001b[0m \u001b[0mget_ipython\u001b[0m\u001b[0;34m(\u001b[0m\u001b[0;34m)\u001b[0m\u001b[0;34m.\u001b[0m\u001b[0msystem\u001b[0m\u001b[0;34m(\u001b[0m\u001b[0;34m'pip install xgboost'\u001b[0m\u001b[0;34m)\u001b[0m\u001b[0;34m\u001b[0m\u001b[0;34m\u001b[0m\u001b[0m\n\u001b[0;32m----> 3\u001b[0;31m \u001b[0;32mfrom\u001b[0m \u001b[0mxgboost\u001b[0m \u001b[0;32mimport\u001b[0m \u001b[0mXGBClassifier\u001b[0m\u001b[0;34m\u001b[0m\u001b[0;34m\u001b[0m\u001b[0m\n\u001b[0m\u001b[1;32m      4\u001b[0m \u001b[0mclassifier\u001b[0m \u001b[0;34m=\u001b[0m \u001b[0mXGBClassifier\u001b[0m\u001b[0;34m(\u001b[0m\u001b[0;34m)\u001b[0m\u001b[0;34m\u001b[0m\u001b[0;34m\u001b[0m\u001b[0m\n\u001b[1;32m      5\u001b[0m \u001b[0mclassifier\u001b[0m\u001b[0;34m.\u001b[0m\u001b[0mfit\u001b[0m\u001b[0;34m(\u001b[0m\u001b[0mX_train\u001b[0m\u001b[0;34m,\u001b[0m \u001b[0my_train\u001b[0m\u001b[0;34m)\u001b[0m\u001b[0;34m\u001b[0m\u001b[0;34m\u001b[0m\u001b[0m\n",
      "\u001b[0;31mModuleNotFoundError\u001b[0m: No module named 'xgboost'"
     ]
    }
   ],
   "source": [
    "# Fitting XGBoost to the Training set\n",
    "!pip install xgboost\n",
    "from xgboost import XGBClassifier\n",
    "classifier = XGBClassifier()\n",
    "classifier.fit(X_train, y_train)"
   ]
  },
  {
   "cell_type": "code",
   "execution_count": 5,
   "metadata": {},
   "outputs": [
    {
     "output_type": "error",
     "ename": "NameError",
     "evalue": "name 'classifier' is not defined",
     "traceback": [
      "\u001b[0;31m---------------------------------------------------------------------------\u001b[0m",
      "\u001b[0;31mNameError\u001b[0m                                 Traceback (most recent call last)",
      "\u001b[0;32m<ipython-input-5-f96ec9fd583f>\u001b[0m in \u001b[0;36m<module>\u001b[0;34m\u001b[0m\n\u001b[1;32m      1\u001b[0m \u001b[0;31m# Predicting the Test set results\u001b[0m\u001b[0;34m\u001b[0m\u001b[0;34m\u001b[0m\u001b[0;34m\u001b[0m\u001b[0m\n\u001b[0;32m----> 2\u001b[0;31m \u001b[0my_pred\u001b[0m \u001b[0;34m=\u001b[0m \u001b[0mclassifier\u001b[0m\u001b[0;34m.\u001b[0m\u001b[0mpredict\u001b[0m\u001b[0;34m(\u001b[0m\u001b[0mX_test\u001b[0m\u001b[0;34m)\u001b[0m\u001b[0;34m\u001b[0m\u001b[0;34m\u001b[0m\u001b[0m\n\u001b[0m\u001b[1;32m      3\u001b[0m \u001b[0mprint\u001b[0m\u001b[0;34m(\u001b[0m\u001b[0my_pred\u001b[0m\u001b[0;34m)\u001b[0m\u001b[0;34m\u001b[0m\u001b[0;34m\u001b[0m\u001b[0m\n",
      "\u001b[0;31mNameError\u001b[0m: name 'classifier' is not defined"
     ]
    }
   ],
   "source": [
    "# Predicting the Test set results\n",
    "y_pred = classifier.predict(X_test)\n",
    "print(y_pred)"
   ]
  },
  {
   "cell_type": "code",
   "execution_count": 6,
   "metadata": {},
   "outputs": [
    {
     "output_type": "error",
     "ename": "NameError",
     "evalue": "name 'classifier' is not defined",
     "traceback": [
      "\u001b[0;31m---------------------------------------------------------------------------\u001b[0m",
      "\u001b[0;31mNameError\u001b[0m                                 Traceback (most recent call last)",
      "\u001b[0;32m<ipython-input-6-b7588095524e>\u001b[0m in \u001b[0;36m<module>\u001b[0;34m\u001b[0m\n\u001b[1;32m      2\u001b[0m \u001b[0;34m\u001b[0m\u001b[0m\n\u001b[1;32m      3\u001b[0m \u001b[0;32mfrom\u001b[0m \u001b[0msklearn\u001b[0m\u001b[0;34m.\u001b[0m\u001b[0mmetrics\u001b[0m \u001b[0;32mimport\u001b[0m \u001b[0mconfusion_matrix\u001b[0m\u001b[0;34m,\u001b[0m \u001b[0maccuracy_score\u001b[0m\u001b[0;34m\u001b[0m\u001b[0;34m\u001b[0m\u001b[0m\n\u001b[0;32m----> 4\u001b[0;31m \u001b[0my_pred\u001b[0m \u001b[0;34m=\u001b[0m \u001b[0mclassifier\u001b[0m\u001b[0;34m.\u001b[0m\u001b[0mpredict\u001b[0m\u001b[0;34m(\u001b[0m\u001b[0mX_test\u001b[0m\u001b[0;34m)\u001b[0m\u001b[0;34m\u001b[0m\u001b[0;34m\u001b[0m\u001b[0m\n\u001b[0m\u001b[1;32m      5\u001b[0m \u001b[0mcm\u001b[0m \u001b[0;34m=\u001b[0m \u001b[0mconfusion_matrix\u001b[0m\u001b[0;34m(\u001b[0m\u001b[0my_test\u001b[0m\u001b[0;34m,\u001b[0m \u001b[0my_pred\u001b[0m\u001b[0;34m)\u001b[0m\u001b[0;34m\u001b[0m\u001b[0;34m\u001b[0m\u001b[0m\n\u001b[1;32m      6\u001b[0m \u001b[0mprint\u001b[0m\u001b[0;34m(\u001b[0m\u001b[0mcm\u001b[0m\u001b[0;34m)\u001b[0m\u001b[0;34m\u001b[0m\u001b[0;34m\u001b[0m\u001b[0m\n",
      "\u001b[0;31mNameError\u001b[0m: name 'classifier' is not defined"
     ]
    }
   ],
   "source": [
    "# Making the Confusion Matrix\n",
    "\n",
    "from sklearn.metrics import confusion_matrix, accuracy_score\n",
    "y_pred = classifier.predict(X_test)\n",
    "cm = confusion_matrix(y_test, y_pred)\n",
    "print(cm)\n",
    "accuracy_score(y_test, y_pred)"
   ]
  },
  {
   "cell_type": "code",
   "execution_count": 7,
   "metadata": {},
   "outputs": [
    {
     "output_type": "error",
     "ename": "NameError",
     "evalue": "name 'classifier' is not defined",
     "traceback": [
      "\u001b[0;31m---------------------------------------------------------------------------\u001b[0m",
      "\u001b[0;31mNameError\u001b[0m                                 Traceback (most recent call last)",
      "\u001b[0;32m<ipython-input-7-9b0b895b845c>\u001b[0m in \u001b[0;36m<module>\u001b[0;34m\u001b[0m\n\u001b[1;32m      2\u001b[0m \u001b[0;34m\u001b[0m\u001b[0m\n\u001b[1;32m      3\u001b[0m \u001b[0;32mfrom\u001b[0m \u001b[0msklearn\u001b[0m\u001b[0;34m.\u001b[0m\u001b[0mmodel_selection\u001b[0m \u001b[0;32mimport\u001b[0m \u001b[0mcross_val_score\u001b[0m\u001b[0;34m\u001b[0m\u001b[0;34m\u001b[0m\u001b[0m\n\u001b[0;32m----> 4\u001b[0;31m \u001b[0maccuracies\u001b[0m \u001b[0;34m=\u001b[0m \u001b[0mcross_val_score\u001b[0m\u001b[0;34m(\u001b[0m\u001b[0mestimator\u001b[0m \u001b[0;34m=\u001b[0m \u001b[0mclassifier\u001b[0m\u001b[0;34m,\u001b[0m \u001b[0mX\u001b[0m \u001b[0;34m=\u001b[0m \u001b[0mX_train\u001b[0m\u001b[0;34m,\u001b[0m \u001b[0my\u001b[0m \u001b[0;34m=\u001b[0m \u001b[0my_train\u001b[0m\u001b[0;34m,\u001b[0m \u001b[0mcv\u001b[0m \u001b[0;34m=\u001b[0m \u001b[0;36m10\u001b[0m\u001b[0;34m)\u001b[0m\u001b[0;34m\u001b[0m\u001b[0;34m\u001b[0m\u001b[0m\n\u001b[0m\u001b[1;32m      5\u001b[0m \u001b[0mprint\u001b[0m\u001b[0;34m(\u001b[0m\u001b[0;34m\"Accuracy: {:.2f} %\"\u001b[0m\u001b[0;34m.\u001b[0m\u001b[0mformat\u001b[0m\u001b[0;34m(\u001b[0m\u001b[0maccuracies\u001b[0m\u001b[0;34m.\u001b[0m\u001b[0mmean\u001b[0m\u001b[0;34m(\u001b[0m\u001b[0;34m)\u001b[0m\u001b[0;34m*\u001b[0m\u001b[0;36m100\u001b[0m\u001b[0;34m)\u001b[0m\u001b[0;34m)\u001b[0m\u001b[0;34m\u001b[0m\u001b[0;34m\u001b[0m\u001b[0m\n\u001b[1;32m      6\u001b[0m \u001b[0mprint\u001b[0m\u001b[0;34m(\u001b[0m\u001b[0;34m\"Standard Deviation: {:.2f} %\"\u001b[0m\u001b[0;34m.\u001b[0m\u001b[0mformat\u001b[0m\u001b[0;34m(\u001b[0m\u001b[0maccuracies\u001b[0m\u001b[0;34m.\u001b[0m\u001b[0mstd\u001b[0m\u001b[0;34m(\u001b[0m\u001b[0;34m)\u001b[0m\u001b[0;34m*\u001b[0m\u001b[0;36m100\u001b[0m\u001b[0;34m)\u001b[0m\u001b[0;34m)\u001b[0m\u001b[0;34m\u001b[0m\u001b[0;34m\u001b[0m\u001b[0m\n",
      "\u001b[0;31mNameError\u001b[0m: name 'classifier' is not defined"
     ]
    }
   ],
   "source": [
    "# Applying k-Fold Cross Validation\n",
    "\n",
    "from sklearn.model_selection import cross_val_score\n",
    "accuracies = cross_val_score(estimator = classifier, X = X_train, y = y_train, cv = 10)\n",
    "print(\"Accuracy: {:.2f} %\".format(accuracies.mean()*100))\n",
    "print(\"Standard Deviation: {:.2f} %\".format(accuracies.std()*100))"
   ]
  },
  {
   "cell_type": "code",
   "execution_count": null,
   "metadata": {},
   "outputs": [],
   "source": []
  }
 ],
 "metadata": {
  "language_info": {
   "name": "python",
   "codemirror_mode": {
    "name": "ipython",
    "version": 3
   },
   "version": "3.7.6-final"
  },
  "orig_nbformat": 2,
  "file_extension": ".py",
  "mimetype": "text/x-python",
  "name": "python",
  "npconvert_exporter": "python",
  "pygments_lexer": "ipython3",
  "version": 3,
  "kernelspec": {
   "name": "python3",
   "display_name": "Python 3"
  }
 },
 "nbformat": 4,
 "nbformat_minor": 2
}