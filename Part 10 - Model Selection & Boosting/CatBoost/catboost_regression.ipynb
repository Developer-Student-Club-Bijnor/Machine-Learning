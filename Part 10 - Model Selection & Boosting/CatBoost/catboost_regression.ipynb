{
 "cells": [
  {
   "cell_type": "markdown",
   "metadata": {},
   "source": [
    "# Catboost Regression"
   ]
  },
  {
   "cell_type": "markdown",
   "metadata": {},
   "source": [
    "## Importing the libraries and dataset"
   ]
  },
  {
   "cell_type": "code",
   "execution_count": 1,
   "metadata": {},
   "outputs": [],
   "source": [
    "# Importing the libraries\n",
    "import numpy as np\n",
    "import matplotlib.pyplot as plt\n",
    "import pandas as pd"
   ]
  },
  {
   "cell_type": "code",
   "execution_count": 2,
   "metadata": {},
   "outputs": [
    {
     "output_type": "execute_result",
     "data": {
      "text/plain": "         AT      V       AP     RH      PE\n0     14.96  41.76  1024.07  73.17  463.26\n1     25.18  62.96  1020.04  59.08  444.37\n2      5.11  39.40  1012.16  92.14  488.56\n3     20.86  57.32  1010.24  76.64  446.48\n4     10.82  37.50  1009.23  96.62  473.90\n...     ...    ...      ...    ...     ...\n9563  16.65  49.69  1014.01  91.00  460.03\n9564  13.19  39.18  1023.67  66.78  469.62\n9565  31.32  74.33  1012.92  36.48  429.57\n9566  24.48  69.45  1013.86  62.39  435.74\n9567  21.60  62.52  1017.23  67.87  453.28\n\n[9568 rows x 5 columns]",
      "text/html": "<div>\n<style scoped>\n    .dataframe tbody tr th:only-of-type {\n        vertical-align: middle;\n    }\n\n    .dataframe tbody tr th {\n        vertical-align: top;\n    }\n\n    .dataframe thead th {\n        text-align: right;\n    }\n</style>\n<table border=\"1\" class=\"dataframe\">\n  <thead>\n    <tr style=\"text-align: right;\">\n      <th></th>\n      <th>AT</th>\n      <th>V</th>\n      <th>AP</th>\n      <th>RH</th>\n      <th>PE</th>\n    </tr>\n  </thead>\n  <tbody>\n    <tr>\n      <td>0</td>\n      <td>14.96</td>\n      <td>41.76</td>\n      <td>1024.07</td>\n      <td>73.17</td>\n      <td>463.26</td>\n    </tr>\n    <tr>\n      <td>1</td>\n      <td>25.18</td>\n      <td>62.96</td>\n      <td>1020.04</td>\n      <td>59.08</td>\n      <td>444.37</td>\n    </tr>\n    <tr>\n      <td>2</td>\n      <td>5.11</td>\n      <td>39.40</td>\n      <td>1012.16</td>\n      <td>92.14</td>\n      <td>488.56</td>\n    </tr>\n    <tr>\n      <td>3</td>\n      <td>20.86</td>\n      <td>57.32</td>\n      <td>1010.24</td>\n      <td>76.64</td>\n      <td>446.48</td>\n    </tr>\n    <tr>\n      <td>4</td>\n      <td>10.82</td>\n      <td>37.50</td>\n      <td>1009.23</td>\n      <td>96.62</td>\n      <td>473.90</td>\n    </tr>\n    <tr>\n      <td>...</td>\n      <td>...</td>\n      <td>...</td>\n      <td>...</td>\n      <td>...</td>\n      <td>...</td>\n    </tr>\n    <tr>\n      <td>9563</td>\n      <td>16.65</td>\n      <td>49.69</td>\n      <td>1014.01</td>\n      <td>91.00</td>\n      <td>460.03</td>\n    </tr>\n    <tr>\n      <td>9564</td>\n      <td>13.19</td>\n      <td>39.18</td>\n      <td>1023.67</td>\n      <td>66.78</td>\n      <td>469.62</td>\n    </tr>\n    <tr>\n      <td>9565</td>\n      <td>31.32</td>\n      <td>74.33</td>\n      <td>1012.92</td>\n      <td>36.48</td>\n      <td>429.57</td>\n    </tr>\n    <tr>\n      <td>9566</td>\n      <td>24.48</td>\n      <td>69.45</td>\n      <td>1013.86</td>\n      <td>62.39</td>\n      <td>435.74</td>\n    </tr>\n    <tr>\n      <td>9567</td>\n      <td>21.60</td>\n      <td>62.52</td>\n      <td>1017.23</td>\n      <td>67.87</td>\n      <td>453.28</td>\n    </tr>\n  </tbody>\n</table>\n<p>9568 rows × 5 columns</p>\n</div>"
     },
     "metadata": {},
     "execution_count": 2
    }
   ],
   "source": [
    "# Importing the dataset\n",
    "dataset = pd.read_csv('Data_reg.csv')\n",
    "dataset"
   ]
  },
  {
   "cell_type": "code",
   "execution_count": 3,
   "metadata": {},
   "outputs": [],
   "source": [
    "X = dataset.iloc[:, :-1].values\n",
    "y = dataset.iloc[:, -1].values"
   ]
  },
  {
   "cell_type": "code",
   "execution_count": 4,
   "metadata": {},
   "outputs": [
    {
     "output_type": "execute_result",
     "data": {
      "text/plain": "array([[  14.96,   41.76, 1024.07,   73.17],\n       [  25.18,   62.96, 1020.04,   59.08],\n       [   5.11,   39.4 , 1012.16,   92.14],\n       ...,\n       [  31.32,   74.33, 1012.92,   36.48],\n       [  24.48,   69.45, 1013.86,   62.39],\n       [  21.6 ,   62.52, 1017.23,   67.87]])"
     },
     "metadata": {},
     "execution_count": 4
    }
   ],
   "source": [
    "X"
   ]
  },
  {
   "cell_type": "code",
   "execution_count": 5,
   "metadata": {},
   "outputs": [
    {
     "output_type": "execute_result",
     "data": {
      "text/plain": "array([463.26, 444.37, 488.56, ..., 429.57, 435.74, 453.28])"
     },
     "metadata": {},
     "execution_count": 5
    }
   ],
   "source": [
    "y"
   ]
  },
  {
   "cell_type": "markdown",
   "metadata": {},
   "source": [
    "## Splitting the dataset into the Training set and Test set"
   ]
  },
  {
   "cell_type": "code",
   "execution_count": 6,
   "metadata": {},
   "outputs": [],
   "source": [
    "from sklearn.model_selection import train_test_split\n",
    "X_train, X_test, y_train, y_test = train_test_split(X, y, test_size = 0.2, random_state = 0)"
   ]
  },
  {
   "cell_type": "markdown",
   "metadata": {},
   "source": [
    "## Fitting the Catboost Regression Model to the dataset"
   ]
  },
  {
   "cell_type": "code",
   "execution_count": 7,
   "metadata": {
    "tags": [
     "outputPrepend"
    ]
   },
   "outputs": [
    {
     "output_type": "stream",
     "name": "stdout",
     "text": ":\tlearn: 2.9871603\ttotal: 5.09s\tremaining: 3.18s\n615:\tlearn: 2.9859904\ttotal: 5.09s\tremaining: 3.17s\n616:\tlearn: 2.9851459\ttotal: 5.1s\tremaining: 3.17s\n617:\tlearn: 2.9836046\ttotal: 5.11s\tremaining: 3.16s\n618:\tlearn: 2.9818941\ttotal: 5.12s\tremaining: 3.15s\n619:\tlearn: 2.9807511\ttotal: 5.13s\tremaining: 3.14s\n620:\tlearn: 2.9797632\ttotal: 5.14s\tremaining: 3.14s\n621:\tlearn: 2.9790341\ttotal: 5.16s\tremaining: 3.13s\n622:\tlearn: 2.9779114\ttotal: 5.17s\tremaining: 3.13s\n623:\tlearn: 2.9772387\ttotal: 5.18s\tremaining: 3.12s\n624:\tlearn: 2.9757154\ttotal: 5.18s\tremaining: 3.11s\n625:\tlearn: 2.9746558\ttotal: 5.2s\tremaining: 3.1s\n626:\tlearn: 2.9736715\ttotal: 5.2s\tremaining: 3.1s\n627:\tlearn: 2.9728992\ttotal: 5.21s\tremaining: 3.09s\n628:\tlearn: 2.9718643\ttotal: 5.22s\tremaining: 3.08s\n629:\tlearn: 2.9708515\ttotal: 5.22s\tremaining: 3.07s\n630:\tlearn: 2.9695639\ttotal: 5.23s\tremaining: 3.06s\n631:\tlearn: 2.9683444\ttotal: 5.24s\tremaining: 3.05s\n632:\tlearn: 2.9671326\ttotal: 5.25s\tremaining: 3.04s\n633:\tlearn: 2.9661779\ttotal: 5.26s\tremaining: 3.04s\n634:\tlearn: 2.9653301\ttotal: 5.27s\tremaining: 3.03s\n635:\tlearn: 2.9641499\ttotal: 5.28s\tremaining: 3.02s\n636:\tlearn: 2.9631788\ttotal: 5.28s\tremaining: 3.01s\n637:\tlearn: 2.9620469\ttotal: 5.29s\tremaining: 3s\n638:\tlearn: 2.9613187\ttotal: 5.29s\tremaining: 2.99s\n639:\tlearn: 2.9601420\ttotal: 5.31s\tremaining: 2.98s\n640:\tlearn: 2.9590907\ttotal: 5.32s\tremaining: 2.98s\n641:\tlearn: 2.9573694\ttotal: 5.33s\tremaining: 2.97s\n642:\tlearn: 2.9562289\ttotal: 5.33s\tremaining: 2.96s\n643:\tlearn: 2.9556430\ttotal: 5.34s\tremaining: 2.95s\n644:\tlearn: 2.9549546\ttotal: 5.34s\tremaining: 2.94s\n645:\tlearn: 2.9539662\ttotal: 5.35s\tremaining: 2.93s\n646:\tlearn: 2.9533153\ttotal: 5.36s\tremaining: 2.92s\n647:\tlearn: 2.9525300\ttotal: 5.36s\tremaining: 2.91s\n648:\tlearn: 2.9517205\ttotal: 5.37s\tremaining: 2.9s\n649:\tlearn: 2.9510555\ttotal: 5.37s\tremaining: 2.89s\n650:\tlearn: 2.9500670\ttotal: 5.38s\tremaining: 2.88s\n651:\tlearn: 2.9491143\ttotal: 5.38s\tremaining: 2.87s\n652:\tlearn: 2.9483677\ttotal: 5.39s\tremaining: 2.86s\n653:\tlearn: 2.9472030\ttotal: 5.4s\tremaining: 2.86s\n654:\tlearn: 2.9463025\ttotal: 5.41s\tremaining: 2.85s\n655:\tlearn: 2.9452399\ttotal: 5.42s\tremaining: 2.84s\n656:\tlearn: 2.9442790\ttotal: 5.43s\tremaining: 2.83s\n657:\tlearn: 2.9431999\ttotal: 5.44s\tremaining: 2.83s\n658:\tlearn: 2.9423264\ttotal: 5.46s\tremaining: 2.82s\n659:\tlearn: 2.9407719\ttotal: 5.47s\tremaining: 2.82s\n660:\tlearn: 2.9400321\ttotal: 5.48s\tremaining: 2.81s\n661:\tlearn: 2.9392261\ttotal: 5.49s\tremaining: 2.8s\n662:\tlearn: 2.9382496\ttotal: 5.51s\tremaining: 2.8s\n663:\tlearn: 2.9372119\ttotal: 5.53s\tremaining: 2.8s\n664:\tlearn: 2.9362358\ttotal: 5.53s\tremaining: 2.79s\n665:\tlearn: 2.9356451\ttotal: 5.54s\tremaining: 2.78s\n666:\tlearn: 2.9347762\ttotal: 5.55s\tremaining: 2.77s\n667:\tlearn: 2.9339265\ttotal: 5.56s\tremaining: 2.76s\n668:\tlearn: 2.9327850\ttotal: 5.57s\tremaining: 2.75s\n669:\tlearn: 2.9313046\ttotal: 5.57s\tremaining: 2.74s\n670:\tlearn: 2.9296472\ttotal: 5.58s\tremaining: 2.73s\n671:\tlearn: 2.9288179\ttotal: 5.59s\tremaining: 2.73s\n672:\tlearn: 2.9269512\ttotal: 5.59s\tremaining: 2.72s\n673:\tlearn: 2.9265458\ttotal: 5.6s\tremaining: 2.71s\n674:\tlearn: 2.9253326\ttotal: 5.61s\tremaining: 2.7s\n675:\tlearn: 2.9237583\ttotal: 5.61s\tremaining: 2.69s\n676:\tlearn: 2.9225362\ttotal: 5.62s\tremaining: 2.68s\n677:\tlearn: 2.9213340\ttotal: 5.63s\tremaining: 2.67s\n678:\tlearn: 2.9204412\ttotal: 5.63s\tremaining: 2.66s\n679:\tlearn: 2.9190678\ttotal: 5.65s\tremaining: 2.66s\n680:\tlearn: 2.9182992\ttotal: 5.66s\tremaining: 2.65s\n681:\tlearn: 2.9177720\ttotal: 5.67s\tremaining: 2.64s\n682:\tlearn: 2.9169815\ttotal: 5.67s\tremaining: 2.63s\n683:\tlearn: 2.9158853\ttotal: 5.68s\tremaining: 2.63s\n684:\tlearn: 2.9146195\ttotal: 5.69s\tremaining: 2.62s\n685:\tlearn: 2.9138891\ttotal: 5.7s\tremaining: 2.61s\n686:\tlearn: 2.9125131\ttotal: 5.71s\tremaining: 2.6s\n687:\tlearn: 2.9111501\ttotal: 5.72s\tremaining: 2.6s\n688:\tlearn: 2.9102018\ttotal: 5.73s\tremaining: 2.59s\n689:\tlearn: 2.9091129\ttotal: 5.74s\tremaining: 2.58s\n690:\tlearn: 2.9082342\ttotal: 5.74s\tremaining: 2.57s\n691:\tlearn: 2.9075989\ttotal: 5.75s\tremaining: 2.56s\n692:\tlearn: 2.9065106\ttotal: 5.77s\tremaining: 2.55s\n693:\tlearn: 2.9049477\ttotal: 5.77s\tremaining: 2.54s\n694:\tlearn: 2.9038029\ttotal: 5.78s\tremaining: 2.54s\n695:\tlearn: 2.9032653\ttotal: 5.79s\tremaining: 2.53s\n696:\tlearn: 2.9020732\ttotal: 5.8s\tremaining: 2.52s\n697:\tlearn: 2.9012807\ttotal: 5.81s\tremaining: 2.51s\n698:\tlearn: 2.9004217\ttotal: 5.82s\tremaining: 2.5s\n699:\tlearn: 2.8993659\ttotal: 5.83s\tremaining: 2.5s\n700:\tlearn: 2.8989925\ttotal: 5.84s\tremaining: 2.49s\n701:\tlearn: 2.8979826\ttotal: 5.85s\tremaining: 2.48s\n702:\tlearn: 2.8974881\ttotal: 5.86s\tremaining: 2.48s\n703:\tlearn: 2.8966148\ttotal: 5.86s\tremaining: 2.46s\n704:\tlearn: 2.8958095\ttotal: 5.88s\tremaining: 2.46s\n705:\tlearn: 2.8947720\ttotal: 5.88s\tremaining: 2.45s\n706:\tlearn: 2.8942183\ttotal: 5.89s\tremaining: 2.44s\n707:\tlearn: 2.8929012\ttotal: 5.89s\tremaining: 2.43s\n708:\tlearn: 2.8925087\ttotal: 5.9s\tremaining: 2.42s\n709:\tlearn: 2.8917931\ttotal: 5.91s\tremaining: 2.41s\n710:\tlearn: 2.8906073\ttotal: 5.92s\tremaining: 2.41s\n711:\tlearn: 2.8896896\ttotal: 5.93s\tremaining: 2.4s\n712:\tlearn: 2.8891200\ttotal: 5.94s\tremaining: 2.39s\n713:\tlearn: 2.8880085\ttotal: 5.95s\tremaining: 2.38s\n714:\tlearn: 2.8869225\ttotal: 5.96s\tremaining: 2.38s\n715:\tlearn: 2.8858489\ttotal: 5.97s\tremaining: 2.37s\n716:\tlearn: 2.8848405\ttotal: 5.98s\tremaining: 2.36s\n717:\tlearn: 2.8843760\ttotal: 5.99s\tremaining: 2.35s\n718:\tlearn: 2.8834913\ttotal: 5.99s\tremaining: 2.34s\n719:\tlearn: 2.8827213\ttotal: 6s\tremaining: 2.33s\n720:\tlearn: 2.8822373\ttotal: 6s\tremaining: 2.32s\n721:\tlearn: 2.8813169\ttotal: 6.01s\tremaining: 2.31s\n722:\tlearn: 2.8803837\ttotal: 6.03s\tremaining: 2.31s\n723:\tlearn: 2.8798505\ttotal: 6.04s\tremaining: 2.3s\n724:\tlearn: 2.8792035\ttotal: 6.05s\tremaining: 2.29s\n725:\tlearn: 2.8782377\ttotal: 6.06s\tremaining: 2.29s\n726:\tlearn: 2.8776625\ttotal: 6.07s\tremaining: 2.28s\n727:\tlearn: 2.8766323\ttotal: 6.08s\tremaining: 2.27s\n728:\tlearn: 2.8760895\ttotal: 6.08s\tremaining: 2.26s\n729:\tlearn: 2.8753122\ttotal: 6.09s\tremaining: 2.25s\n730:\tlearn: 2.8743905\ttotal: 6.1s\tremaining: 2.25s\n731:\tlearn: 2.8731395\ttotal: 6.12s\tremaining: 2.24s\n732:\tlearn: 2.8722562\ttotal: 6.13s\tremaining: 2.23s\n733:\tlearn: 2.8712305\ttotal: 6.13s\tremaining: 2.22s\n734:\tlearn: 2.8702221\ttotal: 6.14s\tremaining: 2.21s\n735:\tlearn: 2.8694811\ttotal: 6.14s\tremaining: 2.2s\n736:\tlearn: 2.8682965\ttotal: 6.15s\tremaining: 2.19s\n737:\tlearn: 2.8674358\ttotal: 6.15s\tremaining: 2.18s\n738:\tlearn: 2.8667488\ttotal: 6.16s\tremaining: 2.17s\n739:\tlearn: 2.8646744\ttotal: 6.17s\tremaining: 2.17s\n740:\tlearn: 2.8641463\ttotal: 6.17s\tremaining: 2.16s\n741:\tlearn: 2.8634123\ttotal: 6.17s\tremaining: 2.15s\n742:\tlearn: 2.8624035\ttotal: 6.18s\tremaining: 2.14s\n743:\tlearn: 2.8604727\ttotal: 6.19s\tremaining: 2.13s\n744:\tlearn: 2.8593484\ttotal: 6.19s\tremaining: 2.12s\n745:\tlearn: 2.8583806\ttotal: 6.2s\tremaining: 2.11s\n746:\tlearn: 2.8570000\ttotal: 6.2s\tremaining: 2.1s\n747:\tlearn: 2.8560232\ttotal: 6.21s\tremaining: 2.09s\n748:\tlearn: 2.8555278\ttotal: 6.21s\tremaining: 2.08s\n749:\tlearn: 2.8548692\ttotal: 6.22s\tremaining: 2.07s\n750:\tlearn: 2.8540718\ttotal: 6.23s\tremaining: 2.06s\n751:\tlearn: 2.8525938\ttotal: 6.24s\tremaining: 2.06s\n752:\tlearn: 2.8511129\ttotal: 6.25s\tremaining: 2.05s\n753:\tlearn: 2.8500217\ttotal: 6.25s\tremaining: 2.04s\n754:\tlearn: 2.8491382\ttotal: 6.26s\tremaining: 2.03s\n755:\tlearn: 2.8481863\ttotal: 6.27s\tremaining: 2.02s\n756:\tlearn: 2.8476141\ttotal: 6.27s\tremaining: 2.01s\n757:\tlearn: 2.8466437\ttotal: 6.28s\tremaining: 2s\n758:\tlearn: 2.8458056\ttotal: 6.29s\tremaining: 2s\n759:\tlearn: 2.8450670\ttotal: 6.3s\tremaining: 1.99s\n760:\tlearn: 2.8441242\ttotal: 6.31s\tremaining: 1.98s\n761:\tlearn: 2.8429030\ttotal: 6.31s\tremaining: 1.97s\n762:\tlearn: 2.8418271\ttotal: 6.32s\tremaining: 1.96s\n763:\tlearn: 2.8403473\ttotal: 6.33s\tremaining: 1.95s\n764:\tlearn: 2.8395072\ttotal: 6.33s\tremaining: 1.94s\n765:\tlearn: 2.8384375\ttotal: 6.34s\tremaining: 1.94s\n766:\tlearn: 2.8376628\ttotal: 6.34s\tremaining: 1.93s\n767:\tlearn: 2.8372305\ttotal: 6.35s\tremaining: 1.92s\n768:\tlearn: 2.8365438\ttotal: 6.36s\tremaining: 1.91s\n769:\tlearn: 2.8354985\ttotal: 6.36s\tremaining: 1.9s\n770:\tlearn: 2.8342706\ttotal: 6.38s\tremaining: 1.89s\n771:\tlearn: 2.8336187\ttotal: 6.39s\tremaining: 1.89s\n772:\tlearn: 2.8329606\ttotal: 6.4s\tremaining: 1.88s\n773:\tlearn: 2.8324890\ttotal: 6.42s\tremaining: 1.87s\n774:\tlearn: 2.8318381\ttotal: 6.43s\tremaining: 1.87s\n775:\tlearn: 2.8307745\ttotal: 6.44s\tremaining: 1.86s\n776:\tlearn: 2.8305384\ttotal: 6.46s\tremaining: 1.85s\n777:\tlearn: 2.8294379\ttotal: 6.47s\tremaining: 1.84s\n778:\tlearn: 2.8283576\ttotal: 6.49s\tremaining: 1.84s\n779:\tlearn: 2.8279811\ttotal: 6.49s\tremaining: 1.83s\n780:\tlearn: 2.8269721\ttotal: 6.5s\tremaining: 1.82s\n781:\tlearn: 2.8262934\ttotal: 6.5s\tremaining: 1.81s\n782:\tlearn: 2.8251038\ttotal: 6.51s\tremaining: 1.8s\n783:\tlearn: 2.8241365\ttotal: 6.52s\tremaining: 1.79s\n784:\tlearn: 2.8231642\ttotal: 6.52s\tremaining: 1.79s\n785:\tlearn: 2.8224451\ttotal: 6.54s\tremaining: 1.78s\n786:\tlearn: 2.8220151\ttotal: 6.55s\tremaining: 1.77s\n787:\tlearn: 2.8210175\ttotal: 6.55s\tremaining: 1.76s\n788:\tlearn: 2.8204035\ttotal: 6.56s\tremaining: 1.75s\n789:\tlearn: 2.8198976\ttotal: 6.57s\tremaining: 1.75s\n790:\tlearn: 2.8194699\ttotal: 6.57s\tremaining: 1.74s\n791:\tlearn: 2.8188346\ttotal: 6.58s\tremaining: 1.73s\n792:\tlearn: 2.8182963\ttotal: 6.58s\tremaining: 1.72s\n793:\tlearn: 2.8174173\ttotal: 6.59s\tremaining: 1.71s\n794:\tlearn: 2.8164470\ttotal: 6.59s\tremaining: 1.7s\n795:\tlearn: 2.8153602\ttotal: 6.6s\tremaining: 1.69s\n796:\tlearn: 2.8150539\ttotal: 6.61s\tremaining: 1.68s\n797:\tlearn: 2.8140993\ttotal: 6.61s\tremaining: 1.67s\n798:\tlearn: 2.8135088\ttotal: 6.62s\tremaining: 1.67s\n799:\tlearn: 2.8128925\ttotal: 6.63s\tremaining: 1.66s\n800:\tlearn: 2.8121125\ttotal: 6.63s\tremaining: 1.65s\n801:\tlearn: 2.8107233\ttotal: 6.64s\tremaining: 1.64s\n802:\tlearn: 2.8101023\ttotal: 6.65s\tremaining: 1.63s\n803:\tlearn: 2.8095111\ttotal: 6.65s\tremaining: 1.62s\n804:\tlearn: 2.8088871\ttotal: 6.66s\tremaining: 1.61s\n805:\tlearn: 2.8083395\ttotal: 6.67s\tremaining: 1.6s\n806:\tlearn: 2.8077319\ttotal: 6.67s\tremaining: 1.6s\n807:\tlearn: 2.8070795\ttotal: 6.68s\tremaining: 1.59s\n808:\tlearn: 2.8064236\ttotal: 6.69s\tremaining: 1.58s\n809:\tlearn: 2.8053988\ttotal: 6.7s\tremaining: 1.57s\n810:\tlearn: 2.8042160\ttotal: 6.7s\tremaining: 1.56s\n811:\tlearn: 2.8029729\ttotal: 6.71s\tremaining: 1.55s\n812:\tlearn: 2.8019108\ttotal: 6.71s\tremaining: 1.54s\n813:\tlearn: 2.8010124\ttotal: 6.72s\tremaining: 1.53s\n814:\tlearn: 2.8005469\ttotal: 6.72s\tremaining: 1.52s\n815:\tlearn: 2.7995044\ttotal: 6.73s\tremaining: 1.52s\n816:\tlearn: 2.7987293\ttotal: 6.73s\tremaining: 1.51s\n817:\tlearn: 2.7976935\ttotal: 6.74s\tremaining: 1.5s\n818:\tlearn: 2.7965235\ttotal: 6.75s\tremaining: 1.49s\n819:\tlearn: 2.7947615\ttotal: 6.75s\tremaining: 1.48s\n820:\tlearn: 2.7939245\ttotal: 6.75s\tremaining: 1.47s\n821:\tlearn: 2.7929059\ttotal: 6.76s\tremaining: 1.46s\n822:\tlearn: 2.7920377\ttotal: 6.76s\tremaining: 1.45s\n823:\tlearn: 2.7914619\ttotal: 6.77s\tremaining: 1.45s\n824:\tlearn: 2.7903497\ttotal: 6.78s\tremaining: 1.44s\n825:\tlearn: 2.7895754\ttotal: 6.78s\tremaining: 1.43s\n826:\tlearn: 2.7893246\ttotal: 6.79s\tremaining: 1.42s\n827:\tlearn: 2.7888930\ttotal: 6.79s\tremaining: 1.41s\n828:\tlearn: 2.7881295\ttotal: 6.8s\tremaining: 1.4s\n829:\tlearn: 2.7868891\ttotal: 6.8s\tremaining: 1.39s\n830:\tlearn: 2.7855746\ttotal: 6.81s\tremaining: 1.39s\n831:\tlearn: 2.7850052\ttotal: 6.82s\tremaining: 1.38s\n832:\tlearn: 2.7844119\ttotal: 6.83s\tremaining: 1.37s\n833:\tlearn: 2.7838894\ttotal: 6.84s\tremaining: 1.36s\n834:\tlearn: 2.7832479\ttotal: 6.84s\tremaining: 1.35s\n835:\tlearn: 2.7826130\ttotal: 6.85s\tremaining: 1.34s\n836:\tlearn: 2.7817082\ttotal: 6.85s\tremaining: 1.33s\n837:\tlearn: 2.7808634\ttotal: 6.86s\tremaining: 1.33s\n838:\tlearn: 2.7802156\ttotal: 6.88s\tremaining: 1.32s\n839:\tlearn: 2.7798065\ttotal: 6.88s\tremaining: 1.31s\n840:\tlearn: 2.7786814\ttotal: 6.89s\tremaining: 1.3s\n841:\tlearn: 2.7777209\ttotal: 6.9s\tremaining: 1.29s\n842:\tlearn: 2.7768026\ttotal: 6.91s\tremaining: 1.29s\n843:\tlearn: 2.7762352\ttotal: 6.92s\tremaining: 1.28s\n844:\tlearn: 2.7754644\ttotal: 6.92s\tremaining: 1.27s\n845:\tlearn: 2.7746204\ttotal: 6.92s\tremaining: 1.26s\n846:\tlearn: 2.7738904\ttotal: 6.93s\tremaining: 1.25s\n847:\tlearn: 2.7732126\ttotal: 6.94s\tremaining: 1.24s\n848:\tlearn: 2.7723560\ttotal: 6.94s\tremaining: 1.23s\n849:\tlearn: 2.7715091\ttotal: 6.95s\tremaining: 1.23s\n850:\tlearn: 2.7704408\ttotal: 6.96s\tremaining: 1.22s\n851:\tlearn: 2.7696353\ttotal: 6.96s\tremaining: 1.21s\n852:\tlearn: 2.7688269\ttotal: 6.97s\tremaining: 1.2s\n853:\tlearn: 2.7682677\ttotal: 6.97s\tremaining: 1.19s\n854:\tlearn: 2.7676478\ttotal: 6.98s\tremaining: 1.18s\n855:\tlearn: 2.7669559\ttotal: 6.99s\tremaining: 1.18s\n856:\tlearn: 2.7663970\ttotal: 7s\tremaining: 1.17s\n857:\tlearn: 2.7657170\ttotal: 7s\tremaining: 1.16s\n858:\tlearn: 2.7648638\ttotal: 7.01s\tremaining: 1.15s\n859:\tlearn: 2.7642616\ttotal: 7.02s\tremaining: 1.14s\n860:\tlearn: 2.7631830\ttotal: 7.03s\tremaining: 1.13s\n861:\tlearn: 2.7623373\ttotal: 7.04s\tremaining: 1.13s\n862:\tlearn: 2.7616731\ttotal: 7.04s\tremaining: 1.12s\n863:\tlearn: 2.7603407\ttotal: 7.05s\tremaining: 1.11s\n864:\tlearn: 2.7595840\ttotal: 7.06s\tremaining: 1.1s\n865:\tlearn: 2.7583996\ttotal: 7.07s\tremaining: 1.09s\n866:\tlearn: 2.7575183\ttotal: 7.07s\tremaining: 1.08s\n867:\tlearn: 2.7568209\ttotal: 7.08s\tremaining: 1.08s\n868:\tlearn: 2.7559233\ttotal: 7.08s\tremaining: 1.07s\n869:\tlearn: 2.7550991\ttotal: 7.09s\tremaining: 1.06s\n870:\tlearn: 2.7546591\ttotal: 7.09s\tremaining: 1.05s\n871:\tlearn: 2.7539017\ttotal: 7.1s\tremaining: 1.04s\n872:\tlearn: 2.7533958\ttotal: 7.11s\tremaining: 1.03s\n873:\tlearn: 2.7527869\ttotal: 7.11s\tremaining: 1.02s\n874:\tlearn: 2.7519970\ttotal: 7.12s\tremaining: 1.02s\n875:\tlearn: 2.7513907\ttotal: 7.12s\tremaining: 1.01s\n876:\tlearn: 2.7505638\ttotal: 7.13s\tremaining: 1000ms\n877:\tlearn: 2.7492662\ttotal: 7.13s\tremaining: 991ms\n878:\tlearn: 2.7485096\ttotal: 7.14s\tremaining: 983ms\n879:\tlearn: 2.7476588\ttotal: 7.14s\tremaining: 974ms\n880:\tlearn: 2.7467851\ttotal: 7.15s\tremaining: 965ms\n881:\tlearn: 2.7463460\ttotal: 7.15s\tremaining: 957ms\n882:\tlearn: 2.7450800\ttotal: 7.16s\tremaining: 948ms\n883:\tlearn: 2.7447166\ttotal: 7.16s\tremaining: 940ms\n884:\tlearn: 2.7438587\ttotal: 7.17s\tremaining: 931ms\n885:\tlearn: 2.7433034\ttotal: 7.17s\tremaining: 923ms\n886:\tlearn: 2.7427059\ttotal: 7.18s\tremaining: 915ms\n887:\tlearn: 2.7417985\ttotal: 7.18s\tremaining: 906ms\n888:\tlearn: 2.7405616\ttotal: 7.2s\tremaining: 899ms\n889:\tlearn: 2.7397815\ttotal: 7.21s\tremaining: 891ms\n890:\tlearn: 2.7384664\ttotal: 7.21s\tremaining: 882ms\n891:\tlearn: 2.7374609\ttotal: 7.22s\tremaining: 874ms\n892:\tlearn: 2.7367626\ttotal: 7.22s\tremaining: 866ms\n893:\tlearn: 2.7361103\ttotal: 7.23s\tremaining: 857ms\n894:\tlearn: 2.7354931\ttotal: 7.23s\tremaining: 849ms\n895:\tlearn: 2.7347920\ttotal: 7.24s\tremaining: 840ms\n896:\tlearn: 2.7340143\ttotal: 7.25s\tremaining: 832ms\n897:\tlearn: 2.7336037\ttotal: 7.25s\tremaining: 824ms\n898:\tlearn: 2.7328930\ttotal: 7.26s\tremaining: 816ms\n899:\tlearn: 2.7324083\ttotal: 7.27s\tremaining: 808ms\n900:\tlearn: 2.7316054\ttotal: 7.27s\tremaining: 799ms\n901:\tlearn: 2.7309147\ttotal: 7.28s\tremaining: 791ms\n902:\tlearn: 2.7298219\ttotal: 7.29s\tremaining: 783ms\n903:\tlearn: 2.7291740\ttotal: 7.29s\tremaining: 774ms\n904:\tlearn: 2.7286102\ttotal: 7.3s\tremaining: 766ms\n905:\tlearn: 2.7278495\ttotal: 7.31s\tremaining: 758ms\n906:\tlearn: 2.7270236\ttotal: 7.32s\tremaining: 750ms\n907:\tlearn: 2.7264837\ttotal: 7.34s\tremaining: 744ms\n908:\tlearn: 2.7258343\ttotal: 7.35s\tremaining: 736ms\n909:\tlearn: 2.7248052\ttotal: 7.36s\tremaining: 728ms\n910:\tlearn: 2.7241399\ttotal: 7.38s\tremaining: 721ms\n911:\tlearn: 2.7239302\ttotal: 7.38s\tremaining: 713ms\n912:\tlearn: 2.7234684\ttotal: 7.39s\tremaining: 704ms\n913:\tlearn: 2.7223253\ttotal: 7.4s\tremaining: 696ms\n914:\tlearn: 2.7217942\ttotal: 7.41s\tremaining: 688ms\n915:\tlearn: 2.7208292\ttotal: 7.43s\tremaining: 681ms\n916:\tlearn: 2.7202690\ttotal: 7.45s\tremaining: 674ms\n917:\tlearn: 2.7192975\ttotal: 7.46s\tremaining: 666ms\n918:\tlearn: 2.7186317\ttotal: 7.46s\tremaining: 658ms\n919:\tlearn: 2.7183700\ttotal: 7.48s\tremaining: 650ms\n920:\tlearn: 2.7175914\ttotal: 7.5s\tremaining: 644ms\n921:\tlearn: 2.7171641\ttotal: 7.51s\tremaining: 635ms\n922:\tlearn: 2.7164309\ttotal: 7.52s\tremaining: 628ms\n923:\tlearn: 2.7158798\ttotal: 7.53s\tremaining: 619ms\n924:\tlearn: 2.7149547\ttotal: 7.54s\tremaining: 611ms\n925:\tlearn: 2.7143887\ttotal: 7.55s\tremaining: 603ms\n926:\tlearn: 2.7137795\ttotal: 7.55s\tremaining: 595ms\n927:\tlearn: 2.7131738\ttotal: 7.56s\tremaining: 587ms\n928:\tlearn: 2.7125122\ttotal: 7.58s\tremaining: 579ms\n929:\tlearn: 2.7120224\ttotal: 7.58s\tremaining: 571ms\n930:\tlearn: 2.7109247\ttotal: 7.59s\tremaining: 563ms\n931:\tlearn: 2.7100671\ttotal: 7.6s\tremaining: 555ms\n932:\tlearn: 2.7092175\ttotal: 7.61s\tremaining: 547ms\n933:\tlearn: 2.7083169\ttotal: 7.62s\tremaining: 539ms\n934:\tlearn: 2.7080282\ttotal: 7.63s\tremaining: 530ms\n935:\tlearn: 2.7075945\ttotal: 7.64s\tremaining: 523ms\n936:\tlearn: 2.7067346\ttotal: 7.65s\tremaining: 514ms\n937:\tlearn: 2.7061472\ttotal: 7.66s\tremaining: 506ms\n938:\tlearn: 2.7054094\ttotal: 7.67s\tremaining: 498ms\n939:\tlearn: 2.7047319\ttotal: 7.67s\tremaining: 490ms\n940:\tlearn: 2.7037132\ttotal: 7.68s\tremaining: 482ms\n941:\tlearn: 2.7030804\ttotal: 7.69s\tremaining: 473ms\n942:\tlearn: 2.7023864\ttotal: 7.69s\tremaining: 465ms\n943:\tlearn: 2.7016432\ttotal: 7.71s\tremaining: 457ms\n944:\tlearn: 2.7008529\ttotal: 7.71s\tremaining: 449ms\n945:\tlearn: 2.7004411\ttotal: 7.72s\tremaining: 441ms\n946:\tlearn: 2.6999648\ttotal: 7.72s\tremaining: 432ms\n947:\tlearn: 2.6996721\ttotal: 7.73s\tremaining: 424ms\n948:\tlearn: 2.6992705\ttotal: 7.74s\tremaining: 416ms\n949:\tlearn: 2.6987391\ttotal: 7.74s\tremaining: 407ms\n950:\tlearn: 2.6978977\ttotal: 7.75s\tremaining: 399ms\n951:\tlearn: 2.6974172\ttotal: 7.75s\tremaining: 391ms\n952:\tlearn: 2.6968997\ttotal: 7.76s\tremaining: 383ms\n953:\tlearn: 2.6962460\ttotal: 7.76s\tremaining: 374ms\n954:\tlearn: 2.6955713\ttotal: 7.77s\tremaining: 366ms\n955:\tlearn: 2.6947497\ttotal: 7.78s\tremaining: 358ms\n956:\tlearn: 2.6945697\ttotal: 7.79s\tremaining: 350ms\n957:\tlearn: 2.6942003\ttotal: 7.79s\tremaining: 342ms\n958:\tlearn: 2.6931974\ttotal: 7.8s\tremaining: 333ms\n959:\tlearn: 2.6926341\ttotal: 7.81s\tremaining: 325ms\n960:\tlearn: 2.6920108\ttotal: 7.82s\tremaining: 317ms\n961:\tlearn: 2.6912788\ttotal: 7.82s\tremaining: 309ms\n962:\tlearn: 2.6905911\ttotal: 7.84s\tremaining: 301ms\n963:\tlearn: 2.6896502\ttotal: 7.84s\tremaining: 293ms\n964:\tlearn: 2.6889063\ttotal: 7.85s\tremaining: 285ms\n965:\tlearn: 2.6881339\ttotal: 7.86s\tremaining: 277ms\n966:\tlearn: 2.6875953\ttotal: 7.87s\tremaining: 268ms\n967:\tlearn: 2.6872000\ttotal: 7.87s\tremaining: 260ms\n968:\tlearn: 2.6868565\ttotal: 7.88s\tremaining: 252ms\n969:\tlearn: 2.6857590\ttotal: 7.88s\tremaining: 244ms\n970:\tlearn: 2.6851410\ttotal: 7.89s\tremaining: 236ms\n971:\tlearn: 2.6846385\ttotal: 7.9s\tremaining: 227ms\n972:\tlearn: 2.6836003\ttotal: 7.91s\tremaining: 219ms\n973:\tlearn: 2.6830108\ttotal: 7.91s\tremaining: 211ms\n974:\tlearn: 2.6822610\ttotal: 7.92s\tremaining: 203ms\n975:\tlearn: 2.6817941\ttotal: 7.92s\tremaining: 195ms\n976:\tlearn: 2.6812067\ttotal: 7.93s\tremaining: 187ms\n977:\tlearn: 2.6805757\ttotal: 7.93s\tremaining: 178ms\n978:\tlearn: 2.6798308\ttotal: 7.94s\tremaining: 170ms\n979:\tlearn: 2.6793949\ttotal: 7.94s\tremaining: 162ms\n980:\tlearn: 2.6788007\ttotal: 7.95s\tremaining: 154ms\n981:\tlearn: 2.6779783\ttotal: 7.96s\tremaining: 146ms\n982:\tlearn: 2.6777631\ttotal: 7.97s\tremaining: 138ms\n983:\tlearn: 2.6772948\ttotal: 7.97s\tremaining: 130ms\n984:\tlearn: 2.6764948\ttotal: 7.98s\tremaining: 122ms\n985:\tlearn: 2.6757663\ttotal: 7.99s\tremaining: 113ms\n986:\tlearn: 2.6745423\ttotal: 7.99s\tremaining: 105ms\n987:\tlearn: 2.6738055\ttotal: 8s\tremaining: 97.2ms\n988:\tlearn: 2.6733511\ttotal: 8.01s\tremaining: 89.1ms\n989:\tlearn: 2.6724942\ttotal: 8.02s\tremaining: 81ms\n990:\tlearn: 2.6720972\ttotal: 8.03s\tremaining: 72.9ms\n991:\tlearn: 2.6705304\ttotal: 8.04s\tremaining: 64.8ms\n992:\tlearn: 2.6694066\ttotal: 8.04s\tremaining: 56.7ms\n993:\tlearn: 2.6689874\ttotal: 8.05s\tremaining: 48.6ms\n994:\tlearn: 2.6679721\ttotal: 8.05s\tremaining: 40.5ms\n995:\tlearn: 2.6668537\ttotal: 8.06s\tremaining: 32.4ms\n996:\tlearn: 2.6660341\ttotal: 8.06s\tremaining: 24.3ms\n997:\tlearn: 2.6653248\ttotal: 8.07s\tremaining: 16.2ms\n998:\tlearn: 2.6648510\ttotal: 8.08s\tremaining: 8.09ms\n999:\tlearn: 2.6644207\ttotal: 8.08s\tremaining: 0us\n"
    },
    {
     "output_type": "execute_result",
     "data": {
      "text/plain": "<catboost.core.CatBoostRegressor at 0x7fc6c69fe290>"
     },
     "metadata": {},
     "execution_count": 7
    }
   ],
   "source": [
    "from catboost import CatBoostRegressor\n",
    "regressor = CatBoostRegressor()\n",
    "regressor.fit(X_train, y_train)"
   ]
  },
  {
   "cell_type": "markdown",
   "metadata": {},
   "source": [
    "## Predicting a new result"
   ]
  },
  {
   "cell_type": "code",
   "execution_count": 8,
   "metadata": {
    "tags": []
   },
   "outputs": [
    {
     "output_type": "stream",
     "name": "stdout",
     "text": "[[434.31 431.23]\n [457.65 460.01]\n [461.98 461.14]\n ...\n [471.7  473.26]\n [438.86 438.  ]\n [462.71 463.28]]\n"
    }
   ],
   "source": [
    "y_pred = regressor.predict(X_test)\n",
    "np.set_printoptions(precision=2)\n",
    "print(np.concatenate((y_pred.reshape(len(y_pred),1), y_test.reshape(len(y_test),1)),1))"
   ]
  },
  {
   "cell_type": "markdown",
   "metadata": {},
   "source": [
    "## Evaluating Model Performance"
   ]
  },
  {
   "cell_type": "code",
   "execution_count": 9,
   "metadata": {},
   "outputs": [
    {
     "output_type": "execute_result",
     "data": {
      "text/plain": "0.9664195873489176"
     },
     "metadata": {},
     "execution_count": 9
    }
   ],
   "source": [
    "from sklearn.metrics import r2_score\n",
    "r2_score(y_test, y_pred)"
   ]
  }
 ],
 "metadata": {
  "kernelspec": {
   "display_name": "Python 3",
   "language": "python",
   "name": "python3"
  },
  "language_info": {
   "codemirror_mode": {
    "name": "ipython",
    "version": 3
   },
   "file_extension": ".py",
   "mimetype": "text/x-python",
   "name": "python",
   "nbconvert_exporter": "python",
   "pygments_lexer": "ipython3",
   "version": "3.7.4"
  }
 },
 "nbformat": 4,
 "nbformat_minor": 4
}