{
 "metadata": {
  "language_info": {
   "codemirror_mode": {
    "name": "ipython",
    "version": 3
   },
   "file_extension": ".py",
   "mimetype": "text/x-python",
   "name": "python",
   "nbconvert_exporter": "python",
   "pygments_lexer": "ipython3",
   "version": 3
  },
  "orig_nbformat": 2,
  "kernelspec": {
   "name": "python_defaultSpec_1596025209028",
   "display_name": "Python 3.7.4 64-bit ('Learning': conda)"
  }
 },
 "nbformat": 4,
 "nbformat_minor": 2,
 "cells": [
  {
   "cell_type": "markdown",
   "metadata": {},
   "source": [
    "# Wine dataset analysis\n"
   ]
  },
  {
   "cell_type": "markdown",
   "metadata": {},
   "source": [
    "## Importing the libraries"
   ]
  },
  {
   "cell_type": "code",
   "execution_count": 1,
   "metadata": {},
   "outputs": [],
   "source": [
    "import numpy as np\n",
    "import pandas as pd\n",
    "import matplotlib.pyplot as plt\n",
    "%matplotlib inline"
   ]
  },
  {
   "cell_type": "markdown",
   "metadata": {},
   "source": [
    "## Importing the dataset"
   ]
  },
  {
   "cell_type": "code",
   "execution_count": 1,
   "metadata": {
    "tags": []
   },
   "outputs": [],
   "source": [
    "from sklearn.datasets import load_wine\n",
    "wine = load_wine()"
   ]
  },
  {
   "cell_type": "code",
   "execution_count": 3,
   "metadata": {
    "tags": []
   },
   "outputs": [
    {
     "output_type": "stream",
     "name": "stdout",
     "text": ".. _wine_dataset:\n\nWine recognition dataset\n------------------------\n\n**Data Set Characteristics:**\n\n    :Number of Instances: 178 (50 in each of three classes)\n    :Number of Attributes: 13 numeric, predictive attributes and the class\n    :Attribute Information:\n \t\t- Alcohol\n \t\t- Malic acid\n \t\t- Ash\n\t\t- Alcalinity of ash  \n \t\t- Magnesium\n\t\t- Total phenols\n \t\t- Flavanoids\n \t\t- Nonflavanoid phenols\n \t\t- Proanthocyanins\n\t\t- Color intensity\n \t\t- Hue\n \t\t- OD280/OD315 of diluted wines\n \t\t- Proline\n\n    - class:\n            - class_0\n            - class_1\n            - class_2\n\t\t\n    :Summary Statistics:\n    \n    ============================= ==== ===== ======= =====\n                                   Min   Max   Mean     SD\n    ============================= ==== ===== ======= =====\n    Alcohol:                      11.0  14.8    13.0   0.8\n    Malic Acid:                   0.74  5.80    2.34  1.12\n    Ash:                          1.36  3.23    2.36  0.27\n    Alcalinity of Ash:            10.6  30.0    19.5   3.3\n    Magnesium:                    70.0 162.0    99.7  14.3\n    Total Phenols:                0.98  3.88    2.29  0.63\n    Flavanoids:                   0.34  5.08    2.03  1.00\n    Nonflavanoid Phenols:         0.13  0.66    0.36  0.12\n    Proanthocyanins:              0.41  3.58    1.59  0.57\n    Colour Intensity:              1.3  13.0     5.1   2.3\n    Hue:                          0.48  1.71    0.96  0.23\n    OD280/OD315 of diluted wines: 1.27  4.00    2.61  0.71\n    Proline:                       278  1680     746   315\n    ============================= ==== ===== ======= =====\n\n    :Missing Attribute Values: None\n    :Class Distribution: class_0 (59), class_1 (71), class_2 (48)\n    :Creator: R.A. Fisher\n    :Donor: Michael Marshall (MARSHALL%PLU@io.arc.nasa.gov)\n    :Date: July, 1988\n\nThis is a copy of UCI ML Wine recognition datasets.\nhttps://archive.ics.uci.edu/ml/machine-learning-databases/wine/wine.data\n\nThe data is the results of a chemical analysis of wines grown in the same\nregion in Italy by three different cultivators. There are thirteen different\nmeasurements taken for different constituents found in the three types of\nwine.\n\nOriginal Owners: \n\nForina, M. et al, PARVUS - \nAn Extendible Package for Data Exploration, Classification and Correlation. \nInstitute of Pharmaceutical and Food Analysis and Technologies,\nVia Brigata Salerno, 16147 Genoa, Italy.\n\nCitation:\n\nLichman, M. (2013). UCI Machine Learning Repository\n[https://archive.ics.uci.edu/ml]. Irvine, CA: University of California,\nSchool of Information and Computer Science. \n\n.. topic:: References\n\n  (1) S. Aeberhard, D. Coomans and O. de Vel, \n  Comparison of Classifiers in High Dimensional Settings, \n  Tech. Rep. no. 92-02, (1992), Dept. of Computer Science and Dept. of  \n  Mathematics and Statistics, James Cook University of North Queensland. \n  (Also submitted to Technometrics). \n\n  The data was used with many others for comparing various \n  classifiers. The classes are separable, though only RDA \n  has achieved 100% correct classification. \n  (RDA : 100%, QDA 99.4%, LDA 98.9%, 1NN 96.1% (z-transformed data)) \n  (All results using the leave-one-out technique) \n\n  (2) S. Aeberhard, D. Coomans and O. de Vel, \n  \"THE CLASSIFICATION PERFORMANCE OF RDA\" \n  Tech. Rep. no. 92-01, (1992), Dept. of Computer Science and Dept. of \n  Mathematics and Statistics, James Cook University of North Queensland. \n  (Also submitted to Journal of Chemometrics).\n\n"
    }
   ],
   "source": [
    "print(wine['DESCR'])"
   ]
  },
  {
   "cell_type": "code",
   "execution_count": 4,
   "metadata": {},
   "outputs": [
    {
     "output_type": "execute_result",
     "data": {
      "text/plain": "     alcohol  malic_acid   ash  alcalinity_of_ash  magnesium  total_phenols  \\\n0      14.23        1.71  2.43               15.6      127.0           2.80   \n1      13.20        1.78  2.14               11.2      100.0           2.65   \n2      13.16        2.36  2.67               18.6      101.0           2.80   \n3      14.37        1.95  2.50               16.8      113.0           3.85   \n4      13.24        2.59  2.87               21.0      118.0           2.80   \n..       ...         ...   ...                ...        ...            ...   \n173    13.71        5.65  2.45               20.5       95.0           1.68   \n174    13.40        3.91  2.48               23.0      102.0           1.80   \n175    13.27        4.28  2.26               20.0      120.0           1.59   \n176    13.17        2.59  2.37               20.0      120.0           1.65   \n177    14.13        4.10  2.74               24.5       96.0           2.05   \n\n     flavanoids  nonflavanoid_phenols  proanthocyanins  color_intensity   hue  \\\n0          3.06                  0.28             2.29             5.64  1.04   \n1          2.76                  0.26             1.28             4.38  1.05   \n2          3.24                  0.30             2.81             5.68  1.03   \n3          3.49                  0.24             2.18             7.80  0.86   \n4          2.69                  0.39             1.82             4.32  1.04   \n..          ...                   ...              ...              ...   ...   \n173        0.61                  0.52             1.06             7.70  0.64   \n174        0.75                  0.43             1.41             7.30  0.70   \n175        0.69                  0.43             1.35            10.20  0.59   \n176        0.68                  0.53             1.46             9.30  0.60   \n177        0.76                  0.56             1.35             9.20  0.61   \n\n     od280/od315_of_diluted_wines  proline  target  \n0                            3.92   1065.0       0  \n1                            3.40   1050.0       0  \n2                            3.17   1185.0       0  \n3                            3.45   1480.0       0  \n4                            2.93    735.0       0  \n..                            ...      ...     ...  \n173                          1.74    740.0       2  \n174                          1.56    750.0       2  \n175                          1.56    835.0       2  \n176                          1.62    840.0       2  \n177                          1.60    560.0       2  \n\n[178 rows x 14 columns]",
      "text/html": "<div>\n<style scoped>\n    .dataframe tbody tr th:only-of-type {\n        vertical-align: middle;\n    }\n\n    .dataframe tbody tr th {\n        vertical-align: top;\n    }\n\n    .dataframe thead th {\n        text-align: right;\n    }\n</style>\n<table border=\"1\" class=\"dataframe\">\n  <thead>\n    <tr style=\"text-align: right;\">\n      <th></th>\n      <th>alcohol</th>\n      <th>malic_acid</th>\n      <th>ash</th>\n      <th>alcalinity_of_ash</th>\n      <th>magnesium</th>\n      <th>total_phenols</th>\n      <th>flavanoids</th>\n      <th>nonflavanoid_phenols</th>\n      <th>proanthocyanins</th>\n      <th>color_intensity</th>\n      <th>hue</th>\n      <th>od280/od315_of_diluted_wines</th>\n      <th>proline</th>\n      <th>target</th>\n    </tr>\n  </thead>\n  <tbody>\n    <tr>\n      <td>0</td>\n      <td>14.23</td>\n      <td>1.71</td>\n      <td>2.43</td>\n      <td>15.6</td>\n      <td>127.0</td>\n      <td>2.80</td>\n      <td>3.06</td>\n      <td>0.28</td>\n      <td>2.29</td>\n      <td>5.64</td>\n      <td>1.04</td>\n      <td>3.92</td>\n      <td>1065.0</td>\n      <td>0</td>\n    </tr>\n    <tr>\n      <td>1</td>\n      <td>13.20</td>\n      <td>1.78</td>\n      <td>2.14</td>\n      <td>11.2</td>\n      <td>100.0</td>\n      <td>2.65</td>\n      <td>2.76</td>\n      <td>0.26</td>\n      <td>1.28</td>\n      <td>4.38</td>\n      <td>1.05</td>\n      <td>3.40</td>\n      <td>1050.0</td>\n      <td>0</td>\n    </tr>\n    <tr>\n      <td>2</td>\n      <td>13.16</td>\n      <td>2.36</td>\n      <td>2.67</td>\n      <td>18.6</td>\n      <td>101.0</td>\n      <td>2.80</td>\n      <td>3.24</td>\n      <td>0.30</td>\n      <td>2.81</td>\n      <td>5.68</td>\n      <td>1.03</td>\n      <td>3.17</td>\n      <td>1185.0</td>\n      <td>0</td>\n    </tr>\n    <tr>\n      <td>3</td>\n      <td>14.37</td>\n      <td>1.95</td>\n      <td>2.50</td>\n      <td>16.8</td>\n      <td>113.0</td>\n      <td>3.85</td>\n      <td>3.49</td>\n      <td>0.24</td>\n      <td>2.18</td>\n      <td>7.80</td>\n      <td>0.86</td>\n      <td>3.45</td>\n      <td>1480.0</td>\n      <td>0</td>\n    </tr>\n    <tr>\n      <td>4</td>\n      <td>13.24</td>\n      <td>2.59</td>\n      <td>2.87</td>\n      <td>21.0</td>\n      <td>118.0</td>\n      <td>2.80</td>\n      <td>2.69</td>\n      <td>0.39</td>\n      <td>1.82</td>\n      <td>4.32</td>\n      <td>1.04</td>\n      <td>2.93</td>\n      <td>735.0</td>\n      <td>0</td>\n    </tr>\n    <tr>\n      <td>...</td>\n      <td>...</td>\n      <td>...</td>\n      <td>...</td>\n      <td>...</td>\n      <td>...</td>\n      <td>...</td>\n      <td>...</td>\n      <td>...</td>\n      <td>...</td>\n      <td>...</td>\n      <td>...</td>\n      <td>...</td>\n      <td>...</td>\n      <td>...</td>\n    </tr>\n    <tr>\n      <td>173</td>\n      <td>13.71</td>\n      <td>5.65</td>\n      <td>2.45</td>\n      <td>20.5</td>\n      <td>95.0</td>\n      <td>1.68</td>\n      <td>0.61</td>\n      <td>0.52</td>\n      <td>1.06</td>\n      <td>7.70</td>\n      <td>0.64</td>\n      <td>1.74</td>\n      <td>740.0</td>\n      <td>2</td>\n    </tr>\n    <tr>\n      <td>174</td>\n      <td>13.40</td>\n      <td>3.91</td>\n      <td>2.48</td>\n      <td>23.0</td>\n      <td>102.0</td>\n      <td>1.80</td>\n      <td>0.75</td>\n      <td>0.43</td>\n      <td>1.41</td>\n      <td>7.30</td>\n      <td>0.70</td>\n      <td>1.56</td>\n      <td>750.0</td>\n      <td>2</td>\n    </tr>\n    <tr>\n      <td>175</td>\n      <td>13.27</td>\n      <td>4.28</td>\n      <td>2.26</td>\n      <td>20.0</td>\n      <td>120.0</td>\n      <td>1.59</td>\n      <td>0.69</td>\n      <td>0.43</td>\n      <td>1.35</td>\n      <td>10.20</td>\n      <td>0.59</td>\n      <td>1.56</td>\n      <td>835.0</td>\n      <td>2</td>\n    </tr>\n    <tr>\n      <td>176</td>\n      <td>13.17</td>\n      <td>2.59</td>\n      <td>2.37</td>\n      <td>20.0</td>\n      <td>120.0</td>\n      <td>1.65</td>\n      <td>0.68</td>\n      <td>0.53</td>\n      <td>1.46</td>\n      <td>9.30</td>\n      <td>0.60</td>\n      <td>1.62</td>\n      <td>840.0</td>\n      <td>2</td>\n    </tr>\n    <tr>\n      <td>177</td>\n      <td>14.13</td>\n      <td>4.10</td>\n      <td>2.74</td>\n      <td>24.5</td>\n      <td>96.0</td>\n      <td>2.05</td>\n      <td>0.76</td>\n      <td>0.56</td>\n      <td>1.35</td>\n      <td>9.20</td>\n      <td>0.61</td>\n      <td>1.60</td>\n      <td>560.0</td>\n      <td>2</td>\n    </tr>\n  </tbody>\n</table>\n<p>178 rows × 14 columns</p>\n</div>"
     },
     "metadata": {},
     "execution_count": 4
    }
   ],
   "source": [
    "dataset = pd.DataFrame(wine['data'], columns=wine['feature_names'])\n",
    "dataset['target'] = wine['target']\n",
    "dataset"
   ]
  },
  {
   "cell_type": "code",
   "execution_count": 5,
   "metadata": {},
   "outputs": [
    {
     "output_type": "execute_result",
     "data": {
      "text/plain": "alcohol                         0\nmalic_acid                      0\nash                             0\nalcalinity_of_ash               0\nmagnesium                       0\ntotal_phenols                   0\nflavanoids                      0\nnonflavanoid_phenols            0\nproanthocyanins                 0\ncolor_intensity                 0\nhue                             0\nod280/od315_of_diluted_wines    0\nproline                         0\ntarget                          0\ndtype: int64"
     },
     "metadata": {},
     "execution_count": 5
    }
   ],
   "source": [
    "dataset.isnull().sum()"
   ]
  },
  {
   "cell_type": "code",
   "execution_count": 6,
   "metadata": {},
   "outputs": [],
   "source": [
    "X = dataset.iloc[:, :-1].values\n",
    "y = dataset['target'].values"
   ]
  },
  {
   "cell_type": "code",
   "execution_count": 7,
   "metadata": {},
   "outputs": [
    {
     "output_type": "execute_result",
     "data": {
      "text/plain": "array([[1.423e+01, 1.710e+00, 2.430e+00, ..., 1.040e+00, 3.920e+00,\n        1.065e+03],\n       [1.320e+01, 1.780e+00, 2.140e+00, ..., 1.050e+00, 3.400e+00,\n        1.050e+03],\n       [1.316e+01, 2.360e+00, 2.670e+00, ..., 1.030e+00, 3.170e+00,\n        1.185e+03],\n       ...,\n       [1.327e+01, 4.280e+00, 2.260e+00, ..., 5.900e-01, 1.560e+00,\n        8.350e+02],\n       [1.317e+01, 2.590e+00, 2.370e+00, ..., 6.000e-01, 1.620e+00,\n        8.400e+02],\n       [1.413e+01, 4.100e+00, 2.740e+00, ..., 6.100e-01, 1.600e+00,\n        5.600e+02]])"
     },
     "metadata": {},
     "execution_count": 7
    }
   ],
   "source": [
    "X"
   ]
  },
  {
   "cell_type": "code",
   "execution_count": 8,
   "metadata": {},
   "outputs": [
    {
     "output_type": "execute_result",
     "data": {
      "text/plain": "array([0, 0, 0, 0, 0, 0, 0, 0, 0, 0, 0, 0, 0, 0, 0, 0, 0, 0, 0, 0, 0, 0,\n       0, 0, 0, 0, 0, 0, 0, 0, 0, 0, 0, 0, 0, 0, 0, 0, 0, 0, 0, 0, 0, 0,\n       0, 0, 0, 0, 0, 0, 0, 0, 0, 0, 0, 0, 0, 0, 0, 1, 1, 1, 1, 1, 1, 1,\n       1, 1, 1, 1, 1, 1, 1, 1, 1, 1, 1, 1, 1, 1, 1, 1, 1, 1, 1, 1, 1, 1,\n       1, 1, 1, 1, 1, 1, 1, 1, 1, 1, 1, 1, 1, 1, 1, 1, 1, 1, 1, 1, 1, 1,\n       1, 1, 1, 1, 1, 1, 1, 1, 1, 1, 1, 1, 1, 1, 1, 1, 1, 1, 1, 1, 2, 2,\n       2, 2, 2, 2, 2, 2, 2, 2, 2, 2, 2, 2, 2, 2, 2, 2, 2, 2, 2, 2, 2, 2,\n       2, 2, 2, 2, 2, 2, 2, 2, 2, 2, 2, 2, 2, 2, 2, 2, 2, 2, 2, 2, 2, 2,\n       2, 2])"
     },
     "metadata": {},
     "execution_count": 8
    }
   ],
   "source": [
    "y"
   ]
  },
  {
   "cell_type": "markdown",
   "metadata": {},
   "source": [
    "## Spliting the dataset into train and test set"
   ]
  },
  {
   "cell_type": "code",
   "execution_count": 9,
   "metadata": {},
   "outputs": [],
   "source": [
    "from sklearn.model_selection import train_test_split\n",
    "X_train, X_test, y_train, y_test = train_test_split(X, y, test_size=0.2, random_state=22)"
   ]
  },
  {
   "cell_type": "markdown",
   "metadata": {},
   "source": [
    "## Fitting the logistic regression model"
   ]
  },
  {
   "cell_type": "code",
   "execution_count": 10,
   "metadata": {},
   "outputs": [
    {
     "output_type": "execute_result",
     "data": {
      "text/plain": "LogisticRegression(C=1.0, class_weight=None, dual=False, fit_intercept=True,\n                   intercept_scaling=1, l1_ratio=None, max_iter=100,\n                   multi_class='warn', n_jobs=None, penalty='l2',\n                   random_state=None, solver='warn', tol=0.0001, verbose=0,\n                   warm_start=False)"
     },
     "metadata": {},
     "execution_count": 10
    }
   ],
   "source": [
    "from sklearn.linear_model import LogisticRegression\n",
    "model = LogisticRegression()\n",
    "model.fit(X_train, y_train)"
   ]
  },
  {
   "cell_type": "code",
   "execution_count": 12,
   "metadata": {},
   "outputs": [
    {
     "output_type": "execute_result",
     "data": {
      "text/plain": "array([1, 2, 2, 2, 0, 1, 0, 1, 1, 1, 1, 1, 0, 0, 1, 0, 0, 0, 2, 2, 1, 1,\n       2, 1, 1, 2, 1, 1, 2, 2, 1, 1, 1, 1, 0, 2])"
     },
     "metadata": {},
     "execution_count": 12
    }
   ],
   "source": [
    "y_pred = model.predict(X_test)\n",
    "y_pred"
   ]
  },
  {
   "cell_type": "code",
   "execution_count": 13,
   "metadata": {},
   "outputs": [
    {
     "output_type": "execute_result",
     "data": {
      "text/plain": "array([[ 8,  1,  0],\n       [ 0, 16,  0],\n       [ 0,  1, 10]])"
     },
     "metadata": {},
     "execution_count": 13
    }
   ],
   "source": [
    "from sklearn.metrics import confusion_matrix, accuracy_score\n",
    "cm = confusion_matrix(y_test, y_pred)\n",
    "cm"
   ]
  },
  {
   "cell_type": "code",
   "execution_count": 15,
   "metadata": {
    "tags": []
   },
   "outputs": [
    {
     "output_type": "stream",
     "name": "stdout",
     "text": "0.9444444444444444\n"
    }
   ],
   "source": [
    "print(accuracy_score(y_test, y_pred))"
   ]
  },
  {
   "cell_type": "code",
   "execution_count": 16,
   "metadata": {
    "tags": []
   },
   "outputs": [
    {
     "output_type": "stream",
     "name": "stdout",
     "text": "Accuracy: 0.97 \nStandard Deviation: 2.67 \n"
    }
   ],
   "source": [
    "from sklearn.model_selection import cross_val_score\n",
    "accuracies = cross_val_score(estimator=model, X=X_train, y=y_train, cv=5)\n",
    "print(\"Accuracy: {:.2f} \".format(accuracies.mean()))\n",
    "print(\"Standard Deviation: {:.2f} \".format(accuracies.std()*100))"
   ]
  },
  {
   "cell_type": "markdown",
   "metadata": {},
   "source": [
    "## Fitting the SVM Model"
   ]
  },
  {
   "cell_type": "code",
   "execution_count": 29,
   "metadata": {},
   "outputs": [
    {
     "output_type": "execute_result",
     "data": {
      "text/plain": "SVC(C=1.0, cache_size=200, class_weight=None, coef0=0.0,\n    decision_function_shape='ovr', degree=3, gamma='auto_deprecated',\n    kernel='linear', max_iter=-1, probability=False, random_state=None,\n    shrinking=True, tol=0.001, verbose=False)"
     },
     "metadata": {},
     "execution_count": 29
    }
   ],
   "source": [
    "from sklearn.svm import SVC\n",
    "svm = SVC(kernel='linear')\n",
    "svm.fit(X_train, y_train)"
   ]
  },
  {
   "cell_type": "code",
   "execution_count": 30,
   "metadata": {},
   "outputs": [],
   "source": [
    "y_pred = svm.predict(X_test)"
   ]
  },
  {
   "cell_type": "code",
   "execution_count": 31,
   "metadata": {},
   "outputs": [
    {
     "output_type": "execute_result",
     "data": {
      "text/plain": "array([[ 9,  0,  0],\n       [ 2, 14,  0],\n       [ 0,  1, 10]])"
     },
     "metadata": {},
     "execution_count": 31
    }
   ],
   "source": [
    "confusion_matrix(y_test, y_pred)"
   ]
  },
  {
   "cell_type": "code",
   "execution_count": 32,
   "metadata": {
    "tags": []
   },
   "outputs": [
    {
     "output_type": "stream",
     "name": "stdout",
     "text": "0.9166666666666666\n"
    }
   ],
   "source": [
    "print(accuracy_score(y_test, y_pred))"
   ]
  },
  {
   "cell_type": "code",
   "execution_count": 33,
   "metadata": {
    "tags": []
   },
   "outputs": [
    {
     "output_type": "stream",
     "name": "stdout",
     "text": "Accuracy: 0.96 \nStandard Deviation: 2.63 \n"
    }
   ],
   "source": [
    "accuracies = cross_val_score(estimator=svm, X=X_train, y=y_train, cv=5)\n",
    "print(\"Accuracy: {:.2f} \".format(accuracies.mean()))\n",
    "print(\"Standard Deviation: {:.2f} \".format(accuracies.std()*100))"
   ]
  },
  {
   "cell_type": "markdown",
   "metadata": {},
   "source": [
    "## Fitting the Naivebayes model"
   ]
  },
  {
   "cell_type": "code",
   "execution_count": 34,
   "metadata": {},
   "outputs": [
    {
     "output_type": "execute_result",
     "data": {
      "text/plain": "GaussianNB(priors=None, var_smoothing=1e-09)"
     },
     "metadata": {},
     "execution_count": 34
    }
   ],
   "source": [
    "from sklearn.naive_bayes import GaussianNB\n",
    "nb_model = GaussianNB()\n",
    "nb_model.fit(X_train, y_train)"
   ]
  },
  {
   "cell_type": "code",
   "execution_count": 35,
   "metadata": {},
   "outputs": [],
   "source": [
    "y_pred = nb_model.predict(X_test)"
   ]
  },
  {
   "cell_type": "code",
   "execution_count": 36,
   "metadata": {},
   "outputs": [
    {
     "output_type": "execute_result",
     "data": {
      "text/plain": "array([[ 8,  1,  0],\n       [ 0, 16,  0],\n       [ 0,  0, 11]])"
     },
     "metadata": {},
     "execution_count": 36
    }
   ],
   "source": [
    "confusion_matrix(y_test, y_pred)"
   ]
  },
  {
   "cell_type": "code",
   "execution_count": 37,
   "metadata": {
    "tags": []
   },
   "outputs": [
    {
     "output_type": "stream",
     "name": "stdout",
     "text": "0.9722222222222222\n"
    }
   ],
   "source": [
    "print(accuracy_score(y_test, y_pred))\n"
   ]
  },
  {
   "cell_type": "code",
   "execution_count": 38,
   "metadata": {
    "tags": []
   },
   "outputs": [
    {
     "output_type": "stream",
     "name": "stdout",
     "text": "Accuracy: 0.97 \nStandard Deviation: 1.41 \n"
    }
   ],
   "source": [
    "accuracies = cross_val_score(estimator=nb_model, X=X_train, y=y_train, cv=5)\n",
    "print(\"Accuracy: {:.2f} \".format(accuracies.mean()))\n",
    "print(\"Standard Deviation: {:.2f} \".format(accuracies.std()*100))"
   ]
  },
  {
   "cell_type": "markdown",
   "metadata": {},
   "source": [
    "## Fitting the DecisionTree Model"
   ]
  },
  {
   "cell_type": "code",
   "execution_count": 39,
   "metadata": {},
   "outputs": [
    {
     "output_type": "execute_result",
     "data": {
      "text/plain": "DecisionTreeClassifier(class_weight=None, criterion='gini', max_depth=None,\n                       max_features=None, max_leaf_nodes=None,\n                       min_impurity_decrease=0.0, min_impurity_split=None,\n                       min_samples_leaf=1, min_samples_split=2,\n                       min_weight_fraction_leaf=0.0, presort=False,\n                       random_state=None, splitter='best')"
     },
     "metadata": {},
     "execution_count": 39
    }
   ],
   "source": [
    "from sklearn.tree import DecisionTreeClassifier\n",
    "dt_model = DecisionTreeClassifier()\n",
    "dt_model.fit(X_train, y_train)"
   ]
  },
  {
   "cell_type": "code",
   "execution_count": 40,
   "metadata": {},
   "outputs": [],
   "source": [
    "y_pred = dt_model.predict(X_test)"
   ]
  },
  {
   "cell_type": "code",
   "execution_count": 41,
   "metadata": {},
   "outputs": [
    {
     "output_type": "execute_result",
     "data": {
      "text/plain": "array([[ 9,  0,  0],\n       [ 1, 14,  1],\n       [ 0,  1, 10]])"
     },
     "metadata": {},
     "execution_count": 41
    }
   ],
   "source": [
    "confusion_matrix(y_test, y_pred)"
   ]
  },
  {
   "cell_type": "code",
   "execution_count": 42,
   "metadata": {},
   "outputs": [
    {
     "output_type": "execute_result",
     "data": {
      "text/plain": "0.9166666666666666"
     },
     "metadata": {},
     "execution_count": 42
    }
   ],
   "source": [
    "accuracy_score(y_test, y_pred)"
   ]
  },
  {
   "cell_type": "code",
   "execution_count": 43,
   "metadata": {
    "tags": []
   },
   "outputs": [
    {
     "output_type": "stream",
     "name": "stdout",
     "text": "Accuracy: 0.86 \nStandard Deviation: 6.37 \n"
    }
   ],
   "source": [
    "accuracies = cross_val_score(estimator=dt_model, X=X_train, y=y_train, cv=5)\n",
    "print(\"Accuracy: {:.2f} \".format(accuracies.mean()))\n",
    "print(\"Standard Deviation: {:.2f} \".format(accuracies.std()*100))"
   ]
  },
  {
   "cell_type": "markdown",
   "metadata": {},
   "source": [
    "## Fitting the RandomForest Model"
   ]
  },
  {
   "cell_type": "code",
   "execution_count": 44,
   "metadata": {},
   "outputs": [
    {
     "output_type": "execute_result",
     "data": {
      "text/plain": "RandomForestClassifier(bootstrap=True, class_weight=None, criterion='gini',\n                       max_depth=None, max_features='auto', max_leaf_nodes=None,\n                       min_impurity_decrease=0.0, min_impurity_split=None,\n                       min_samples_leaf=1, min_samples_split=2,\n                       min_weight_fraction_leaf=0.0, n_estimators=50,\n                       n_jobs=None, oob_score=False, random_state=None,\n                       verbose=0, warm_start=False)"
     },
     "metadata": {},
     "execution_count": 44
    }
   ],
   "source": [
    "from sklearn.ensemble import RandomForestClassifier\n",
    "rf_model = RandomForestClassifier(n_estimators=50)\n",
    "rf_model.fit(X_train, y_train)"
   ]
  },
  {
   "cell_type": "code",
   "execution_count": 45,
   "metadata": {},
   "outputs": [],
   "source": [
    "y_pred = rf_model.predict(X_test)"
   ]
  },
  {
   "cell_type": "code",
   "execution_count": 46,
   "metadata": {},
   "outputs": [
    {
     "output_type": "execute_result",
     "data": {
      "text/plain": "array([[ 9,  0,  0],\n       [ 1, 15,  0],\n       [ 0,  0, 11]])"
     },
     "metadata": {},
     "execution_count": 46
    }
   ],
   "source": [
    "confusion_matrix(y_test, y_pred)"
   ]
  },
  {
   "cell_type": "code",
   "execution_count": 47,
   "metadata": {},
   "outputs": [
    {
     "output_type": "execute_result",
     "data": {
      "text/plain": "0.9722222222222222"
     },
     "metadata": {},
     "execution_count": 47
    }
   ],
   "source": [
    "accuracy_score(y_test, y_pred)"
   ]
  },
  {
   "cell_type": "code",
   "execution_count": 48,
   "metadata": {
    "tags": []
   },
   "outputs": [
    {
     "output_type": "stream",
     "name": "stdout",
     "text": "Accuracy: 0.97 \nStandard Deviation: 2.59 \n"
    }
   ],
   "source": [
    "accuracies = cross_val_score(estimator=rf_model, X=X_train, y=y_train, cv=5)\n",
    "print(\"Accuracy: {:.2f} \".format(accuracies.mean()))\n",
    "print(\"Standard Deviation: {:.2f} \".format(accuracies.std()*100))"
   ]
  },
  {
   "cell_type": "markdown",
   "metadata": {},
   "source": [
    "## Fitting the catboost model"
   ]
  },
  {
   "cell_type": "code",
   "execution_count": 49,
   "metadata": {
    "tags": [
     "outputPrepend"
    ]
   },
   "outputs": [
    {
     "output_type": "stream",
     "name": "stdout",
     "text": "97s\tremaining: 5.01s\n614:\tlearn: 0.0067725\ttotal: 7.98s\tremaining: 4.99s\n615:\tlearn: 0.0067519\ttotal: 7.99s\tremaining: 4.98s\n616:\tlearn: 0.0067424\ttotal: 8.01s\tremaining: 4.97s\n617:\tlearn: 0.0067345\ttotal: 8.04s\tremaining: 4.97s\n618:\tlearn: 0.0067223\ttotal: 8.05s\tremaining: 4.96s\n619:\tlearn: 0.0067123\ttotal: 8.06s\tremaining: 4.94s\n620:\tlearn: 0.0066990\ttotal: 8.08s\tremaining: 4.93s\n621:\tlearn: 0.0066851\ttotal: 8.09s\tremaining: 4.92s\n622:\tlearn: 0.0066731\ttotal: 8.12s\tremaining: 4.91s\n623:\tlearn: 0.0066634\ttotal: 8.12s\tremaining: 4.89s\n624:\tlearn: 0.0066508\ttotal: 8.14s\tremaining: 4.88s\n625:\tlearn: 0.0066354\ttotal: 8.15s\tremaining: 4.87s\n626:\tlearn: 0.0066236\ttotal: 8.16s\tremaining: 4.86s\n627:\tlearn: 0.0066112\ttotal: 8.18s\tremaining: 4.84s\n628:\tlearn: 0.0066013\ttotal: 8.19s\tremaining: 4.83s\n629:\tlearn: 0.0065889\ttotal: 8.2s\tremaining: 4.82s\n630:\tlearn: 0.0065816\ttotal: 8.22s\tremaining: 4.8s\n631:\tlearn: 0.0065674\ttotal: 8.23s\tremaining: 4.79s\n632:\tlearn: 0.0065574\ttotal: 8.24s\tremaining: 4.78s\n633:\tlearn: 0.0065448\ttotal: 8.25s\tremaining: 4.76s\n634:\tlearn: 0.0065309\ttotal: 8.26s\tremaining: 4.75s\n635:\tlearn: 0.0065214\ttotal: 8.27s\tremaining: 4.74s\n636:\tlearn: 0.0065089\ttotal: 8.29s\tremaining: 4.72s\n637:\tlearn: 0.0064983\ttotal: 8.29s\tremaining: 4.71s\n638:\tlearn: 0.0064834\ttotal: 8.3s\tremaining: 4.69s\n639:\tlearn: 0.0064700\ttotal: 8.31s\tremaining: 4.68s\n640:\tlearn: 0.0064603\ttotal: 8.32s\tremaining: 4.66s\n641:\tlearn: 0.0064500\ttotal: 8.33s\tremaining: 4.64s\n642:\tlearn: 0.0064373\ttotal: 8.34s\tremaining: 4.63s\n643:\tlearn: 0.0064255\ttotal: 8.35s\tremaining: 4.61s\n644:\tlearn: 0.0064153\ttotal: 8.35s\tremaining: 4.6s\n645:\tlearn: 0.0064072\ttotal: 8.37s\tremaining: 4.59s\n646:\tlearn: 0.0063943\ttotal: 8.38s\tremaining: 4.57s\n647:\tlearn: 0.0063834\ttotal: 8.39s\tremaining: 4.56s\n648:\tlearn: 0.0063748\ttotal: 8.4s\tremaining: 4.54s\n649:\tlearn: 0.0063661\ttotal: 8.41s\tremaining: 4.53s\n650:\tlearn: 0.0063575\ttotal: 8.41s\tremaining: 4.51s\n651:\tlearn: 0.0063510\ttotal: 8.43s\tremaining: 4.5s\n652:\tlearn: 0.0063406\ttotal: 8.43s\tremaining: 4.48s\n653:\tlearn: 0.0063267\ttotal: 8.45s\tremaining: 4.47s\n654:\tlearn: 0.0063159\ttotal: 8.47s\tremaining: 4.46s\n655:\tlearn: 0.0063025\ttotal: 8.48s\tremaining: 4.45s\n656:\tlearn: 0.0062894\ttotal: 8.49s\tremaining: 4.43s\n657:\tlearn: 0.0062753\ttotal: 8.5s\tremaining: 4.42s\n658:\tlearn: 0.0062638\ttotal: 8.51s\tremaining: 4.4s\n659:\tlearn: 0.0062532\ttotal: 8.52s\tremaining: 4.39s\n660:\tlearn: 0.0062409\ttotal: 8.53s\tremaining: 4.38s\n661:\tlearn: 0.0062272\ttotal: 8.54s\tremaining: 4.36s\n662:\tlearn: 0.0062157\ttotal: 8.55s\tremaining: 4.34s\n663:\tlearn: 0.0062052\ttotal: 8.56s\tremaining: 4.33s\n664:\tlearn: 0.0061871\ttotal: 8.57s\tremaining: 4.32s\n665:\tlearn: 0.0061773\ttotal: 8.59s\tremaining: 4.3s\n666:\tlearn: 0.0061675\ttotal: 8.59s\tremaining: 4.29s\n667:\tlearn: 0.0061570\ttotal: 8.61s\tremaining: 4.28s\n668:\tlearn: 0.0061509\ttotal: 8.63s\tremaining: 4.27s\n669:\tlearn: 0.0061416\ttotal: 8.65s\tremaining: 4.26s\n670:\tlearn: 0.0061321\ttotal: 8.66s\tremaining: 4.25s\n671:\tlearn: 0.0061186\ttotal: 8.68s\tremaining: 4.23s\n672:\tlearn: 0.0061091\ttotal: 8.69s\tremaining: 4.22s\n673:\tlearn: 0.0060992\ttotal: 8.7s\tremaining: 4.21s\n674:\tlearn: 0.0060897\ttotal: 8.73s\tremaining: 4.2s\n675:\tlearn: 0.0060773\ttotal: 8.74s\tremaining: 4.19s\n676:\tlearn: 0.0060681\ttotal: 8.79s\tremaining: 4.19s\n677:\tlearn: 0.0060596\ttotal: 8.81s\tremaining: 4.18s\n678:\tlearn: 0.0060491\ttotal: 8.82s\tremaining: 4.17s\n679:\tlearn: 0.0060404\ttotal: 8.83s\tremaining: 4.16s\n680:\tlearn: 0.0060317\ttotal: 8.85s\tremaining: 4.14s\n681:\tlearn: 0.0060206\ttotal: 8.86s\tremaining: 4.13s\n682:\tlearn: 0.0060108\ttotal: 8.87s\tremaining: 4.12s\n683:\tlearn: 0.0060016\ttotal: 8.88s\tremaining: 4.1s\n684:\tlearn: 0.0059878\ttotal: 8.89s\tremaining: 4.09s\n685:\tlearn: 0.0059802\ttotal: 8.9s\tremaining: 4.07s\n686:\tlearn: 0.0059716\ttotal: 8.91s\tremaining: 4.06s\n687:\tlearn: 0.0059618\ttotal: 8.92s\tremaining: 4.05s\n688:\tlearn: 0.0059550\ttotal: 8.93s\tremaining: 4.03s\n689:\tlearn: 0.0059492\ttotal: 8.95s\tremaining: 4.02s\n690:\tlearn: 0.0059419\ttotal: 8.96s\tremaining: 4.01s\n691:\tlearn: 0.0059306\ttotal: 8.99s\tremaining: 4s\n692:\tlearn: 0.0059232\ttotal: 8.99s\tremaining: 3.98s\n693:\tlearn: 0.0059141\ttotal: 9.01s\tremaining: 3.97s\n694:\tlearn: 0.0059036\ttotal: 9.04s\tremaining: 3.96s\n695:\tlearn: 0.0058973\ttotal: 9.05s\tremaining: 3.95s\n696:\tlearn: 0.0058902\ttotal: 9.06s\tremaining: 3.94s\n697:\tlearn: 0.0058828\ttotal: 9.08s\tremaining: 3.93s\n698:\tlearn: 0.0058752\ttotal: 9.09s\tremaining: 3.91s\n699:\tlearn: 0.0058669\ttotal: 9.1s\tremaining: 3.9s\n700:\tlearn: 0.0058570\ttotal: 9.11s\tremaining: 3.89s\n701:\tlearn: 0.0058499\ttotal: 9.13s\tremaining: 3.87s\n702:\tlearn: 0.0058387\ttotal: 9.14s\tremaining: 3.86s\n703:\tlearn: 0.0058281\ttotal: 9.15s\tremaining: 3.85s\n704:\tlearn: 0.0058188\ttotal: 9.16s\tremaining: 3.83s\n705:\tlearn: 0.0058126\ttotal: 9.17s\tremaining: 3.82s\n706:\tlearn: 0.0058059\ttotal: 9.18s\tremaining: 3.8s\n707:\tlearn: 0.0057967\ttotal: 9.19s\tremaining: 3.79s\n708:\tlearn: 0.0057907\ttotal: 9.2s\tremaining: 3.77s\n709:\tlearn: 0.0057820\ttotal: 9.2s\tremaining: 3.76s\n710:\tlearn: 0.0057735\ttotal: 9.22s\tremaining: 3.75s\n711:\tlearn: 0.0057641\ttotal: 9.23s\tremaining: 3.73s\n712:\tlearn: 0.0057563\ttotal: 9.24s\tremaining: 3.72s\n713:\tlearn: 0.0057440\ttotal: 9.25s\tremaining: 3.71s\n714:\tlearn: 0.0057376\ttotal: 9.26s\tremaining: 3.69s\n715:\tlearn: 0.0057261\ttotal: 9.29s\tremaining: 3.68s\n716:\tlearn: 0.0057126\ttotal: 9.3s\tremaining: 3.67s\n717:\tlearn: 0.0057055\ttotal: 9.32s\tremaining: 3.66s\n718:\tlearn: 0.0056988\ttotal: 9.34s\tremaining: 3.65s\n719:\tlearn: 0.0056915\ttotal: 9.35s\tremaining: 3.63s\n720:\tlearn: 0.0056825\ttotal: 9.36s\tremaining: 3.62s\n721:\tlearn: 0.0056726\ttotal: 9.37s\tremaining: 3.61s\n722:\tlearn: 0.0056633\ttotal: 9.38s\tremaining: 3.6s\n723:\tlearn: 0.0056520\ttotal: 9.4s\tremaining: 3.58s\n724:\tlearn: 0.0056445\ttotal: 9.41s\tremaining: 3.57s\n725:\tlearn: 0.0056380\ttotal: 9.42s\tremaining: 3.56s\n726:\tlearn: 0.0056311\ttotal: 9.44s\tremaining: 3.54s\n727:\tlearn: 0.0056194\ttotal: 9.44s\tremaining: 3.53s\n728:\tlearn: 0.0056095\ttotal: 9.46s\tremaining: 3.52s\n729:\tlearn: 0.0056020\ttotal: 9.46s\tremaining: 3.5s\n730:\tlearn: 0.0055906\ttotal: 9.47s\tremaining: 3.49s\n731:\tlearn: 0.0055825\ttotal: 9.5s\tremaining: 3.48s\n732:\tlearn: 0.0055754\ttotal: 9.51s\tremaining: 3.46s\n733:\tlearn: 0.0055675\ttotal: 9.52s\tremaining: 3.45s\n734:\tlearn: 0.0055570\ttotal: 9.53s\tremaining: 3.44s\n735:\tlearn: 0.0055473\ttotal: 9.54s\tremaining: 3.42s\n736:\tlearn: 0.0055394\ttotal: 9.55s\tremaining: 3.41s\n737:\tlearn: 0.0055326\ttotal: 9.56s\tremaining: 3.39s\n738:\tlearn: 0.0055267\ttotal: 9.57s\tremaining: 3.38s\n739:\tlearn: 0.0055184\ttotal: 9.58s\tremaining: 3.37s\n740:\tlearn: 0.0055108\ttotal: 9.59s\tremaining: 3.35s\n741:\tlearn: 0.0055034\ttotal: 9.6s\tremaining: 3.34s\n742:\tlearn: 0.0054962\ttotal: 9.61s\tremaining: 3.32s\n743:\tlearn: 0.0054892\ttotal: 9.62s\tremaining: 3.31s\n744:\tlearn: 0.0054804\ttotal: 9.64s\tremaining: 3.3s\n745:\tlearn: 0.0054714\ttotal: 9.64s\tremaining: 3.28s\n746:\tlearn: 0.0054630\ttotal: 9.66s\tremaining: 3.27s\n747:\tlearn: 0.0054567\ttotal: 9.67s\tremaining: 3.26s\n748:\tlearn: 0.0054455\ttotal: 9.68s\tremaining: 3.24s\n749:\tlearn: 0.0054360\ttotal: 9.69s\tremaining: 3.23s\n750:\tlearn: 0.0054273\ttotal: 9.71s\tremaining: 3.22s\n751:\tlearn: 0.0054187\ttotal: 9.71s\tremaining: 3.2s\n752:\tlearn: 0.0054108\ttotal: 9.73s\tremaining: 3.19s\n753:\tlearn: 0.0054029\ttotal: 9.73s\tremaining: 3.17s\n754:\tlearn: 0.0053941\ttotal: 9.74s\tremaining: 3.16s\n755:\tlearn: 0.0053868\ttotal: 9.76s\tremaining: 3.15s\n756:\tlearn: 0.0053801\ttotal: 9.78s\tremaining: 3.14s\n757:\tlearn: 0.0053726\ttotal: 9.79s\tremaining: 3.13s\n758:\tlearn: 0.0053658\ttotal: 9.81s\tremaining: 3.11s\n759:\tlearn: 0.0053550\ttotal: 9.82s\tremaining: 3.1s\n760:\tlearn: 0.0053477\ttotal: 9.82s\tremaining: 3.08s\n761:\tlearn: 0.0053378\ttotal: 9.83s\tremaining: 3.07s\n762:\tlearn: 0.0053306\ttotal: 9.84s\tremaining: 3.06s\n763:\tlearn: 0.0053219\ttotal: 9.86s\tremaining: 3.04s\n764:\tlearn: 0.0053169\ttotal: 9.89s\tremaining: 3.04s\n765:\tlearn: 0.0053099\ttotal: 9.9s\tremaining: 3.02s\n766:\tlearn: 0.0053019\ttotal: 9.9s\tremaining: 3.01s\n767:\tlearn: 0.0052959\ttotal: 9.92s\tremaining: 3s\n768:\tlearn: 0.0052888\ttotal: 9.92s\tremaining: 2.98s\n769:\tlearn: 0.0052815\ttotal: 9.94s\tremaining: 2.97s\n770:\tlearn: 0.0052731\ttotal: 9.94s\tremaining: 2.95s\n771:\tlearn: 0.0052656\ttotal: 9.95s\tremaining: 2.94s\n772:\tlearn: 0.0052588\ttotal: 9.96s\tremaining: 2.92s\n773:\tlearn: 0.0052502\ttotal: 9.97s\tremaining: 2.91s\n774:\tlearn: 0.0052425\ttotal: 9.98s\tremaining: 2.9s\n775:\tlearn: 0.0052353\ttotal: 9.99s\tremaining: 2.88s\n776:\tlearn: 0.0052273\ttotal: 10s\tremaining: 2.87s\n777:\tlearn: 0.0052204\ttotal: 10s\tremaining: 2.86s\n778:\tlearn: 0.0052123\ttotal: 10s\tremaining: 2.85s\n779:\tlearn: 0.0052052\ttotal: 10s\tremaining: 2.83s\n780:\tlearn: 0.0051978\ttotal: 10.1s\tremaining: 2.82s\n781:\tlearn: 0.0051926\ttotal: 10.1s\tremaining: 2.81s\n782:\tlearn: 0.0051868\ttotal: 10.1s\tremaining: 2.79s\n783:\tlearn: 0.0051760\ttotal: 10.1s\tremaining: 2.78s\n784:\tlearn: 0.0051711\ttotal: 10.1s\tremaining: 2.77s\n785:\tlearn: 0.0051657\ttotal: 10.1s\tremaining: 2.76s\n786:\tlearn: 0.0051587\ttotal: 10.1s\tremaining: 2.74s\n787:\tlearn: 0.0051516\ttotal: 10.2s\tremaining: 2.73s\n788:\tlearn: 0.0051448\ttotal: 10.2s\tremaining: 2.72s\n789:\tlearn: 0.0051371\ttotal: 10.2s\tremaining: 2.71s\n790:\tlearn: 0.0051312\ttotal: 10.2s\tremaining: 2.69s\n791:\tlearn: 0.0051218\ttotal: 10.2s\tremaining: 2.68s\n792:\tlearn: 0.0051159\ttotal: 10.2s\tremaining: 2.67s\n793:\tlearn: 0.0051101\ttotal: 10.2s\tremaining: 2.65s\n794:\tlearn: 0.0051010\ttotal: 10.2s\tremaining: 2.64s\n795:\tlearn: 0.0050950\ttotal: 10.2s\tremaining: 2.62s\n796:\tlearn: 0.0050875\ttotal: 10.3s\tremaining: 2.61s\n797:\tlearn: 0.0050794\ttotal: 10.3s\tremaining: 2.6s\n798:\tlearn: 0.0050732\ttotal: 10.3s\tremaining: 2.58s\n799:\tlearn: 0.0050686\ttotal: 10.3s\tremaining: 2.57s\n800:\tlearn: 0.0050622\ttotal: 10.3s\tremaining: 2.56s\n801:\tlearn: 0.0050556\ttotal: 10.3s\tremaining: 2.55s\n802:\tlearn: 0.0050479\ttotal: 10.3s\tremaining: 2.53s\n803:\tlearn: 0.0050397\ttotal: 10.3s\tremaining: 2.52s\n804:\tlearn: 0.0050327\ttotal: 10.4s\tremaining: 2.51s\n805:\tlearn: 0.0050242\ttotal: 10.4s\tremaining: 2.5s\n806:\tlearn: 0.0050190\ttotal: 10.4s\tremaining: 2.48s\n807:\tlearn: 0.0050129\ttotal: 10.4s\tremaining: 2.47s\n808:\tlearn: 0.0050048\ttotal: 10.4s\tremaining: 2.46s\n809:\tlearn: 0.0049982\ttotal: 10.4s\tremaining: 2.45s\n810:\tlearn: 0.0049923\ttotal: 10.5s\tremaining: 2.44s\n811:\tlearn: 0.0049859\ttotal: 10.5s\tremaining: 2.43s\n812:\tlearn: 0.0049769\ttotal: 10.5s\tremaining: 2.41s\n813:\tlearn: 0.0049701\ttotal: 10.5s\tremaining: 2.4s\n814:\tlearn: 0.0049635\ttotal: 10.5s\tremaining: 2.38s\n815:\tlearn: 0.0049580\ttotal: 10.5s\tremaining: 2.37s\n816:\tlearn: 0.0049521\ttotal: 10.5s\tremaining: 2.36s\n817:\tlearn: 0.0049473\ttotal: 10.5s\tremaining: 2.35s\n818:\tlearn: 0.0049404\ttotal: 10.6s\tremaining: 2.33s\n819:\tlearn: 0.0049343\ttotal: 10.6s\tremaining: 2.32s\n820:\tlearn: 0.0049293\ttotal: 10.6s\tremaining: 2.31s\n821:\tlearn: 0.0049234\ttotal: 10.6s\tremaining: 2.29s\n822:\tlearn: 0.0049159\ttotal: 10.6s\tremaining: 2.28s\n823:\tlearn: 0.0049107\ttotal: 10.6s\tremaining: 2.27s\n824:\tlearn: 0.0049029\ttotal: 10.6s\tremaining: 2.25s\n825:\tlearn: 0.0048974\ttotal: 10.6s\tremaining: 2.24s\n826:\tlearn: 0.0048927\ttotal: 10.6s\tremaining: 2.23s\n827:\tlearn: 0.0048873\ttotal: 10.7s\tremaining: 2.21s\n828:\tlearn: 0.0048812\ttotal: 10.7s\tremaining: 2.2s\n829:\tlearn: 0.0048762\ttotal: 10.7s\tremaining: 2.19s\n830:\tlearn: 0.0048697\ttotal: 10.7s\tremaining: 2.17s\n831:\tlearn: 0.0048641\ttotal: 10.7s\tremaining: 2.16s\n832:\tlearn: 0.0048571\ttotal: 10.7s\tremaining: 2.15s\n833:\tlearn: 0.0048510\ttotal: 10.7s\tremaining: 2.13s\n834:\tlearn: 0.0048469\ttotal: 10.7s\tremaining: 2.12s\n835:\tlearn: 0.0048421\ttotal: 10.7s\tremaining: 2.11s\n836:\tlearn: 0.0048362\ttotal: 10.8s\tremaining: 2.09s\n837:\tlearn: 0.0048290\ttotal: 10.8s\tremaining: 2.08s\n838:\tlearn: 0.0048201\ttotal: 10.8s\tremaining: 2.07s\n839:\tlearn: 0.0048109\ttotal: 10.8s\tremaining: 2.05s\n840:\tlearn: 0.0048062\ttotal: 10.8s\tremaining: 2.04s\n841:\tlearn: 0.0048002\ttotal: 10.8s\tremaining: 2.03s\n842:\tlearn: 0.0047953\ttotal: 10.8s\tremaining: 2.02s\n843:\tlearn: 0.0047902\ttotal: 10.9s\tremaining: 2.01s\n844:\tlearn: 0.0047811\ttotal: 10.9s\tremaining: 1.99s\n845:\tlearn: 0.0047753\ttotal: 10.9s\tremaining: 1.98s\n846:\tlearn: 0.0047713\ttotal: 10.9s\tremaining: 1.97s\n847:\tlearn: 0.0047638\ttotal: 10.9s\tremaining: 1.95s\n848:\tlearn: 0.0047576\ttotal: 10.9s\tremaining: 1.94s\n849:\tlearn: 0.0047516\ttotal: 10.9s\tremaining: 1.93s\n850:\tlearn: 0.0047455\ttotal: 10.9s\tremaining: 1.91s\n851:\tlearn: 0.0047408\ttotal: 10.9s\tremaining: 1.9s\n852:\tlearn: 0.0047338\ttotal: 10.9s\tremaining: 1.89s\n853:\tlearn: 0.0047282\ttotal: 11s\tremaining: 1.87s\n854:\tlearn: 0.0047236\ttotal: 11s\tremaining: 1.86s\n855:\tlearn: 0.0047169\ttotal: 11s\tremaining: 1.85s\n856:\tlearn: 0.0047111\ttotal: 11s\tremaining: 1.83s\n857:\tlearn: 0.0047067\ttotal: 11s\tremaining: 1.82s\n858:\tlearn: 0.0047006\ttotal: 11s\tremaining: 1.81s\n859:\tlearn: 0.0046955\ttotal: 11s\tremaining: 1.79s\n860:\tlearn: 0.0046886\ttotal: 11s\tremaining: 1.78s\n861:\tlearn: 0.0046834\ttotal: 11s\tremaining: 1.77s\n862:\tlearn: 0.0046776\ttotal: 11.1s\tremaining: 1.75s\n863:\tlearn: 0.0046693\ttotal: 11.1s\tremaining: 1.74s\n864:\tlearn: 0.0046618\ttotal: 11.1s\tremaining: 1.73s\n865:\tlearn: 0.0046566\ttotal: 11.1s\tremaining: 1.71s\n866:\tlearn: 0.0046501\ttotal: 11.1s\tremaining: 1.7s\n867:\tlearn: 0.0046460\ttotal: 11.1s\tremaining: 1.69s\n868:\tlearn: 0.0046405\ttotal: 11.1s\tremaining: 1.67s\n869:\tlearn: 0.0046345\ttotal: 11.1s\tremaining: 1.66s\n870:\tlearn: 0.0046296\ttotal: 11.1s\tremaining: 1.65s\n871:\tlearn: 0.0046252\ttotal: 11.2s\tremaining: 1.64s\n872:\tlearn: 0.0046169\ttotal: 11.2s\tremaining: 1.63s\n873:\tlearn: 0.0046111\ttotal: 11.2s\tremaining: 1.61s\n874:\tlearn: 0.0046067\ttotal: 11.2s\tremaining: 1.6s\n875:\tlearn: 0.0046012\ttotal: 11.2s\tremaining: 1.59s\n876:\tlearn: 0.0045963\ttotal: 11.3s\tremaining: 1.58s\n877:\tlearn: 0.0045896\ttotal: 11.3s\tremaining: 1.56s\n878:\tlearn: 0.0045846\ttotal: 11.3s\tremaining: 1.55s\n879:\tlearn: 0.0045781\ttotal: 11.3s\tremaining: 1.54s\n880:\tlearn: 0.0045729\ttotal: 11.3s\tremaining: 1.52s\n881:\tlearn: 0.0045683\ttotal: 11.3s\tremaining: 1.51s\n882:\tlearn: 0.0045631\ttotal: 11.3s\tremaining: 1.5s\n883:\tlearn: 0.0045556\ttotal: 11.3s\tremaining: 1.49s\n884:\tlearn: 0.0045503\ttotal: 11.3s\tremaining: 1.47s\n885:\tlearn: 0.0045456\ttotal: 11.3s\tremaining: 1.46s\n886:\tlearn: 0.0045396\ttotal: 11.4s\tremaining: 1.45s\n887:\tlearn: 0.0045347\ttotal: 11.4s\tremaining: 1.43s\n888:\tlearn: 0.0045298\ttotal: 11.4s\tremaining: 1.42s\n889:\tlearn: 0.0045225\ttotal: 11.4s\tremaining: 1.41s\n890:\tlearn: 0.0045175\ttotal: 11.4s\tremaining: 1.4s\n891:\tlearn: 0.0045110\ttotal: 11.4s\tremaining: 1.38s\n892:\tlearn: 0.0045068\ttotal: 11.4s\tremaining: 1.37s\n893:\tlearn: 0.0045009\ttotal: 11.4s\tremaining: 1.35s\n894:\tlearn: 0.0044951\ttotal: 11.4s\tremaining: 1.34s\n895:\tlearn: 0.0044914\ttotal: 11.4s\tremaining: 1.33s\n896:\tlearn: 0.0044843\ttotal: 11.5s\tremaining: 1.31s\n897:\tlearn: 0.0044777\ttotal: 11.5s\tremaining: 1.3s\n898:\tlearn: 0.0044712\ttotal: 11.5s\tremaining: 1.29s\n899:\tlearn: 0.0044659\ttotal: 11.5s\tremaining: 1.27s\n900:\tlearn: 0.0044598\ttotal: 11.5s\tremaining: 1.26s\n901:\tlearn: 0.0044535\ttotal: 11.5s\tremaining: 1.25s\n902:\tlearn: 0.0044498\ttotal: 11.5s\tremaining: 1.24s\n903:\tlearn: 0.0044430\ttotal: 11.5s\tremaining: 1.22s\n904:\tlearn: 0.0044378\ttotal: 11.5s\tremaining: 1.21s\n905:\tlearn: 0.0044328\ttotal: 11.5s\tremaining: 1.2s\n906:\tlearn: 0.0044264\ttotal: 11.6s\tremaining: 1.19s\n907:\tlearn: 0.0044204\ttotal: 11.6s\tremaining: 1.17s\n908:\tlearn: 0.0044147\ttotal: 11.6s\tremaining: 1.16s\n909:\tlearn: 0.0044087\ttotal: 11.6s\tremaining: 1.15s\n910:\tlearn: 0.0044010\ttotal: 11.6s\tremaining: 1.13s\n911:\tlearn: 0.0043974\ttotal: 11.6s\tremaining: 1.12s\n912:\tlearn: 0.0043921\ttotal: 11.6s\tremaining: 1.11s\n913:\tlearn: 0.0043873\ttotal: 11.6s\tremaining: 1.09s\n914:\tlearn: 0.0043817\ttotal: 11.6s\tremaining: 1.08s\n915:\tlearn: 0.0043737\ttotal: 11.6s\tremaining: 1.07s\n916:\tlearn: 0.0043702\ttotal: 11.7s\tremaining: 1.05s\n917:\tlearn: 0.0043654\ttotal: 11.7s\tremaining: 1.04s\n918:\tlearn: 0.0043608\ttotal: 11.7s\tremaining: 1.03s\n919:\tlearn: 0.0043545\ttotal: 11.7s\tremaining: 1.02s\n920:\tlearn: 0.0043495\ttotal: 11.7s\tremaining: 1s\n921:\tlearn: 0.0043446\ttotal: 11.7s\tremaining: 991ms\n922:\tlearn: 0.0043384\ttotal: 11.7s\tremaining: 977ms\n923:\tlearn: 0.0043335\ttotal: 11.7s\tremaining: 964ms\n924:\tlearn: 0.0043289\ttotal: 11.7s\tremaining: 951ms\n925:\tlearn: 0.0043241\ttotal: 11.7s\tremaining: 938ms\n926:\tlearn: 0.0043186\ttotal: 11.7s\tremaining: 925ms\n927:\tlearn: 0.0043126\ttotal: 11.8s\tremaining: 912ms\n928:\tlearn: 0.0043075\ttotal: 11.8s\tremaining: 899ms\n929:\tlearn: 0.0043021\ttotal: 11.8s\tremaining: 886ms\n930:\tlearn: 0.0042981\ttotal: 11.8s\tremaining: 873ms\n931:\tlearn: 0.0042936\ttotal: 11.8s\tremaining: 860ms\n932:\tlearn: 0.0042880\ttotal: 11.8s\tremaining: 847ms\n933:\tlearn: 0.0042838\ttotal: 11.8s\tremaining: 834ms\n934:\tlearn: 0.0042776\ttotal: 11.8s\tremaining: 821ms\n935:\tlearn: 0.0042711\ttotal: 11.9s\tremaining: 810ms\n936:\tlearn: 0.0042670\ttotal: 11.9s\tremaining: 798ms\n937:\tlearn: 0.0042621\ttotal: 11.9s\tremaining: 785ms\n938:\tlearn: 0.0042572\ttotal: 11.9s\tremaining: 772ms\n939:\tlearn: 0.0042528\ttotal: 11.9s\tremaining: 759ms\n940:\tlearn: 0.0042475\ttotal: 11.9s\tremaining: 746ms\n941:\tlearn: 0.0042417\ttotal: 11.9s\tremaining: 734ms\n942:\tlearn: 0.0042385\ttotal: 11.9s\tremaining: 722ms\n943:\tlearn: 0.0042342\ttotal: 12s\tremaining: 709ms\n944:\tlearn: 0.0042269\ttotal: 12s\tremaining: 696ms\n945:\tlearn: 0.0042226\ttotal: 12s\tremaining: 683ms\n946:\tlearn: 0.0042167\ttotal: 12s\tremaining: 670ms\n947:\tlearn: 0.0042106\ttotal: 12s\tremaining: 657ms\n948:\tlearn: 0.0042060\ttotal: 12s\tremaining: 644ms\n949:\tlearn: 0.0042025\ttotal: 12s\tremaining: 631ms\n950:\tlearn: 0.0041987\ttotal: 12s\tremaining: 619ms\n951:\tlearn: 0.0041950\ttotal: 12s\tremaining: 606ms\n952:\tlearn: 0.0041906\ttotal: 12s\tremaining: 593ms\n953:\tlearn: 0.0041856\ttotal: 12s\tremaining: 581ms\n954:\tlearn: 0.0041817\ttotal: 12.1s\tremaining: 568ms\n955:\tlearn: 0.0041768\ttotal: 12.1s\tremaining: 555ms\n956:\tlearn: 0.0041717\ttotal: 12.1s\tremaining: 542ms\n957:\tlearn: 0.0041652\ttotal: 12.1s\tremaining: 530ms\n958:\tlearn: 0.0041606\ttotal: 12.1s\tremaining: 517ms\n959:\tlearn: 0.0041565\ttotal: 12.1s\tremaining: 504ms\n960:\tlearn: 0.0041536\ttotal: 12.1s\tremaining: 491ms\n961:\tlearn: 0.0041493\ttotal: 12.1s\tremaining: 478ms\n962:\tlearn: 0.0041433\ttotal: 12.1s\tremaining: 466ms\n963:\tlearn: 0.0041385\ttotal: 12.1s\tremaining: 453ms\n964:\tlearn: 0.0041341\ttotal: 12.2s\tremaining: 441ms\n965:\tlearn: 0.0041282\ttotal: 12.2s\tremaining: 429ms\n966:\tlearn: 0.0041229\ttotal: 12.2s\tremaining: 416ms\n967:\tlearn: 0.0041175\ttotal: 12.2s\tremaining: 404ms\n968:\tlearn: 0.0041137\ttotal: 12.2s\tremaining: 391ms\n969:\tlearn: 0.0041084\ttotal: 12.2s\tremaining: 379ms\n970:\tlearn: 0.0041045\ttotal: 12.3s\tremaining: 366ms\n971:\tlearn: 0.0040983\ttotal: 12.3s\tremaining: 353ms\n972:\tlearn: 0.0040923\ttotal: 12.3s\tremaining: 341ms\n973:\tlearn: 0.0040873\ttotal: 12.3s\tremaining: 328ms\n974:\tlearn: 0.0040828\ttotal: 12.3s\tremaining: 316ms\n975:\tlearn: 0.0040768\ttotal: 12.3s\tremaining: 303ms\n976:\tlearn: 0.0040725\ttotal: 12.3s\tremaining: 291ms\n977:\tlearn: 0.0040677\ttotal: 12.4s\tremaining: 278ms\n978:\tlearn: 0.0040626\ttotal: 12.4s\tremaining: 265ms\n979:\tlearn: 0.0040582\ttotal: 12.4s\tremaining: 253ms\n980:\tlearn: 0.0040539\ttotal: 12.4s\tremaining: 240ms\n981:\tlearn: 0.0040504\ttotal: 12.4s\tremaining: 227ms\n982:\tlearn: 0.0040465\ttotal: 12.4s\tremaining: 215ms\n983:\tlearn: 0.0040420\ttotal: 12.4s\tremaining: 202ms\n984:\tlearn: 0.0040387\ttotal: 12.4s\tremaining: 189ms\n985:\tlearn: 0.0040337\ttotal: 12.4s\tremaining: 177ms\n986:\tlearn: 0.0040303\ttotal: 12.5s\tremaining: 164ms\n987:\tlearn: 0.0040265\ttotal: 12.5s\tremaining: 151ms\n988:\tlearn: 0.0040206\ttotal: 12.5s\tremaining: 139ms\n989:\tlearn: 0.0040175\ttotal: 12.5s\tremaining: 126ms\n990:\tlearn: 0.0040135\ttotal: 12.5s\tremaining: 113ms\n991:\tlearn: 0.0040093\ttotal: 12.5s\tremaining: 101ms\n992:\tlearn: 0.0040038\ttotal: 12.5s\tremaining: 88.2ms\n993:\tlearn: 0.0039993\ttotal: 12.5s\tremaining: 75.5ms\n994:\tlearn: 0.0039954\ttotal: 12.5s\tremaining: 62.9ms\n995:\tlearn: 0.0039913\ttotal: 12.5s\tremaining: 50.3ms\n996:\tlearn: 0.0039857\ttotal: 12.5s\tremaining: 37.8ms\n997:\tlearn: 0.0039821\ttotal: 12.6s\tremaining: 25.2ms\n998:\tlearn: 0.0039773\ttotal: 12.6s\tremaining: 12.6ms\n999:\tlearn: 0.0039699\ttotal: 12.6s\tremaining: 0us\n"
    },
    {
     "output_type": "execute_result",
     "data": {
      "text/plain": "<catboost.core.CatBoostClassifier at 0x7f91d504eed0>"
     },
     "metadata": {},
     "execution_count": 49
    }
   ],
   "source": [
    "from catboost import CatBoostClassifier\n",
    "cat_model = CatBoostClassifier()\n",
    "cat_model.fit(X_train, y_train)"
   ]
  },
  {
   "cell_type": "code",
   "execution_count": 50,
   "metadata": {},
   "outputs": [],
   "source": [
    "y_pred = cat_model.predict(X_test)"
   ]
  },
  {
   "cell_type": "code",
   "execution_count": 51,
   "metadata": {},
   "outputs": [
    {
     "output_type": "execute_result",
     "data": {
      "text/plain": "array([[ 9,  0,  0],\n       [ 1, 15,  0],\n       [ 0,  0, 11]])"
     },
     "metadata": {},
     "execution_count": 51
    }
   ],
   "source": [
    "confusion_matrix(y_test, y_pred)"
   ]
  },
  {
   "cell_type": "code",
   "execution_count": 52,
   "metadata": {},
   "outputs": [
    {
     "output_type": "execute_result",
     "data": {
      "text/plain": "0.9722222222222222"
     },
     "metadata": {},
     "execution_count": 52
    }
   ],
   "source": [
    "accuracy_score(y_test, y_pred)"
   ]
  },
  {
   "cell_type": "code",
   "execution_count": 53,
   "metadata": {
    "tags": [
     "outputPrepend"
    ]
   },
   "outputs": [
    {
     "output_type": "stream",
     "name": "stdout",
     "text": "emaining: 3.95s\n615:\tlearn: 0.0082250\ttotal: 6.32s\tremaining: 3.94s\n616:\tlearn: 0.0082095\ttotal: 6.32s\tremaining: 3.92s\n617:\tlearn: 0.0081951\ttotal: 6.33s\tremaining: 3.91s\n618:\tlearn: 0.0081793\ttotal: 6.34s\tremaining: 3.9s\n619:\tlearn: 0.0081696\ttotal: 6.35s\tremaining: 3.89s\n620:\tlearn: 0.0081550\ttotal: 6.35s\tremaining: 3.88s\n621:\tlearn: 0.0081357\ttotal: 6.36s\tremaining: 3.87s\n622:\tlearn: 0.0081210\ttotal: 6.38s\tremaining: 3.86s\n623:\tlearn: 0.0081069\ttotal: 6.38s\tremaining: 3.85s\n624:\tlearn: 0.0080959\ttotal: 6.39s\tremaining: 3.84s\n625:\tlearn: 0.0080802\ttotal: 6.4s\tremaining: 3.82s\n626:\tlearn: 0.0080634\ttotal: 6.41s\tremaining: 3.81s\n627:\tlearn: 0.0080503\ttotal: 6.42s\tremaining: 3.8s\n628:\tlearn: 0.0080353\ttotal: 6.42s\tremaining: 3.79s\n629:\tlearn: 0.0080202\ttotal: 6.43s\tremaining: 3.78s\n630:\tlearn: 0.0080091\ttotal: 6.44s\tremaining: 3.77s\n631:\tlearn: 0.0079978\ttotal: 6.45s\tremaining: 3.75s\n632:\tlearn: 0.0079828\ttotal: 6.46s\tremaining: 3.74s\n633:\tlearn: 0.0079643\ttotal: 6.46s\tremaining: 3.73s\n634:\tlearn: 0.0079546\ttotal: 6.47s\tremaining: 3.72s\n635:\tlearn: 0.0079389\ttotal: 6.48s\tremaining: 3.71s\n636:\tlearn: 0.0079218\ttotal: 6.49s\tremaining: 3.7s\n637:\tlearn: 0.0079067\ttotal: 6.49s\tremaining: 3.68s\n638:\tlearn: 0.0078919\ttotal: 6.5s\tremaining: 3.67s\n639:\tlearn: 0.0078806\ttotal: 6.52s\tremaining: 3.67s\n640:\tlearn: 0.0078665\ttotal: 6.53s\tremaining: 3.65s\n641:\tlearn: 0.0078548\ttotal: 6.54s\tremaining: 3.65s\n642:\tlearn: 0.0078395\ttotal: 6.55s\tremaining: 3.64s\n643:\tlearn: 0.0078211\ttotal: 6.57s\tremaining: 3.63s\n644:\tlearn: 0.0078050\ttotal: 6.59s\tremaining: 3.62s\n645:\tlearn: 0.0077926\ttotal: 6.6s\tremaining: 3.62s\n646:\tlearn: 0.0077810\ttotal: 6.63s\tremaining: 3.62s\n647:\tlearn: 0.0077696\ttotal: 6.64s\tremaining: 3.61s\n648:\tlearn: 0.0077568\ttotal: 6.65s\tremaining: 3.6s\n649:\tlearn: 0.0077437\ttotal: 6.67s\tremaining: 3.59s\n650:\tlearn: 0.0077328\ttotal: 6.67s\tremaining: 3.58s\n651:\tlearn: 0.0077215\ttotal: 6.71s\tremaining: 3.58s\n652:\tlearn: 0.0077014\ttotal: 6.74s\tremaining: 3.58s\n653:\tlearn: 0.0076870\ttotal: 6.77s\tremaining: 3.58s\n654:\tlearn: 0.0076765\ttotal: 6.79s\tremaining: 3.58s\n655:\tlearn: 0.0076607\ttotal: 6.81s\tremaining: 3.57s\n656:\tlearn: 0.0076479\ttotal: 6.82s\tremaining: 3.56s\n657:\tlearn: 0.0076374\ttotal: 6.83s\tremaining: 3.55s\n658:\tlearn: 0.0076243\ttotal: 6.84s\tremaining: 3.54s\n659:\tlearn: 0.0076081\ttotal: 6.85s\tremaining: 3.53s\n660:\tlearn: 0.0075965\ttotal: 6.87s\tremaining: 3.52s\n661:\tlearn: 0.0075824\ttotal: 6.88s\tremaining: 3.51s\n662:\tlearn: 0.0075719\ttotal: 6.88s\tremaining: 3.5s\n663:\tlearn: 0.0075601\ttotal: 6.89s\tremaining: 3.49s\n664:\tlearn: 0.0075438\ttotal: 6.9s\tremaining: 3.47s\n665:\tlearn: 0.0075313\ttotal: 6.91s\tremaining: 3.46s\n666:\tlearn: 0.0075189\ttotal: 6.91s\tremaining: 3.45s\n667:\tlearn: 0.0075061\ttotal: 6.92s\tremaining: 3.44s\n668:\tlearn: 0.0074929\ttotal: 6.94s\tremaining: 3.43s\n669:\tlearn: 0.0074821\ttotal: 6.95s\tremaining: 3.42s\n670:\tlearn: 0.0074700\ttotal: 6.96s\tremaining: 3.41s\n671:\tlearn: 0.0074541\ttotal: 6.97s\tremaining: 3.4s\n672:\tlearn: 0.0074434\ttotal: 6.98s\tremaining: 3.39s\n673:\tlearn: 0.0074301\ttotal: 6.99s\tremaining: 3.38s\n674:\tlearn: 0.0074189\ttotal: 6.99s\tremaining: 3.37s\n675:\tlearn: 0.0074081\ttotal: 7s\tremaining: 3.36s\n676:\tlearn: 0.0073972\ttotal: 7.01s\tremaining: 3.34s\n677:\tlearn: 0.0073859\ttotal: 7.02s\tremaining: 3.33s\n678:\tlearn: 0.0073750\ttotal: 7.02s\tremaining: 3.32s\n679:\tlearn: 0.0073589\ttotal: 7.03s\tremaining: 3.31s\n680:\tlearn: 0.0073491\ttotal: 7.04s\tremaining: 3.3s\n681:\tlearn: 0.0073375\ttotal: 7.05s\tremaining: 3.29s\n682:\tlearn: 0.0073245\ttotal: 7.05s\tremaining: 3.27s\n683:\tlearn: 0.0073125\ttotal: 7.07s\tremaining: 3.26s\n684:\tlearn: 0.0072977\ttotal: 7.07s\tremaining: 3.25s\n685:\tlearn: 0.0072871\ttotal: 7.08s\tremaining: 3.24s\n686:\tlearn: 0.0072730\ttotal: 7.09s\tremaining: 3.23s\n687:\tlearn: 0.0072633\ttotal: 7.11s\tremaining: 3.22s\n688:\tlearn: 0.0072546\ttotal: 7.12s\tremaining: 3.21s\n689:\tlearn: 0.0072444\ttotal: 7.13s\tremaining: 3.2s\n690:\tlearn: 0.0072329\ttotal: 7.14s\tremaining: 3.19s\n691:\tlearn: 0.0072209\ttotal: 7.14s\tremaining: 3.18s\n692:\tlearn: 0.0072088\ttotal: 7.15s\tremaining: 3.17s\n693:\tlearn: 0.0071995\ttotal: 7.16s\tremaining: 3.16s\n694:\tlearn: 0.0071859\ttotal: 7.17s\tremaining: 3.15s\n695:\tlearn: 0.0071767\ttotal: 7.18s\tremaining: 3.13s\n696:\tlearn: 0.0071637\ttotal: 7.19s\tremaining: 3.12s\n697:\tlearn: 0.0071490\ttotal: 7.19s\tremaining: 3.11s\n698:\tlearn: 0.0071405\ttotal: 7.2s\tremaining: 3.1s\n699:\tlearn: 0.0071285\ttotal: 7.21s\tremaining: 3.09s\n700:\tlearn: 0.0071191\ttotal: 7.22s\tremaining: 3.08s\n701:\tlearn: 0.0071088\ttotal: 7.23s\tremaining: 3.07s\n702:\tlearn: 0.0070950\ttotal: 7.24s\tremaining: 3.06s\n703:\tlearn: 0.0070843\ttotal: 7.25s\tremaining: 3.05s\n704:\tlearn: 0.0070758\ttotal: 7.26s\tremaining: 3.04s\n705:\tlearn: 0.0070660\ttotal: 7.27s\tremaining: 3.03s\n706:\tlearn: 0.0070581\ttotal: 7.28s\tremaining: 3.02s\n707:\tlearn: 0.0070458\ttotal: 7.29s\tremaining: 3.01s\n708:\tlearn: 0.0070357\ttotal: 7.3s\tremaining: 3s\n709:\tlearn: 0.0070232\ttotal: 7.32s\tremaining: 2.99s\n710:\tlearn: 0.0070125\ttotal: 7.33s\tremaining: 2.98s\n711:\tlearn: 0.0070035\ttotal: 7.34s\tremaining: 2.97s\n712:\tlearn: 0.0069923\ttotal: 7.35s\tremaining: 2.96s\n713:\tlearn: 0.0069786\ttotal: 7.35s\tremaining: 2.94s\n714:\tlearn: 0.0069690\ttotal: 7.36s\tremaining: 2.93s\n715:\tlearn: 0.0069596\ttotal: 7.37s\tremaining: 2.92s\n716:\tlearn: 0.0069450\ttotal: 7.38s\tremaining: 2.91s\n717:\tlearn: 0.0069320\ttotal: 7.38s\tremaining: 2.9s\n718:\tlearn: 0.0069232\ttotal: 7.41s\tremaining: 2.89s\n719:\tlearn: 0.0069163\ttotal: 7.41s\tremaining: 2.88s\n720:\tlearn: 0.0069051\ttotal: 7.43s\tremaining: 2.87s\n721:\tlearn: 0.0068958\ttotal: 7.44s\tremaining: 2.87s\n722:\tlearn: 0.0068837\ttotal: 7.45s\tremaining: 2.85s\n723:\tlearn: 0.0068728\ttotal: 7.46s\tremaining: 2.84s\n724:\tlearn: 0.0068637\ttotal: 7.47s\tremaining: 2.83s\n725:\tlearn: 0.0068531\ttotal: 7.49s\tremaining: 2.83s\n726:\tlearn: 0.0068450\ttotal: 7.5s\tremaining: 2.82s\n727:\tlearn: 0.0068364\ttotal: 7.52s\tremaining: 2.81s\n728:\tlearn: 0.0068246\ttotal: 7.54s\tremaining: 2.8s\n729:\tlearn: 0.0068124\ttotal: 7.57s\tremaining: 2.8s\n730:\tlearn: 0.0068024\ttotal: 7.58s\tremaining: 2.79s\n731:\tlearn: 0.0067942\ttotal: 7.59s\tremaining: 2.78s\n732:\tlearn: 0.0067849\ttotal: 7.6s\tremaining: 2.77s\n733:\tlearn: 0.0067733\ttotal: 7.62s\tremaining: 2.76s\n734:\tlearn: 0.0067621\ttotal: 7.63s\tremaining: 2.75s\n735:\tlearn: 0.0067533\ttotal: 7.64s\tremaining: 2.74s\n736:\tlearn: 0.0067429\ttotal: 7.66s\tremaining: 2.73s\n737:\tlearn: 0.0067334\ttotal: 7.66s\tremaining: 2.72s\n738:\tlearn: 0.0067220\ttotal: 7.68s\tremaining: 2.71s\n739:\tlearn: 0.0067133\ttotal: 7.7s\tremaining: 2.71s\n740:\tlearn: 0.0067036\ttotal: 7.71s\tremaining: 2.69s\n741:\tlearn: 0.0066943\ttotal: 7.72s\tremaining: 2.68s\n742:\tlearn: 0.0066838\ttotal: 7.72s\tremaining: 2.67s\n743:\tlearn: 0.0066758\ttotal: 7.74s\tremaining: 2.66s\n744:\tlearn: 0.0066628\ttotal: 7.75s\tremaining: 2.65s\n745:\tlearn: 0.0066504\ttotal: 7.76s\tremaining: 2.64s\n746:\tlearn: 0.0066363\ttotal: 7.77s\tremaining: 2.63s\n747:\tlearn: 0.0066290\ttotal: 7.78s\tremaining: 2.62s\n748:\tlearn: 0.0066182\ttotal: 7.79s\tremaining: 2.61s\n749:\tlearn: 0.0066113\ttotal: 7.8s\tremaining: 2.6s\n750:\tlearn: 0.0066016\ttotal: 7.81s\tremaining: 2.59s\n751:\tlearn: 0.0065906\ttotal: 7.83s\tremaining: 2.58s\n752:\tlearn: 0.0065788\ttotal: 7.84s\tremaining: 2.57s\n753:\tlearn: 0.0065709\ttotal: 7.85s\tremaining: 2.56s\n754:\tlearn: 0.0065637\ttotal: 7.86s\tremaining: 2.55s\n755:\tlearn: 0.0065540\ttotal: 7.87s\tremaining: 2.54s\n756:\tlearn: 0.0065439\ttotal: 7.88s\tremaining: 2.53s\n757:\tlearn: 0.0065374\ttotal: 7.89s\tremaining: 2.52s\n758:\tlearn: 0.0065253\ttotal: 7.9s\tremaining: 2.51s\n759:\tlearn: 0.0065127\ttotal: 7.91s\tremaining: 2.5s\n760:\tlearn: 0.0065047\ttotal: 7.93s\tremaining: 2.49s\n761:\tlearn: 0.0064954\ttotal: 7.94s\tremaining: 2.48s\n762:\tlearn: 0.0064845\ttotal: 7.95s\tremaining: 2.47s\n763:\tlearn: 0.0064746\ttotal: 7.96s\tremaining: 2.46s\n764:\tlearn: 0.0064644\ttotal: 7.97s\tremaining: 2.45s\n765:\tlearn: 0.0064549\ttotal: 7.98s\tremaining: 2.44s\n766:\tlearn: 0.0064472\ttotal: 7.99s\tremaining: 2.43s\n767:\tlearn: 0.0064389\ttotal: 7.99s\tremaining: 2.41s\n768:\tlearn: 0.0064296\ttotal: 8s\tremaining: 2.4s\n769:\tlearn: 0.0064216\ttotal: 8.01s\tremaining: 2.39s\n770:\tlearn: 0.0064146\ttotal: 8.02s\tremaining: 2.38s\n771:\tlearn: 0.0064032\ttotal: 8.03s\tremaining: 2.37s\n772:\tlearn: 0.0063937\ttotal: 8.04s\tremaining: 2.36s\n773:\tlearn: 0.0063833\ttotal: 8.04s\tremaining: 2.35s\n774:\tlearn: 0.0063757\ttotal: 8.06s\tremaining: 2.34s\n775:\tlearn: 0.0063679\ttotal: 8.07s\tremaining: 2.33s\n776:\tlearn: 0.0063598\ttotal: 8.07s\tremaining: 2.32s\n777:\tlearn: 0.0063503\ttotal: 8.08s\tremaining: 2.31s\n778:\tlearn: 0.0063406\ttotal: 8.09s\tremaining: 2.29s\n779:\tlearn: 0.0063331\ttotal: 8.1s\tremaining: 2.29s\n780:\tlearn: 0.0063241\ttotal: 8.11s\tremaining: 2.27s\n781:\tlearn: 0.0063174\ttotal: 8.12s\tremaining: 2.26s\n782:\tlearn: 0.0063061\ttotal: 8.14s\tremaining: 2.26s\n783:\tlearn: 0.0062982\ttotal: 8.15s\tremaining: 2.24s\n784:\tlearn: 0.0062919\ttotal: 8.15s\tremaining: 2.23s\n785:\tlearn: 0.0062858\ttotal: 8.16s\tremaining: 2.22s\n786:\tlearn: 0.0062789\ttotal: 8.18s\tremaining: 2.21s\n787:\tlearn: 0.0062697\ttotal: 8.18s\tremaining: 2.2s\n788:\tlearn: 0.0062616\ttotal: 8.19s\tremaining: 2.19s\n789:\tlearn: 0.0062531\ttotal: 8.2s\tremaining: 2.18s\n790:\tlearn: 0.0062459\ttotal: 8.2s\tremaining: 2.17s\n791:\tlearn: 0.0062369\ttotal: 8.21s\tremaining: 2.16s\n792:\tlearn: 0.0062266\ttotal: 8.21s\tremaining: 2.14s\n793:\tlearn: 0.0062185\ttotal: 8.23s\tremaining: 2.13s\n794:\tlearn: 0.0062072\ttotal: 8.23s\tremaining: 2.12s\n795:\tlearn: 0.0061975\ttotal: 8.25s\tremaining: 2.11s\n796:\tlearn: 0.0061884\ttotal: 8.26s\tremaining: 2.1s\n797:\tlearn: 0.0061817\ttotal: 8.27s\tremaining: 2.09s\n798:\tlearn: 0.0061707\ttotal: 8.28s\tremaining: 2.08s\n799:\tlearn: 0.0061637\ttotal: 8.28s\tremaining: 2.07s\n800:\tlearn: 0.0061558\ttotal: 8.29s\tremaining: 2.06s\n801:\tlearn: 0.0061457\ttotal: 8.3s\tremaining: 2.05s\n802:\tlearn: 0.0061380\ttotal: 8.31s\tremaining: 2.04s\n803:\tlearn: 0.0061285\ttotal: 8.32s\tremaining: 2.03s\n804:\tlearn: 0.0061219\ttotal: 8.33s\tremaining: 2.02s\n805:\tlearn: 0.0061134\ttotal: 8.34s\tremaining: 2.01s\n806:\tlearn: 0.0061050\ttotal: 8.34s\tremaining: 2s\n807:\tlearn: 0.0060978\ttotal: 8.35s\tremaining: 1.98s\n808:\tlearn: 0.0060912\ttotal: 8.37s\tremaining: 1.98s\n809:\tlearn: 0.0060834\ttotal: 8.38s\tremaining: 1.96s\n810:\tlearn: 0.0060734\ttotal: 8.38s\tremaining: 1.95s\n811:\tlearn: 0.0060638\ttotal: 8.39s\tremaining: 1.94s\n812:\tlearn: 0.0060569\ttotal: 8.4s\tremaining: 1.93s\n813:\tlearn: 0.0060514\ttotal: 8.41s\tremaining: 1.92s\n814:\tlearn: 0.0060437\ttotal: 8.42s\tremaining: 1.91s\n815:\tlearn: 0.0060344\ttotal: 8.43s\tremaining: 1.9s\n816:\tlearn: 0.0060268\ttotal: 8.44s\tremaining: 1.89s\n817:\tlearn: 0.0060201\ttotal: 8.46s\tremaining: 1.88s\n818:\tlearn: 0.0060132\ttotal: 8.47s\tremaining: 1.87s\n819:\tlearn: 0.0060081\ttotal: 8.47s\tremaining: 1.86s\n820:\tlearn: 0.0060008\ttotal: 8.48s\tremaining: 1.85s\n821:\tlearn: 0.0059944\ttotal: 8.48s\tremaining: 1.84s\n822:\tlearn: 0.0059853\ttotal: 8.49s\tremaining: 1.83s\n823:\tlearn: 0.0059779\ttotal: 8.5s\tremaining: 1.81s\n824:\tlearn: 0.0059697\ttotal: 8.51s\tremaining: 1.8s\n825:\tlearn: 0.0059602\ttotal: 8.52s\tremaining: 1.79s\n826:\tlearn: 0.0059545\ttotal: 8.53s\tremaining: 1.78s\n827:\tlearn: 0.0059485\ttotal: 8.54s\tremaining: 1.77s\n828:\tlearn: 0.0059366\ttotal: 8.55s\tremaining: 1.76s\n829:\tlearn: 0.0059292\ttotal: 8.56s\tremaining: 1.75s\n830:\tlearn: 0.0059200\ttotal: 8.56s\tremaining: 1.74s\n831:\tlearn: 0.0059090\ttotal: 8.57s\tremaining: 1.73s\n832:\tlearn: 0.0059033\ttotal: 8.58s\tremaining: 1.72s\n833:\tlearn: 0.0058958\ttotal: 8.59s\tremaining: 1.71s\n834:\tlearn: 0.0058876\ttotal: 8.6s\tremaining: 1.7s\n835:\tlearn: 0.0058808\ttotal: 8.61s\tremaining: 1.69s\n836:\tlearn: 0.0058740\ttotal: 8.62s\tremaining: 1.68s\n837:\tlearn: 0.0058669\ttotal: 8.63s\tremaining: 1.67s\n838:\tlearn: 0.0058578\ttotal: 8.63s\tremaining: 1.66s\n839:\tlearn: 0.0058504\ttotal: 8.63s\tremaining: 1.64s\n840:\tlearn: 0.0058438\ttotal: 8.65s\tremaining: 1.63s\n841:\tlearn: 0.0058353\ttotal: 8.65s\tremaining: 1.62s\n842:\tlearn: 0.0058286\ttotal: 8.66s\tremaining: 1.61s\n843:\tlearn: 0.0058225\ttotal: 8.67s\tremaining: 1.6s\n844:\tlearn: 0.0058159\ttotal: 8.68s\tremaining: 1.59s\n845:\tlearn: 0.0058088\ttotal: 8.69s\tremaining: 1.58s\n846:\tlearn: 0.0058033\ttotal: 8.7s\tremaining: 1.57s\n847:\tlearn: 0.0057956\ttotal: 8.71s\tremaining: 1.56s\n848:\tlearn: 0.0057905\ttotal: 8.72s\tremaining: 1.55s\n849:\tlearn: 0.0057825\ttotal: 8.74s\tremaining: 1.54s\n850:\tlearn: 0.0057759\ttotal: 8.75s\tremaining: 1.53s\n851:\tlearn: 0.0057688\ttotal: 8.76s\tremaining: 1.52s\n852:\tlearn: 0.0057613\ttotal: 8.78s\tremaining: 1.51s\n853:\tlearn: 0.0057546\ttotal: 8.79s\tremaining: 1.5s\n854:\tlearn: 0.0057481\ttotal: 8.79s\tremaining: 1.49s\n855:\tlearn: 0.0057408\ttotal: 8.8s\tremaining: 1.48s\n856:\tlearn: 0.0057327\ttotal: 8.81s\tremaining: 1.47s\n857:\tlearn: 0.0057265\ttotal: 8.81s\tremaining: 1.46s\n858:\tlearn: 0.0057191\ttotal: 8.82s\tremaining: 1.45s\n859:\tlearn: 0.0057097\ttotal: 8.83s\tremaining: 1.44s\n860:\tlearn: 0.0057052\ttotal: 8.84s\tremaining: 1.43s\n861:\tlearn: 0.0056988\ttotal: 8.85s\tremaining: 1.42s\n862:\tlearn: 0.0056931\ttotal: 8.86s\tremaining: 1.41s\n863:\tlearn: 0.0056856\ttotal: 8.86s\tremaining: 1.4s\n864:\tlearn: 0.0056777\ttotal: 8.87s\tremaining: 1.38s\n865:\tlearn: 0.0056702\ttotal: 8.88s\tremaining: 1.37s\n866:\tlearn: 0.0056630\ttotal: 8.9s\tremaining: 1.36s\n867:\tlearn: 0.0056560\ttotal: 8.92s\tremaining: 1.36s\n868:\tlearn: 0.0056480\ttotal: 8.93s\tremaining: 1.35s\n869:\tlearn: 0.0056418\ttotal: 8.95s\tremaining: 1.34s\n870:\tlearn: 0.0056351\ttotal: 8.97s\tremaining: 1.33s\n871:\tlearn: 0.0056286\ttotal: 8.99s\tremaining: 1.32s\n872:\tlearn: 0.0056205\ttotal: 9s\tremaining: 1.31s\n873:\tlearn: 0.0056131\ttotal: 9.01s\tremaining: 1.3s\n874:\tlearn: 0.0056074\ttotal: 9.02s\tremaining: 1.29s\n875:\tlearn: 0.0056007\ttotal: 9.03s\tremaining: 1.28s\n876:\tlearn: 0.0055941\ttotal: 9.04s\tremaining: 1.27s\n877:\tlearn: 0.0055886\ttotal: 9.05s\tremaining: 1.26s\n878:\tlearn: 0.0055809\ttotal: 9.06s\tremaining: 1.25s\n879:\tlearn: 0.0055738\ttotal: 9.06s\tremaining: 1.24s\n880:\tlearn: 0.0055684\ttotal: 9.07s\tremaining: 1.23s\n881:\tlearn: 0.0055619\ttotal: 9.09s\tremaining: 1.22s\n882:\tlearn: 0.0055564\ttotal: 9.1s\tremaining: 1.21s\n883:\tlearn: 0.0055492\ttotal: 9.11s\tremaining: 1.2s\n884:\tlearn: 0.0055401\ttotal: 9.12s\tremaining: 1.19s\n885:\tlearn: 0.0055332\ttotal: 9.13s\tremaining: 1.17s\n886:\tlearn: 0.0055265\ttotal: 9.14s\tremaining: 1.16s\n887:\tlearn: 0.0055210\ttotal: 9.15s\tremaining: 1.15s\n888:\tlearn: 0.0055137\ttotal: 9.17s\tremaining: 1.15s\n889:\tlearn: 0.0055077\ttotal: 9.19s\tremaining: 1.14s\n890:\tlearn: 0.0055019\ttotal: 9.2s\tremaining: 1.12s\n891:\tlearn: 0.0054934\ttotal: 9.21s\tremaining: 1.11s\n892:\tlearn: 0.0054855\ttotal: 9.21s\tremaining: 1.1s\n893:\tlearn: 0.0054797\ttotal: 9.22s\tremaining: 1.09s\n894:\tlearn: 0.0054743\ttotal: 9.23s\tremaining: 1.08s\n895:\tlearn: 0.0054684\ttotal: 9.24s\tremaining: 1.07s\n896:\tlearn: 0.0054577\ttotal: 9.24s\tremaining: 1.06s\n897:\tlearn: 0.0054512\ttotal: 9.26s\tremaining: 1.05s\n898:\tlearn: 0.0054445\ttotal: 9.27s\tremaining: 1.04s\n899:\tlearn: 0.0054374\ttotal: 9.27s\tremaining: 1.03s\n900:\tlearn: 0.0054307\ttotal: 9.28s\tremaining: 1.02s\n901:\tlearn: 0.0054240\ttotal: 9.29s\tremaining: 1.01s\n902:\tlearn: 0.0054169\ttotal: 9.29s\tremaining: 998ms\n903:\tlearn: 0.0054106\ttotal: 9.3s\tremaining: 988ms\n904:\tlearn: 0.0054054\ttotal: 9.31s\tremaining: 977ms\n905:\tlearn: 0.0053982\ttotal: 9.32s\tremaining: 967ms\n906:\tlearn: 0.0053906\ttotal: 9.32s\tremaining: 956ms\n907:\tlearn: 0.0053839\ttotal: 9.34s\tremaining: 946ms\n908:\tlearn: 0.0053765\ttotal: 9.35s\tremaining: 936ms\n909:\tlearn: 0.0053695\ttotal: 9.35s\tremaining: 925ms\n910:\tlearn: 0.0053635\ttotal: 9.36s\tremaining: 915ms\n911:\tlearn: 0.0053572\ttotal: 9.37s\tremaining: 904ms\n912:\tlearn: 0.0053497\ttotal: 9.38s\tremaining: 894ms\n913:\tlearn: 0.0053412\ttotal: 9.41s\tremaining: 885ms\n914:\tlearn: 0.0053353\ttotal: 9.42s\tremaining: 875ms\n915:\tlearn: 0.0053296\ttotal: 9.44s\tremaining: 866ms\n916:\tlearn: 0.0053236\ttotal: 9.45s\tremaining: 856ms\n917:\tlearn: 0.0053175\ttotal: 9.46s\tremaining: 845ms\n918:\tlearn: 0.0053114\ttotal: 9.47s\tremaining: 835ms\n919:\tlearn: 0.0053056\ttotal: 9.48s\tremaining: 825ms\n920:\tlearn: 0.0052994\ttotal: 9.49s\tremaining: 814ms\n921:\tlearn: 0.0052940\ttotal: 9.5s\tremaining: 804ms\n922:\tlearn: 0.0052895\ttotal: 9.51s\tremaining: 793ms\n923:\tlearn: 0.0052843\ttotal: 9.51s\tremaining: 783ms\n924:\tlearn: 0.0052780\ttotal: 9.53s\tremaining: 772ms\n925:\tlearn: 0.0052722\ttotal: 9.53s\tremaining: 762ms\n926:\tlearn: 0.0052647\ttotal: 9.54s\tremaining: 751ms\n927:\tlearn: 0.0052587\ttotal: 9.55s\tremaining: 741ms\n928:\tlearn: 0.0052520\ttotal: 9.56s\tremaining: 731ms\n929:\tlearn: 0.0052470\ttotal: 9.57s\tremaining: 720ms\n930:\tlearn: 0.0052398\ttotal: 9.58s\tremaining: 710ms\n931:\tlearn: 0.0052333\ttotal: 9.59s\tremaining: 700ms\n932:\tlearn: 0.0052289\ttotal: 9.6s\tremaining: 689ms\n933:\tlearn: 0.0052253\ttotal: 9.61s\tremaining: 679ms\n934:\tlearn: 0.0052195\ttotal: 9.63s\tremaining: 670ms\n935:\tlearn: 0.0052121\ttotal: 9.64s\tremaining: 659ms\n936:\tlearn: 0.0052060\ttotal: 9.65s\tremaining: 649ms\n937:\tlearn: 0.0051999\ttotal: 9.67s\tremaining: 639ms\n938:\tlearn: 0.0051937\ttotal: 9.68s\tremaining: 629ms\n939:\tlearn: 0.0051889\ttotal: 9.7s\tremaining: 619ms\n940:\tlearn: 0.0051804\ttotal: 9.71s\tremaining: 609ms\n941:\tlearn: 0.0051717\ttotal: 9.72s\tremaining: 598ms\n942:\tlearn: 0.0051670\ttotal: 9.72s\tremaining: 588ms\n943:\tlearn: 0.0051607\ttotal: 9.73s\tremaining: 577ms\n944:\tlearn: 0.0051548\ttotal: 9.74s\tremaining: 567ms\n945:\tlearn: 0.0051485\ttotal: 9.75s\tremaining: 556ms\n946:\tlearn: 0.0051425\ttotal: 9.76s\tremaining: 546ms\n947:\tlearn: 0.0051380\ttotal: 9.76s\tremaining: 536ms\n948:\tlearn: 0.0051304\ttotal: 9.77s\tremaining: 525ms\n949:\tlearn: 0.0051252\ttotal: 9.78s\tremaining: 515ms\n950:\tlearn: 0.0051179\ttotal: 9.78s\tremaining: 504ms\n951:\tlearn: 0.0051112\ttotal: 9.79s\tremaining: 494ms\n952:\tlearn: 0.0051050\ttotal: 9.8s\tremaining: 483ms\n953:\tlearn: 0.0050992\ttotal: 9.81s\tremaining: 473ms\n954:\tlearn: 0.0050931\ttotal: 9.81s\tremaining: 462ms\n955:\tlearn: 0.0050886\ttotal: 9.82s\tremaining: 452ms\n956:\tlearn: 0.0050817\ttotal: 9.83s\tremaining: 442ms\n957:\tlearn: 0.0050768\ttotal: 9.83s\tremaining: 431ms\n958:\tlearn: 0.0050703\ttotal: 9.84s\tremaining: 421ms\n959:\tlearn: 0.0050656\ttotal: 9.85s\tremaining: 411ms\n960:\tlearn: 0.0050602\ttotal: 9.86s\tremaining: 400ms\n961:\tlearn: 0.0050529\ttotal: 9.87s\tremaining: 390ms\n962:\tlearn: 0.0050466\ttotal: 9.88s\tremaining: 380ms\n963:\tlearn: 0.0050402\ttotal: 9.89s\tremaining: 369ms\n964:\tlearn: 0.0050352\ttotal: 9.9s\tremaining: 359ms\n965:\tlearn: 0.0050300\ttotal: 9.9s\tremaining: 349ms\n966:\tlearn: 0.0050238\ttotal: 9.92s\tremaining: 338ms\n967:\tlearn: 0.0050195\ttotal: 9.93s\tremaining: 328ms\n968:\tlearn: 0.0050156\ttotal: 9.94s\tremaining: 318ms\n969:\tlearn: 0.0050095\ttotal: 9.95s\tremaining: 308ms\n970:\tlearn: 0.0050030\ttotal: 9.96s\tremaining: 297ms\n971:\tlearn: 0.0049970\ttotal: 9.97s\tremaining: 287ms\n972:\tlearn: 0.0049875\ttotal: 9.98s\tremaining: 277ms\n973:\tlearn: 0.0049828\ttotal: 9.98s\tremaining: 267ms\n974:\tlearn: 0.0049753\ttotal: 9.99s\tremaining: 256ms\n975:\tlearn: 0.0049699\ttotal: 10s\tremaining: 246ms\n976:\tlearn: 0.0049631\ttotal: 10s\tremaining: 236ms\n977:\tlearn: 0.0049562\ttotal: 10s\tremaining: 225ms\n978:\tlearn: 0.0049524\ttotal: 10s\tremaining: 215ms\n979:\tlearn: 0.0049475\ttotal: 10s\tremaining: 205ms\n980:\tlearn: 0.0049422\ttotal: 10s\tremaining: 194ms\n981:\tlearn: 0.0049359\ttotal: 10.1s\tremaining: 184ms\n982:\tlearn: 0.0049296\ttotal: 10.1s\tremaining: 174ms\n983:\tlearn: 0.0049245\ttotal: 10.1s\tremaining: 164ms\n984:\tlearn: 0.0049184\ttotal: 10.1s\tremaining: 154ms\n985:\tlearn: 0.0049138\ttotal: 10.1s\tremaining: 143ms\n986:\tlearn: 0.0049068\ttotal: 10.1s\tremaining: 133ms\n987:\tlearn: 0.0049005\ttotal: 10.1s\tremaining: 123ms\n988:\tlearn: 0.0048947\ttotal: 10.1s\tremaining: 113ms\n989:\tlearn: 0.0048909\ttotal: 10.2s\tremaining: 103ms\n990:\tlearn: 0.0048838\ttotal: 10.2s\tremaining: 92.4ms\n991:\tlearn: 0.0048792\ttotal: 10.2s\tremaining: 82.1ms\n992:\tlearn: 0.0048751\ttotal: 10.2s\tremaining: 71.8ms\n993:\tlearn: 0.0048712\ttotal: 10.2s\tremaining: 61.6ms\n994:\tlearn: 0.0048672\ttotal: 10.2s\tremaining: 51.3ms\n995:\tlearn: 0.0048623\ttotal: 10.2s\tremaining: 41ms\n996:\tlearn: 0.0048564\ttotal: 10.2s\tremaining: 30.8ms\n997:\tlearn: 0.0048519\ttotal: 10.2s\tremaining: 20.5ms\n998:\tlearn: 0.0048451\ttotal: 10.3s\tremaining: 10.3ms\n999:\tlearn: 0.0048406\ttotal: 10.3s\tremaining: 0us\nAccuracy: 0.98 \nStandard Deviation: 1.73 \n"
    }
   ],
   "source": [
    "accuracies = cross_val_score(estimator=cat_model, X=X_train, y=y_train, cv=5)\n",
    "print(\"Accuracy: {:.2f} \".format(accuracies.mean()))\n",
    "print(\"Standard Deviation: {:.2f} \".format(accuracies.std()*100))"
   ]
  },
  {
   "cell_type": "code",
   "execution_count": null,
   "metadata": {},
   "outputs": [],
   "source": []
  }
 ]
}