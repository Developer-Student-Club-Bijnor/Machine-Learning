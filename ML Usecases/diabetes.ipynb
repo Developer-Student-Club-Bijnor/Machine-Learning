{
 "metadata": {
  "language_info": {
   "codemirror_mode": {
    "name": "ipython",
    "version": 3
   },
   "file_extension": ".py",
   "mimetype": "text/x-python",
   "name": "python",
   "nbconvert_exporter": "python",
   "pygments_lexer": "ipython3",
   "version": 3
  },
  "orig_nbformat": 2,
  "kernelspec": {
   "name": "python_defaultSpec_1596093728818",
   "display_name": "Python 3.7.4 64-bit ('Learning': conda)"
  }
 },
 "nbformat": 4,
 "nbformat_minor": 2,
 "cells": [
  {
   "cell_type": "markdown",
   "metadata": {},
   "source": [
    "# Diabetes dataset analysis"
   ]
  },
  {
   "cell_type": "markdown",
   "metadata": {},
   "source": [
    "## Importing the libraries"
   ]
  },
  {
   "cell_type": "code",
   "execution_count": 50,
   "metadata": {},
   "outputs": [],
   "source": [
    "import numpy as np\n",
    "import pandas as pd\n",
    "import matplotlib.pyplot as plt\n",
    "%matplotlib inline"
   ]
  },
  {
   "cell_type": "markdown",
   "metadata": {},
   "source": [
    "## Importing the dataset"
   ]
  },
  {
   "cell_type": "code",
   "execution_count": 51,
   "metadata": {
    "tags": []
   },
   "outputs": [
    {
     "output_type": "stream",
     "name": "stdout",
     "text": ".. _diabetes_dataset:\n\nDiabetes dataset\n----------------\n\nTen baseline variables, age, sex, body mass index, average blood\npressure, and six blood serum measurements were obtained for each of n =\n442 diabetes patients, as well as the response of interest, a\nquantitative measure of disease progression one year after baseline.\n\n**Data Set Characteristics:**\n\n  :Number of Instances: 442\n\n  :Number of Attributes: First 10 columns are numeric predictive values\n\n  :Target: Column 11 is a quantitative measure of disease progression one year after baseline\n\n  :Attribute Information:\n      - Age\n      - Sex\n      - Body mass index\n      - Average blood pressure\n      - S1\n      - S2\n      - S3\n      - S4\n      - S5\n      - S6\n\nNote: Each of these 10 feature variables have been mean centered and scaled by the standard deviation times `n_samples` (i.e. the sum of squares of each column totals 1).\n\nSource URL:\nhttps://www4.stat.ncsu.edu/~boos/var.select/diabetes.html\n\nFor more information see:\nBradley Efron, Trevor Hastie, Iain Johnstone and Robert Tibshirani (2004) \"Least Angle Regression,\" Annals of Statistics (with discussion), 407-499.\n(https://web.stanford.edu/~hastie/Papers/LARS/LeastAngle_2002.pdf)\n"
    }
   ],
   "source": [
    "from sklearn.datasets import load_diabetes\n",
    "diabetes = load_diabetes()\n",
    "print(diabetes['DESCR'])"
   ]
  },
  {
   "cell_type": "code",
   "execution_count": 52,
   "metadata": {},
   "outputs": [
    {
     "output_type": "execute_result",
     "data": {
      "text/plain": "          age       sex       bmi        bp        s1        s2        s3  \\\n0    0.038076  0.050680  0.061696  0.021872 -0.044223 -0.034821 -0.043401   \n1   -0.001882 -0.044642 -0.051474 -0.026328 -0.008449 -0.019163  0.074412   \n2    0.085299  0.050680  0.044451 -0.005671 -0.045599 -0.034194 -0.032356   \n3   -0.089063 -0.044642 -0.011595 -0.036656  0.012191  0.024991 -0.036038   \n4    0.005383 -0.044642 -0.036385  0.021872  0.003935  0.015596  0.008142   \n..        ...       ...       ...       ...       ...       ...       ...   \n437  0.041708  0.050680  0.019662  0.059744 -0.005697 -0.002566 -0.028674   \n438 -0.005515  0.050680 -0.015906 -0.067642  0.049341  0.079165 -0.028674   \n439  0.041708  0.050680 -0.015906  0.017282 -0.037344 -0.013840 -0.024993   \n440 -0.045472 -0.044642  0.039062  0.001215  0.016318  0.015283 -0.028674   \n441 -0.045472 -0.044642 -0.073030 -0.081414  0.083740  0.027809  0.173816   \n\n           s4        s5        s6  target  \n0   -0.002592  0.019908 -0.017646   151.0  \n1   -0.039493 -0.068330 -0.092204    75.0  \n2   -0.002592  0.002864 -0.025930   141.0  \n3    0.034309  0.022692 -0.009362   206.0  \n4   -0.002592 -0.031991 -0.046641   135.0  \n..        ...       ...       ...     ...  \n437 -0.002592  0.031193  0.007207   178.0  \n438  0.034309 -0.018118  0.044485   104.0  \n439 -0.011080 -0.046879  0.015491   132.0  \n440  0.026560  0.044528 -0.025930   220.0  \n441 -0.039493 -0.004220  0.003064    57.0  \n\n[442 rows x 11 columns]",
      "text/html": "<div>\n<style scoped>\n    .dataframe tbody tr th:only-of-type {\n        vertical-align: middle;\n    }\n\n    .dataframe tbody tr th {\n        vertical-align: top;\n    }\n\n    .dataframe thead th {\n        text-align: right;\n    }\n</style>\n<table border=\"1\" class=\"dataframe\">\n  <thead>\n    <tr style=\"text-align: right;\">\n      <th></th>\n      <th>age</th>\n      <th>sex</th>\n      <th>bmi</th>\n      <th>bp</th>\n      <th>s1</th>\n      <th>s2</th>\n      <th>s3</th>\n      <th>s4</th>\n      <th>s5</th>\n      <th>s6</th>\n      <th>target</th>\n    </tr>\n  </thead>\n  <tbody>\n    <tr>\n      <td>0</td>\n      <td>0.038076</td>\n      <td>0.050680</td>\n      <td>0.061696</td>\n      <td>0.021872</td>\n      <td>-0.044223</td>\n      <td>-0.034821</td>\n      <td>-0.043401</td>\n      <td>-0.002592</td>\n      <td>0.019908</td>\n      <td>-0.017646</td>\n      <td>151.0</td>\n    </tr>\n    <tr>\n      <td>1</td>\n      <td>-0.001882</td>\n      <td>-0.044642</td>\n      <td>-0.051474</td>\n      <td>-0.026328</td>\n      <td>-0.008449</td>\n      <td>-0.019163</td>\n      <td>0.074412</td>\n      <td>-0.039493</td>\n      <td>-0.068330</td>\n      <td>-0.092204</td>\n      <td>75.0</td>\n    </tr>\n    <tr>\n      <td>2</td>\n      <td>0.085299</td>\n      <td>0.050680</td>\n      <td>0.044451</td>\n      <td>-0.005671</td>\n      <td>-0.045599</td>\n      <td>-0.034194</td>\n      <td>-0.032356</td>\n      <td>-0.002592</td>\n      <td>0.002864</td>\n      <td>-0.025930</td>\n      <td>141.0</td>\n    </tr>\n    <tr>\n      <td>3</td>\n      <td>-0.089063</td>\n      <td>-0.044642</td>\n      <td>-0.011595</td>\n      <td>-0.036656</td>\n      <td>0.012191</td>\n      <td>0.024991</td>\n      <td>-0.036038</td>\n      <td>0.034309</td>\n      <td>0.022692</td>\n      <td>-0.009362</td>\n      <td>206.0</td>\n    </tr>\n    <tr>\n      <td>4</td>\n      <td>0.005383</td>\n      <td>-0.044642</td>\n      <td>-0.036385</td>\n      <td>0.021872</td>\n      <td>0.003935</td>\n      <td>0.015596</td>\n      <td>0.008142</td>\n      <td>-0.002592</td>\n      <td>-0.031991</td>\n      <td>-0.046641</td>\n      <td>135.0</td>\n    </tr>\n    <tr>\n      <td>...</td>\n      <td>...</td>\n      <td>...</td>\n      <td>...</td>\n      <td>...</td>\n      <td>...</td>\n      <td>...</td>\n      <td>...</td>\n      <td>...</td>\n      <td>...</td>\n      <td>...</td>\n      <td>...</td>\n    </tr>\n    <tr>\n      <td>437</td>\n      <td>0.041708</td>\n      <td>0.050680</td>\n      <td>0.019662</td>\n      <td>0.059744</td>\n      <td>-0.005697</td>\n      <td>-0.002566</td>\n      <td>-0.028674</td>\n      <td>-0.002592</td>\n      <td>0.031193</td>\n      <td>0.007207</td>\n      <td>178.0</td>\n    </tr>\n    <tr>\n      <td>438</td>\n      <td>-0.005515</td>\n      <td>0.050680</td>\n      <td>-0.015906</td>\n      <td>-0.067642</td>\n      <td>0.049341</td>\n      <td>0.079165</td>\n      <td>-0.028674</td>\n      <td>0.034309</td>\n      <td>-0.018118</td>\n      <td>0.044485</td>\n      <td>104.0</td>\n    </tr>\n    <tr>\n      <td>439</td>\n      <td>0.041708</td>\n      <td>0.050680</td>\n      <td>-0.015906</td>\n      <td>0.017282</td>\n      <td>-0.037344</td>\n      <td>-0.013840</td>\n      <td>-0.024993</td>\n      <td>-0.011080</td>\n      <td>-0.046879</td>\n      <td>0.015491</td>\n      <td>132.0</td>\n    </tr>\n    <tr>\n      <td>440</td>\n      <td>-0.045472</td>\n      <td>-0.044642</td>\n      <td>0.039062</td>\n      <td>0.001215</td>\n      <td>0.016318</td>\n      <td>0.015283</td>\n      <td>-0.028674</td>\n      <td>0.026560</td>\n      <td>0.044528</td>\n      <td>-0.025930</td>\n      <td>220.0</td>\n    </tr>\n    <tr>\n      <td>441</td>\n      <td>-0.045472</td>\n      <td>-0.044642</td>\n      <td>-0.073030</td>\n      <td>-0.081414</td>\n      <td>0.083740</td>\n      <td>0.027809</td>\n      <td>0.173816</td>\n      <td>-0.039493</td>\n      <td>-0.004220</td>\n      <td>0.003064</td>\n      <td>57.0</td>\n    </tr>\n  </tbody>\n</table>\n<p>442 rows × 11 columns</p>\n</div>"
     },
     "metadata": {},
     "execution_count": 52
    }
   ],
   "source": [
    "dataset = pd.DataFrame(diabetes['data'], columns=diabetes['feature_names'])\n",
    "dataset['target'] = diabetes['target']\n",
    "dataset"
   ]
  },
  {
   "cell_type": "code",
   "execution_count": null,
   "metadata": {},
   "outputs": [],
   "source": []
  },
  {
   "cell_type": "code",
   "execution_count": 53,
   "metadata": {},
   "outputs": [],
   "source": [
    "X = dataset.iloc[:, :-1].values\n",
    "y = dataset['target'].values"
   ]
  },
  {
   "cell_type": "markdown",
   "metadata": {},
   "source": [
    "## Splitting the dataset into train and test"
   ]
  },
  {
   "cell_type": "code",
   "execution_count": 54,
   "metadata": {},
   "outputs": [],
   "source": [
    "from sklearn.model_selection import train_test_split\n",
    "X_train, X_test, y_train, y_test = train_test_split(\n",
    "    X, y,\n",
    "    test_size=0.2,\n",
    "    random_state=5\n",
    ")"
   ]
  },
  {
   "cell_type": "markdown",
   "metadata": {},
   "source": [
    "## Feature Scaling"
   ]
  },
  {
   "cell_type": "code",
   "execution_count": 55,
   "metadata": {},
   "outputs": [],
   "source": [
    "from sklearn.preprocessing import StandardScaler\n",
    "sc = StandardScaler()\n",
    "X_train = sc.fit_transform(X_train)\n",
    "X_test = sc.transform(X_test)"
   ]
  },
  {
   "cell_type": "markdown",
   "metadata": {},
   "source": [
    "## Fitting Linear Rgression"
   ]
  },
  {
   "cell_type": "code",
   "execution_count": 34,
   "metadata": {},
   "outputs": [
    {
     "output_type": "execute_result",
     "data": {
      "text/plain": "LinearRegression(copy_X=True, fit_intercept=True, n_jobs=None, normalize=False)"
     },
     "metadata": {},
     "execution_count": 34
    }
   ],
   "source": [
    "from sklearn.linear_model import LinearRegression\n",
    "regressor = LinearRegression()\n",
    "regressor.fit(X_train, y_train)"
   ]
  },
  {
   "cell_type": "code",
   "execution_count": 35,
   "metadata": {
    "tags": []
   },
   "outputs": [
    {
     "output_type": "stream",
     "name": "stdout",
     "text": "[[281.         195.88049677]\n [332.         219.9869973 ]\n [178.         121.41731446]\n [155.         158.096774  ]\n [137.         199.41301643]\n [ 65.         128.03683528]\n [ 31.         100.64085969]\n [275.         235.20267685]\n [138.         178.49979907]\n [173.         214.01527918]\n [ 90.          56.01821838]\n [221.         199.16293283]\n [198.         176.62264109]\n [ 88.         144.48999932]\n [268.         221.42867632]\n [107.         113.97468265]\n [ 83.         124.09435034]\n [ 63.          62.78851419]\n [ 65.          80.68437133]\n [ 93.         142.4717434 ]\n [103.         131.1218549 ]\n [144.         124.34002996]\n [156.         160.57566929]\n [ 84.         184.64649247]\n [ 42.         124.65094908]\n [181.          86.5043832 ]\n [233.         249.70362665]\n [109.         206.59565158]\n [ 92.          74.10940066]\n [101.         181.06901941]\n [ 71.          86.57575242]\n [140.         125.23114985]\n [150.         122.36969588]\n [ 49.          86.94561886]\n [109.         110.23320888]\n [ 91.         177.17414005]\n [215.         244.58581118]\n [ 44.         127.22740857]\n [212.         192.62016918]\n [116.          44.50397637]\n [ 42.          80.85086292]\n [ 59.         137.48888137]\n [140.         176.82937956]\n [281.         232.4837589 ]\n [200.         146.96380352]\n [209.         156.63916936]\n [277.         245.39934225]\n [ 83.         143.95321259]\n [270.         238.1797092 ]\n [181.         177.76094989]\n [306.         249.74477039]\n [ 47.          49.9951688 ]\n [180.         221.18035895]\n [220.         166.30347091]\n [187.         138.54688006]\n [ 94.         104.05126515]\n [ 98.          79.71177651]\n [142.         107.56496588]\n [310.         206.9860171 ]\n [232.         225.0975009 ]\n [ 77.          78.32242286]\n [237.         159.35679291]\n [150.         149.57006718]\n [191.         188.43396897]\n [104.         161.73400162]\n [217.         232.43418404]\n [121.         216.8570186 ]\n [292.         203.57353095]\n [ 85.         147.39956856]\n [311.         174.40662379]\n [142.         189.41782317]\n [265.         166.32209119]\n [268.         206.86491042]\n [258.         168.8786517 ]\n [178.         192.09196424]\n [ 73.         154.33055018]\n [ 52.          63.30038925]\n [281.         250.6636185 ]\n [ 84.         123.37722206]\n [186.         199.70291755]\n [118.         158.15396808]\n [ 92.         123.34174697]\n [241.         187.82104038]\n [ 97.         148.37487498]\n [142.         135.94771868]\n [230.         285.58271293]\n [148.         131.66978756]\n [102.         107.60364167]\n [272.         189.07646819]]\n"
    }
   ],
   "source": [
    "y_pred = regressor.predict(X_test)\n",
    "print(np.concatenate((y_test.reshape(-1,1), y_pred.reshape(-1,1)), axis=1))"
   ]
  },
  {
   "cell_type": "code",
   "execution_count": 36,
   "metadata": {},
   "outputs": [
    {
     "output_type": "execute_result",
     "data": {
      "text/plain": "0.5271561853905229"
     },
     "metadata": {},
     "execution_count": 36
    }
   ],
   "source": [
    "from sklearn.metrics import r2_score\n",
    "r2_score(y_test, y_pred)"
   ]
  },
  {
   "cell_type": "markdown",
   "metadata": {},
   "source": [
    "## Fitting linear SVR"
   ]
  },
  {
   "cell_type": "code",
   "execution_count": 37,
   "metadata": {},
   "outputs": [
    {
     "output_type": "execute_result",
     "data": {
      "text/plain": "SVR(C=1.0, cache_size=200, coef0=0.0, degree=3, epsilon=0.1,\n    gamma='auto_deprecated', kernel='linear', max_iter=-1, shrinking=True,\n    tol=0.001, verbose=False)"
     },
     "metadata": {},
     "execution_count": 37
    }
   ],
   "source": [
    "from sklearn.svm import SVR\n",
    "svr = SVR(kernel='linear')\n",
    "svr.fit(X_train, y_train)"
   ]
  },
  {
   "cell_type": "code",
   "execution_count": 38,
   "metadata": {},
   "outputs": [
    {
     "output_type": "execute_result",
     "data": {
      "text/plain": "0.5200074951445961"
     },
     "metadata": {},
     "execution_count": 38
    }
   ],
   "source": [
    "y_pred = svr.predict(X_test)\n",
    "r2_score(y_test, y_pred)"
   ]
  },
  {
   "cell_type": "markdown",
   "metadata": {},
   "source": [
    "## Fitting kernel SVR"
   ]
  },
  {
   "cell_type": "code",
   "execution_count": 39,
   "metadata": {},
   "outputs": [
    {
     "output_type": "execute_result",
     "data": {
      "text/plain": "SVR(C=1.0, cache_size=200, coef0=0.0, degree=3, epsilon=0.1,\n    gamma='auto_deprecated', kernel='rbf', max_iter=-1, shrinking=True,\n    tol=0.001, verbose=False)"
     },
     "metadata": {},
     "execution_count": 39
    }
   ],
   "source": [
    "from sklearn.svm import SVR\n",
    "svr1 = SVR()\n",
    "svr1.fit(X_train, y_train)"
   ]
  },
  {
   "cell_type": "code",
   "execution_count": 40,
   "metadata": {},
   "outputs": [
    {
     "output_type": "execute_result",
     "data": {
      "text/plain": "0.14692304612320972"
     },
     "metadata": {},
     "execution_count": 40
    }
   ],
   "source": [
    "y_pred = svr1.predict(X_test)\n",
    "r2_score(y_test, y_pred)"
   ]
  },
  {
   "cell_type": "markdown",
   "metadata": {},
   "source": [
    "## Grid Search for SVR"
   ]
  },
  {
   "cell_type": "code",
   "execution_count": 41,
   "metadata": {
    "tags": []
   },
   "outputs": [
    {
     "output_type": "stream",
     "name": "stderr",
     "text": "/home/its-k/anaconda3/envs/Learning/lib/python3.7/site-packages/sklearn/model_selection/_search.py:814: DeprecationWarning: The default of the `iid` parameter will change from True to False in version 0.22 and will be removed in 0.24. This will change numeric results when test-set sizes are unequal.\n  DeprecationWarning)\n"
    },
    {
     "output_type": "execute_result",
     "data": {
      "text/plain": "{'C': 1.5, 'epsilon': 0.9, 'gamma': 0.1, 'kernel': 'linear'}"
     },
     "metadata": {},
     "execution_count": 41
    }
   ],
   "source": [
    "from sklearn.model_selection import GridSearchCV\n",
    "params = {\n",
    "    'C': [.5, 1.0, 1.5, 2.],\n",
    "    'epsilon': [.1, .2, .3, .5, .6, .7, .8, .9],\n",
    "    'gamma': [.1, .2, .3, .5, .6, .7, .8, .9],\n",
    "    'kernel': ('linear', 'rbf', 'poly')\n",
    "}\n",
    "grid_search = GridSearchCV(\n",
    "    estimator=svr1,\n",
    "    param_grid=params,\n",
    "    n_jobs=-1,\n",
    "    cv=10\n",
    ")\n",
    "grid_search = grid_search.fit(X_train, y_train)\n",
    "grid_search.best_params_"
   ]
  },
  {
   "cell_type": "code",
   "execution_count": 42,
   "metadata": {
    "tags": []
   },
   "outputs": [
    {
     "output_type": "stream",
     "name": "stdout",
     "text": "[[281.         190.88054753]\n [332.         212.20726908]\n [178.         113.73398126]\n [155.         158.24598547]\n [137.         183.39466734]\n [ 65.         126.72448936]\n [ 31.         102.52821504]\n [275.         227.25294332]\n [138.         172.80248465]\n [173.         208.85866937]\n [ 90.          64.94437809]\n [221.         186.61380114]\n [198.         170.55225189]\n [ 88.         138.62027527]\n [268.         214.05607504]\n [107.         110.77904579]\n [ 83.         120.02565831]\n [ 63.          63.12780031]\n [ 65.          82.9350193 ]\n [ 93.         136.78833054]\n [103.         130.37236531]\n [144.         123.42047309]\n [156.         155.59410787]\n [ 84.         173.80596676]\n [ 42.         118.13186639]\n [181.          91.4566547 ]\n [233.         236.53559558]\n [109.         203.82024858]\n [ 92.          73.56822931]\n [101.         173.64336528]\n [ 71.          88.47345442]\n [140.         113.29480108]\n [150.         113.23715086]\n [ 49.          90.31105202]\n [109.          99.08438017]\n [ 91.         172.85186843]\n [215.         240.27252094]\n [ 44.         127.67899166]\n [212.         184.5319866 ]\n [116.          48.44959233]\n [ 42.          86.4124505 ]\n [ 59.         132.92080491]\n [140.         174.33104961]\n [281.         238.81137046]\n [200.         136.9009079 ]\n [209.         150.53650486]\n [277.         250.02874986]\n [ 83.         138.58280915]\n [270.         238.5982823 ]\n [181.         169.87663818]\n [306.         240.4701323 ]\n [ 47.          57.70148543]\n [180.         212.12205162]\n [220.         154.17552628]\n [187.         132.1497508 ]\n [ 94.         100.68644901]\n [ 98.          85.24175687]\n [142.         101.52608706]\n [310.         198.08568031]\n [232.         217.08381769]\n [ 77.          73.09397795]\n [237.         155.01122166]\n [150.         140.35762356]\n [191.         183.06722766]\n [104.         165.34826414]\n [217.         228.79334549]\n [121.         207.13681481]\n [292.         196.93348303]\n [ 85.         135.80295752]\n [311.         168.73268174]\n [142.         177.02839769]\n [265.         157.7565752 ]\n [268.         202.37346661]\n [258.         156.49769288]\n [178.         187.31426191]\n [ 73.         152.53771593]\n [ 52.          65.81388418]\n [281.         244.86956677]\n [ 84.         116.84831681]\n [186.         192.02061996]\n [118.         159.36400446]\n [ 92.         115.76008415]\n [241.         195.93921454]\n [ 97.         143.03282259]\n [142.         129.70453843]\n [230.         289.85358291]\n [148.         126.18658321]\n [102.         109.17618515]\n [272.         185.0855696 ]]\n"
    }
   ],
   "source": [
    "best_svr = grid_search.best_estimator_\n",
    "y_pred = best_svr.predict(X_test)\n",
    "print(np.concatenate((y_test.reshape(-1,1), y_pred.reshape(-1,1)), axis=1))"
   ]
  },
  {
   "cell_type": "code",
   "execution_count": 43,
   "metadata": {},
   "outputs": [
    {
     "output_type": "execute_result",
     "data": {
      "text/plain": "0.5181663396387861"
     },
     "metadata": {},
     "execution_count": 43
    }
   ],
   "source": [
    "r2_score(y_test, y_pred)"
   ]
  },
  {
   "cell_type": "markdown",
   "metadata": {},
   "source": [
    "## Fitting decision tree regression\n"
   ]
  },
  {
   "cell_type": "code",
   "execution_count": 56,
   "metadata": {},
   "outputs": [
    {
     "output_type": "execute_result",
     "data": {
      "text/plain": "DecisionTreeRegressor(criterion='mse', max_depth=None, max_features=None,\n                      max_leaf_nodes=None, min_impurity_decrease=0.0,\n                      min_impurity_split=None, min_samples_leaf=1,\n                      min_samples_split=2, min_weight_fraction_leaf=0.0,\n                      presort=False, random_state=None, splitter='best')"
     },
     "metadata": {},
     "execution_count": 56
    }
   ],
   "source": [
    "from sklearn.tree import DecisionTreeRegressor\n",
    "dt = DecisionTreeRegressor()\n",
    "dt.fit(X_train, y_train)"
   ]
  },
  {
   "cell_type": "code",
   "execution_count": 57,
   "metadata": {},
   "outputs": [
    {
     "output_type": "execute_result",
     "data": {
      "text/plain": "-0.08932347072251634"
     },
     "metadata": {},
     "execution_count": 57
    }
   ],
   "source": [
    "y_pred = dt.predict(X_test)\n",
    "r2_score(y_test, y_pred)"
   ]
  },
  {
   "cell_type": "markdown",
   "metadata": {},
   "source": [
    "## Fitting Random Forest Regression"
   ]
  },
  {
   "cell_type": "code",
   "execution_count": 64,
   "metadata": {},
   "outputs": [
    {
     "output_type": "execute_result",
     "data": {
      "text/plain": "RandomForestRegressor(bootstrap=True, criterion='mse', max_depth=None,\n                      max_features='auto', max_leaf_nodes=None,\n                      min_impurity_decrease=0.0, min_impurity_split=None,\n                      min_samples_leaf=1, min_samples_split=2,\n                      min_weight_fraction_leaf=0.0, n_estimators=100,\n                      n_jobs=None, oob_score=False, random_state=0, verbose=0,\n                      warm_start=False)"
     },
     "metadata": {},
     "execution_count": 64
    }
   ],
   "source": [
    "from sklearn.ensemble import RandomForestRegressor\n",
    "rf = RandomForestRegressor(n_estimators=100, random_state=0)\n",
    "rf.fit(X_train, y_train)"
   ]
  },
  {
   "cell_type": "code",
   "execution_count": 65,
   "metadata": {},
   "outputs": [
    {
     "output_type": "execute_result",
     "data": {
      "text/plain": "array([0.06160682, 0.01164266, 0.30822572, 0.11443787, 0.04547259,\n       0.04595373, 0.06410502, 0.02305948, 0.25776497, 0.06773114])"
     },
     "metadata": {},
     "execution_count": 65
    }
   ],
   "source": [
    "rf.feature_importances_"
   ]
  },
  {
   "cell_type": "code",
   "execution_count": 66,
   "metadata": {},
   "outputs": [
    {
     "output_type": "execute_result",
     "data": {
      "text/plain": "0.5341464071268479"
     },
     "metadata": {},
     "execution_count": 66
    }
   ],
   "source": [
    "y_pred = rf.predict(X_test)\n",
    "r2_score(y_test, y_pred)"
   ]
  },
  {
   "cell_type": "markdown",
   "metadata": {},
   "source": [
    "## Fitting catboost Model"
   ]
  },
  {
   "cell_type": "code",
   "execution_count": 67,
   "metadata": {
    "tags": [
     "outputPrepend"
    ]
   },
   "outputs": [
    {
     "output_type": "stream",
     "name": "stdout",
     "text": "total: 3.54s\tremaining: 2.15s\n622:\tlearn: 19.6830158\ttotal: 3.56s\tremaining: 2.15s\n623:\tlearn: 19.6683580\ttotal: 3.57s\tremaining: 2.15s\n624:\tlearn: 19.6355328\ttotal: 3.57s\tremaining: 2.14s\n625:\tlearn: 19.5948115\ttotal: 3.58s\tremaining: 2.14s\n626:\tlearn: 19.5347531\ttotal: 3.58s\tremaining: 2.13s\n627:\tlearn: 19.4805305\ttotal: 3.59s\tremaining: 2.13s\n628:\tlearn: 19.4692732\ttotal: 3.6s\tremaining: 2.12s\n629:\tlearn: 19.4466579\ttotal: 3.6s\tremaining: 2.12s\n630:\tlearn: 19.4448374\ttotal: 3.61s\tremaining: 2.11s\n631:\tlearn: 19.4127559\ttotal: 3.61s\tremaining: 2.1s\n632:\tlearn: 19.3937737\ttotal: 3.62s\tremaining: 2.1s\n633:\tlearn: 19.3873834\ttotal: 3.63s\tremaining: 2.09s\n634:\tlearn: 19.3468796\ttotal: 3.63s\tremaining: 2.09s\n635:\tlearn: 19.3007159\ttotal: 3.66s\tremaining: 2.1s\n636:\tlearn: 19.2888895\ttotal: 3.67s\tremaining: 2.09s\n637:\tlearn: 19.2627862\ttotal: 3.67s\tremaining: 2.08s\n638:\tlearn: 19.2116338\ttotal: 3.67s\tremaining: 2.08s\n639:\tlearn: 19.1760549\ttotal: 3.68s\tremaining: 2.07s\n640:\tlearn: 19.1676804\ttotal: 3.68s\tremaining: 2.06s\n641:\tlearn: 19.1518659\ttotal: 3.69s\tremaining: 2.06s\n642:\tlearn: 19.1085318\ttotal: 3.7s\tremaining: 2.05s\n643:\tlearn: 19.0571920\ttotal: 3.7s\tremaining: 2.05s\n644:\tlearn: 19.0195295\ttotal: 3.71s\tremaining: 2.04s\n645:\tlearn: 18.9937315\ttotal: 3.72s\tremaining: 2.04s\n646:\tlearn: 18.9589805\ttotal: 3.72s\tremaining: 2.03s\n647:\tlearn: 18.9325482\ttotal: 3.73s\tremaining: 2.02s\n648:\tlearn: 18.9185368\ttotal: 3.73s\tremaining: 2.02s\n649:\tlearn: 18.8648432\ttotal: 3.74s\tremaining: 2.01s\n650:\tlearn: 18.8458636\ttotal: 3.75s\tremaining: 2.01s\n651:\tlearn: 18.7917237\ttotal: 3.75s\tremaining: 2s\n652:\tlearn: 18.7604890\ttotal: 3.76s\tremaining: 2s\n653:\tlearn: 18.7506578\ttotal: 3.76s\tremaining: 1.99s\n654:\tlearn: 18.7299785\ttotal: 3.77s\tremaining: 1.99s\n655:\tlearn: 18.6841476\ttotal: 3.77s\tremaining: 1.98s\n656:\tlearn: 18.6377789\ttotal: 3.78s\tremaining: 1.97s\n657:\tlearn: 18.6028180\ttotal: 3.79s\tremaining: 1.97s\n658:\tlearn: 18.5997840\ttotal: 3.79s\tremaining: 1.96s\n659:\tlearn: 18.5980257\ttotal: 3.79s\tremaining: 1.95s\n660:\tlearn: 18.5512637\ttotal: 3.8s\tremaining: 1.95s\n661:\tlearn: 18.5208307\ttotal: 3.81s\tremaining: 1.95s\n662:\tlearn: 18.4936563\ttotal: 3.83s\tremaining: 1.95s\n663:\tlearn: 18.4568616\ttotal: 3.83s\tremaining: 1.94s\n664:\tlearn: 18.4099486\ttotal: 3.84s\tremaining: 1.93s\n665:\tlearn: 18.3946525\ttotal: 3.84s\tremaining: 1.93s\n666:\tlearn: 18.3765889\ttotal: 3.85s\tremaining: 1.92s\n667:\tlearn: 18.3469253\ttotal: 3.85s\tremaining: 1.92s\n668:\tlearn: 18.3329675\ttotal: 3.86s\tremaining: 1.91s\n669:\tlearn: 18.3162367\ttotal: 3.86s\tremaining: 1.9s\n670:\tlearn: 18.3067625\ttotal: 3.87s\tremaining: 1.9s\n671:\tlearn: 18.2960366\ttotal: 3.88s\tremaining: 1.89s\n672:\tlearn: 18.2701527\ttotal: 3.9s\tremaining: 1.9s\n673:\tlearn: 18.2418266\ttotal: 3.91s\tremaining: 1.89s\n674:\tlearn: 18.2168266\ttotal: 3.92s\tremaining: 1.89s\n675:\tlearn: 18.1941019\ttotal: 3.92s\tremaining: 1.88s\n676:\tlearn: 18.1629954\ttotal: 3.93s\tremaining: 1.87s\n677:\tlearn: 18.1418523\ttotal: 3.94s\tremaining: 1.87s\n678:\tlearn: 18.0859992\ttotal: 3.94s\tremaining: 1.86s\n679:\tlearn: 18.0564609\ttotal: 3.94s\tremaining: 1.86s\n680:\tlearn: 18.0136209\ttotal: 3.96s\tremaining: 1.85s\n681:\tlearn: 17.9908176\ttotal: 3.96s\tremaining: 1.84s\n682:\tlearn: 17.9813917\ttotal: 3.96s\tremaining: 1.84s\n683:\tlearn: 17.9570767\ttotal: 3.97s\tremaining: 1.83s\n684:\tlearn: 17.8950109\ttotal: 3.97s\tremaining: 1.83s\n685:\tlearn: 17.8837252\ttotal: 3.98s\tremaining: 1.82s\n686:\tlearn: 17.8454156\ttotal: 3.98s\tremaining: 1.81s\n687:\tlearn: 17.7907654\ttotal: 3.99s\tremaining: 1.81s\n688:\tlearn: 17.7772421\ttotal: 3.99s\tremaining: 1.8s\n689:\tlearn: 17.7602224\ttotal: 3.99s\tremaining: 1.79s\n690:\tlearn: 17.7190176\ttotal: 4s\tremaining: 1.79s\n691:\tlearn: 17.6893391\ttotal: 4s\tremaining: 1.78s\n692:\tlearn: 17.6610817\ttotal: 4.01s\tremaining: 1.77s\n693:\tlearn: 17.6426677\ttotal: 4.03s\tremaining: 1.78s\n694:\tlearn: 17.6136257\ttotal: 4.04s\tremaining: 1.77s\n695:\tlearn: 17.5547868\ttotal: 4.04s\tremaining: 1.76s\n696:\tlearn: 17.5275452\ttotal: 4.04s\tremaining: 1.76s\n697:\tlearn: 17.5257724\ttotal: 4.05s\tremaining: 1.75s\n698:\tlearn: 17.4975157\ttotal: 4.06s\tremaining: 1.75s\n699:\tlearn: 17.4886460\ttotal: 4.06s\tremaining: 1.74s\n700:\tlearn: 17.4623180\ttotal: 4.06s\tremaining: 1.73s\n701:\tlearn: 17.4473639\ttotal: 4.07s\tremaining: 1.73s\n702:\tlearn: 17.4248128\ttotal: 4.08s\tremaining: 1.72s\n703:\tlearn: 17.3932772\ttotal: 4.09s\tremaining: 1.72s\n704:\tlearn: 17.3770675\ttotal: 4.1s\tremaining: 1.72s\n705:\tlearn: 17.3728715\ttotal: 4.11s\tremaining: 1.71s\n706:\tlearn: 17.3518814\ttotal: 4.12s\tremaining: 1.71s\n707:\tlearn: 17.3053999\ttotal: 4.12s\tremaining: 1.7s\n708:\tlearn: 17.3027981\ttotal: 4.12s\tremaining: 1.69s\n709:\tlearn: 17.2766074\ttotal: 4.13s\tremaining: 1.69s\n710:\tlearn: 17.2450227\ttotal: 4.13s\tremaining: 1.68s\n711:\tlearn: 17.2396051\ttotal: 4.14s\tremaining: 1.67s\n712:\tlearn: 17.2379176\ttotal: 4.14s\tremaining: 1.67s\n713:\tlearn: 17.2138447\ttotal: 4.14s\tremaining: 1.66s\n714:\tlearn: 17.2124284\ttotal: 4.15s\tremaining: 1.65s\n715:\tlearn: 17.1938779\ttotal: 4.15s\tremaining: 1.65s\n716:\tlearn: 17.1545090\ttotal: 4.16s\tremaining: 1.64s\n717:\tlearn: 17.1528551\ttotal: 4.16s\tremaining: 1.63s\n718:\tlearn: 17.1074467\ttotal: 4.17s\tremaining: 1.63s\n719:\tlearn: 17.0577925\ttotal: 4.17s\tremaining: 1.62s\n720:\tlearn: 17.0530600\ttotal: 4.17s\tremaining: 1.61s\n721:\tlearn: 17.0102565\ttotal: 4.18s\tremaining: 1.61s\n722:\tlearn: 16.9911365\ttotal: 4.18s\tremaining: 1.6s\n723:\tlearn: 16.9633482\ttotal: 4.19s\tremaining: 1.6s\n724:\tlearn: 16.9297317\ttotal: 4.2s\tremaining: 1.59s\n725:\tlearn: 16.9051761\ttotal: 4.22s\tremaining: 1.59s\n726:\tlearn: 16.8805177\ttotal: 4.23s\tremaining: 1.59s\n727:\tlearn: 16.8490286\ttotal: 4.24s\tremaining: 1.58s\n728:\tlearn: 16.8174442\ttotal: 4.25s\tremaining: 1.58s\n729:\tlearn: 16.7914692\ttotal: 4.26s\tremaining: 1.58s\n730:\tlearn: 16.7738262\ttotal: 4.27s\tremaining: 1.57s\n731:\tlearn: 16.7528897\ttotal: 4.28s\tremaining: 1.56s\n732:\tlearn: 16.7448755\ttotal: 4.28s\tremaining: 1.56s\n733:\tlearn: 16.7059469\ttotal: 4.3s\tremaining: 1.56s\n734:\tlearn: 16.6635600\ttotal: 4.31s\tremaining: 1.55s\n735:\tlearn: 16.6426617\ttotal: 4.32s\tremaining: 1.55s\n736:\tlearn: 16.6245885\ttotal: 4.33s\tremaining: 1.54s\n737:\tlearn: 16.6211854\ttotal: 4.34s\tremaining: 1.54s\n738:\tlearn: 16.6069660\ttotal: 4.34s\tremaining: 1.53s\n739:\tlearn: 16.5742779\ttotal: 4.35s\tremaining: 1.53s\n740:\tlearn: 16.5557761\ttotal: 4.37s\tremaining: 1.53s\n741:\tlearn: 16.5544714\ttotal: 4.37s\tremaining: 1.52s\n742:\tlearn: 16.5050291\ttotal: 4.38s\tremaining: 1.51s\n743:\tlearn: 16.4735573\ttotal: 4.38s\tremaining: 1.51s\n744:\tlearn: 16.4486684\ttotal: 4.39s\tremaining: 1.5s\n745:\tlearn: 16.4061153\ttotal: 4.4s\tremaining: 1.5s\n746:\tlearn: 16.3691797\ttotal: 4.42s\tremaining: 1.5s\n747:\tlearn: 16.3611297\ttotal: 4.43s\tremaining: 1.49s\n748:\tlearn: 16.3310098\ttotal: 4.43s\tremaining: 1.49s\n749:\tlearn: 16.3098836\ttotal: 4.44s\tremaining: 1.48s\n750:\tlearn: 16.2999696\ttotal: 4.45s\tremaining: 1.48s\n751:\tlearn: 16.2916890\ttotal: 4.45s\tremaining: 1.47s\n752:\tlearn: 16.2461118\ttotal: 4.46s\tremaining: 1.46s\n753:\tlearn: 16.2089509\ttotal: 4.46s\tremaining: 1.46s\n754:\tlearn: 16.2008458\ttotal: 4.47s\tremaining: 1.45s\n755:\tlearn: 16.1736087\ttotal: 4.48s\tremaining: 1.44s\n756:\tlearn: 16.1248820\ttotal: 4.48s\tremaining: 1.44s\n757:\tlearn: 16.0894192\ttotal: 4.49s\tremaining: 1.43s\n758:\tlearn: 16.0611104\ttotal: 4.49s\tremaining: 1.43s\n759:\tlearn: 16.0192909\ttotal: 4.5s\tremaining: 1.42s\n760:\tlearn: 15.9976160\ttotal: 4.5s\tremaining: 1.41s\n761:\tlearn: 15.9761587\ttotal: 4.51s\tremaining: 1.41s\n762:\tlearn: 15.9471345\ttotal: 4.51s\tremaining: 1.4s\n763:\tlearn: 15.9313685\ttotal: 4.52s\tremaining: 1.4s\n764:\tlearn: 15.8913459\ttotal: 4.52s\tremaining: 1.39s\n765:\tlearn: 15.8690902\ttotal: 4.53s\tremaining: 1.39s\n766:\tlearn: 15.8677803\ttotal: 4.54s\tremaining: 1.38s\n767:\tlearn: 15.8343797\ttotal: 4.55s\tremaining: 1.37s\n768:\tlearn: 15.8312687\ttotal: 4.55s\tremaining: 1.37s\n769:\tlearn: 15.7928734\ttotal: 4.56s\tremaining: 1.36s\n770:\tlearn: 15.7782812\ttotal: 4.56s\tremaining: 1.35s\n771:\tlearn: 15.7688691\ttotal: 4.57s\tremaining: 1.35s\n772:\tlearn: 15.7573911\ttotal: 4.57s\tremaining: 1.34s\n773:\tlearn: 15.7373617\ttotal: 4.57s\tremaining: 1.33s\n774:\tlearn: 15.7253742\ttotal: 4.6s\tremaining: 1.34s\n775:\tlearn: 15.6718815\ttotal: 4.61s\tremaining: 1.33s\n776:\tlearn: 15.6449970\ttotal: 4.62s\tremaining: 1.32s\n777:\tlearn: 15.6363191\ttotal: 4.62s\tremaining: 1.32s\n778:\tlearn: 15.6302014\ttotal: 4.63s\tremaining: 1.31s\n779:\tlearn: 15.5924651\ttotal: 4.63s\tremaining: 1.31s\n780:\tlearn: 15.5820499\ttotal: 4.64s\tremaining: 1.3s\n781:\tlearn: 15.5529332\ttotal: 4.66s\tremaining: 1.3s\n782:\tlearn: 15.5184662\ttotal: 4.66s\tremaining: 1.29s\n783:\tlearn: 15.4926404\ttotal: 4.67s\tremaining: 1.29s\n784:\tlearn: 15.4891677\ttotal: 4.68s\tremaining: 1.28s\n785:\tlearn: 15.4797357\ttotal: 4.68s\tremaining: 1.27s\n786:\tlearn: 15.4525407\ttotal: 4.7s\tremaining: 1.27s\n787:\tlearn: 15.4271736\ttotal: 4.71s\tremaining: 1.27s\n788:\tlearn: 15.4115710\ttotal: 4.71s\tremaining: 1.26s\n789:\tlearn: 15.3792909\ttotal: 4.72s\tremaining: 1.25s\n790:\tlearn: 15.3465653\ttotal: 4.74s\tremaining: 1.25s\n791:\tlearn: 15.3258654\ttotal: 4.74s\tremaining: 1.24s\n792:\tlearn: 15.3049953\ttotal: 4.75s\tremaining: 1.24s\n793:\tlearn: 15.2586770\ttotal: 4.76s\tremaining: 1.23s\n794:\tlearn: 15.2319178\ttotal: 4.77s\tremaining: 1.23s\n795:\tlearn: 15.2215215\ttotal: 4.77s\tremaining: 1.22s\n796:\tlearn: 15.1974122\ttotal: 4.77s\tremaining: 1.22s\n797:\tlearn: 15.1532932\ttotal: 4.78s\tremaining: 1.21s\n798:\tlearn: 15.1261510\ttotal: 4.78s\tremaining: 1.2s\n799:\tlearn: 15.0867619\ttotal: 4.79s\tremaining: 1.2s\n800:\tlearn: 15.0853574\ttotal: 4.79s\tremaining: 1.19s\n801:\tlearn: 15.0659188\ttotal: 4.8s\tremaining: 1.19s\n802:\tlearn: 15.0292298\ttotal: 4.81s\tremaining: 1.18s\n803:\tlearn: 15.0277363\ttotal: 4.81s\tremaining: 1.17s\n804:\tlearn: 14.9994377\ttotal: 4.82s\tremaining: 1.17s\n805:\tlearn: 14.9821276\ttotal: 4.82s\tremaining: 1.16s\n806:\tlearn: 14.9810121\ttotal: 4.83s\tremaining: 1.15s\n807:\tlearn: 14.9618713\ttotal: 4.83s\tremaining: 1.15s\n808:\tlearn: 14.9604894\ttotal: 4.84s\tremaining: 1.14s\n809:\tlearn: 14.9403486\ttotal: 4.84s\tremaining: 1.14s\n810:\tlearn: 14.9106053\ttotal: 4.85s\tremaining: 1.13s\n811:\tlearn: 14.8862595\ttotal: 4.86s\tremaining: 1.12s\n812:\tlearn: 14.8831791\ttotal: 4.86s\tremaining: 1.12s\n813:\tlearn: 14.8478017\ttotal: 4.87s\tremaining: 1.11s\n814:\tlearn: 14.8148617\ttotal: 4.88s\tremaining: 1.11s\n815:\tlearn: 14.8069006\ttotal: 4.89s\tremaining: 1.1s\n816:\tlearn: 14.7954930\ttotal: 4.89s\tremaining: 1.09s\n817:\tlearn: 14.7898978\ttotal: 4.9s\tremaining: 1.09s\n818:\tlearn: 14.7375658\ttotal: 4.9s\tremaining: 1.08s\n819:\tlearn: 14.7069678\ttotal: 4.91s\tremaining: 1.08s\n820:\tlearn: 14.6718456\ttotal: 4.91s\tremaining: 1.07s\n821:\tlearn: 14.6533326\ttotal: 4.92s\tremaining: 1.06s\n822:\tlearn: 14.6253067\ttotal: 4.92s\tremaining: 1.06s\n823:\tlearn: 14.6222783\ttotal: 4.92s\tremaining: 1.05s\n824:\tlearn: 14.6168980\ttotal: 4.93s\tremaining: 1.04s\n825:\tlearn: 14.5940329\ttotal: 4.93s\tremaining: 1.04s\n826:\tlearn: 14.5436860\ttotal: 4.94s\tremaining: 1.03s\n827:\tlearn: 14.5101654\ttotal: 4.94s\tremaining: 1.03s\n828:\tlearn: 14.4759376\ttotal: 4.95s\tremaining: 1.02s\n829:\tlearn: 14.4684591\ttotal: 4.95s\tremaining: 1.01s\n830:\tlearn: 14.4491840\ttotal: 4.96s\tremaining: 1.01s\n831:\tlearn: 14.4335564\ttotal: 4.96s\tremaining: 1s\n832:\tlearn: 14.4109067\ttotal: 4.97s\tremaining: 996ms\n833:\tlearn: 14.3826249\ttotal: 4.97s\tremaining: 989ms\n834:\tlearn: 14.3482505\ttotal: 4.97s\tremaining: 983ms\n835:\tlearn: 14.3220514\ttotal: 4.98s\tremaining: 978ms\n836:\tlearn: 14.3053136\ttotal: 4.99s\tremaining: 971ms\n837:\tlearn: 14.2748648\ttotal: 4.99s\tremaining: 965ms\n838:\tlearn: 14.2396084\ttotal: 5s\tremaining: 959ms\n839:\tlearn: 14.1998456\ttotal: 5s\tremaining: 953ms\n840:\tlearn: 14.1799814\ttotal: 5.01s\tremaining: 947ms\n841:\tlearn: 14.1558426\ttotal: 5.01s\tremaining: 940ms\n842:\tlearn: 14.1249892\ttotal: 5.01s\tremaining: 934ms\n843:\tlearn: 14.1143617\ttotal: 5.02s\tremaining: 928ms\n844:\tlearn: 14.0857254\ttotal: 5.03s\tremaining: 922ms\n845:\tlearn: 14.0840981\ttotal: 5.03s\tremaining: 916ms\n846:\tlearn: 14.0685899\ttotal: 5.04s\tremaining: 911ms\n847:\tlearn: 14.0673222\ttotal: 5.05s\tremaining: 905ms\n848:\tlearn: 14.0449088\ttotal: 5.06s\tremaining: 900ms\n849:\tlearn: 14.0259155\ttotal: 5.07s\tremaining: 894ms\n850:\tlearn: 14.0223928\ttotal: 5.08s\tremaining: 889ms\n851:\tlearn: 13.9861796\ttotal: 5.08s\tremaining: 883ms\n852:\tlearn: 13.9643676\ttotal: 5.09s\tremaining: 877ms\n853:\tlearn: 13.9487398\ttotal: 5.09s\tremaining: 870ms\n854:\tlearn: 13.9351930\ttotal: 5.09s\tremaining: 864ms\n855:\tlearn: 13.9143300\ttotal: 5.1s\tremaining: 858ms\n856:\tlearn: 13.8811448\ttotal: 5.1s\tremaining: 852ms\n857:\tlearn: 13.8799884\ttotal: 5.11s\tremaining: 845ms\n858:\tlearn: 13.8476027\ttotal: 5.11s\tremaining: 839ms\n859:\tlearn: 13.8414210\ttotal: 5.12s\tremaining: 833ms\n860:\tlearn: 13.8387808\ttotal: 5.12s\tremaining: 827ms\n861:\tlearn: 13.8081295\ttotal: 5.12s\tremaining: 820ms\n862:\tlearn: 13.7907162\ttotal: 5.13s\tremaining: 815ms\n863:\tlearn: 13.7497000\ttotal: 5.14s\tremaining: 808ms\n864:\tlearn: 13.7274325\ttotal: 5.14s\tremaining: 802ms\n865:\tlearn: 13.7143081\ttotal: 5.14s\tremaining: 796ms\n866:\tlearn: 13.7120751\ttotal: 5.15s\tremaining: 790ms\n867:\tlearn: 13.6869634\ttotal: 5.15s\tremaining: 784ms\n868:\tlearn: 13.6766103\ttotal: 5.16s\tremaining: 777ms\n869:\tlearn: 13.6395397\ttotal: 5.16s\tremaining: 771ms\n870:\tlearn: 13.6367753\ttotal: 5.17s\tremaining: 765ms\n871:\tlearn: 13.6212018\ttotal: 5.17s\tremaining: 759ms\n872:\tlearn: 13.6064682\ttotal: 5.18s\tremaining: 754ms\n873:\tlearn: 13.5934854\ttotal: 5.18s\tremaining: 748ms\n874:\tlearn: 13.5680268\ttotal: 5.19s\tremaining: 742ms\n875:\tlearn: 13.5285161\ttotal: 5.19s\tremaining: 735ms\n876:\tlearn: 13.5038909\ttotal: 5.2s\tremaining: 729ms\n877:\tlearn: 13.4797558\ttotal: 5.2s\tremaining: 723ms\n878:\tlearn: 13.4654009\ttotal: 5.21s\tremaining: 717ms\n879:\tlearn: 13.4637746\ttotal: 5.21s\tremaining: 711ms\n880:\tlearn: 13.4563148\ttotal: 5.22s\tremaining: 705ms\n881:\tlearn: 13.4511094\ttotal: 5.23s\tremaining: 699ms\n882:\tlearn: 13.4311342\ttotal: 5.23s\tremaining: 693ms\n883:\tlearn: 13.4116542\ttotal: 5.24s\tremaining: 687ms\n884:\tlearn: 13.4084120\ttotal: 5.25s\tremaining: 682ms\n885:\tlearn: 13.4059085\ttotal: 5.26s\tremaining: 677ms\n886:\tlearn: 13.3888661\ttotal: 5.26s\tremaining: 671ms\n887:\tlearn: 13.3796120\ttotal: 5.27s\tremaining: 665ms\n888:\tlearn: 13.3552047\ttotal: 5.28s\tremaining: 659ms\n889:\tlearn: 13.3280170\ttotal: 5.29s\tremaining: 654ms\n890:\tlearn: 13.3126360\ttotal: 5.29s\tremaining: 647ms\n891:\tlearn: 13.2779901\ttotal: 5.31s\tremaining: 643ms\n892:\tlearn: 13.2713624\ttotal: 5.33s\tremaining: 638ms\n893:\tlearn: 13.2580314\ttotal: 5.36s\tremaining: 635ms\n894:\tlearn: 13.2449515\ttotal: 5.39s\tremaining: 632ms\n895:\tlearn: 13.2282485\ttotal: 5.43s\tremaining: 631ms\n896:\tlearn: 13.2222582\ttotal: 5.45s\tremaining: 626ms\n897:\tlearn: 13.2129415\ttotal: 5.47s\tremaining: 621ms\n898:\tlearn: 13.2087695\ttotal: 5.47s\tremaining: 615ms\n899:\tlearn: 13.1981841\ttotal: 5.49s\tremaining: 610ms\n900:\tlearn: 13.1716376\ttotal: 5.52s\tremaining: 606ms\n901:\tlearn: 13.1602316\ttotal: 5.53s\tremaining: 601ms\n902:\tlearn: 13.1347509\ttotal: 5.55s\tremaining: 597ms\n903:\tlearn: 13.1329863\ttotal: 5.56s\tremaining: 591ms\n904:\tlearn: 13.0963228\ttotal: 5.57s\tremaining: 584ms\n905:\tlearn: 13.0814845\ttotal: 5.58s\tremaining: 578ms\n906:\tlearn: 13.0542100\ttotal: 5.6s\tremaining: 574ms\n907:\tlearn: 13.0511857\ttotal: 5.61s\tremaining: 568ms\n908:\tlearn: 13.0402374\ttotal: 5.61s\tremaining: 562ms\n909:\tlearn: 13.0351991\ttotal: 5.62s\tremaining: 556ms\n910:\tlearn: 13.0075515\ttotal: 5.63s\tremaining: 550ms\n911:\tlearn: 13.0014333\ttotal: 5.65s\tremaining: 545ms\n912:\tlearn: 12.9876267\ttotal: 5.65s\tremaining: 539ms\n913:\tlearn: 12.9721831\ttotal: 5.66s\tremaining: 532ms\n914:\tlearn: 12.9601536\ttotal: 5.67s\tremaining: 527ms\n915:\tlearn: 12.9437113\ttotal: 5.67s\tremaining: 520ms\n916:\tlearn: 12.9056875\ttotal: 5.68s\tremaining: 514ms\n917:\tlearn: 12.8806721\ttotal: 5.7s\tremaining: 509ms\n918:\tlearn: 12.8643914\ttotal: 5.71s\tremaining: 504ms\n919:\tlearn: 12.8299488\ttotal: 5.72s\tremaining: 497ms\n920:\tlearn: 12.7799815\ttotal: 5.73s\tremaining: 492ms\n921:\tlearn: 12.7517904\ttotal: 5.74s\tremaining: 486ms\n922:\tlearn: 12.7509740\ttotal: 5.75s\tremaining: 479ms\n923:\tlearn: 12.7493559\ttotal: 5.75s\tremaining: 473ms\n924:\tlearn: 12.7312776\ttotal: 5.75s\tremaining: 467ms\n925:\tlearn: 12.7118640\ttotal: 5.77s\tremaining: 461ms\n926:\tlearn: 12.6941726\ttotal: 5.78s\tremaining: 455ms\n927:\tlearn: 12.6808203\ttotal: 5.79s\tremaining: 449ms\n928:\tlearn: 12.6502433\ttotal: 5.8s\tremaining: 443ms\n929:\tlearn: 12.6354127\ttotal: 5.81s\tremaining: 437ms\n930:\tlearn: 12.6340708\ttotal: 5.81s\tremaining: 431ms\n931:\tlearn: 12.6064797\ttotal: 5.82s\tremaining: 424ms\n932:\tlearn: 12.5851273\ttotal: 5.83s\tremaining: 418ms\n933:\tlearn: 12.5692238\ttotal: 5.83s\tremaining: 412ms\n934:\tlearn: 12.5546184\ttotal: 5.83s\tremaining: 405ms\n935:\tlearn: 12.5397010\ttotal: 5.83s\tremaining: 399ms\n936:\tlearn: 12.5292748\ttotal: 5.84s\tremaining: 393ms\n937:\tlearn: 12.5003842\ttotal: 5.84s\tremaining: 386ms\n938:\tlearn: 12.4849495\ttotal: 5.85s\tremaining: 380ms\n939:\tlearn: 12.4658527\ttotal: 5.86s\tremaining: 374ms\n940:\tlearn: 12.4595108\ttotal: 5.86s\tremaining: 367ms\n941:\tlearn: 12.4439952\ttotal: 5.87s\tremaining: 361ms\n942:\tlearn: 12.4296626\ttotal: 5.88s\tremaining: 355ms\n943:\tlearn: 12.4266257\ttotal: 5.88s\tremaining: 349ms\n944:\tlearn: 12.4176866\ttotal: 5.89s\tremaining: 343ms\n945:\tlearn: 12.3907018\ttotal: 5.9s\tremaining: 337ms\n946:\tlearn: 12.3742231\ttotal: 5.91s\tremaining: 331ms\n947:\tlearn: 12.3692073\ttotal: 5.91s\tremaining: 324ms\n948:\tlearn: 12.3530962\ttotal: 5.92s\tremaining: 318ms\n949:\tlearn: 12.3383812\ttotal: 5.92s\tremaining: 312ms\n950:\tlearn: 12.3156022\ttotal: 5.92s\tremaining: 305ms\n951:\tlearn: 12.2989746\ttotal: 5.93s\tremaining: 299ms\n952:\tlearn: 12.2791013\ttotal: 5.94s\tremaining: 293ms\n953:\tlearn: 12.2633498\ttotal: 5.94s\tremaining: 286ms\n954:\tlearn: 12.2626656\ttotal: 5.95s\tremaining: 280ms\n955:\tlearn: 12.2599265\ttotal: 5.95s\tremaining: 274ms\n956:\tlearn: 12.2551792\ttotal: 5.95s\tremaining: 267ms\n957:\tlearn: 12.2421881\ttotal: 5.96s\tremaining: 261ms\n958:\tlearn: 12.2185590\ttotal: 5.96s\tremaining: 255ms\n959:\tlearn: 12.2061264\ttotal: 5.97s\tremaining: 249ms\n960:\tlearn: 12.1912692\ttotal: 5.97s\tremaining: 242ms\n961:\tlearn: 12.1640846\ttotal: 5.98s\tremaining: 236ms\n962:\tlearn: 12.1520239\ttotal: 5.98s\tremaining: 230ms\n963:\tlearn: 12.1306462\ttotal: 5.99s\tremaining: 224ms\n964:\tlearn: 12.0883090\ttotal: 5.99s\tremaining: 217ms\n965:\tlearn: 12.0861920\ttotal: 6s\tremaining: 211ms\n966:\tlearn: 12.0553155\ttotal: 6s\tremaining: 205ms\n967:\tlearn: 12.0284113\ttotal: 6.01s\tremaining: 199ms\n968:\tlearn: 12.0107765\ttotal: 6.01s\tremaining: 192ms\n969:\tlearn: 11.9828483\ttotal: 6.02s\tremaining: 186ms\n970:\tlearn: 11.9637257\ttotal: 6.03s\tremaining: 180ms\n971:\tlearn: 11.9354456\ttotal: 6.04s\tremaining: 174ms\n972:\tlearn: 11.9077267\ttotal: 6.04s\tremaining: 168ms\n973:\tlearn: 11.8907890\ttotal: 6.06s\tremaining: 162ms\n974:\tlearn: 11.8726540\ttotal: 6.07s\tremaining: 156ms\n975:\tlearn: 11.8625602\ttotal: 6.07s\tremaining: 149ms\n976:\tlearn: 11.8612511\ttotal: 6.08s\tremaining: 143ms\n977:\tlearn: 11.8414599\ttotal: 6.08s\tremaining: 137ms\n978:\tlearn: 11.8310339\ttotal: 6.08s\tremaining: 131ms\n979:\tlearn: 11.8117763\ttotal: 6.09s\tremaining: 124ms\n980:\tlearn: 11.8005899\ttotal: 6.09s\tremaining: 118ms\n981:\tlearn: 11.7784302\ttotal: 6.1s\tremaining: 112ms\n982:\tlearn: 11.7652011\ttotal: 6.1s\tremaining: 106ms\n983:\tlearn: 11.7401844\ttotal: 6.11s\tremaining: 99.3ms\n984:\tlearn: 11.7268480\ttotal: 6.12s\tremaining: 93.1ms\n985:\tlearn: 11.7258188\ttotal: 6.12s\tremaining: 86.9ms\n986:\tlearn: 11.7180110\ttotal: 6.12s\tremaining: 80.6ms\n987:\tlearn: 11.7076471\ttotal: 6.13s\tremaining: 74.5ms\n988:\tlearn: 11.6871581\ttotal: 6.13s\tremaining: 68.2ms\n989:\tlearn: 11.6713855\ttotal: 6.14s\tremaining: 62ms\n990:\tlearn: 11.6461863\ttotal: 6.15s\tremaining: 55.8ms\n991:\tlearn: 11.6216796\ttotal: 6.15s\tremaining: 49.6ms\n992:\tlearn: 11.5971384\ttotal: 6.15s\tremaining: 43.4ms\n993:\tlearn: 11.5729111\ttotal: 6.16s\tremaining: 37.2ms\n994:\tlearn: 11.5518766\ttotal: 6.16s\tremaining: 31ms\n995:\tlearn: 11.5412239\ttotal: 6.17s\tremaining: 24.8ms\n996:\tlearn: 11.5310523\ttotal: 6.17s\tremaining: 18.6ms\n997:\tlearn: 11.5099954\ttotal: 6.18s\tremaining: 12.4ms\n998:\tlearn: 11.4950000\ttotal: 6.19s\tremaining: 6.19ms\n999:\tlearn: 11.4822458\ttotal: 6.19s\tremaining: 0us\n"
    },
    {
     "output_type": "execute_result",
     "data": {
      "text/plain": "<catboost.core.CatBoostRegressor at 0x7f5a1300a290>"
     },
     "metadata": {},
     "execution_count": 67
    }
   ],
   "source": [
    "from catboost import CatBoostRegressor\n",
    "cat_model = CatBoostRegressor()\n",
    "cat_model.fit(X_train, y_train)"
   ]
  },
  {
   "cell_type": "code",
   "execution_count": 68,
   "metadata": {},
   "outputs": [
    {
     "output_type": "execute_result",
     "data": {
      "text/plain": "0.5484324814547379"
     },
     "metadata": {},
     "execution_count": 68
    }
   ],
   "source": [
    "y_pred = cat_model.predict(X_test)\n",
    "r2_score(y_test, y_pred)"
   ]
  },
  {
   "cell_type": "markdown",
   "metadata": {},
   "source": [
    "## Applying k-fold cross validation"
   ]
  },
  {
   "cell_type": "code",
   "execution_count": 69,
   "metadata": {},
   "outputs": [],
   "source": [
    "from sklearn.model_selection import cross_val_score\n",
    "models = [regressor, svr, svr1, best_svr, dt, rf, cat_model]\n",
    "accuracies = []\n",
    "for model in models:\n",
    "    accuracies.append(cross_val_score(\n",
    "        estimator=model,\n",
    "        X=X_train,\n",
    "        y=y_train,\n",
    "        cv=10,\n",
    "        n_jobs=-1\n",
    "    ))"
   ]
  },
  {
   "cell_type": "code",
   "execution_count": 70,
   "metadata": {},
   "outputs": [
    {
     "output_type": "execute_result",
     "data": {
      "text/plain": "                    Accuracy  Standard Deviation\nLinear Regression  46.425463            8.049661\nLinear SVR         45.802923            8.654703\nSVR                11.510631            7.098958\nBest SVR           45.925567            8.584150\nDecisionTree      -24.380145           26.014407\nRandomForest       38.343702           12.399156\nCatBoost           34.248442           15.448366",
      "text/html": "<div>\n<style scoped>\n    .dataframe tbody tr th:only-of-type {\n        vertical-align: middle;\n    }\n\n    .dataframe tbody tr th {\n        vertical-align: top;\n    }\n\n    .dataframe thead th {\n        text-align: right;\n    }\n</style>\n<table border=\"1\" class=\"dataframe\">\n  <thead>\n    <tr style=\"text-align: right;\">\n      <th></th>\n      <th>Accuracy</th>\n      <th>Standard Deviation</th>\n    </tr>\n  </thead>\n  <tbody>\n    <tr>\n      <td>Linear Regression</td>\n      <td>46.425463</td>\n      <td>8.049661</td>\n    </tr>\n    <tr>\n      <td>Linear SVR</td>\n      <td>45.802923</td>\n      <td>8.654703</td>\n    </tr>\n    <tr>\n      <td>SVR</td>\n      <td>11.510631</td>\n      <td>7.098958</td>\n    </tr>\n    <tr>\n      <td>Best SVR</td>\n      <td>45.925567</td>\n      <td>8.584150</td>\n    </tr>\n    <tr>\n      <td>DecisionTree</td>\n      <td>-24.380145</td>\n      <td>26.014407</td>\n    </tr>\n    <tr>\n      <td>RandomForest</td>\n      <td>38.343702</td>\n      <td>12.399156</td>\n    </tr>\n    <tr>\n      <td>CatBoost</td>\n      <td>34.248442</td>\n      <td>15.448366</td>\n    </tr>\n  </tbody>\n</table>\n</div>"
     },
     "metadata": {},
     "execution_count": 70
    }
   ],
   "source": [
    "a = {'Accuracy':[], \"Standard Deviation\":[]}\n",
    "for accuracy in accuracies:\n",
    "    a['Accuracy'].append(accuracy.mean()*100)\n",
    "    a['Standard Deviation'].append(accuracy.std()*100)\n",
    "\n",
    "pd.DataFrame(a, index=['Linear Regression', 'Linear SVR', 'SVR', 'Best SVR', 'DecisionTree', 'RandomForest', 'CatBoost'])"
   ]
  },
  {
   "cell_type": "code",
   "execution_count": null,
   "metadata": {},
   "outputs": [],
   "source": []
  }
 ]
}