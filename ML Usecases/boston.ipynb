{
 "metadata": {
  "language_info": {
   "codemirror_mode": {
    "name": "ipython",
    "version": 3
   },
   "file_extension": ".py",
   "mimetype": "text/x-python",
   "name": "python",
   "nbconvert_exporter": "python",
   "pygments_lexer": "ipython3",
   "version": 3
  },
  "orig_nbformat": 2,
  "kernelspec": {
   "name": "python_defaultSpec_1596028002276",
   "display_name": "Python 3.7.4 64-bit ('Learning': conda)"
  }
 },
 "nbformat": 4,
 "nbformat_minor": 2,
 "cells": [
  {
   "cell_type": "markdown",
   "metadata": {},
   "source": [
    "# Boston Dataset analysis"
   ]
  },
  {
   "cell_type": "markdown",
   "metadata": {},
   "source": [
    "## Importing the libraries"
   ]
  },
  {
   "cell_type": "code",
   "execution_count": 1,
   "metadata": {},
   "outputs": [],
   "source": [
    "import numpy as np\n",
    "import pandas as pd"
   ]
  },
  {
   "cell_type": "markdown",
   "metadata": {},
   "source": [
    "## Importing the Dataset"
   ]
  },
  {
   "cell_type": "code",
   "execution_count": 2,
   "metadata": {
    "tags": []
   },
   "outputs": [
    {
     "output_type": "stream",
     "name": "stdout",
     "text": ".. _boston_dataset:\n\nBoston house prices dataset\n---------------------------\n\n**Data Set Characteristics:**  \n\n    :Number of Instances: 506 \n\n    :Number of Attributes: 13 numeric/categorical predictive. Median Value (attribute 14) is usually the target.\n\n    :Attribute Information (in order):\n        - CRIM     per capita crime rate by town\n        - ZN       proportion of residential land zoned for lots over 25,000 sq.ft.\n        - INDUS    proportion of non-retail business acres per town\n        - CHAS     Charles River dummy variable (= 1 if tract bounds river; 0 otherwise)\n        - NOX      nitric oxides concentration (parts per 10 million)\n        - RM       average number of rooms per dwelling\n        - AGE      proportion of owner-occupied units built prior to 1940\n        - DIS      weighted distances to five Boston employment centres\n        - RAD      index of accessibility to radial highways\n        - TAX      full-value property-tax rate per $10,000\n        - PTRATIO  pupil-teacher ratio by town\n        - B        1000(Bk - 0.63)^2 where Bk is the proportion of blacks by town\n        - LSTAT    % lower status of the population\n        - MEDV     Median value of owner-occupied homes in $1000's\n\n    :Missing Attribute Values: None\n\n    :Creator: Harrison, D. and Rubinfeld, D.L.\n\nThis is a copy of UCI ML housing dataset.\nhttps://archive.ics.uci.edu/ml/machine-learning-databases/housing/\n\n\nThis dataset was taken from the StatLib library which is maintained at Carnegie Mellon University.\n\nThe Boston house-price data of Harrison, D. and Rubinfeld, D.L. 'Hedonic\nprices and the demand for clean air', J. Environ. Economics & Management,\nvol.5, 81-102, 1978.   Used in Belsley, Kuh & Welsch, 'Regression diagnostics\n...', Wiley, 1980.   N.B. Various transformations are used in the table on\npages 244-261 of the latter.\n\nThe Boston house-price data has been used in many machine learning papers that address regression\nproblems.   \n     \n.. topic:: References\n\n   - Belsley, Kuh & Welsch, 'Regression diagnostics: Identifying Influential Data and Sources of Collinearity', Wiley, 1980. 244-261.\n   - Quinlan,R. (1993). Combining Instance-Based and Model-Based Learning. In Proceedings on the Tenth International Conference of Machine Learning, 236-243, University of Massachusetts, Amherst. Morgan Kaufmann.\n\n"
    }
   ],
   "source": [
    "from sklearn.datasets import load_boston\n",
    "boston = load_boston()\n",
    "print(boston['DESCR'])"
   ]
  },
  {
   "cell_type": "code",
   "execution_count": 3,
   "metadata": {},
   "outputs": [
    {
     "output_type": "execute_result",
     "data": {
      "text/plain": "        CRIM    ZN  INDUS  CHAS    NOX     RM   AGE     DIS  RAD    TAX  \\\n0    0.00632  18.0   2.31   0.0  0.538  6.575  65.2  4.0900  1.0  296.0   \n1    0.02731   0.0   7.07   0.0  0.469  6.421  78.9  4.9671  2.0  242.0   \n2    0.02729   0.0   7.07   0.0  0.469  7.185  61.1  4.9671  2.0  242.0   \n3    0.03237   0.0   2.18   0.0  0.458  6.998  45.8  6.0622  3.0  222.0   \n4    0.06905   0.0   2.18   0.0  0.458  7.147  54.2  6.0622  3.0  222.0   \n..       ...   ...    ...   ...    ...    ...   ...     ...  ...    ...   \n501  0.06263   0.0  11.93   0.0  0.573  6.593  69.1  2.4786  1.0  273.0   \n502  0.04527   0.0  11.93   0.0  0.573  6.120  76.7  2.2875  1.0  273.0   \n503  0.06076   0.0  11.93   0.0  0.573  6.976  91.0  2.1675  1.0  273.0   \n504  0.10959   0.0  11.93   0.0  0.573  6.794  89.3  2.3889  1.0  273.0   \n505  0.04741   0.0  11.93   0.0  0.573  6.030  80.8  2.5050  1.0  273.0   \n\n     PTRATIO       B  LSTAT  target  \n0       15.3  396.90   4.98    24.0  \n1       17.8  396.90   9.14    21.6  \n2       17.8  392.83   4.03    34.7  \n3       18.7  394.63   2.94    33.4  \n4       18.7  396.90   5.33    36.2  \n..       ...     ...    ...     ...  \n501     21.0  391.99   9.67    22.4  \n502     21.0  396.90   9.08    20.6  \n503     21.0  396.90   5.64    23.9  \n504     21.0  393.45   6.48    22.0  \n505     21.0  396.90   7.88    11.9  \n\n[506 rows x 14 columns]",
      "text/html": "<div>\n<style scoped>\n    .dataframe tbody tr th:only-of-type {\n        vertical-align: middle;\n    }\n\n    .dataframe tbody tr th {\n        vertical-align: top;\n    }\n\n    .dataframe thead th {\n        text-align: right;\n    }\n</style>\n<table border=\"1\" class=\"dataframe\">\n  <thead>\n    <tr style=\"text-align: right;\">\n      <th></th>\n      <th>CRIM</th>\n      <th>ZN</th>\n      <th>INDUS</th>\n      <th>CHAS</th>\n      <th>NOX</th>\n      <th>RM</th>\n      <th>AGE</th>\n      <th>DIS</th>\n      <th>RAD</th>\n      <th>TAX</th>\n      <th>PTRATIO</th>\n      <th>B</th>\n      <th>LSTAT</th>\n      <th>target</th>\n    </tr>\n  </thead>\n  <tbody>\n    <tr>\n      <td>0</td>\n      <td>0.00632</td>\n      <td>18.0</td>\n      <td>2.31</td>\n      <td>0.0</td>\n      <td>0.538</td>\n      <td>6.575</td>\n      <td>65.2</td>\n      <td>4.0900</td>\n      <td>1.0</td>\n      <td>296.0</td>\n      <td>15.3</td>\n      <td>396.90</td>\n      <td>4.98</td>\n      <td>24.0</td>\n    </tr>\n    <tr>\n      <td>1</td>\n      <td>0.02731</td>\n      <td>0.0</td>\n      <td>7.07</td>\n      <td>0.0</td>\n      <td>0.469</td>\n      <td>6.421</td>\n      <td>78.9</td>\n      <td>4.9671</td>\n      <td>2.0</td>\n      <td>242.0</td>\n      <td>17.8</td>\n      <td>396.90</td>\n      <td>9.14</td>\n      <td>21.6</td>\n    </tr>\n    <tr>\n      <td>2</td>\n      <td>0.02729</td>\n      <td>0.0</td>\n      <td>7.07</td>\n      <td>0.0</td>\n      <td>0.469</td>\n      <td>7.185</td>\n      <td>61.1</td>\n      <td>4.9671</td>\n      <td>2.0</td>\n      <td>242.0</td>\n      <td>17.8</td>\n      <td>392.83</td>\n      <td>4.03</td>\n      <td>34.7</td>\n    </tr>\n    <tr>\n      <td>3</td>\n      <td>0.03237</td>\n      <td>0.0</td>\n      <td>2.18</td>\n      <td>0.0</td>\n      <td>0.458</td>\n      <td>6.998</td>\n      <td>45.8</td>\n      <td>6.0622</td>\n      <td>3.0</td>\n      <td>222.0</td>\n      <td>18.7</td>\n      <td>394.63</td>\n      <td>2.94</td>\n      <td>33.4</td>\n    </tr>\n    <tr>\n      <td>4</td>\n      <td>0.06905</td>\n      <td>0.0</td>\n      <td>2.18</td>\n      <td>0.0</td>\n      <td>0.458</td>\n      <td>7.147</td>\n      <td>54.2</td>\n      <td>6.0622</td>\n      <td>3.0</td>\n      <td>222.0</td>\n      <td>18.7</td>\n      <td>396.90</td>\n      <td>5.33</td>\n      <td>36.2</td>\n    </tr>\n    <tr>\n      <td>...</td>\n      <td>...</td>\n      <td>...</td>\n      <td>...</td>\n      <td>...</td>\n      <td>...</td>\n      <td>...</td>\n      <td>...</td>\n      <td>...</td>\n      <td>...</td>\n      <td>...</td>\n      <td>...</td>\n      <td>...</td>\n      <td>...</td>\n      <td>...</td>\n    </tr>\n    <tr>\n      <td>501</td>\n      <td>0.06263</td>\n      <td>0.0</td>\n      <td>11.93</td>\n      <td>0.0</td>\n      <td>0.573</td>\n      <td>6.593</td>\n      <td>69.1</td>\n      <td>2.4786</td>\n      <td>1.0</td>\n      <td>273.0</td>\n      <td>21.0</td>\n      <td>391.99</td>\n      <td>9.67</td>\n      <td>22.4</td>\n    </tr>\n    <tr>\n      <td>502</td>\n      <td>0.04527</td>\n      <td>0.0</td>\n      <td>11.93</td>\n      <td>0.0</td>\n      <td>0.573</td>\n      <td>6.120</td>\n      <td>76.7</td>\n      <td>2.2875</td>\n      <td>1.0</td>\n      <td>273.0</td>\n      <td>21.0</td>\n      <td>396.90</td>\n      <td>9.08</td>\n      <td>20.6</td>\n    </tr>\n    <tr>\n      <td>503</td>\n      <td>0.06076</td>\n      <td>0.0</td>\n      <td>11.93</td>\n      <td>0.0</td>\n      <td>0.573</td>\n      <td>6.976</td>\n      <td>91.0</td>\n      <td>2.1675</td>\n      <td>1.0</td>\n      <td>273.0</td>\n      <td>21.0</td>\n      <td>396.90</td>\n      <td>5.64</td>\n      <td>23.9</td>\n    </tr>\n    <tr>\n      <td>504</td>\n      <td>0.10959</td>\n      <td>0.0</td>\n      <td>11.93</td>\n      <td>0.0</td>\n      <td>0.573</td>\n      <td>6.794</td>\n      <td>89.3</td>\n      <td>2.3889</td>\n      <td>1.0</td>\n      <td>273.0</td>\n      <td>21.0</td>\n      <td>393.45</td>\n      <td>6.48</td>\n      <td>22.0</td>\n    </tr>\n    <tr>\n      <td>505</td>\n      <td>0.04741</td>\n      <td>0.0</td>\n      <td>11.93</td>\n      <td>0.0</td>\n      <td>0.573</td>\n      <td>6.030</td>\n      <td>80.8</td>\n      <td>2.5050</td>\n      <td>1.0</td>\n      <td>273.0</td>\n      <td>21.0</td>\n      <td>396.90</td>\n      <td>7.88</td>\n      <td>11.9</td>\n    </tr>\n  </tbody>\n</table>\n<p>506 rows × 14 columns</p>\n</div>"
     },
     "metadata": {},
     "execution_count": 3
    }
   ],
   "source": [
    "dataset = pd.DataFrame(boston['data'], columns=boston['feature_names'])\n",
    "dataset['target'] = boston['target']\n",
    "dataset"
   ]
  },
  {
   "cell_type": "code",
   "execution_count": 4,
   "metadata": {},
   "outputs": [],
   "source": [
    "X = dataset.iloc[:, :-1].values\n",
    "y = dataset['target'].values"
   ]
  },
  {
   "cell_type": "markdown",
   "metadata": {},
   "source": [
    "## Splitting the dataset into train and test set"
   ]
  },
  {
   "cell_type": "code",
   "execution_count": 5,
   "metadata": {},
   "outputs": [],
   "source": [
    "from sklearn.model_selection import train_test_split\n",
    "X_train, X_test, y_train, y_test = train_test_split(\n",
    "    X, y,\n",
    "    test_size=0.2,\n",
    "    random_state=0\n",
    ")"
   ]
  },
  {
   "cell_type": "markdown",
   "metadata": {},
   "source": [
    "## Feature scaling"
   ]
  },
  {
   "cell_type": "code",
   "execution_count": 6,
   "metadata": {},
   "outputs": [],
   "source": [
    "from sklearn.preprocessing import StandardScaler\n",
    "sc = StandardScaler()\n",
    "X_train = sc.fit_transform(X_train)\n",
    "X_test = sc.transform(X_test)"
   ]
  },
  {
   "cell_type": "markdown",
   "metadata": {},
   "source": [
    "## Fitting the Simple Linear Regression"
   ]
  },
  {
   "cell_type": "code",
   "execution_count": 7,
   "metadata": {},
   "outputs": [
    {
     "output_type": "execute_result",
     "data": {
      "text/plain": "LinearRegression(copy_X=True, fit_intercept=True, n_jobs=None, normalize=False)"
     },
     "metadata": {},
     "execution_count": 7
    }
   ],
   "source": [
    "from sklearn.linear_model import LinearRegression\n",
    "regressor = LinearRegression()\n",
    "regressor.fit(X_train, y_train)"
   ]
  },
  {
   "cell_type": "code",
   "execution_count": 8,
   "metadata": {
    "tags": []
   },
   "outputs": [
    {
     "output_type": "stream",
     "name": "stdout",
     "text": "[[22.6   24.89 ]\n [50.    23.721]\n [23.    29.365]\n [ 8.3   12.122]\n [21.2   21.444]\n [19.9   19.283]\n [20.6   20.496]\n [18.7   21.361]\n [16.1   18.897]\n [18.6   19.928]\n [ 8.8    5.127]\n [17.2   16.387]\n [14.9   17.078]\n [10.5    5.594]\n [50.    39.996]\n [29.    32.497]\n [23.    22.458]\n [33.3   36.852]\n [29.4   30.864]\n [21.    23.151]\n [23.8   24.775]\n [19.1   24.672]\n [20.4   20.595]\n [29.1   30.354]\n [19.3   22.419]\n [23.1   10.233]\n [19.6   17.648]\n [19.4   18.274]\n [38.7   35.534]\n [18.7   20.961]\n [14.6   18.304]\n [20.    17.793]\n [20.5   19.966]\n [20.1   24.061]\n [23.6   29.102]\n [16.8   19.278]\n [ 5.6   11.155]\n [50.    24.576]\n [14.5   17.586]\n [13.3   15.495]\n [23.9   26.206]\n [20.    20.863]\n [19.8   22.315]\n [13.8   15.607]\n [16.5   23.004]\n [21.6   25.172]\n [20.3   20.115]\n [17.    22.903]\n [11.8   10.038]\n [27.5   24.285]\n [15.6   20.941]\n [23.1   17.353]\n [24.3   24.522]\n [42.8   29.951]\n [15.6   13.427]\n [21.7   21.727]\n [17.1   20.79 ]\n [17.2   15.497]\n [15.    13.99 ]\n [21.7   22.184]\n [18.6   17.73 ]\n [21.    21.589]\n [33.1   32.905]\n [31.5   31.112]\n [20.1   17.733]\n [29.8   32.764]\n [15.2   18.712]\n [15.    19.787]\n [27.5   19.03 ]\n [22.6   22.898]\n [20.    22.96 ]\n [21.4   24.026]\n [23.5   30.729]\n [31.2   28.831]\n [23.7   25.9  ]\n [ 7.4    5.233]\n [48.3   36.722]\n [24.4   23.773]\n [22.6   27.269]\n [18.3   19.295]\n [23.3   28.623]\n [17.1   19.18 ]\n [27.9   18.972]\n [44.8   37.824]\n [50.    39.22 ]\n [23.    23.713]\n [21.4   24.931]\n [10.2   15.885]\n [23.3   26.098]\n [23.2   16.688]\n [18.9   15.835]\n [13.4   13.108]\n [21.9   24.716]\n [24.8   31.252]\n [11.9   22.166]\n [24.3   20.251]\n [13.8    0.59 ]\n [24.7   25.442]\n [14.1   15.572]\n [18.7   17.937]\n [28.1   25.306]\n [19.8   22.373]]\n"
    }
   ],
   "source": [
    "y_pred = regressor.predict(X_test)\n",
    "np.set_printoptions(precision=3)\n",
    "print(np.concatenate((y_test.reshape(-1,1), y_pred.reshape(-1,1)), axis=1))"
   ]
  },
  {
   "cell_type": "code",
   "execution_count": 9,
   "metadata": {},
   "outputs": [
    {
     "output_type": "execute_result",
     "data": {
      "text/plain": "0.5892223849182512"
     },
     "metadata": {},
     "execution_count": 9
    }
   ],
   "source": [
    "# Accuracy\n",
    "from sklearn.metrics import r2_score\n",
    "r2_score(y_test, y_pred)"
   ]
  },
  {
   "cell_type": "markdown",
   "metadata": {},
   "source": [
    "## Fitting linear SVR"
   ]
  },
  {
   "cell_type": "code",
   "execution_count": 10,
   "metadata": {},
   "outputs": [
    {
     "output_type": "execute_result",
     "data": {
      "text/plain": "SVR(C=1.0, cache_size=200, coef0=0.0, degree=3, epsilon=0.1,\n    gamma='auto_deprecated', kernel='linear', max_iter=-1, shrinking=True,\n    tol=0.001, verbose=False)"
     },
     "metadata": {},
     "execution_count": 10
    }
   ],
   "source": [
    "from sklearn.svm import SVR\n",
    "svr1 = SVR(kernel='linear')\n",
    "svr1.fit(X_train, y_train)"
   ]
  },
  {
   "cell_type": "code",
   "execution_count": 11,
   "metadata": {
    "tags": []
   },
   "outputs": [
    {
     "output_type": "stream",
     "name": "stdout",
     "text": "[[2.260e+01 2.503e+01]\n [5.000e+01 2.051e+01]\n [2.300e+01 2.661e+01]\n [8.300e+00 1.013e+01]\n [2.120e+01 2.143e+01]\n [1.990e+01 1.871e+01]\n [2.060e+01 1.912e+01]\n [1.870e+01 2.052e+01]\n [1.610e+01 1.670e+01]\n [1.860e+01 1.802e+01]\n [8.800e+00 1.486e+00]\n [1.720e+01 1.482e+01]\n [1.490e+01 1.692e+01]\n [1.050e+01 4.103e+00]\n [5.000e+01 3.731e+01]\n [2.900e+01 3.234e+01]\n [2.300e+01 2.089e+01]\n [3.330e+01 3.581e+01]\n [2.940e+01 2.938e+01]\n [2.100e+01 2.191e+01]\n [2.380e+01 2.415e+01]\n [1.910e+01 2.195e+01]\n [2.040e+01 1.975e+01]\n [2.910e+01 2.884e+01]\n [1.930e+01 2.132e+01]\n [2.310e+01 3.522e+00]\n [1.960e+01 1.726e+01]\n [1.940e+01 1.738e+01]\n [3.870e+01 3.527e+01]\n [1.870e+01 2.016e+01]\n [1.460e+01 1.715e+01]\n [2.000e+01 1.727e+01]\n [2.050e+01 1.950e+01]\n [2.010e+01 2.282e+01]\n [2.360e+01 2.664e+01]\n [1.680e+01 1.741e+01]\n [5.600e+00 1.134e+01]\n [5.000e+01 2.042e+01]\n [1.450e+01 1.566e+01]\n [1.330e+01 1.513e+01]\n [2.390e+01 2.558e+01]\n [2.000e+01 2.071e+01]\n [1.980e+01 2.240e+01]\n [1.380e+01 1.323e+01]\n [1.650e+01 2.365e+01]\n [2.160e+01 2.402e+01]\n [2.030e+01 1.977e+01]\n [1.700e+01 2.204e+01]\n [1.180e+01 1.093e+01]\n [2.750e+01 2.386e+01]\n [1.560e+01 1.961e+01]\n [2.310e+01 1.830e+01]\n [2.430e+01 2.257e+01]\n [4.280e+01 3.347e+01]\n [1.560e+01 1.310e+01]\n [2.170e+01 2.187e+01]\n [1.710e+01 2.069e+01]\n [1.720e+01 1.649e+01]\n [1.500e+01 7.736e+00]\n [2.170e+01 2.054e+01]\n [1.860e+01 1.888e+01]\n [2.100e+01 2.144e+01]\n [3.310e+01 3.219e+01]\n [3.150e+01 2.953e+01]\n [2.010e+01 1.627e+01]\n [2.980e+01 3.076e+01]\n [1.520e+01 1.903e+01]\n [1.500e+01 2.058e+01]\n [2.750e+01 1.791e+01]\n [2.260e+01 2.252e+01]\n [2.000e+01 2.193e+01]\n [2.140e+01 2.340e+01]\n [2.350e+01 2.897e+01]\n [3.120e+01 2.888e+01]\n [2.370e+01 2.418e+01]\n [7.400e+00 5.336e+00]\n [4.830e+01 3.659e+01]\n [2.440e+01 2.346e+01]\n [2.260e+01 2.578e+01]\n [1.830e+01 1.872e+01]\n [2.330e+01 2.764e+01]\n [1.710e+01 1.958e+01]\n [2.790e+01 1.544e+01]\n [4.480e+01 3.721e+01]\n [5.000e+01 3.926e+01]\n [2.300e+01 2.369e+01]\n [2.140e+01 2.338e+01]\n [1.020e+01 1.317e+01]\n [2.330e+01 2.512e+01]\n [2.320e+01 1.661e+01]\n [1.890e+01 1.687e+01]\n [1.340e+01 1.371e+01]\n [2.190e+01 2.412e+01]\n [2.480e+01 3.021e+01]\n [1.190e+01 2.074e+01]\n [2.430e+01 2.059e+01]\n [1.380e+01 2.207e-02]\n [2.470e+01 2.517e+01]\n [1.410e+01 1.512e+01]\n [1.870e+01 1.737e+01]\n [2.810e+01 2.506e+01]\n [1.980e+01 2.154e+01]]\n"
    }
   ],
   "source": [
    "y_pred = svr1.predict(X_test)\n",
    "np.set_printoptions(precision=3)\n",
    "print(np.concatenate((y_test.reshape(-1,1), y_pred.reshape(-1,1)), axis=1))"
   ]
  },
  {
   "cell_type": "code",
   "execution_count": 12,
   "metadata": {},
   "outputs": [
    {
     "output_type": "execute_result",
     "data": {
      "text/plain": "0.5226828023558314"
     },
     "metadata": {},
     "execution_count": 12
    }
   ],
   "source": [
    "r2_score(y_test, y_pred)"
   ]
  },
  {
   "cell_type": "markdown",
   "metadata": {},
   "source": [
    "## Fitting the SVR Regression"
   ]
  },
  {
   "cell_type": "code",
   "execution_count": 13,
   "metadata": {},
   "outputs": [
    {
     "output_type": "execute_result",
     "data": {
      "text/plain": "SVR(C=1.0, cache_size=200, coef0=0.0, degree=3, epsilon=0.1,\n    gamma='auto_deprecated', kernel='rbf', max_iter=-1, shrinking=True,\n    tol=0.001, verbose=False)"
     },
     "metadata": {},
     "execution_count": 13
    }
   ],
   "source": [
    "from sklearn.svm import SVR\n",
    "svr2 = SVR()\n",
    "svr2.fit(X_train, y_train)"
   ]
  },
  {
   "cell_type": "code",
   "execution_count": 14,
   "metadata": {
    "tags": []
   },
   "outputs": [
    {
     "output_type": "stream",
     "name": "stdout",
     "text": "[[22.6   25.208]\n [50.    18.933]\n [23.    24.58 ]\n [ 8.3   13.236]\n [21.2   21.1  ]\n [19.9   19.439]\n [20.6   20.815]\n [18.7   20.163]\n [16.1   19.08 ]\n [18.6   19.114]\n [ 8.8   20.831]\n [17.2   13.111]\n [14.9   14.844]\n [10.5   12.877]\n [50.    27.335]\n [29.    30.41 ]\n [23.    21.365]\n [33.3   31.802]\n [29.4   28.897]\n [21.    21.479]\n [23.8   23.857]\n [19.1   21.644]\n [20.4   18.917]\n [29.1   27.976]\n [19.3   20.603]\n [23.1   18.039]\n [19.6   17.151]\n [19.4   18.649]\n [38.7   34.062]\n [18.7   18.62 ]\n [14.6   15.251]\n [20.    17.293]\n [20.5   19.704]\n [20.1   21.431]\n [23.6   25.908]\n [16.8   20.902]\n [ 5.6   11.966]\n [50.    22.281]\n [14.5   13.992]\n [13.3   13.379]\n [23.9   23.648]\n [20.    20.376]\n [19.8   23.073]\n [13.8   15.06 ]\n [16.5   25.291]\n [21.6   23.384]\n [20.3   19.227]\n [17.    20.937]\n [11.8   16.79 ]\n [27.5   23.015]\n [15.6   20.747]\n [23.1   19.829]\n [24.3   21.496]\n [42.8   29.772]\n [15.6   15.362]\n [21.7   21.294]\n [17.1   20.077]\n [17.2   18.635]\n [15.    19.437]\n [21.7   21.611]\n [18.6   20.907]\n [21.    20.993]\n [33.1   31.722]\n [31.5   28.29 ]\n [20.1   18.316]\n [29.8   29.969]\n [15.2   16.198]\n [15.    20.284]\n [27.5   13.791]\n [22.6   22.049]\n [20.    20.993]\n [21.4   22.95 ]\n [23.5   26.719]\n [31.2   29.892]\n [23.7   22.982]\n [ 7.4   12.223]\n [48.3   35.128]\n [24.4   22.838]\n [22.6   25.547]\n [18.3   18.432]\n [23.3   27.647]\n [17.1   18.663]\n [27.9   16.243]\n [44.8   34.775]\n [50.    33.969]\n [23.    23.655]\n [21.4   22.695]\n [10.2   14.909]\n [23.3   23.798]\n [23.2   15.573]\n [18.9   19.744]\n [13.4   11.599]\n [21.9   23.403]\n [24.8   29.363]\n [11.9   20.205]\n [24.3   20.949]\n [13.8   15.046]\n [24.7   24.878]\n [14.1   13.733]\n [18.7   17.425]\n [28.1   24.552]\n [19.8   20.211]]\n"
    }
   ],
   "source": [
    "y_pred = svr2.predict(X_test)\n",
    "np.set_printoptions(precision=3)\n",
    "print(np.concatenate((y_test.reshape(-1,1), y_pred.reshape(-1,1)), axis=1))"
   ]
  },
  {
   "cell_type": "code",
   "execution_count": 15,
   "metadata": {},
   "outputs": [
    {
     "output_type": "execute_result",
     "data": {
      "text/plain": "0.4957469419124396"
     },
     "metadata": {},
     "execution_count": 15
    }
   ],
   "source": [
    "# Accuracy\n",
    "from sklearn.metrics import r2_score\n",
    "r2_score(y_test, y_pred)"
   ]
  },
  {
   "cell_type": "markdown",
   "metadata": {},
   "source": [
    "### Grid Search for best parameters"
   ]
  },
  {
   "cell_type": "code",
   "execution_count": 18,
   "metadata": {
    "tags": []
   },
   "outputs": [
    {
     "output_type": "stream",
     "name": "stderr",
     "text": "/home/its-k/anaconda3/envs/Learning/lib/python3.7/site-packages/sklearn/model_selection/_search.py:814: DeprecationWarning: The default of the `iid` parameter will change from True to False in version 0.22 and will be removed in 0.24. This will change numeric results when test-set sizes are unequal.\n  DeprecationWarning)\n"
    }
   ],
   "source": [
    "from sklearn.model_selection import GridSearchCV\n",
    "params = {\n",
    "    'C' : [0.5, 1, 10],\n",
    "    'gamma': [0.1, 0.2, 0.3, 0.4, 0.5, 0.6, 0.7, 0.8, 0.9],\n",
    "    'kernel': ('linear', 'rbf', 'poly')\n",
    "}\n",
    "grid_search = GridSearchCV(\n",
    "    estimator=svr2,\n",
    "    param_grid=params,\n",
    "    cv=5,\n",
    "    n_jobs=-1)\n",
    "grid_search = grid_search.fit(X_train, y_train)"
   ]
  },
  {
   "cell_type": "code",
   "execution_count": 19,
   "metadata": {},
   "outputs": [
    {
     "output_type": "execute_result",
     "data": {
      "text/plain": "{'C': 10, 'gamma': 0.1, 'kernel': 'rbf'}"
     },
     "metadata": {},
     "execution_count": 19
    }
   ],
   "source": [
    "grid_search.best_params_"
   ]
  },
  {
   "cell_type": "code",
   "execution_count": 20,
   "metadata": {},
   "outputs": [
    {
     "output_type": "execute_result",
     "data": {
      "text/plain": "0.8269557288365009"
     },
     "metadata": {},
     "execution_count": 20
    }
   ],
   "source": [
    "grid_search.best_score_"
   ]
  },
  {
   "cell_type": "code",
   "execution_count": 21,
   "metadata": {},
   "outputs": [],
   "source": [
    "best_svr = grid_search.best_estimator_"
   ]
  },
  {
   "cell_type": "code",
   "execution_count": 22,
   "metadata": {
    "tags": []
   },
   "outputs": [
    {
     "output_type": "stream",
     "name": "stdout",
     "text": "[[22.6   22.893]\n [50.    20.989]\n [23.    25.137]\n [ 8.3   11.312]\n [21.2   20.497]\n [19.9   19.025]\n [20.6   22.235]\n [18.7   20.071]\n [16.1   22.532]\n [18.6   19.722]\n [ 8.8   18.696]\n [17.2   10.626]\n [14.9   14.83 ]\n [10.5    7.986]\n [50.    37.48 ]\n [29.    32.01 ]\n [23.    22.887]\n [33.3   35.972]\n [29.4   29.794]\n [21.    21.427]\n [23.8   23.487]\n [19.1   21.857]\n [20.4   20.193]\n [29.1   27.207]\n [19.3   20.928]\n [23.1   23.197]\n [19.6   16.918]\n [19.4   17.401]\n [38.7   39.903]\n [18.7   18.538]\n [14.6   15.377]\n [20.    18.031]\n [20.5   19.797]\n [20.1   19.202]\n [23.6   25.322]\n [16.8   19.988]\n [ 5.6    9.122]\n [50.    27.05 ]\n [14.5   13.778]\n [13.3   14.394]\n [23.9   23.978]\n [20.    21.473]\n [19.8   20.029]\n [13.8   17.345]\n [16.5   21.382]\n [21.6   23.463]\n [20.3   20.538]\n [17.    17.111]\n [11.8   15.748]\n [27.5   22.585]\n [15.6   19.896]\n [23.1   23.397]\n [24.3   21.664]\n [42.8   35.093]\n [15.6   14.11 ]\n [21.7   21.22 ]\n [17.1   17.94 ]\n [17.2   18.607]\n [15.    16.738]\n [21.7   21.165]\n [18.6   20.517]\n [21.    21.226]\n [33.1   33.709]\n [31.5   29.689]\n [20.1   20.954]\n [29.8   28.856]\n [15.2   15.712]\n [15.    19.61 ]\n [27.5   13.188]\n [22.6   23.078]\n [20.    20.211]\n [21.4   21.967]\n [23.5   25.601]\n [31.2   29.059]\n [23.7   24.383]\n [ 7.4    8.408]\n [48.3   41.977]\n [24.4   23.168]\n [22.6   25.761]\n [18.3   19.409]\n [23.3   26.177]\n [17.1   18.823]\n [27.9   19.327]\n [44.8   41.082]\n [50.    40.823]\n [23.    23.351]\n [21.4   23.333]\n [10.2   13.315]\n [23.3   27.108]\n [23.2   15.651]\n [18.9   17.383]\n [13.4    8.99 ]\n [21.9   21.349]\n [24.8   29.06 ]\n [11.9   19.936]\n [24.3   20.988]\n [13.8   13.209]\n [24.7   23.785]\n [14.1   13.409]\n [18.7   17.613]\n [28.1   25.434]\n [19.8   20.277]]\n"
    }
   ],
   "source": [
    "y_pred = best_svr.predict(X_test)\n",
    "np.set_printoptions(precision=3)\n",
    "print(np.concatenate((y_test.reshape(-1,1), y_pred.reshape(-1,1)), axis=1))"
   ]
  },
  {
   "cell_type": "code",
   "execution_count": 23,
   "metadata": {},
   "outputs": [
    {
     "output_type": "execute_result",
     "data": {
      "text/plain": "0.6774386081797916"
     },
     "metadata": {},
     "execution_count": 23
    }
   ],
   "source": [
    "r2_score(y_test, y_pred)"
   ]
  },
  {
   "cell_type": "markdown",
   "metadata": {},
   "source": [
    "## Fitting DecisionTree Regression"
   ]
  },
  {
   "cell_type": "code",
   "execution_count": 24,
   "metadata": {},
   "outputs": [
    {
     "output_type": "execute_result",
     "data": {
      "text/plain": "DecisionTreeRegressor(criterion='mse', max_depth=None, max_features=None,\n                      max_leaf_nodes=None, min_impurity_decrease=0.0,\n                      min_impurity_split=None, min_samples_leaf=1,\n                      min_samples_split=2, min_weight_fraction_leaf=0.0,\n                      presort=False, random_state=None, splitter='best')"
     },
     "metadata": {},
     "execution_count": 24
    }
   ],
   "source": [
    "from sklearn.tree import DecisionTreeRegressor\n",
    "dt = DecisionTreeRegressor()\n",
    "dt.fit(X_train, y_train)"
   ]
  },
  {
   "cell_type": "code",
   "execution_count": 25,
   "metadata": {
    "tags": []
   },
   "outputs": [
    {
     "output_type": "stream",
     "name": "stdout",
     "text": "[[22.6 23.7]\n [50.  20.2]\n [23.  18.5]\n [ 8.3 19.1]\n [21.2 20.8]\n [19.9 21.1]\n [20.6 20.3]\n [18.7 19. ]\n [16.1 24.5]\n [18.6 16.1]\n [ 8.8  7.2]\n [17.2 17.9]\n [14.9 12.6]\n [10.5  8.8]\n [50.  48.5]\n [29.  37. ]\n [23.  21.2]\n [33.3 34.6]\n [29.4 24. ]\n [21.  21.1]\n [23.8 24.7]\n [19.1 15.3]\n [20.4 20.3]\n [29.1 24.7]\n [19.3 19.7]\n [23.1 10.9]\n [19.6 14.5]\n [19.4 15.6]\n [38.7 41.7]\n [18.7 20.4]\n [14.6 11.7]\n [20.  19.5]\n [20.5 18.9]\n [20.1 22.2]\n [23.6 19.2]\n [16.8 19.9]\n [ 5.6  8.5]\n [50.  22.7]\n [14.5 11.7]\n [13.3 17.2]\n [23.9 25. ]\n [20.  19.7]\n [19.8 22.2]\n [13.8 11.7]\n [16.5 29.6]\n [21.6 18.9]\n [20.3 22.4]\n [17.  15.6]\n [11.8 13.4]\n [27.5 22.8]\n [15.6 14.8]\n [23.1 15.6]\n [24.3 19.3]\n [42.8 35.2]\n [15.6 15.6]\n [21.7 18.9]\n [17.1 20.9]\n [17.2 17.5]\n [15.  10.9]\n [21.7 22.5]\n [18.6 20.6]\n [21.  23.2]\n [33.1 29.6]\n [31.5 24. ]\n [20.1 21.8]\n [29.8 24.1]\n [15.2 17.4]\n [15.  27.1]\n [27.5 16.3]\n [22.6 21.7]\n [20.  24.4]\n [21.4 26.4]\n [23.5 24.8]\n [31.2 30.5]\n [23.7 25. ]\n [ 7.4  8.8]\n [48.3 41.7]\n [24.4 23.9]\n [22.6 23.1]\n [18.3 19.3]\n [23.3 27.1]\n [17.1 19.2]\n [27.9 15.3]\n [44.8 41.7]\n [50.  41.7]\n [23.  25. ]\n [21.4 22. ]\n [10.2 13.8]\n [23.3 24.3]\n [23.2 12.7]\n [18.9 17.4]\n [13.4 11.8]\n [21.9 20.6]\n [24.8 30.1]\n [11.9 21.1]\n [24.3 22. ]\n [13.8 10.2]\n [24.7 22.9]\n [14.1 12.7]\n [18.7 18.5]\n [28.1 25. ]\n [19.8 20.1]]\n"
    }
   ],
   "source": [
    "y_pred = dt.predict(X_test)\n",
    "np.set_printoptions(precision=3)\n",
    "print(np.concatenate((y_test.reshape(-1,1), y_pred.reshape(-1,1)), axis=1))"
   ]
  },
  {
   "cell_type": "code",
   "execution_count": 26,
   "metadata": {},
   "outputs": [
    {
     "output_type": "execute_result",
     "data": {
      "text/plain": "0.5548780173995305"
     },
     "metadata": {},
     "execution_count": 26
    }
   ],
   "source": [
    "r2_score(y_test, y_pred)"
   ]
  },
  {
   "cell_type": "markdown",
   "metadata": {},
   "source": [
    "## Fitting RandomForest Rgression"
   ]
  },
  {
   "cell_type": "code",
   "execution_count": 27,
   "metadata": {},
   "outputs": [
    {
     "output_type": "execute_result",
     "data": {
      "text/plain": "RandomForestRegressor(bootstrap=True, criterion='mse', max_depth=None,\n                      max_features='auto', max_leaf_nodes=None,\n                      min_impurity_decrease=0.0, min_impurity_split=None,\n                      min_samples_leaf=1, min_samples_split=2,\n                      min_weight_fraction_leaf=0.0, n_estimators=50,\n                      n_jobs=None, oob_score=False, random_state=0, verbose=0,\n                      warm_start=False)"
     },
     "metadata": {},
     "execution_count": 27
    }
   ],
   "source": [
    "from sklearn.ensemble import RandomForestRegressor\n",
    "rf = RandomForestRegressor(\n",
    "    n_estimators=50,\n",
    "    random_state=0)\n",
    "rf.fit(X_train, y_train)"
   ]
  },
  {
   "cell_type": "code",
   "execution_count": 28,
   "metadata": {
    "tags": []
   },
   "outputs": [
    {
     "output_type": "stream",
     "name": "stdout",
     "text": "[[22.6   24.046]\n [50.    29.792]\n [23.    22.338]\n [ 8.3   11.132]\n [21.2   20.752]\n [19.9   20.534]\n [20.6   21.256]\n [18.7   20.102]\n [16.1   19.926]\n [18.6   18.898]\n [ 8.8    8.218]\n [17.2   14.24 ]\n [14.9   15.286]\n [10.5    8.638]\n [50.    46.226]\n [29.    33.524]\n [23.    20.846]\n [33.3   34.126]\n [29.4   25.844]\n [21.    21.162]\n [23.8   23.756]\n [19.1   21.966]\n [20.4   19.904]\n [29.1   24.67 ]\n [19.3   19.774]\n [23.1   18.63 ]\n [19.6   18.146]\n [19.4   16.198]\n [38.7   41.396]\n [18.7   19.372]\n [14.6   14.788]\n [20.    17.056]\n [20.5   20.02 ]\n [20.1   21.772]\n [23.6   22.718]\n [16.8   17.904]\n [ 5.6    8.848]\n [50.    29.312]\n [14.5   14.498]\n [13.3   15.552]\n [23.9   22.7  ]\n [20.    20.316]\n [19.8   22.622]\n [13.8   15.29 ]\n [16.5   23.398]\n [21.6   22.466]\n [20.3   21.662]\n [17.    16.6  ]\n [11.8   13.622]\n [27.5   25.018]\n [15.6   16.72 ]\n [23.1   19.654]\n [24.3   21.71 ]\n [42.8   39.39 ]\n [15.6   14.876]\n [21.7   21.122]\n [17.1   19.302]\n [17.2   18.976]\n [15.    23.798]\n [21.7   20.716]\n [18.6   21.468]\n [21.    21.736]\n [33.1   33.63 ]\n [31.5   29.89 ]\n [20.1   18.144]\n [29.8   27.734]\n [15.2   16.246]\n [15.    21.94 ]\n [27.5   16.004]\n [22.6   22.386]\n [20.    20.122]\n [21.4   23.014]\n [23.5   24.36 ]\n [31.2   30.788]\n [23.7   28.416]\n [ 7.4    9.122]\n [48.3   41.236]\n [24.4   22.77 ]\n [22.6   22.556]\n [18.3   20.394]\n [23.3   26.094]\n [17.1   18.222]\n [27.9   25.406]\n [44.8   41.162]\n [50.    40.304]\n [23.    24.462]\n [21.4   22.838]\n [10.2   14.798]\n [23.3   25.898]\n [23.2   15.39 ]\n [18.9   18.248]\n [13.4   12.062]\n [21.9   22.802]\n [24.8   30.208]\n [11.9   21.3  ]\n [24.3   21.764]\n [13.8   11.202]\n [24.7   23.288]\n [14.1   15.248]\n [18.7   18.708]\n [28.1   23.718]\n [19.8   20.35 ]]\n"
    }
   ],
   "source": [
    "y_pred = rf.predict(X_test)\n",
    "np.set_printoptions(precision=3)\n",
    "print(np.concatenate((y_test.reshape(-1,1), y_pred.reshape(-1,1)), axis=1))"
   ]
  },
  {
   "cell_type": "code",
   "execution_count": 29,
   "metadata": {},
   "outputs": [
    {
     "output_type": "execute_result",
     "data": {
      "text/plain": "0.7739913545230002"
     },
     "metadata": {},
     "execution_count": 29
    }
   ],
   "source": [
    "r2_score(y_test, y_pred)"
   ]
  },
  {
   "cell_type": "markdown",
   "metadata": {},
   "source": [
    "### Grid search for n_estimator parameter"
   ]
  },
  {
   "cell_type": "code",
   "execution_count": 30,
   "metadata": {
    "tags": []
   },
   "outputs": [
    {
     "output_type": "stream",
     "name": "stderr",
     "text": "/home/its-k/anaconda3/envs/Learning/lib/python3.7/site-packages/sklearn/model_selection/_search.py:814: DeprecationWarning: The default of the `iid` parameter will change from True to False in version 0.22 and will be removed in 0.24. This will change numeric results when test-set sizes are unequal.\n  DeprecationWarning)\n"
    },
    {
     "output_type": "execute_result",
     "data": {
      "text/plain": "{'n_estimators': 1000}"
     },
     "metadata": {},
     "execution_count": 30
    }
   ],
   "source": [
    "grid_search = GridSearchCV(\n",
    "    estimator=rf,\n",
    "    param_grid={'n_estimators':[50, 100, 200, 500, 800, 1000]},\n",
    "    cv=10,\n",
    "    n_jobs=-1\n",
    ")\n",
    "grid_search = grid_search.fit(X_train, y_train)\n",
    "grid_search.best_params_"
   ]
  },
  {
   "cell_type": "code",
   "execution_count": 31,
   "metadata": {},
   "outputs": [],
   "source": [
    "best_rf = grid_search.best_estimator_"
   ]
  },
  {
   "cell_type": "code",
   "execution_count": 32,
   "metadata": {
    "tags": []
   },
   "outputs": [
    {
     "output_type": "stream",
     "name": "stdout",
     "text": "[[22.6   24.085]\n [50.    28.418]\n [23.    22.   ]\n [ 8.3   11.074]\n [21.2   20.806]\n [19.9   20.639]\n [20.6   21.218]\n [18.7   20.052]\n [16.1   20.444]\n [18.6   18.853]\n [ 8.8    8.331]\n [17.2   15.022]\n [14.9   15.068]\n [10.5    8.473]\n [50.    47.084]\n [29.    34.132]\n [23.    21.108]\n [33.3   34.687]\n [29.4   25.682]\n [21.    20.973]\n [23.8   23.726]\n [19.1   21.831]\n [20.4   19.839]\n [29.1   24.486]\n [19.3   20.305]\n [23.1   17.755]\n [19.6   18.535]\n [19.4   16.056]\n [38.7   44.109]\n [18.7   19.203]\n [14.6   14.879]\n [20.    17.518]\n [20.5   20.154]\n [20.1   21.51 ]\n [23.6   23.006]\n [16.8   17.913]\n [ 5.6    8.642]\n [50.    28.209]\n [14.5   14.563]\n [13.3   15.546]\n [23.9   22.808]\n [20.    20.914]\n [19.8   22.676]\n [13.8   15.226]\n [16.5   23.748]\n [21.6   22.485]\n [20.3   21.231]\n [17.    16.513]\n [11.8   14.482]\n [27.5   25.173]\n [15.6   16.27 ]\n [23.1   19.807]\n [24.3   21.967]\n [42.8   39.496]\n [15.6   15.002]\n [21.7   21.186]\n [17.1   19.671]\n [17.2   19.04 ]\n [15.    22.434]\n [21.7   20.025]\n [18.6   21.569]\n [21.    21.664]\n [33.1   33.083]\n [31.5   28.189]\n [20.1   18.443]\n [29.8   27.049]\n [15.2   15.998]\n [15.    21.173]\n [27.5   17.085]\n [22.6   21.97 ]\n [20.    20.204]\n [21.4   22.904]\n [23.5   24.29 ]\n [31.2   30.745]\n [23.7   29.694]\n [ 7.4    8.681]\n [48.3   43.18 ]\n [24.4   22.436]\n [22.6   22.885]\n [18.3   20.226]\n [23.3   26.51 ]\n [17.1   18.2  ]\n [27.9   23.069]\n [44.8   42.904]\n [50.    42.021]\n [23.    24.398]\n [21.4   22.698]\n [10.2   14.964]\n [23.3   26.69 ]\n [23.2   16.127]\n [18.9   19.2  ]\n [13.4   12.121]\n [21.9   22.497]\n [24.8   29.913]\n [11.9   21.001]\n [24.3   21.843]\n [13.8   11.443]\n [24.7   23.408]\n [14.1   14.871]\n [18.7   18.982]\n [28.1   24.024]\n [19.8   20.152]]\n"
    }
   ],
   "source": [
    "y_pred = best_rf.predict(X_test)\n",
    "np.set_printoptions(precision=3)\n",
    "print(np.concatenate((y_test.reshape(-1,1), y_pred.reshape(-1,1)), axis=1))"
   ]
  },
  {
   "cell_type": "code",
   "execution_count": 33,
   "metadata": {},
   "outputs": [
    {
     "output_type": "execute_result",
     "data": {
      "text/plain": "0.7686590567675047"
     },
     "metadata": {},
     "execution_count": 33
    }
   ],
   "source": [
    "r2_score(y_test, y_pred)"
   ]
  },
  {
   "cell_type": "markdown",
   "metadata": {},
   "source": [
    "## Fitting Catboost Model"
   ]
  },
  {
   "cell_type": "code",
   "execution_count": 34,
   "metadata": {
    "tags": [
     "outputPrepend"
    ]
   },
   "outputs": [
    {
     "output_type": "stream",
     "name": "stdout",
     "text": "learn: 0.8195530\ttotal: 5.43s\tremaining: 3.4s\n615:\tlearn: 0.8177180\ttotal: 5.43s\tremaining: 3.39s\n616:\tlearn: 0.8157363\ttotal: 5.44s\tremaining: 3.38s\n617:\tlearn: 0.8151008\ttotal: 5.44s\tremaining: 3.36s\n618:\tlearn: 0.8141520\ttotal: 5.45s\tremaining: 3.35s\n619:\tlearn: 0.8127314\ttotal: 5.45s\tremaining: 3.34s\n620:\tlearn: 0.8119573\ttotal: 5.46s\tremaining: 3.33s\n621:\tlearn: 0.8107609\ttotal: 5.47s\tremaining: 3.32s\n622:\tlearn: 0.8094462\ttotal: 5.47s\tremaining: 3.31s\n623:\tlearn: 0.8072759\ttotal: 5.49s\tremaining: 3.31s\n624:\tlearn: 0.8057570\ttotal: 5.49s\tremaining: 3.29s\n625:\tlearn: 0.8046138\ttotal: 5.49s\tremaining: 3.28s\n626:\tlearn: 0.8032334\ttotal: 5.5s\tremaining: 3.27s\n627:\tlearn: 0.8020424\ttotal: 5.5s\tremaining: 3.26s\n628:\tlearn: 0.8005688\ttotal: 5.51s\tremaining: 3.25s\n629:\tlearn: 0.7994367\ttotal: 5.52s\tremaining: 3.24s\n630:\tlearn: 0.7985460\ttotal: 5.52s\tremaining: 3.23s\n631:\tlearn: 0.7968578\ttotal: 5.52s\tremaining: 3.22s\n632:\tlearn: 0.7966359\ttotal: 5.53s\tremaining: 3.21s\n633:\tlearn: 0.7945429\ttotal: 5.53s\tremaining: 3.19s\n634:\tlearn: 0.7931768\ttotal: 5.54s\tremaining: 3.18s\n635:\tlearn: 0.7913708\ttotal: 5.54s\tremaining: 3.17s\n636:\tlearn: 0.7906355\ttotal: 5.55s\tremaining: 3.16s\n637:\tlearn: 0.7905135\ttotal: 5.55s\tremaining: 3.15s\n638:\tlearn: 0.7893766\ttotal: 5.55s\tremaining: 3.14s\n639:\tlearn: 0.7876601\ttotal: 5.56s\tremaining: 3.13s\n640:\tlearn: 0.7860501\ttotal: 5.57s\tremaining: 3.12s\n641:\tlearn: 0.7847839\ttotal: 5.57s\tremaining: 3.1s\n642:\tlearn: 0.7835345\ttotal: 5.58s\tremaining: 3.1s\n643:\tlearn: 0.7822172\ttotal: 5.58s\tremaining: 3.08s\n644:\tlearn: 0.7807341\ttotal: 5.58s\tremaining: 3.07s\n645:\tlearn: 0.7794513\ttotal: 5.59s\tremaining: 3.06s\n646:\tlearn: 0.7781546\ttotal: 5.59s\tremaining: 3.05s\n647:\tlearn: 0.7770902\ttotal: 5.6s\tremaining: 3.04s\n648:\tlearn: 0.7753432\ttotal: 5.6s\tremaining: 3.03s\n649:\tlearn: 0.7737887\ttotal: 5.61s\tremaining: 3.02s\n650:\tlearn: 0.7724082\ttotal: 5.61s\tremaining: 3.01s\n651:\tlearn: 0.7722516\ttotal: 5.62s\tremaining: 3s\n652:\tlearn: 0.7718323\ttotal: 5.62s\tremaining: 2.99s\n653:\tlearn: 0.7704480\ttotal: 5.63s\tremaining: 2.98s\n654:\tlearn: 0.7693621\ttotal: 5.63s\tremaining: 2.97s\n655:\tlearn: 0.7672819\ttotal: 5.64s\tremaining: 2.96s\n656:\tlearn: 0.7663354\ttotal: 5.64s\tremaining: 2.94s\n657:\tlearn: 0.7645985\ttotal: 5.65s\tremaining: 2.94s\n658:\tlearn: 0.7632700\ttotal: 5.65s\tremaining: 2.92s\n659:\tlearn: 0.7624298\ttotal: 5.66s\tremaining: 2.91s\n660:\tlearn: 0.7614373\ttotal: 5.67s\tremaining: 2.9s\n661:\tlearn: 0.7612198\ttotal: 5.67s\tremaining: 2.89s\n662:\tlearn: 0.7597843\ttotal: 5.67s\tremaining: 2.88s\n663:\tlearn: 0.7583199\ttotal: 5.68s\tremaining: 2.87s\n664:\tlearn: 0.7572394\ttotal: 5.69s\tremaining: 2.87s\n665:\tlearn: 0.7560840\ttotal: 5.7s\tremaining: 2.86s\n666:\tlearn: 0.7543584\ttotal: 5.7s\tremaining: 2.85s\n667:\tlearn: 0.7531621\ttotal: 5.71s\tremaining: 2.84s\n668:\tlearn: 0.7521109\ttotal: 5.71s\tremaining: 2.83s\n669:\tlearn: 0.7508122\ttotal: 5.72s\tremaining: 2.82s\n670:\tlearn: 0.7495842\ttotal: 5.72s\tremaining: 2.81s\n671:\tlearn: 0.7482494\ttotal: 5.75s\tremaining: 2.81s\n672:\tlearn: 0.7470121\ttotal: 5.76s\tremaining: 2.8s\n673:\tlearn: 0.7467579\ttotal: 5.76s\tremaining: 2.79s\n674:\tlearn: 0.7455451\ttotal: 5.77s\tremaining: 2.78s\n675:\tlearn: 0.7445688\ttotal: 5.78s\tremaining: 2.77s\n676:\tlearn: 0.7433739\ttotal: 5.78s\tremaining: 2.76s\n677:\tlearn: 0.7422875\ttotal: 5.79s\tremaining: 2.75s\n678:\tlearn: 0.7410823\ttotal: 5.8s\tremaining: 2.74s\n679:\tlearn: 0.7393624\ttotal: 5.81s\tremaining: 2.73s\n680:\tlearn: 0.7384458\ttotal: 5.82s\tremaining: 2.73s\n681:\tlearn: 0.7372179\ttotal: 5.83s\tremaining: 2.72s\n682:\tlearn: 0.7360161\ttotal: 5.84s\tremaining: 2.71s\n683:\tlearn: 0.7347797\ttotal: 5.84s\tremaining: 2.7s\n684:\tlearn: 0.7341873\ttotal: 5.85s\tremaining: 2.69s\n685:\tlearn: 0.7333115\ttotal: 5.86s\tremaining: 2.68s\n686:\tlearn: 0.7322819\ttotal: 5.87s\tremaining: 2.67s\n687:\tlearn: 0.7314209\ttotal: 5.88s\tremaining: 2.66s\n688:\tlearn: 0.7312080\ttotal: 5.88s\tremaining: 2.65s\n689:\tlearn: 0.7310473\ttotal: 5.89s\tremaining: 2.65s\n690:\tlearn: 0.7299586\ttotal: 5.89s\tremaining: 2.63s\n691:\tlearn: 0.7298130\ttotal: 5.9s\tremaining: 2.63s\n692:\tlearn: 0.7280642\ttotal: 5.9s\tremaining: 2.62s\n693:\tlearn: 0.7271383\ttotal: 5.91s\tremaining: 2.6s\n694:\tlearn: 0.7257597\ttotal: 5.92s\tremaining: 2.6s\n695:\tlearn: 0.7243795\ttotal: 5.92s\tremaining: 2.59s\n696:\tlearn: 0.7239075\ttotal: 5.93s\tremaining: 2.58s\n697:\tlearn: 0.7238314\ttotal: 5.93s\tremaining: 2.57s\n698:\tlearn: 0.7222868\ttotal: 5.94s\tremaining: 2.56s\n699:\tlearn: 0.7205360\ttotal: 5.94s\tremaining: 2.55s\n700:\tlearn: 0.7198321\ttotal: 5.95s\tremaining: 2.54s\n701:\tlearn: 0.7189848\ttotal: 5.95s\tremaining: 2.53s\n702:\tlearn: 0.7188072\ttotal: 5.96s\tremaining: 2.52s\n703:\tlearn: 0.7176025\ttotal: 5.96s\tremaining: 2.51s\n704:\tlearn: 0.7163273\ttotal: 5.97s\tremaining: 2.5s\n705:\tlearn: 0.7154819\ttotal: 5.97s\tremaining: 2.49s\n706:\tlearn: 0.7143297\ttotal: 5.97s\tremaining: 2.48s\n707:\tlearn: 0.7136002\ttotal: 5.98s\tremaining: 2.47s\n708:\tlearn: 0.7134434\ttotal: 5.98s\tremaining: 2.46s\n709:\tlearn: 0.7118139\ttotal: 5.99s\tremaining: 2.44s\n710:\tlearn: 0.7107667\ttotal: 6s\tremaining: 2.44s\n711:\tlearn: 0.7098507\ttotal: 6s\tremaining: 2.43s\n712:\tlearn: 0.7087002\ttotal: 6.01s\tremaining: 2.42s\n713:\tlearn: 0.7076398\ttotal: 6.01s\tremaining: 2.41s\n714:\tlearn: 0.7061049\ttotal: 6.02s\tremaining: 2.4s\n715:\tlearn: 0.7055227\ttotal: 6.03s\tremaining: 2.39s\n716:\tlearn: 0.7050296\ttotal: 6.03s\tremaining: 2.38s\n717:\tlearn: 0.7038949\ttotal: 6.04s\tremaining: 2.37s\n718:\tlearn: 0.7036630\ttotal: 6.05s\tremaining: 2.36s\n719:\tlearn: 0.7027690\ttotal: 6.06s\tremaining: 2.35s\n720:\tlearn: 0.7018396\ttotal: 6.06s\tremaining: 2.35s\n721:\tlearn: 0.7015336\ttotal: 6.07s\tremaining: 2.33s\n722:\tlearn: 0.7003397\ttotal: 6.07s\tremaining: 2.33s\n723:\tlearn: 0.6995247\ttotal: 6.08s\tremaining: 2.32s\n724:\tlearn: 0.6980844\ttotal: 6.08s\tremaining: 2.31s\n725:\tlearn: 0.6970971\ttotal: 6.09s\tremaining: 2.3s\n726:\tlearn: 0.6965057\ttotal: 6.11s\tremaining: 2.29s\n727:\tlearn: 0.6949722\ttotal: 6.11s\tremaining: 2.28s\n728:\tlearn: 0.6942013\ttotal: 6.12s\tremaining: 2.27s\n729:\tlearn: 0.6924527\ttotal: 6.13s\tremaining: 2.27s\n730:\tlearn: 0.6918306\ttotal: 6.13s\tremaining: 2.26s\n731:\tlearn: 0.6900760\ttotal: 6.14s\tremaining: 2.25s\n732:\tlearn: 0.6892396\ttotal: 6.14s\tremaining: 2.24s\n733:\tlearn: 0.6886320\ttotal: 6.14s\tremaining: 2.23s\n734:\tlearn: 0.6874232\ttotal: 6.15s\tremaining: 2.22s\n735:\tlearn: 0.6871917\ttotal: 6.16s\tremaining: 2.21s\n736:\tlearn: 0.6866250\ttotal: 6.16s\tremaining: 2.2s\n737:\tlearn: 0.6857987\ttotal: 6.17s\tremaining: 2.19s\n738:\tlearn: 0.6849509\ttotal: 6.17s\tremaining: 2.18s\n739:\tlearn: 0.6842898\ttotal: 6.17s\tremaining: 2.17s\n740:\tlearn: 0.6840764\ttotal: 6.18s\tremaining: 2.16s\n741:\tlearn: 0.6827392\ttotal: 6.18s\tremaining: 2.15s\n742:\tlearn: 0.6817981\ttotal: 6.19s\tremaining: 2.14s\n743:\tlearn: 0.6810956\ttotal: 6.19s\tremaining: 2.13s\n744:\tlearn: 0.6797147\ttotal: 6.2s\tremaining: 2.12s\n745:\tlearn: 0.6795618\ttotal: 6.21s\tremaining: 2.11s\n746:\tlearn: 0.6786532\ttotal: 6.21s\tremaining: 2.1s\n747:\tlearn: 0.6777335\ttotal: 6.22s\tremaining: 2.09s\n748:\tlearn: 0.6771492\ttotal: 6.22s\tremaining: 2.08s\n749:\tlearn: 0.6761622\ttotal: 6.22s\tremaining: 2.07s\n750:\tlearn: 0.6757049\ttotal: 6.23s\tremaining: 2.06s\n751:\tlearn: 0.6749039\ttotal: 6.23s\tremaining: 2.06s\n752:\tlearn: 0.6736482\ttotal: 6.24s\tremaining: 2.04s\n753:\tlearn: 0.6719432\ttotal: 6.24s\tremaining: 2.04s\n754:\tlearn: 0.6718839\ttotal: 6.25s\tremaining: 2.03s\n755:\tlearn: 0.6707341\ttotal: 6.25s\tremaining: 2.02s\n756:\tlearn: 0.6695449\ttotal: 6.27s\tremaining: 2.01s\n757:\tlearn: 0.6686795\ttotal: 6.27s\tremaining: 2s\n758:\tlearn: 0.6676510\ttotal: 6.28s\tremaining: 1.99s\n759:\tlearn: 0.6666341\ttotal: 6.28s\tremaining: 1.98s\n760:\tlearn: 0.6653421\ttotal: 6.28s\tremaining: 1.97s\n761:\tlearn: 0.6647075\ttotal: 6.29s\tremaining: 1.97s\n762:\tlearn: 0.6638680\ttotal: 6.3s\tremaining: 1.96s\n763:\tlearn: 0.6630764\ttotal: 6.3s\tremaining: 1.95s\n764:\tlearn: 0.6623002\ttotal: 6.31s\tremaining: 1.94s\n765:\tlearn: 0.6612221\ttotal: 6.31s\tremaining: 1.93s\n766:\tlearn: 0.6600324\ttotal: 6.31s\tremaining: 1.92s\n767:\tlearn: 0.6594038\ttotal: 6.32s\tremaining: 1.91s\n768:\tlearn: 0.6586802\ttotal: 6.32s\tremaining: 1.9s\n769:\tlearn: 0.6574854\ttotal: 6.33s\tremaining: 1.89s\n770:\tlearn: 0.6564292\ttotal: 6.33s\tremaining: 1.88s\n771:\tlearn: 0.6558540\ttotal: 6.34s\tremaining: 1.87s\n772:\tlearn: 0.6545624\ttotal: 6.34s\tremaining: 1.86s\n773:\tlearn: 0.6535682\ttotal: 6.35s\tremaining: 1.85s\n774:\tlearn: 0.6522621\ttotal: 6.35s\tremaining: 1.84s\n775:\tlearn: 0.6512564\ttotal: 6.36s\tremaining: 1.83s\n776:\tlearn: 0.6510641\ttotal: 6.36s\tremaining: 1.83s\n777:\tlearn: 0.6500262\ttotal: 6.37s\tremaining: 1.82s\n778:\tlearn: 0.6491856\ttotal: 6.37s\tremaining: 1.81s\n779:\tlearn: 0.6484480\ttotal: 6.38s\tremaining: 1.8s\n780:\tlearn: 0.6466461\ttotal: 6.39s\tremaining: 1.79s\n781:\tlearn: 0.6462214\ttotal: 6.41s\tremaining: 1.79s\n782:\tlearn: 0.6453091\ttotal: 6.42s\tremaining: 1.78s\n783:\tlearn: 0.6446624\ttotal: 6.42s\tremaining: 1.77s\n784:\tlearn: 0.6438256\ttotal: 6.43s\tremaining: 1.76s\n785:\tlearn: 0.6426261\ttotal: 6.45s\tremaining: 1.75s\n786:\tlearn: 0.6412169\ttotal: 6.45s\tremaining: 1.75s\n787:\tlearn: 0.6404559\ttotal: 6.47s\tremaining: 1.74s\n788:\tlearn: 0.6395261\ttotal: 6.48s\tremaining: 1.73s\n789:\tlearn: 0.6385453\ttotal: 6.48s\tremaining: 1.72s\n790:\tlearn: 0.6375693\ttotal: 6.49s\tremaining: 1.71s\n791:\tlearn: 0.6365020\ttotal: 6.5s\tremaining: 1.71s\n792:\tlearn: 0.6362053\ttotal: 6.5s\tremaining: 1.7s\n793:\tlearn: 0.6354159\ttotal: 6.51s\tremaining: 1.69s\n794:\tlearn: 0.6341932\ttotal: 6.51s\tremaining: 1.68s\n795:\tlearn: 0.6330193\ttotal: 6.52s\tremaining: 1.67s\n796:\tlearn: 0.6319206\ttotal: 6.53s\tremaining: 1.66s\n797:\tlearn: 0.6315023\ttotal: 6.53s\tremaining: 1.65s\n798:\tlearn: 0.6308543\ttotal: 6.54s\tremaining: 1.64s\n799:\tlearn: 0.6293096\ttotal: 6.55s\tremaining: 1.64s\n800:\tlearn: 0.6283935\ttotal: 6.55s\tremaining: 1.63s\n801:\tlearn: 0.6275349\ttotal: 6.58s\tremaining: 1.62s\n802:\tlearn: 0.6269302\ttotal: 6.59s\tremaining: 1.62s\n803:\tlearn: 0.6257284\ttotal: 6.6s\tremaining: 1.61s\n804:\tlearn: 0.6239124\ttotal: 6.61s\tremaining: 1.6s\n805:\tlearn: 0.6230617\ttotal: 6.61s\tremaining: 1.59s\n806:\tlearn: 0.6220274\ttotal: 6.62s\tremaining: 1.58s\n807:\tlearn: 0.6210691\ttotal: 6.63s\tremaining: 1.57s\n808:\tlearn: 0.6205208\ttotal: 6.63s\tremaining: 1.56s\n809:\tlearn: 0.6196967\ttotal: 6.64s\tremaining: 1.56s\n810:\tlearn: 0.6188818\ttotal: 6.65s\tremaining: 1.55s\n811:\tlearn: 0.6182767\ttotal: 6.66s\tremaining: 1.54s\n812:\tlearn: 0.6178614\ttotal: 6.67s\tremaining: 1.53s\n813:\tlearn: 0.6166031\ttotal: 6.67s\tremaining: 1.52s\n814:\tlearn: 0.6161808\ttotal: 6.68s\tremaining: 1.52s\n815:\tlearn: 0.6155860\ttotal: 6.69s\tremaining: 1.51s\n816:\tlearn: 0.6148345\ttotal: 6.69s\tremaining: 1.5s\n817:\tlearn: 0.6142187\ttotal: 6.7s\tremaining: 1.49s\n818:\tlearn: 0.6136052\ttotal: 6.7s\tremaining: 1.48s\n819:\tlearn: 0.6130505\ttotal: 6.71s\tremaining: 1.47s\n820:\tlearn: 0.6120190\ttotal: 6.72s\tremaining: 1.47s\n821:\tlearn: 0.6117337\ttotal: 6.73s\tremaining: 1.46s\n822:\tlearn: 0.6105527\ttotal: 6.75s\tremaining: 1.45s\n823:\tlearn: 0.6094617\ttotal: 6.76s\tremaining: 1.44s\n824:\tlearn: 0.6093993\ttotal: 6.77s\tremaining: 1.44s\n825:\tlearn: 0.6082102\ttotal: 6.77s\tremaining: 1.43s\n826:\tlearn: 0.6073893\ttotal: 6.8s\tremaining: 1.42s\n827:\tlearn: 0.6054739\ttotal: 6.81s\tremaining: 1.41s\n828:\tlearn: 0.6050465\ttotal: 6.81s\tremaining: 1.41s\n829:\tlearn: 0.6031371\ttotal: 6.82s\tremaining: 1.4s\n830:\tlearn: 0.6019022\ttotal: 6.83s\tremaining: 1.39s\n831:\tlearn: 0.6009518\ttotal: 6.84s\tremaining: 1.38s\n832:\tlearn: 0.6001252\ttotal: 6.84s\tremaining: 1.37s\n833:\tlearn: 0.5994154\ttotal: 6.85s\tremaining: 1.36s\n834:\tlearn: 0.5984910\ttotal: 6.86s\tremaining: 1.36s\n835:\tlearn: 0.5979109\ttotal: 6.88s\tremaining: 1.35s\n836:\tlearn: 0.5965337\ttotal: 6.88s\tremaining: 1.34s\n837:\tlearn: 0.5959665\ttotal: 6.89s\tremaining: 1.33s\n838:\tlearn: 0.5955619\ttotal: 6.89s\tremaining: 1.32s\n839:\tlearn: 0.5948717\ttotal: 6.91s\tremaining: 1.31s\n840:\tlearn: 0.5940154\ttotal: 6.91s\tremaining: 1.31s\n841:\tlearn: 0.5933796\ttotal: 6.92s\tremaining: 1.3s\n842:\tlearn: 0.5921964\ttotal: 6.93s\tremaining: 1.29s\n843:\tlearn: 0.5912891\ttotal: 6.93s\tremaining: 1.28s\n844:\tlearn: 0.5908824\ttotal: 6.93s\tremaining: 1.27s\n845:\tlearn: 0.5902619\ttotal: 6.94s\tremaining: 1.26s\n846:\tlearn: 0.5896156\ttotal: 6.94s\tremaining: 1.25s\n847:\tlearn: 0.5891691\ttotal: 6.95s\tremaining: 1.25s\n848:\tlearn: 0.5887476\ttotal: 6.96s\tremaining: 1.24s\n849:\tlearn: 0.5879867\ttotal: 6.97s\tremaining: 1.23s\n850:\tlearn: 0.5873110\ttotal: 6.99s\tremaining: 1.22s\n851:\tlearn: 0.5867582\ttotal: 7s\tremaining: 1.22s\n852:\tlearn: 0.5860755\ttotal: 7.01s\tremaining: 1.21s\n853:\tlearn: 0.5850114\ttotal: 7.03s\tremaining: 1.2s\n854:\tlearn: 0.5845116\ttotal: 7.04s\tremaining: 1.19s\n855:\tlearn: 0.5830706\ttotal: 7.05s\tremaining: 1.19s\n856:\tlearn: 0.5824384\ttotal: 7.06s\tremaining: 1.18s\n857:\tlearn: 0.5820083\ttotal: 7.07s\tremaining: 1.17s\n858:\tlearn: 0.5810944\ttotal: 7.07s\tremaining: 1.16s\n859:\tlearn: 0.5803538\ttotal: 7.08s\tremaining: 1.15s\n860:\tlearn: 0.5795086\ttotal: 7.08s\tremaining: 1.14s\n861:\tlearn: 0.5789283\ttotal: 7.09s\tremaining: 1.13s\n862:\tlearn: 0.5776236\ttotal: 7.09s\tremaining: 1.13s\n863:\tlearn: 0.5768917\ttotal: 7.1s\tremaining: 1.12s\n864:\tlearn: 0.5759868\ttotal: 7.11s\tremaining: 1.11s\n865:\tlearn: 0.5756926\ttotal: 7.11s\tremaining: 1.1s\n866:\tlearn: 0.5748139\ttotal: 7.13s\tremaining: 1.09s\n867:\tlearn: 0.5738629\ttotal: 7.14s\tremaining: 1.08s\n868:\tlearn: 0.5730652\ttotal: 7.15s\tremaining: 1.08s\n869:\tlearn: 0.5722487\ttotal: 7.16s\tremaining: 1.07s\n870:\tlearn: 0.5721622\ttotal: 7.17s\tremaining: 1.06s\n871:\tlearn: 0.5712040\ttotal: 7.19s\tremaining: 1.05s\n872:\tlearn: 0.5701865\ttotal: 7.19s\tremaining: 1.05s\n873:\tlearn: 0.5696278\ttotal: 7.2s\tremaining: 1.04s\n874:\tlearn: 0.5691464\ttotal: 7.21s\tremaining: 1.03s\n875:\tlearn: 0.5681526\ttotal: 7.22s\tremaining: 1.02s\n876:\tlearn: 0.5675296\ttotal: 7.23s\tremaining: 1.01s\n877:\tlearn: 0.5671140\ttotal: 7.23s\tremaining: 1s\n878:\tlearn: 0.5660508\ttotal: 7.26s\tremaining: 999ms\n879:\tlearn: 0.5656416\ttotal: 7.27s\tremaining: 991ms\n880:\tlearn: 0.5649320\ttotal: 7.28s\tremaining: 983ms\n881:\tlearn: 0.5639704\ttotal: 7.29s\tremaining: 975ms\n882:\tlearn: 0.5632470\ttotal: 7.29s\tremaining: 966ms\n883:\tlearn: 0.5625915\ttotal: 7.3s\tremaining: 958ms\n884:\tlearn: 0.5624125\ttotal: 7.31s\tremaining: 950ms\n885:\tlearn: 0.5617744\ttotal: 7.32s\tremaining: 942ms\n886:\tlearn: 0.5614606\ttotal: 7.32s\tremaining: 933ms\n887:\tlearn: 0.5604651\ttotal: 7.34s\tremaining: 925ms\n888:\tlearn: 0.5599381\ttotal: 7.34s\tremaining: 917ms\n889:\tlearn: 0.5598514\ttotal: 7.35s\tremaining: 909ms\n890:\tlearn: 0.5591514\ttotal: 7.37s\tremaining: 901ms\n891:\tlearn: 0.5586184\ttotal: 7.38s\tremaining: 893ms\n892:\tlearn: 0.5570672\ttotal: 7.38s\tremaining: 885ms\n893:\tlearn: 0.5562462\ttotal: 7.39s\tremaining: 876ms\n894:\tlearn: 0.5553685\ttotal: 7.4s\tremaining: 868ms\n895:\tlearn: 0.5550014\ttotal: 7.4s\tremaining: 859ms\n896:\tlearn: 0.5541206\ttotal: 7.41s\tremaining: 851ms\n897:\tlearn: 0.5536675\ttotal: 7.42s\tremaining: 843ms\n898:\tlearn: 0.5528803\ttotal: 7.43s\tremaining: 835ms\n899:\tlearn: 0.5517894\ttotal: 7.43s\tremaining: 826ms\n900:\tlearn: 0.5510896\ttotal: 7.45s\tremaining: 819ms\n901:\tlearn: 0.5507326\ttotal: 7.46s\tremaining: 810ms\n902:\tlearn: 0.5496235\ttotal: 7.46s\tremaining: 802ms\n903:\tlearn: 0.5487577\ttotal: 7.47s\tremaining: 793ms\n904:\tlearn: 0.5484163\ttotal: 7.47s\tremaining: 784ms\n905:\tlearn: 0.5481442\ttotal: 7.48s\tremaining: 776ms\n906:\tlearn: 0.5468142\ttotal: 7.48s\tremaining: 767ms\n907:\tlearn: 0.5458353\ttotal: 7.49s\tremaining: 759ms\n908:\tlearn: 0.5449525\ttotal: 7.5s\tremaining: 750ms\n909:\tlearn: 0.5439858\ttotal: 7.5s\tremaining: 742ms\n910:\tlearn: 0.5434397\ttotal: 7.51s\tremaining: 734ms\n911:\tlearn: 0.5425317\ttotal: 7.51s\tremaining: 725ms\n912:\tlearn: 0.5421535\ttotal: 7.52s\tremaining: 716ms\n913:\tlearn: 0.5413207\ttotal: 7.53s\tremaining: 708ms\n914:\tlearn: 0.5401257\ttotal: 7.53s\tremaining: 699ms\n915:\tlearn: 0.5394280\ttotal: 7.54s\tremaining: 691ms\n916:\tlearn: 0.5381451\ttotal: 7.54s\tremaining: 683ms\n917:\tlearn: 0.5376263\ttotal: 7.55s\tremaining: 674ms\n918:\tlearn: 0.5372221\ttotal: 7.55s\tremaining: 666ms\n919:\tlearn: 0.5369451\ttotal: 7.56s\tremaining: 657ms\n920:\tlearn: 0.5361267\ttotal: 7.57s\tremaining: 650ms\n921:\tlearn: 0.5351473\ttotal: 7.58s\tremaining: 641ms\n922:\tlearn: 0.5341407\ttotal: 7.59s\tremaining: 633ms\n923:\tlearn: 0.5334751\ttotal: 7.6s\tremaining: 625ms\n924:\tlearn: 0.5329300\ttotal: 7.6s\tremaining: 616ms\n925:\tlearn: 0.5320495\ttotal: 7.61s\tremaining: 608ms\n926:\tlearn: 0.5304153\ttotal: 7.62s\tremaining: 600ms\n927:\tlearn: 0.5297363\ttotal: 7.63s\tremaining: 592ms\n928:\tlearn: 0.5290972\ttotal: 7.65s\tremaining: 585ms\n929:\tlearn: 0.5283479\ttotal: 7.66s\tremaining: 576ms\n930:\tlearn: 0.5271862\ttotal: 7.67s\tremaining: 568ms\n931:\tlearn: 0.5260794\ttotal: 7.67s\tremaining: 560ms\n932:\tlearn: 0.5257172\ttotal: 7.7s\tremaining: 553ms\n933:\tlearn: 0.5246305\ttotal: 7.71s\tremaining: 545ms\n934:\tlearn: 0.5240344\ttotal: 7.71s\tremaining: 536ms\n935:\tlearn: 0.5229308\ttotal: 7.73s\tremaining: 528ms\n936:\tlearn: 0.5220327\ttotal: 7.73s\tremaining: 520ms\n937:\tlearn: 0.5214060\ttotal: 7.74s\tremaining: 512ms\n938:\tlearn: 0.5205389\ttotal: 7.75s\tremaining: 503ms\n939:\tlearn: 0.5195271\ttotal: 7.75s\tremaining: 495ms\n940:\tlearn: 0.5185903\ttotal: 7.76s\tremaining: 486ms\n941:\tlearn: 0.5176898\ttotal: 7.78s\tremaining: 479ms\n942:\tlearn: 0.5171124\ttotal: 7.79s\tremaining: 471ms\n943:\tlearn: 0.5167469\ttotal: 7.79s\tremaining: 462ms\n944:\tlearn: 0.5155517\ttotal: 7.81s\tremaining: 454ms\n945:\tlearn: 0.5144420\ttotal: 7.81s\tremaining: 446ms\n946:\tlearn: 0.5139309\ttotal: 7.84s\tremaining: 439ms\n947:\tlearn: 0.5132173\ttotal: 7.84s\tremaining: 430ms\n948:\tlearn: 0.5122039\ttotal: 7.86s\tremaining: 422ms\n949:\tlearn: 0.5113914\ttotal: 7.87s\tremaining: 414ms\n950:\tlearn: 0.5108588\ttotal: 7.87s\tremaining: 406ms\n951:\tlearn: 0.5101590\ttotal: 7.89s\tremaining: 398ms\n952:\tlearn: 0.5093948\ttotal: 7.9s\tremaining: 390ms\n953:\tlearn: 0.5089175\ttotal: 7.91s\tremaining: 381ms\n954:\tlearn: 0.5083910\ttotal: 7.93s\tremaining: 374ms\n955:\tlearn: 0.5080088\ttotal: 7.94s\tremaining: 365ms\n956:\tlearn: 0.5069188\ttotal: 7.96s\tremaining: 358ms\n957:\tlearn: 0.5062913\ttotal: 7.97s\tremaining: 349ms\n958:\tlearn: 0.5058297\ttotal: 7.99s\tremaining: 342ms\n959:\tlearn: 0.5054177\ttotal: 8.01s\tremaining: 334ms\n960:\tlearn: 0.5046470\ttotal: 8.02s\tremaining: 325ms\n961:\tlearn: 0.5039120\ttotal: 8.02s\tremaining: 317ms\n962:\tlearn: 0.5032247\ttotal: 8.03s\tremaining: 309ms\n963:\tlearn: 0.5027069\ttotal: 8.04s\tremaining: 300ms\n964:\tlearn: 0.5016227\ttotal: 8.05s\tremaining: 292ms\n965:\tlearn: 0.5010199\ttotal: 8.06s\tremaining: 284ms\n966:\tlearn: 0.5005528\ttotal: 8.07s\tremaining: 275ms\n967:\tlearn: 0.5004390\ttotal: 8.08s\tremaining: 267ms\n968:\tlearn: 0.4991465\ttotal: 8.09s\tremaining: 259ms\n969:\tlearn: 0.4986538\ttotal: 8.1s\tremaining: 250ms\n970:\tlearn: 0.4978558\ttotal: 8.11s\tremaining: 242ms\n971:\tlearn: 0.4967843\ttotal: 8.12s\tremaining: 234ms\n972:\tlearn: 0.4957226\ttotal: 8.13s\tremaining: 226ms\n973:\tlearn: 0.4948838\ttotal: 8.14s\tremaining: 217ms\n974:\tlearn: 0.4945155\ttotal: 8.15s\tremaining: 209ms\n975:\tlearn: 0.4939728\ttotal: 8.17s\tremaining: 201ms\n976:\tlearn: 0.4931176\ttotal: 8.18s\tremaining: 193ms\n977:\tlearn: 0.4927472\ttotal: 8.2s\tremaining: 184ms\n978:\tlearn: 0.4926357\ttotal: 8.2s\tremaining: 176ms\n979:\tlearn: 0.4918384\ttotal: 8.21s\tremaining: 168ms\n980:\tlearn: 0.4913618\ttotal: 8.22s\tremaining: 159ms\n981:\tlearn: 0.4904921\ttotal: 8.22s\tremaining: 151ms\n982:\tlearn: 0.4904060\ttotal: 8.23s\tremaining: 142ms\n983:\tlearn: 0.4900421\ttotal: 8.24s\tremaining: 134ms\n984:\tlearn: 0.4893144\ttotal: 8.24s\tremaining: 126ms\n985:\tlearn: 0.4887258\ttotal: 8.25s\tremaining: 117ms\n986:\tlearn: 0.4877975\ttotal: 8.26s\tremaining: 109ms\n987:\tlearn: 0.4871920\ttotal: 8.27s\tremaining: 100ms\n988:\tlearn: 0.4867783\ttotal: 8.28s\tremaining: 92.1ms\n989:\tlearn: 0.4855865\ttotal: 8.29s\tremaining: 83.7ms\n990:\tlearn: 0.4849138\ttotal: 8.3s\tremaining: 75.4ms\n991:\tlearn: 0.4845458\ttotal: 8.3s\tremaining: 67ms\n992:\tlearn: 0.4834632\ttotal: 8.31s\tremaining: 58.6ms\n993:\tlearn: 0.4827901\ttotal: 8.33s\tremaining: 50.3ms\n994:\tlearn: 0.4822855\ttotal: 8.34s\tremaining: 41.9ms\n995:\tlearn: 0.4817165\ttotal: 8.35s\tremaining: 33.5ms\n996:\tlearn: 0.4814781\ttotal: 8.35s\tremaining: 25.1ms\n997:\tlearn: 0.4808100\ttotal: 8.36s\tremaining: 16.8ms\n998:\tlearn: 0.4805634\ttotal: 8.38s\tremaining: 8.39ms\n999:\tlearn: 0.4800380\ttotal: 8.39s\tremaining: 0us\n"
    },
    {
     "output_type": "execute_result",
     "data": {
      "text/plain": "<catboost.core.CatBoostRegressor at 0x7f3ecaedd310>"
     },
     "metadata": {},
     "execution_count": 34
    }
   ],
   "source": [
    "from catboost import CatBoostRegressor\n",
    "cat_model = CatBoostRegressor()\n",
    "cat_model.fit(X_train, y_train)"
   ]
  },
  {
   "cell_type": "code",
   "execution_count": 35,
   "metadata": {
    "tags": []
   },
   "outputs": [
    {
     "output_type": "stream",
     "name": "stdout",
     "text": "[[22.6   24.001]\n [50.    24.095]\n [23.    24.862]\n [ 8.3   10.608]\n [21.2   21.102]\n [19.9   20.132]\n [20.6   21.874]\n [18.7   19.972]\n [16.1   23.188]\n [18.6   19.678]\n [ 8.8    5.728]\n [17.2   13.878]\n [14.9   15.32 ]\n [10.5    9.837]\n [50.    48.41 ]\n [29.    33.425]\n [23.    21.563]\n [33.3   36.392]\n [29.4   28.166]\n [21.    21.969]\n [23.8   23.502]\n [19.1   21.564]\n [20.4   19.887]\n [29.1   26.502]\n [19.3   21.669]\n [23.1   19.634]\n [19.6   17.031]\n [19.4   16.558]\n [38.7   39.189]\n [18.7   19.279]\n [14.6   16.418]\n [20.    18.075]\n [20.5   20.323]\n [20.1   19.621]\n [23.6   24.816]\n [16.8   18.809]\n [ 5.6    8.516]\n [50.    23.041]\n [14.5   14.377]\n [13.3   16.418]\n [23.9   24.56 ]\n [20.    21.237]\n [19.8   21.34 ]\n [13.8   16.476]\n [16.5   23.125]\n [21.6   20.866]\n [20.3   20.292]\n [17.    18.006]\n [11.8   15.276]\n [27.5   23.754]\n [15.6   17.155]\n [23.1   22.002]\n [24.3   22.22 ]\n [42.8   37.83 ]\n [15.6   14.199]\n [21.7   21.526]\n [17.1   19.118]\n [17.2   18.463]\n [15.    17.683]\n [21.7   20.428]\n [18.6   20.802]\n [21.    20.675]\n [33.1   31.078]\n [31.5   31.478]\n [20.1   20.321]\n [29.8   30.377]\n [15.2   16.78 ]\n [15.    21.221]\n [27.5   15.935]\n [22.6   22.803]\n [20.    21.014]\n [21.4   22.91 ]\n [23.5   25.388]\n [31.2   30.142]\n [23.7   24.475]\n [ 7.4    8.964]\n [48.3   41.343]\n [24.4   22.911]\n [22.6   23.732]\n [18.3   20.39 ]\n [23.3   25.826]\n [17.1   18.865]\n [27.9   18.068]\n [44.8   39.749]\n [50.    38.956]\n [23.    24.361]\n [21.4   23.286]\n [10.2   15.907]\n [23.3   27.639]\n [23.2   15.079]\n [18.9   17.859]\n [13.4   10.879]\n [21.9   22.114]\n [24.8   30.418]\n [11.9   20.111]\n [24.3   21.756]\n [13.8   12.3  ]\n [24.7   23.258]\n [14.1   13.857]\n [18.7   18.363]\n [28.1   25.187]\n [19.8   21.438]]\n"
    }
   ],
   "source": [
    "y_pred = cat_model.predict(X_test)\n",
    "np.set_printoptions(precision=3)\n",
    "print(np.concatenate((y_test.reshape(-1,1), y_pred.reshape(-1,1)), axis=1))"
   ]
  },
  {
   "cell_type": "code",
   "execution_count": 36,
   "metadata": {},
   "outputs": [
    {
     "output_type": "execute_result",
     "data": {
      "text/plain": "0.7006219582627364"
     },
     "metadata": {},
     "execution_count": 36
    }
   ],
   "source": [
    "r2_score(y_test, y_pred)"
   ]
  },
  {
   "cell_type": "markdown",
   "metadata": {},
   "source": [
    "## K-fold Cross Validation"
   ]
  },
  {
   "cell_type": "code",
   "execution_count": 38,
   "metadata": {},
   "outputs": [],
   "source": [
    "from sklearn.model_selection import cross_val_score\n",
    "models = [regressor, svr1, svr2, best_svr, dt, rf, best_rf, cat_model]\n",
    "accuracies = []\n",
    "for model in models:\n",
    "    accuracy = cross_val_score(\n",
    "        estimator=model,\n",
    "        X=X_train,\n",
    "        y=y_train,\n",
    "        cv=10,\n",
    "        n_jobs=-1)\n",
    "    accuracies.append(accuracy)"
   ]
  },
  {
   "cell_type": "code",
   "execution_count": 45,
   "metadata": {},
   "outputs": [],
   "source": [
    "a = {'Accuracy':[], 'Standard Deviation':[]}\n",
    "for accuracy in accuracies:\n",
    "    a['Accuracy'].append(accuracy.mean()*100)\n",
    "    a['Standard Deviation'].append(accuracy.std()*100)"
   ]
  },
  {
   "cell_type": "code",
   "execution_count": 46,
   "metadata": {},
   "outputs": [
    {
     "output_type": "execute_result",
     "data": {
      "text/plain": "                    Accuracy  Standard Deviation\nLinear Regressor   73.101263           10.523659\nLinear SVR         72.495541           11.292884\nSVR                69.176262            8.411678\nBest SVR           84.308086            6.175930\nDecision Tree      74.587023           23.129935\nRandomForest       85.823574            9.916977\nBest RandomForest  86.436337            9.331951\nCatboost           91.194747            4.021210",
      "text/html": "<div>\n<style scoped>\n    .dataframe tbody tr th:only-of-type {\n        vertical-align: middle;\n    }\n\n    .dataframe tbody tr th {\n        vertical-align: top;\n    }\n\n    .dataframe thead th {\n        text-align: right;\n    }\n</style>\n<table border=\"1\" class=\"dataframe\">\n  <thead>\n    <tr style=\"text-align: right;\">\n      <th></th>\n      <th>Accuracy</th>\n      <th>Standard Deviation</th>\n    </tr>\n  </thead>\n  <tbody>\n    <tr>\n      <td>Linear Regressor</td>\n      <td>73.101263</td>\n      <td>10.523659</td>\n    </tr>\n    <tr>\n      <td>Linear SVR</td>\n      <td>72.495541</td>\n      <td>11.292884</td>\n    </tr>\n    <tr>\n      <td>SVR</td>\n      <td>69.176262</td>\n      <td>8.411678</td>\n    </tr>\n    <tr>\n      <td>Best SVR</td>\n      <td>84.308086</td>\n      <td>6.175930</td>\n    </tr>\n    <tr>\n      <td>Decision Tree</td>\n      <td>74.587023</td>\n      <td>23.129935</td>\n    </tr>\n    <tr>\n      <td>RandomForest</td>\n      <td>85.823574</td>\n      <td>9.916977</td>\n    </tr>\n    <tr>\n      <td>Best RandomForest</td>\n      <td>86.436337</td>\n      <td>9.331951</td>\n    </tr>\n    <tr>\n      <td>Catboost</td>\n      <td>91.194747</td>\n      <td>4.021210</td>\n    </tr>\n  </tbody>\n</table>\n</div>"
     },
     "metadata": {},
     "execution_count": 46
    }
   ],
   "source": [
    "pd.DataFrame(a, index=['Linear Regressor', 'Linear SVR', 'SVR', 'Best SVR', 'Decision Tree', 'RandomForest', 'Best RandomForest', 'Catboost'])"
   ]
  },
  {
   "cell_type": "code",
   "execution_count": null,
   "metadata": {},
   "outputs": [],
   "source": []
  }
 ]
}