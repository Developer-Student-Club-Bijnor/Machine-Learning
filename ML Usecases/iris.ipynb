{
 "metadata": {
  "language_info": {
   "codemirror_mode": {
    "name": "ipython",
    "version": 3
   },
   "file_extension": ".py",
   "mimetype": "text/x-python",
   "name": "python",
   "nbconvert_exporter": "python",
   "pygments_lexer": "ipython3",
   "version": 3
  },
  "orig_nbformat": 2,
  "kernelspec": {
   "name": "python_defaultSpec_1595860308614",
   "display_name": "Python 3.7.4 64-bit ('Learning': conda)"
  }
 },
 "nbformat": 4,
 "nbformat_minor": 2,
 "cells": [
  {
   "cell_type": "markdown",
   "metadata": {},
   "source": [
    "# Iris dataset"
   ]
  },
  {
   "cell_type": "markdown",
   "metadata": {},
   "source": [
    "## Importing the libraries"
   ]
  },
  {
   "cell_type": "code",
   "execution_count": 10,
   "metadata": {},
   "outputs": [],
   "source": [
    "import numpy as np\n",
    "import pandas as pd\n",
    "import matplotlib.pyplot as plt\n",
    "%matplotlib inline"
   ]
  },
  {
   "cell_type": "markdown",
   "metadata": {},
   "source": [
    "## Importing the dataset"
   ]
  },
  {
   "cell_type": "code",
   "execution_count": 5,
   "metadata": {
    "tags": []
   },
   "outputs": [
    {
     "output_type": "stream",
     "name": "stdout",
     "text": ".. _iris_dataset:\n\nIris plants dataset\n--------------------\n\n**Data Set Characteristics:**\n\n    :Number of Instances: 150 (50 in each of three classes)\n    :Number of Attributes: 4 numeric, predictive attributes and the class\n    :Attribute Information:\n        - sepal length in cm\n        - sepal width in cm\n        - petal length in cm\n        - petal width in cm\n        - class:\n                - Iris-Setosa\n                - Iris-Versicolour\n                - Iris-Virginica\n                \n    :Summary Statistics:\n\n    ============== ==== ==== ======= ===== ====================\n                    Min  Max   Mean    SD   Class Correlation\n    ============== ==== ==== ======= ===== ====================\n    sepal length:   4.3  7.9   5.84   0.83    0.7826\n    sepal width:    2.0  4.4   3.05   0.43   -0.4194\n    petal length:   1.0  6.9   3.76   1.76    0.9490  (high!)\n    petal width:    0.1  2.5   1.20   0.76    0.9565  (high!)\n    ============== ==== ==== ======= ===== ====================\n\n    :Missing Attribute Values: None\n    :Class Distribution: 33.3% for each of 3 classes.\n    :Creator: R.A. Fisher\n    :Donor: Michael Marshall (MARSHALL%PLU@io.arc.nasa.gov)\n    :Date: July, 1988\n\nThe famous Iris database, first used by Sir R.A. Fisher. The dataset is taken\nfrom Fisher's paper. Note that it's the same as in R, but not as in the UCI\nMachine Learning Repository, which has two wrong data points.\n\nThis is perhaps the best known database to be found in the\npattern recognition literature.  Fisher's paper is a classic in the field and\nis referenced frequently to this day.  (See Duda & Hart, for example.)  The\ndata set contains 3 classes of 50 instances each, where each class refers to a\ntype of iris plant.  One class is linearly separable from the other 2; the\nlatter are NOT linearly separable from each other.\n\n.. topic:: References\n\n   - Fisher, R.A. \"The use of multiple measurements in taxonomic problems\"\n     Annual Eugenics, 7, Part II, 179-188 (1936); also in \"Contributions to\n     Mathematical Statistics\" (John Wiley, NY, 1950).\n   - Duda, R.O., & Hart, P.E. (1973) Pattern Classification and Scene Analysis.\n     (Q327.D83) John Wiley & Sons.  ISBN 0-471-22361-1.  See page 218.\n   - Dasarathy, B.V. (1980) \"Nosing Around the Neighborhood: A New System\n     Structure and Classification Rule for Recognition in Partially Exposed\n     Environments\".  IEEE Transactions on Pattern Analysis and Machine\n     Intelligence, Vol. PAMI-2, No. 1, 67-71.\n   - Gates, G.W. (1972) \"The Reduced Nearest Neighbor Rule\".  IEEE Transactions\n     on Information Theory, May 1972, 431-433.\n   - See also: 1988 MLC Proceedings, 54-64.  Cheeseman et al\"s AUTOCLASS II\n     conceptual clustering system finds 3 classes in the data.\n   - Many, many more ...\n"
    }
   ],
   "source": [
    "from sklearn.datasets import load_iris\n",
    "iris = load_iris()\n",
    "print(iris['DESCR'])"
   ]
  },
  {
   "cell_type": "code",
   "execution_count": 6,
   "metadata": {},
   "outputs": [
    {
     "output_type": "execute_result",
     "data": {
      "text/plain": "     sepal length (cm)  sepal width (cm)  petal length (cm)  petal width (cm)  \\\n0                  5.1               3.5                1.4               0.2   \n1                  4.9               3.0                1.4               0.2   \n2                  4.7               3.2                1.3               0.2   \n3                  4.6               3.1                1.5               0.2   \n4                  5.0               3.6                1.4               0.2   \n..                 ...               ...                ...               ...   \n145                6.7               3.0                5.2               2.3   \n146                6.3               2.5                5.0               1.9   \n147                6.5               3.0                5.2               2.0   \n148                6.2               3.4                5.4               2.3   \n149                5.9               3.0                5.1               1.8   \n\n     target  \n0         0  \n1         0  \n2         0  \n3         0  \n4         0  \n..      ...  \n145       2  \n146       2  \n147       2  \n148       2  \n149       2  \n\n[150 rows x 5 columns]",
      "text/html": "<div>\n<style scoped>\n    .dataframe tbody tr th:only-of-type {\n        vertical-align: middle;\n    }\n\n    .dataframe tbody tr th {\n        vertical-align: top;\n    }\n\n    .dataframe thead th {\n        text-align: right;\n    }\n</style>\n<table border=\"1\" class=\"dataframe\">\n  <thead>\n    <tr style=\"text-align: right;\">\n      <th></th>\n      <th>sepal length (cm)</th>\n      <th>sepal width (cm)</th>\n      <th>petal length (cm)</th>\n      <th>petal width (cm)</th>\n      <th>target</th>\n    </tr>\n  </thead>\n  <tbody>\n    <tr>\n      <td>0</td>\n      <td>5.1</td>\n      <td>3.5</td>\n      <td>1.4</td>\n      <td>0.2</td>\n      <td>0</td>\n    </tr>\n    <tr>\n      <td>1</td>\n      <td>4.9</td>\n      <td>3.0</td>\n      <td>1.4</td>\n      <td>0.2</td>\n      <td>0</td>\n    </tr>\n    <tr>\n      <td>2</td>\n      <td>4.7</td>\n      <td>3.2</td>\n      <td>1.3</td>\n      <td>0.2</td>\n      <td>0</td>\n    </tr>\n    <tr>\n      <td>3</td>\n      <td>4.6</td>\n      <td>3.1</td>\n      <td>1.5</td>\n      <td>0.2</td>\n      <td>0</td>\n    </tr>\n    <tr>\n      <td>4</td>\n      <td>5.0</td>\n      <td>3.6</td>\n      <td>1.4</td>\n      <td>0.2</td>\n      <td>0</td>\n    </tr>\n    <tr>\n      <td>...</td>\n      <td>...</td>\n      <td>...</td>\n      <td>...</td>\n      <td>...</td>\n      <td>...</td>\n    </tr>\n    <tr>\n      <td>145</td>\n      <td>6.7</td>\n      <td>3.0</td>\n      <td>5.2</td>\n      <td>2.3</td>\n      <td>2</td>\n    </tr>\n    <tr>\n      <td>146</td>\n      <td>6.3</td>\n      <td>2.5</td>\n      <td>5.0</td>\n      <td>1.9</td>\n      <td>2</td>\n    </tr>\n    <tr>\n      <td>147</td>\n      <td>6.5</td>\n      <td>3.0</td>\n      <td>5.2</td>\n      <td>2.0</td>\n      <td>2</td>\n    </tr>\n    <tr>\n      <td>148</td>\n      <td>6.2</td>\n      <td>3.4</td>\n      <td>5.4</td>\n      <td>2.3</td>\n      <td>2</td>\n    </tr>\n    <tr>\n      <td>149</td>\n      <td>5.9</td>\n      <td>3.0</td>\n      <td>5.1</td>\n      <td>1.8</td>\n      <td>2</td>\n    </tr>\n  </tbody>\n</table>\n<p>150 rows × 5 columns</p>\n</div>"
     },
     "metadata": {},
     "execution_count": 6
    }
   ],
   "source": [
    "dataset = pd.DataFrame(iris['data'], columns=iris['feature_names'])\n",
    "dataset['target'] = iris['target']\n",
    "dataset"
   ]
  },
  {
   "cell_type": "code",
   "execution_count": 8,
   "metadata": {},
   "outputs": [],
   "source": [
    "X = dataset.iloc[:, :-1].values\n",
    "y = dataset['target'].values"
   ]
  },
  {
   "cell_type": "markdown",
   "metadata": {},
   "source": [
    "## Splitting the dataset into train and test set"
   ]
  },
  {
   "cell_type": "code",
   "execution_count": 15,
   "metadata": {},
   "outputs": [],
   "source": [
    "from sklearn.model_selection import train_test_split\n",
    "X_train, X_test, y_train, y_test = train_test_split(X, y, test_size=0.3, random_state=0)"
   ]
  },
  {
   "cell_type": "code",
   "execution_count": 36,
   "metadata": {},
   "outputs": [
    {
     "output_type": "execute_result",
     "data": {
      "text/plain": "array([[5.8, 2.8, 5.1, 2.4],\n       [6. , 2.2, 4. , 1. ],\n       [5.5, 4.2, 1.4, 0.2],\n       [7.3, 2.9, 6.3, 1.8],\n       [5. , 3.4, 1.5, 0.2],\n       [6.3, 3.3, 6. , 2.5],\n       [5. , 3.5, 1.3, 0.3],\n       [6.7, 3.1, 4.7, 1.5],\n       [6.8, 2.8, 4.8, 1.4],\n       [6.1, 2.8, 4. , 1.3],\n       [6.1, 2.6, 5.6, 1.4],\n       [6.4, 3.2, 4.5, 1.5],\n       [6.1, 2.8, 4.7, 1.2],\n       [6.5, 2.8, 4.6, 1.5],\n       [6.1, 2.9, 4.7, 1.4],\n       [4.9, 3.6, 1.4, 0.1],\n       [6. , 2.9, 4.5, 1.5],\n       [5.5, 2.6, 4.4, 1.2],\n       [4.8, 3. , 1.4, 0.3],\n       [5.4, 3.9, 1.3, 0.4],\n       [5.6, 2.8, 4.9, 2. ],\n       [5.6, 3. , 4.5, 1.5],\n       [4.8, 3.4, 1.9, 0.2],\n       [4.4, 2.9, 1.4, 0.2],\n       [6.2, 2.8, 4.8, 1.8],\n       [4.6, 3.6, 1. , 0.2],\n       [5.1, 3.8, 1.9, 0.4],\n       [6.2, 2.9, 4.3, 1.3],\n       [5. , 2.3, 3.3, 1. ],\n       [5. , 3.4, 1.6, 0.4],\n       [6.4, 3.1, 5.5, 1.8],\n       [5.4, 3. , 4.5, 1.5],\n       [5.2, 3.5, 1.5, 0.2],\n       [6.1, 3. , 4.9, 1.8],\n       [6.4, 2.8, 5.6, 2.2],\n       [5.2, 2.7, 3.9, 1.4],\n       [5.7, 3.8, 1.7, 0.3],\n       [6. , 2.7, 5.1, 1.6],\n       [5.9, 3. , 4.2, 1.5],\n       [5.8, 2.6, 4. , 1.2],\n       [6.8, 3. , 5.5, 2.1],\n       [4.7, 3.2, 1.3, 0.2],\n       [6.9, 3.1, 5.1, 2.3],\n       [5. , 3.5, 1.6, 0.6],\n       [5.4, 3.7, 1.5, 0.2]])"
     },
     "metadata": {},
     "execution_count": 36
    }
   ],
   "source": [
    "X_test"
   ]
  },
  {
   "cell_type": "markdown",
   "metadata": {},
   "source": [
    "## Fitting the LogisticRegression Model"
   ]
  },
  {
   "cell_type": "code",
   "execution_count": 16,
   "metadata": {},
   "outputs": [
    {
     "output_type": "execute_result",
     "data": {
      "text/plain": "LogisticRegression(C=1.0, class_weight=None, dual=False, fit_intercept=True,\n                   intercept_scaling=1, l1_ratio=None, max_iter=100,\n                   multi_class='warn', n_jobs=None, penalty='l2',\n                   random_state=None, solver='warn', tol=0.0001, verbose=0,\n                   warm_start=False)"
     },
     "metadata": {},
     "execution_count": 16
    }
   ],
   "source": [
    "from sklearn.linear_model import LogisticRegression\n",
    "model = LogisticRegression()\n",
    "model.fit(X_train, y_train)"
   ]
  },
  {
   "cell_type": "code",
   "execution_count": 17,
   "metadata": {},
   "outputs": [],
   "source": [
    "y_pred = model.predict(X_test)"
   ]
  },
  {
   "cell_type": "code",
   "execution_count": 18,
   "metadata": {},
   "outputs": [
    {
     "output_type": "execute_result",
     "data": {
      "text/plain": "array([[16,  0,  0],\n       [ 0, 13,  5],\n       [ 0,  0, 11]])"
     },
     "metadata": {},
     "execution_count": 18
    }
   ],
   "source": [
    "from sklearn.metrics import confusion_matrix, accuracy_score\n",
    "confusion_matrix(y_test, y_pred)"
   ]
  },
  {
   "cell_type": "code",
   "execution_count": 19,
   "metadata": {},
   "outputs": [
    {
     "output_type": "execute_result",
     "data": {
      "text/plain": "0.8888888888888888"
     },
     "metadata": {},
     "execution_count": 19
    }
   ],
   "source": [
    "accuracy_score(y_test, y_pred)"
   ]
  },
  {
   "cell_type": "code",
   "execution_count": 20,
   "metadata": {
    "tags": []
   },
   "outputs": [
    {
     "output_type": "stream",
     "name": "stdout",
     "text": "0.9427204374572795\n0.034547570009217564\n"
    }
   ],
   "source": [
    "from sklearn.model_selection import cross_val_score\n",
    "accuracies = cross_val_score(estimator=model, X=X_train, y=y_train, cv=5)\n",
    "print(accuracies.mean())\n",
    "print(accuracies.std())"
   ]
  },
  {
   "cell_type": "markdown",
   "metadata": {},
   "source": [
    "## Fitting the NaiveBayes model "
   ]
  },
  {
   "cell_type": "code",
   "execution_count": 21,
   "metadata": {},
   "outputs": [
    {
     "output_type": "execute_result",
     "data": {
      "text/plain": "GaussianNB(priors=None, var_smoothing=1e-09)"
     },
     "metadata": {},
     "execution_count": 21
    }
   ],
   "source": [
    "from sklearn.naive_bayes import GaussianNB\n",
    "nb_model = GaussianNB()\n",
    "nb_model.fit(X_train, y_train)"
   ]
  },
  {
   "cell_type": "code",
   "execution_count": 22,
   "metadata": {},
   "outputs": [],
   "source": [
    "y_pred = nb_model.predict(X_test)"
   ]
  },
  {
   "cell_type": "code",
   "execution_count": 23,
   "metadata": {},
   "outputs": [
    {
     "output_type": "execute_result",
     "data": {
      "text/plain": "array([[16,  0,  0],\n       [ 0, 18,  0],\n       [ 0,  0, 11]])"
     },
     "metadata": {},
     "execution_count": 23
    }
   ],
   "source": [
    "confusion_matrix(y_test, y_pred)"
   ]
  },
  {
   "cell_type": "code",
   "execution_count": 24,
   "metadata": {},
   "outputs": [
    {
     "output_type": "execute_result",
     "data": {
      "text/plain": "1.0"
     },
     "metadata": {},
     "execution_count": 24
    }
   ],
   "source": [
    "accuracy_score(y_test, y_pred)"
   ]
  },
  {
   "cell_type": "code",
   "execution_count": 26,
   "metadata": {
    "tags": []
   },
   "outputs": [
    {
     "output_type": "stream",
     "name": "stdout",
     "text": "0.9435862383230805\n0.04424082117395695\n"
    }
   ],
   "source": [
    "accuracies = cross_val_score(estimator=nb_model, X=X_train, y=y_train, cv=5)\n",
    "print(accuracies.mean())\n",
    "print(accuracies.std())"
   ]
  },
  {
   "cell_type": "markdown",
   "metadata": {},
   "source": [
    "## Fitting the catboost Model"
   ]
  },
  {
   "cell_type": "code",
   "execution_count": 27,
   "metadata": {
    "tags": [
     "outputPrepend"
    ]
   },
   "outputs": [
    {
     "output_type": "stream",
     "name": "stdout",
     "text": "otal: 2.46s\tremaining: 1.54s\n615:\tlearn: 0.0082677\ttotal: 2.46s\tremaining: 1.54s\n616:\tlearn: 0.0082503\ttotal: 2.47s\tremaining: 1.53s\n617:\tlearn: 0.0082410\ttotal: 2.47s\tremaining: 1.53s\n618:\tlearn: 0.0082258\ttotal: 2.47s\tremaining: 1.52s\n619:\tlearn: 0.0082143\ttotal: 2.47s\tremaining: 1.52s\n620:\tlearn: 0.0082000\ttotal: 2.48s\tremaining: 1.51s\n621:\tlearn: 0.0081874\ttotal: 2.48s\tremaining: 1.51s\n622:\tlearn: 0.0081660\ttotal: 2.48s\tremaining: 1.5s\n623:\tlearn: 0.0081521\ttotal: 2.49s\tremaining: 1.5s\n624:\tlearn: 0.0081369\ttotal: 2.49s\tremaining: 1.5s\n625:\tlearn: 0.0081230\ttotal: 2.5s\tremaining: 1.49s\n626:\tlearn: 0.0081085\ttotal: 2.5s\tremaining: 1.49s\n627:\tlearn: 0.0080893\ttotal: 2.5s\tremaining: 1.48s\n628:\tlearn: 0.0080765\ttotal: 2.5s\tremaining: 1.48s\n629:\tlearn: 0.0080607\ttotal: 2.5s\tremaining: 1.47s\n630:\tlearn: 0.0080472\ttotal: 2.51s\tremaining: 1.47s\n631:\tlearn: 0.0080333\ttotal: 2.52s\tremaining: 1.47s\n632:\tlearn: 0.0080140\ttotal: 2.52s\tremaining: 1.46s\n633:\tlearn: 0.0080040\ttotal: 2.52s\tremaining: 1.46s\n634:\tlearn: 0.0079889\ttotal: 2.53s\tremaining: 1.45s\n635:\tlearn: 0.0079704\ttotal: 2.53s\tremaining: 1.45s\n636:\tlearn: 0.0079589\ttotal: 2.53s\tremaining: 1.44s\n637:\tlearn: 0.0079427\ttotal: 2.54s\tremaining: 1.44s\n638:\tlearn: 0.0079321\ttotal: 2.55s\tremaining: 1.44s\n639:\tlearn: 0.0079209\ttotal: 2.55s\tremaining: 1.43s\n640:\tlearn: 0.0079100\ttotal: 2.55s\tremaining: 1.43s\n641:\tlearn: 0.0078970\ttotal: 2.55s\tremaining: 1.42s\n642:\tlearn: 0.0078824\ttotal: 2.56s\tremaining: 1.42s\n643:\tlearn: 0.0078686\ttotal: 2.56s\tremaining: 1.41s\n644:\tlearn: 0.0078525\ttotal: 2.56s\tremaining: 1.41s\n645:\tlearn: 0.0078374\ttotal: 2.56s\tremaining: 1.4s\n646:\tlearn: 0.0078213\ttotal: 2.56s\tremaining: 1.4s\n647:\tlearn: 0.0078025\ttotal: 2.57s\tremaining: 1.4s\n648:\tlearn: 0.0077862\ttotal: 2.57s\tremaining: 1.39s\n649:\tlearn: 0.0077713\ttotal: 2.58s\tremaining: 1.39s\n650:\tlearn: 0.0077568\ttotal: 2.58s\tremaining: 1.38s\n651:\tlearn: 0.0077445\ttotal: 2.58s\tremaining: 1.38s\n652:\tlearn: 0.0077346\ttotal: 2.59s\tremaining: 1.37s\n653:\tlearn: 0.0077223\ttotal: 2.59s\tremaining: 1.37s\n654:\tlearn: 0.0077106\ttotal: 2.59s\tremaining: 1.36s\n655:\tlearn: 0.0076993\ttotal: 2.6s\tremaining: 1.36s\n656:\tlearn: 0.0076863\ttotal: 2.6s\tremaining: 1.36s\n657:\tlearn: 0.0076745\ttotal: 2.6s\tremaining: 1.35s\n658:\tlearn: 0.0076573\ttotal: 2.61s\tremaining: 1.35s\n659:\tlearn: 0.0076439\ttotal: 2.61s\tremaining: 1.34s\n660:\tlearn: 0.0076305\ttotal: 2.61s\tremaining: 1.34s\n661:\tlearn: 0.0076202\ttotal: 2.61s\tremaining: 1.33s\n662:\tlearn: 0.0076048\ttotal: 2.62s\tremaining: 1.33s\n663:\tlearn: 0.0075914\ttotal: 2.62s\tremaining: 1.33s\n664:\tlearn: 0.0075747\ttotal: 2.62s\tremaining: 1.32s\n665:\tlearn: 0.0075594\ttotal: 2.62s\tremaining: 1.32s\n666:\tlearn: 0.0075492\ttotal: 2.63s\tremaining: 1.31s\n667:\tlearn: 0.0075307\ttotal: 2.63s\tremaining: 1.3s\n668:\tlearn: 0.0075197\ttotal: 2.63s\tremaining: 1.3s\n669:\tlearn: 0.0075015\ttotal: 2.63s\tremaining: 1.29s\n670:\tlearn: 0.0074852\ttotal: 2.63s\tremaining: 1.29s\n671:\tlearn: 0.0074737\ttotal: 2.63s\tremaining: 1.29s\n672:\tlearn: 0.0074594\ttotal: 2.64s\tremaining: 1.28s\n673:\tlearn: 0.0074444\ttotal: 2.64s\tremaining: 1.28s\n674:\tlearn: 0.0074347\ttotal: 2.64s\tremaining: 1.27s\n675:\tlearn: 0.0074260\ttotal: 2.64s\tremaining: 1.27s\n676:\tlearn: 0.0074142\ttotal: 2.65s\tremaining: 1.26s\n677:\tlearn: 0.0074005\ttotal: 2.65s\tremaining: 1.26s\n678:\tlearn: 0.0073903\ttotal: 2.65s\tremaining: 1.25s\n679:\tlearn: 0.0073800\ttotal: 2.65s\tremaining: 1.25s\n680:\tlearn: 0.0073696\ttotal: 2.66s\tremaining: 1.25s\n681:\tlearn: 0.0073508\ttotal: 2.67s\tremaining: 1.24s\n682:\tlearn: 0.0073374\ttotal: 2.67s\tremaining: 1.24s\n683:\tlearn: 0.0073290\ttotal: 2.67s\tremaining: 1.24s\n684:\tlearn: 0.0073171\ttotal: 2.67s\tremaining: 1.23s\n685:\tlearn: 0.0073073\ttotal: 2.68s\tremaining: 1.23s\n686:\tlearn: 0.0072995\ttotal: 2.68s\tremaining: 1.22s\n687:\tlearn: 0.0072882\ttotal: 2.68s\tremaining: 1.22s\n688:\tlearn: 0.0072712\ttotal: 2.68s\tremaining: 1.21s\n689:\tlearn: 0.0072607\ttotal: 2.69s\tremaining: 1.21s\n690:\tlearn: 0.0072529\ttotal: 2.69s\tremaining: 1.2s\n691:\tlearn: 0.0072406\ttotal: 2.69s\tremaining: 1.2s\n692:\tlearn: 0.0072303\ttotal: 2.69s\tremaining: 1.19s\n693:\tlearn: 0.0072208\ttotal: 2.69s\tremaining: 1.19s\n694:\tlearn: 0.0072101\ttotal: 2.7s\tremaining: 1.18s\n695:\tlearn: 0.0072021\ttotal: 2.7s\tremaining: 1.18s\n696:\tlearn: 0.0071900\ttotal: 2.7s\tremaining: 1.17s\n697:\tlearn: 0.0071810\ttotal: 2.7s\tremaining: 1.17s\n698:\tlearn: 0.0071693\ttotal: 2.71s\tremaining: 1.17s\n699:\tlearn: 0.0071589\ttotal: 2.71s\tremaining: 1.16s\n700:\tlearn: 0.0071453\ttotal: 2.71s\tremaining: 1.16s\n701:\tlearn: 0.0071359\ttotal: 2.71s\tremaining: 1.15s\n702:\tlearn: 0.0071279\ttotal: 2.71s\tremaining: 1.15s\n703:\tlearn: 0.0071203\ttotal: 2.71s\tremaining: 1.14s\n704:\tlearn: 0.0071087\ttotal: 2.72s\tremaining: 1.14s\n705:\tlearn: 0.0070918\ttotal: 2.72s\tremaining: 1.13s\n706:\tlearn: 0.0070837\ttotal: 2.72s\tremaining: 1.13s\n707:\tlearn: 0.0070758\ttotal: 2.72s\tremaining: 1.12s\n708:\tlearn: 0.0070662\ttotal: 2.72s\tremaining: 1.12s\n709:\tlearn: 0.0070538\ttotal: 2.73s\tremaining: 1.11s\n710:\tlearn: 0.0070438\ttotal: 2.73s\tremaining: 1.11s\n711:\tlearn: 0.0070353\ttotal: 2.73s\tremaining: 1.1s\n712:\tlearn: 0.0070251\ttotal: 2.74s\tremaining: 1.1s\n713:\tlearn: 0.0070090\ttotal: 2.74s\tremaining: 1.1s\n714:\tlearn: 0.0069971\ttotal: 2.74s\tremaining: 1.09s\n715:\tlearn: 0.0069847\ttotal: 2.74s\tremaining: 1.09s\n716:\tlearn: 0.0069748\ttotal: 2.75s\tremaining: 1.08s\n717:\tlearn: 0.0069646\ttotal: 2.75s\tremaining: 1.08s\n718:\tlearn: 0.0069556\ttotal: 2.75s\tremaining: 1.07s\n719:\tlearn: 0.0069454\ttotal: 2.75s\tremaining: 1.07s\n720:\tlearn: 0.0069355\ttotal: 2.75s\tremaining: 1.06s\n721:\tlearn: 0.0069257\ttotal: 2.75s\tremaining: 1.06s\n722:\tlearn: 0.0069143\ttotal: 2.76s\tremaining: 1.06s\n723:\tlearn: 0.0069024\ttotal: 2.76s\tremaining: 1.05s\n724:\tlearn: 0.0068897\ttotal: 2.76s\tremaining: 1.05s\n725:\tlearn: 0.0068799\ttotal: 2.76s\tremaining: 1.04s\n726:\tlearn: 0.0068700\ttotal: 2.76s\tremaining: 1.04s\n727:\tlearn: 0.0068600\ttotal: 2.77s\tremaining: 1.03s\n728:\tlearn: 0.0068507\ttotal: 2.77s\tremaining: 1.03s\n729:\tlearn: 0.0068395\ttotal: 2.77s\tremaining: 1.02s\n730:\tlearn: 0.0068301\ttotal: 2.77s\tremaining: 1.02s\n731:\tlearn: 0.0068222\ttotal: 2.77s\tremaining: 1.01s\n732:\tlearn: 0.0068122\ttotal: 2.77s\tremaining: 1.01s\n733:\tlearn: 0.0067972\ttotal: 2.78s\tremaining: 1.01s\n734:\tlearn: 0.0067844\ttotal: 2.78s\tremaining: 1s\n735:\tlearn: 0.0067735\ttotal: 2.78s\tremaining: 998ms\n736:\tlearn: 0.0067640\ttotal: 2.78s\tremaining: 993ms\n737:\tlearn: 0.0067558\ttotal: 2.78s\tremaining: 989ms\n738:\tlearn: 0.0067465\ttotal: 2.79s\tremaining: 984ms\n739:\tlearn: 0.0067334\ttotal: 2.79s\tremaining: 979ms\n740:\tlearn: 0.0067261\ttotal: 2.79s\tremaining: 975ms\n741:\tlearn: 0.0067190\ttotal: 2.79s\tremaining: 970ms\n742:\tlearn: 0.0067065\ttotal: 2.79s\tremaining: 966ms\n743:\tlearn: 0.0066983\ttotal: 2.79s\tremaining: 961ms\n744:\tlearn: 0.0066891\ttotal: 2.79s\tremaining: 957ms\n745:\tlearn: 0.0066804\ttotal: 2.8s\tremaining: 954ms\n746:\tlearn: 0.0066705\ttotal: 2.8s\tremaining: 949ms\n747:\tlearn: 0.0066595\ttotal: 2.8s\tremaining: 945ms\n748:\tlearn: 0.0066501\ttotal: 2.81s\tremaining: 941ms\n749:\tlearn: 0.0066388\ttotal: 2.81s\tremaining: 937ms\n750:\tlearn: 0.0066295\ttotal: 2.82s\tremaining: 934ms\n751:\tlearn: 0.0066174\ttotal: 2.82s\tremaining: 930ms\n752:\tlearn: 0.0066061\ttotal: 2.82s\tremaining: 927ms\n753:\tlearn: 0.0065978\ttotal: 2.84s\tremaining: 926ms\n754:\tlearn: 0.0065898\ttotal: 2.84s\tremaining: 921ms\n755:\tlearn: 0.0065805\ttotal: 2.85s\tremaining: 920ms\n756:\tlearn: 0.0065712\ttotal: 2.85s\tremaining: 916ms\n757:\tlearn: 0.0065585\ttotal: 2.85s\tremaining: 912ms\n758:\tlearn: 0.0065461\ttotal: 2.86s\tremaining: 909ms\n759:\tlearn: 0.0065382\ttotal: 2.87s\tremaining: 905ms\n760:\tlearn: 0.0065254\ttotal: 2.87s\tremaining: 901ms\n761:\tlearn: 0.0065163\ttotal: 2.87s\tremaining: 896ms\n762:\tlearn: 0.0065047\ttotal: 2.87s\tremaining: 892ms\n763:\tlearn: 0.0064973\ttotal: 2.88s\tremaining: 888ms\n764:\tlearn: 0.0064869\ttotal: 2.88s\tremaining: 884ms\n765:\tlearn: 0.0064792\ttotal: 2.88s\tremaining: 880ms\n766:\tlearn: 0.0064701\ttotal: 2.88s\tremaining: 876ms\n767:\tlearn: 0.0064565\ttotal: 2.89s\tremaining: 873ms\n768:\tlearn: 0.0064454\ttotal: 2.89s\tremaining: 869ms\n769:\tlearn: 0.0064359\ttotal: 2.9s\tremaining: 865ms\n770:\tlearn: 0.0064262\ttotal: 2.9s\tremaining: 861ms\n771:\tlearn: 0.0064167\ttotal: 2.9s\tremaining: 856ms\n772:\tlearn: 0.0064105\ttotal: 2.9s\tremaining: 852ms\n773:\tlearn: 0.0064003\ttotal: 2.9s\tremaining: 848ms\n774:\tlearn: 0.0063926\ttotal: 2.92s\tremaining: 849ms\n775:\tlearn: 0.0063845\ttotal: 2.93s\tremaining: 845ms\n776:\tlearn: 0.0063786\ttotal: 2.93s\tremaining: 841ms\n777:\tlearn: 0.0063702\ttotal: 2.93s\tremaining: 837ms\n778:\tlearn: 0.0063596\ttotal: 2.93s\tremaining: 832ms\n779:\tlearn: 0.0063513\ttotal: 2.94s\tremaining: 829ms\n780:\tlearn: 0.0063409\ttotal: 2.94s\tremaining: 825ms\n781:\tlearn: 0.0063296\ttotal: 2.94s\tremaining: 820ms\n782:\tlearn: 0.0063206\ttotal: 2.94s\tremaining: 816ms\n783:\tlearn: 0.0063115\ttotal: 2.94s\tremaining: 812ms\n784:\tlearn: 0.0062979\ttotal: 2.95s\tremaining: 807ms\n785:\tlearn: 0.0062884\ttotal: 2.95s\tremaining: 803ms\n786:\tlearn: 0.0062794\ttotal: 2.95s\tremaining: 799ms\n787:\tlearn: 0.0062717\ttotal: 2.96s\tremaining: 795ms\n788:\tlearn: 0.0062618\ttotal: 2.96s\tremaining: 791ms\n789:\tlearn: 0.0062534\ttotal: 2.96s\tremaining: 787ms\n790:\tlearn: 0.0062448\ttotal: 2.96s\tremaining: 783ms\n791:\tlearn: 0.0062371\ttotal: 2.97s\tremaining: 779ms\n792:\tlearn: 0.0062269\ttotal: 2.97s\tremaining: 775ms\n793:\tlearn: 0.0062195\ttotal: 2.97s\tremaining: 771ms\n794:\tlearn: 0.0062118\ttotal: 2.97s\tremaining: 767ms\n795:\tlearn: 0.0062058\ttotal: 2.98s\tremaining: 763ms\n796:\tlearn: 0.0061986\ttotal: 2.98s\tremaining: 759ms\n797:\tlearn: 0.0061905\ttotal: 2.98s\tremaining: 755ms\n798:\tlearn: 0.0061829\ttotal: 2.98s\tremaining: 751ms\n799:\tlearn: 0.0061754\ttotal: 2.99s\tremaining: 747ms\n800:\tlearn: 0.0061691\ttotal: 2.99s\tremaining: 743ms\n801:\tlearn: 0.0061606\ttotal: 2.99s\tremaining: 739ms\n802:\tlearn: 0.0061516\ttotal: 3s\tremaining: 735ms\n803:\tlearn: 0.0061428\ttotal: 3s\tremaining: 731ms\n804:\tlearn: 0.0061342\ttotal: 3s\tremaining: 727ms\n805:\tlearn: 0.0061279\ttotal: 3s\tremaining: 723ms\n806:\tlearn: 0.0061195\ttotal: 3s\tremaining: 719ms\n807:\tlearn: 0.0061091\ttotal: 3.01s\tremaining: 715ms\n808:\tlearn: 0.0061025\ttotal: 3.01s\tremaining: 711ms\n809:\tlearn: 0.0060953\ttotal: 3.01s\tremaining: 707ms\n810:\tlearn: 0.0060890\ttotal: 3.02s\tremaining: 703ms\n811:\tlearn: 0.0060805\ttotal: 3.02s\tremaining: 699ms\n812:\tlearn: 0.0060736\ttotal: 3.02s\tremaining: 695ms\n813:\tlearn: 0.0060662\ttotal: 3.02s\tremaining: 690ms\n814:\tlearn: 0.0060582\ttotal: 3.02s\tremaining: 686ms\n815:\tlearn: 0.0060505\ttotal: 3.02s\tremaining: 682ms\n816:\tlearn: 0.0060450\ttotal: 3.03s\tremaining: 678ms\n817:\tlearn: 0.0060397\ttotal: 3.03s\tremaining: 674ms\n818:\tlearn: 0.0060327\ttotal: 3.03s\tremaining: 670ms\n819:\tlearn: 0.0060264\ttotal: 3.03s\tremaining: 665ms\n820:\tlearn: 0.0060165\ttotal: 3.03s\tremaining: 661ms\n821:\tlearn: 0.0060082\ttotal: 3.03s\tremaining: 657ms\n822:\tlearn: 0.0059968\ttotal: 3.03s\tremaining: 653ms\n823:\tlearn: 0.0059892\ttotal: 3.04s\tremaining: 650ms\n824:\tlearn: 0.0059829\ttotal: 3.04s\tremaining: 646ms\n825:\tlearn: 0.0059756\ttotal: 3.04s\tremaining: 642ms\n826:\tlearn: 0.0059662\ttotal: 3.05s\tremaining: 637ms\n827:\tlearn: 0.0059614\ttotal: 3.05s\tremaining: 633ms\n828:\tlearn: 0.0059555\ttotal: 3.06s\tremaining: 631ms\n829:\tlearn: 0.0059502\ttotal: 3.06s\tremaining: 627ms\n830:\tlearn: 0.0059403\ttotal: 3.06s\tremaining: 623ms\n831:\tlearn: 0.0059320\ttotal: 3.06s\tremaining: 619ms\n832:\tlearn: 0.0059227\ttotal: 3.07s\tremaining: 615ms\n833:\tlearn: 0.0059135\ttotal: 3.07s\tremaining: 611ms\n834:\tlearn: 0.0059059\ttotal: 3.07s\tremaining: 607ms\n835:\tlearn: 0.0058979\ttotal: 3.08s\tremaining: 604ms\n836:\tlearn: 0.0058897\ttotal: 3.08s\tremaining: 600ms\n837:\tlearn: 0.0058804\ttotal: 3.08s\tremaining: 596ms\n838:\tlearn: 0.0058726\ttotal: 3.08s\tremaining: 592ms\n839:\tlearn: 0.0058662\ttotal: 3.09s\tremaining: 588ms\n840:\tlearn: 0.0058571\ttotal: 3.09s\tremaining: 584ms\n841:\tlearn: 0.0058478\ttotal: 3.09s\tremaining: 580ms\n842:\tlearn: 0.0058400\ttotal: 3.09s\tremaining: 576ms\n843:\tlearn: 0.0058331\ttotal: 3.1s\tremaining: 572ms\n844:\tlearn: 0.0058270\ttotal: 3.1s\tremaining: 568ms\n845:\tlearn: 0.0058220\ttotal: 3.1s\tremaining: 564ms\n846:\tlearn: 0.0058171\ttotal: 3.1s\tremaining: 560ms\n847:\tlearn: 0.0058110\ttotal: 3.1s\tremaining: 556ms\n848:\tlearn: 0.0058064\ttotal: 3.1s\tremaining: 552ms\n849:\tlearn: 0.0057953\ttotal: 3.11s\tremaining: 548ms\n850:\tlearn: 0.0057855\ttotal: 3.11s\tremaining: 544ms\n851:\tlearn: 0.0057770\ttotal: 3.12s\tremaining: 542ms\n852:\tlearn: 0.0057699\ttotal: 3.12s\tremaining: 538ms\n853:\tlearn: 0.0057635\ttotal: 3.13s\tremaining: 534ms\n854:\tlearn: 0.0057577\ttotal: 3.13s\tremaining: 530ms\n855:\tlearn: 0.0057522\ttotal: 3.13s\tremaining: 527ms\n856:\tlearn: 0.0057459\ttotal: 3.14s\tremaining: 523ms\n857:\tlearn: 0.0057400\ttotal: 3.14s\tremaining: 519ms\n858:\tlearn: 0.0057304\ttotal: 3.14s\tremaining: 516ms\n859:\tlearn: 0.0057223\ttotal: 3.14s\tremaining: 512ms\n860:\tlearn: 0.0057151\ttotal: 3.14s\tremaining: 508ms\n861:\tlearn: 0.0057107\ttotal: 3.15s\tremaining: 504ms\n862:\tlearn: 0.0057022\ttotal: 3.15s\tremaining: 500ms\n863:\tlearn: 0.0056923\ttotal: 3.15s\tremaining: 496ms\n864:\tlearn: 0.0056869\ttotal: 3.15s\tremaining: 492ms\n865:\tlearn: 0.0056764\ttotal: 3.15s\tremaining: 488ms\n866:\tlearn: 0.0056714\ttotal: 3.15s\tremaining: 484ms\n867:\tlearn: 0.0056636\ttotal: 3.16s\tremaining: 480ms\n868:\tlearn: 0.0056580\ttotal: 3.17s\tremaining: 477ms\n869:\tlearn: 0.0056497\ttotal: 3.17s\tremaining: 474ms\n870:\tlearn: 0.0056395\ttotal: 3.17s\tremaining: 470ms\n871:\tlearn: 0.0056352\ttotal: 3.17s\tremaining: 466ms\n872:\tlearn: 0.0056279\ttotal: 3.18s\tremaining: 462ms\n873:\tlearn: 0.0056200\ttotal: 3.18s\tremaining: 459ms\n874:\tlearn: 0.0056145\ttotal: 3.19s\tremaining: 455ms\n875:\tlearn: 0.0056072\ttotal: 3.19s\tremaining: 451ms\n876:\tlearn: 0.0056003\ttotal: 3.19s\tremaining: 447ms\n877:\tlearn: 0.0055932\ttotal: 3.19s\tremaining: 444ms\n878:\tlearn: 0.0055863\ttotal: 3.19s\tremaining: 440ms\n879:\tlearn: 0.0055799\ttotal: 3.2s\tremaining: 436ms\n880:\tlearn: 0.0055738\ttotal: 3.2s\tremaining: 432ms\n881:\tlearn: 0.0055683\ttotal: 3.2s\tremaining: 428ms\n882:\tlearn: 0.0055614\ttotal: 3.2s\tremaining: 424ms\n883:\tlearn: 0.0055551\ttotal: 3.2s\tremaining: 420ms\n884:\tlearn: 0.0055480\ttotal: 3.21s\tremaining: 417ms\n885:\tlearn: 0.0055395\ttotal: 3.21s\tremaining: 414ms\n886:\tlearn: 0.0055356\ttotal: 3.22s\tremaining: 410ms\n887:\tlearn: 0.0055310\ttotal: 3.22s\tremaining: 406ms\n888:\tlearn: 0.0055254\ttotal: 3.22s\tremaining: 402ms\n889:\tlearn: 0.0055201\ttotal: 3.22s\tremaining: 398ms\n890:\tlearn: 0.0055112\ttotal: 3.22s\tremaining: 394ms\n891:\tlearn: 0.0055065\ttotal: 3.23s\tremaining: 391ms\n892:\tlearn: 0.0055003\ttotal: 3.23s\tremaining: 387ms\n893:\tlearn: 0.0054947\ttotal: 3.23s\tremaining: 383ms\n894:\tlearn: 0.0054891\ttotal: 3.23s\tremaining: 379ms\n895:\tlearn: 0.0054810\ttotal: 3.23s\tremaining: 375ms\n896:\tlearn: 0.0054728\ttotal: 3.23s\tremaining: 371ms\n897:\tlearn: 0.0054648\ttotal: 3.23s\tremaining: 368ms\n898:\tlearn: 0.0054586\ttotal: 3.24s\tremaining: 364ms\n899:\tlearn: 0.0054537\ttotal: 3.24s\tremaining: 360ms\n900:\tlearn: 0.0054481\ttotal: 3.24s\tremaining: 356ms\n901:\tlearn: 0.0054431\ttotal: 3.24s\tremaining: 352ms\n902:\tlearn: 0.0054351\ttotal: 3.24s\tremaining: 348ms\n903:\tlearn: 0.0054289\ttotal: 3.24s\tremaining: 345ms\n904:\tlearn: 0.0054223\ttotal: 3.25s\tremaining: 341ms\n905:\tlearn: 0.0054177\ttotal: 3.25s\tremaining: 337ms\n906:\tlearn: 0.0054122\ttotal: 3.25s\tremaining: 333ms\n907:\tlearn: 0.0054061\ttotal: 3.25s\tremaining: 330ms\n908:\tlearn: 0.0054015\ttotal: 3.25s\tremaining: 326ms\n909:\tlearn: 0.0053939\ttotal: 3.26s\tremaining: 322ms\n910:\tlearn: 0.0053875\ttotal: 3.26s\tremaining: 318ms\n911:\tlearn: 0.0053822\ttotal: 3.26s\tremaining: 314ms\n912:\tlearn: 0.0053782\ttotal: 3.26s\tremaining: 311ms\n913:\tlearn: 0.0053716\ttotal: 3.26s\tremaining: 307ms\n914:\tlearn: 0.0053664\ttotal: 3.26s\tremaining: 303ms\n915:\tlearn: 0.0053623\ttotal: 3.26s\tremaining: 299ms\n916:\tlearn: 0.0053575\ttotal: 3.27s\tremaining: 296ms\n917:\tlearn: 0.0053507\ttotal: 3.27s\tremaining: 292ms\n918:\tlearn: 0.0053441\ttotal: 3.27s\tremaining: 288ms\n919:\tlearn: 0.0053379\ttotal: 3.27s\tremaining: 285ms\n920:\tlearn: 0.0053314\ttotal: 3.27s\tremaining: 281ms\n921:\tlearn: 0.0053274\ttotal: 3.28s\tremaining: 277ms\n922:\tlearn: 0.0053196\ttotal: 3.28s\tremaining: 273ms\n923:\tlearn: 0.0053131\ttotal: 3.28s\tremaining: 270ms\n924:\tlearn: 0.0053079\ttotal: 3.28s\tremaining: 266ms\n925:\tlearn: 0.0053029\ttotal: 3.28s\tremaining: 262ms\n926:\tlearn: 0.0052975\ttotal: 3.28s\tremaining: 259ms\n927:\tlearn: 0.0052936\ttotal: 3.28s\tremaining: 255ms\n928:\tlearn: 0.0052876\ttotal: 3.29s\tremaining: 251ms\n929:\tlearn: 0.0052802\ttotal: 3.29s\tremaining: 247ms\n930:\tlearn: 0.0052745\ttotal: 3.29s\tremaining: 244ms\n931:\tlearn: 0.0052699\ttotal: 3.29s\tremaining: 240ms\n932:\tlearn: 0.0052652\ttotal: 3.29s\tremaining: 236ms\n933:\tlearn: 0.0052605\ttotal: 3.29s\tremaining: 233ms\n934:\tlearn: 0.0052567\ttotal: 3.29s\tremaining: 229ms\n935:\tlearn: 0.0052511\ttotal: 3.3s\tremaining: 225ms\n936:\tlearn: 0.0052448\ttotal: 3.3s\tremaining: 222ms\n937:\tlearn: 0.0052384\ttotal: 3.3s\tremaining: 218ms\n938:\tlearn: 0.0052326\ttotal: 3.3s\tremaining: 214ms\n939:\tlearn: 0.0052266\ttotal: 3.3s\tremaining: 211ms\n940:\tlearn: 0.0052192\ttotal: 3.3s\tremaining: 207ms\n941:\tlearn: 0.0052144\ttotal: 3.3s\tremaining: 203ms\n942:\tlearn: 0.0052069\ttotal: 3.31s\tremaining: 200ms\n943:\tlearn: 0.0052013\ttotal: 3.31s\tremaining: 196ms\n944:\tlearn: 0.0051950\ttotal: 3.31s\tremaining: 193ms\n945:\tlearn: 0.0051870\ttotal: 3.31s\tremaining: 189ms\n946:\tlearn: 0.0051797\ttotal: 3.31s\tremaining: 185ms\n947:\tlearn: 0.0051732\ttotal: 3.32s\tremaining: 182ms\n948:\tlearn: 0.0051675\ttotal: 3.32s\tremaining: 178ms\n949:\tlearn: 0.0051623\ttotal: 3.32s\tremaining: 175ms\n950:\tlearn: 0.0051577\ttotal: 3.32s\tremaining: 171ms\n951:\tlearn: 0.0051502\ttotal: 3.32s\tremaining: 168ms\n952:\tlearn: 0.0051431\ttotal: 3.32s\tremaining: 164ms\n953:\tlearn: 0.0051374\ttotal: 3.33s\tremaining: 160ms\n954:\tlearn: 0.0051326\ttotal: 3.33s\tremaining: 157ms\n955:\tlearn: 0.0051274\ttotal: 3.34s\tremaining: 154ms\n956:\tlearn: 0.0051204\ttotal: 3.34s\tremaining: 150ms\n957:\tlearn: 0.0051142\ttotal: 3.34s\tremaining: 146ms\n958:\tlearn: 0.0051075\ttotal: 3.34s\tremaining: 143ms\n959:\tlearn: 0.0051027\ttotal: 3.35s\tremaining: 139ms\n960:\tlearn: 0.0050937\ttotal: 3.35s\tremaining: 136ms\n961:\tlearn: 0.0050895\ttotal: 3.35s\tremaining: 132ms\n962:\tlearn: 0.0050849\ttotal: 3.35s\tremaining: 129ms\n963:\tlearn: 0.0050786\ttotal: 3.35s\tremaining: 125ms\n964:\tlearn: 0.0050732\ttotal: 3.36s\tremaining: 122ms\n965:\tlearn: 0.0050692\ttotal: 3.36s\tremaining: 118ms\n966:\tlearn: 0.0050624\ttotal: 3.37s\tremaining: 115ms\n967:\tlearn: 0.0050569\ttotal: 3.37s\tremaining: 111ms\n968:\tlearn: 0.0050500\ttotal: 3.37s\tremaining: 108ms\n969:\tlearn: 0.0050446\ttotal: 3.37s\tremaining: 104ms\n970:\tlearn: 0.0050395\ttotal: 3.38s\tremaining: 101ms\n971:\tlearn: 0.0050341\ttotal: 3.38s\tremaining: 97.4ms\n972:\tlearn: 0.0050245\ttotal: 3.38s\tremaining: 93.9ms\n973:\tlearn: 0.0050187\ttotal: 3.4s\tremaining: 90.7ms\n974:\tlearn: 0.0050144\ttotal: 3.4s\tremaining: 87.2ms\n975:\tlearn: 0.0050090\ttotal: 3.41s\tremaining: 83.8ms\n976:\tlearn: 0.0050033\ttotal: 3.41s\tremaining: 80.2ms\n977:\tlearn: 0.0049990\ttotal: 3.41s\tremaining: 76.7ms\n978:\tlearn: 0.0049935\ttotal: 3.41s\tremaining: 73.2ms\n979:\tlearn: 0.0049875\ttotal: 3.41s\tremaining: 69.6ms\n980:\tlearn: 0.0049827\ttotal: 3.42s\tremaining: 66.2ms\n981:\tlearn: 0.0049772\ttotal: 3.42s\tremaining: 62.7ms\n982:\tlearn: 0.0049707\ttotal: 3.42s\tremaining: 59.2ms\n983:\tlearn: 0.0049639\ttotal: 3.43s\tremaining: 55.8ms\n984:\tlearn: 0.0049594\ttotal: 3.44s\tremaining: 52.3ms\n985:\tlearn: 0.0049553\ttotal: 3.46s\tremaining: 49.1ms\n986:\tlearn: 0.0049505\ttotal: 3.46s\tremaining: 45.6ms\n987:\tlearn: 0.0049461\ttotal: 3.47s\tremaining: 42.1ms\n988:\tlearn: 0.0049428\ttotal: 3.47s\tremaining: 38.6ms\n989:\tlearn: 0.0049346\ttotal: 3.47s\tremaining: 35.1ms\n990:\tlearn: 0.0049287\ttotal: 3.47s\tremaining: 31.6ms\n991:\tlearn: 0.0049242\ttotal: 3.48s\tremaining: 28ms\n992:\tlearn: 0.0049211\ttotal: 3.48s\tremaining: 24.5ms\n993:\tlearn: 0.0049157\ttotal: 3.49s\tremaining: 21.1ms\n994:\tlearn: 0.0049099\ttotal: 3.5s\tremaining: 17.6ms\n995:\tlearn: 0.0049042\ttotal: 3.5s\tremaining: 14.1ms\n996:\tlearn: 0.0048992\ttotal: 3.52s\tremaining: 10.6ms\n997:\tlearn: 0.0048952\ttotal: 3.52s\tremaining: 7.05ms\n998:\tlearn: 0.0048887\ttotal: 3.52s\tremaining: 3.53ms\n999:\tlearn: 0.0048819\ttotal: 3.53s\tremaining: 0us\n"
    },
    {
     "output_type": "execute_result",
     "data": {
      "text/plain": "<catboost.core.CatBoostClassifier at 0x7f921c9d8cd0>"
     },
     "metadata": {},
     "execution_count": 27
    }
   ],
   "source": [
    "from catboost import CatBoostClassifier\n",
    "cat_model = CatBoostClassifier()\n",
    "cat_model.fit(X_train, y_train)"
   ]
  },
  {
   "cell_type": "code",
   "execution_count": 28,
   "metadata": {},
   "outputs": [],
   "source": [
    "y_pred = cat_model.predict(X_test)"
   ]
  },
  {
   "cell_type": "code",
   "execution_count": 29,
   "metadata": {},
   "outputs": [
    {
     "output_type": "execute_result",
     "data": {
      "text/plain": "array([[16,  0,  0],\n       [ 0, 17,  1],\n       [ 0,  0, 11]])"
     },
     "metadata": {},
     "execution_count": 29
    }
   ],
   "source": [
    "confusion_matrix(y_test, y_pred)"
   ]
  },
  {
   "cell_type": "code",
   "execution_count": 30,
   "metadata": {},
   "outputs": [
    {
     "output_type": "execute_result",
     "data": {
      "text/plain": "0.9777777777777777"
     },
     "metadata": {},
     "execution_count": 30
    }
   ],
   "source": [
    "accuracy_score(y_test, y_pred)"
   ]
  },
  {
   "cell_type": "code",
   "execution_count": 34,
   "metadata": {
    "tags": [
     "outputPrepend"
    ]
   },
   "outputs": [
    {
     "output_type": "stream",
     "name": "stdout",
     "text": "learn: 0.0085127\ttotal: 1.38s\tremaining: 856ms\n617:\tlearn: 0.0085016\ttotal: 1.38s\tremaining: 856ms\n618:\tlearn: 0.0084889\ttotal: 1.39s\tremaining: 854ms\n619:\tlearn: 0.0084725\ttotal: 1.39s\tremaining: 854ms\n620:\tlearn: 0.0084617\ttotal: 1.4s\tremaining: 852ms\n621:\tlearn: 0.0084454\ttotal: 1.4s\tremaining: 851ms\n622:\tlearn: 0.0084251\ttotal: 1.4s\tremaining: 850ms\n623:\tlearn: 0.0084046\ttotal: 1.41s\tremaining: 848ms\n624:\tlearn: 0.0083855\ttotal: 1.41s\tremaining: 848ms\n625:\tlearn: 0.0083620\ttotal: 1.42s\tremaining: 846ms\n626:\tlearn: 0.0083495\ttotal: 1.42s\tremaining: 843ms\n627:\tlearn: 0.0083365\ttotal: 1.42s\tremaining: 841ms\n628:\tlearn: 0.0083192\ttotal: 1.42s\tremaining: 838ms\n629:\tlearn: 0.0083061\ttotal: 1.42s\tremaining: 836ms\n630:\tlearn: 0.0082885\ttotal: 1.42s\tremaining: 833ms\n631:\tlearn: 0.0082749\ttotal: 1.43s\tremaining: 830ms\n632:\tlearn: 0.0082636\ttotal: 1.43s\tremaining: 828ms\n633:\tlearn: 0.0082510\ttotal: 1.43s\tremaining: 825ms\n634:\tlearn: 0.0082367\ttotal: 1.43s\tremaining: 823ms\n635:\tlearn: 0.0082232\ttotal: 1.43s\tremaining: 820ms\n636:\tlearn: 0.0082011\ttotal: 1.43s\tremaining: 817ms\n637:\tlearn: 0.0081854\ttotal: 1.44s\tremaining: 814ms\n638:\tlearn: 0.0081655\ttotal: 1.44s\tremaining: 812ms\n639:\tlearn: 0.0081534\ttotal: 1.44s\tremaining: 810ms\n640:\tlearn: 0.0081386\ttotal: 1.44s\tremaining: 808ms\n641:\tlearn: 0.0081181\ttotal: 1.44s\tremaining: 805ms\n642:\tlearn: 0.0081057\ttotal: 1.45s\tremaining: 802ms\n643:\tlearn: 0.0080957\ttotal: 1.45s\tremaining: 799ms\n644:\tlearn: 0.0080793\ttotal: 1.45s\tremaining: 796ms\n645:\tlearn: 0.0080670\ttotal: 1.45s\tremaining: 794ms\n646:\tlearn: 0.0080572\ttotal: 1.45s\tremaining: 791ms\n647:\tlearn: 0.0080496\ttotal: 1.45s\tremaining: 788ms\n648:\tlearn: 0.0080374\ttotal: 1.45s\tremaining: 785ms\n649:\tlearn: 0.0080259\ttotal: 1.45s\tremaining: 782ms\n650:\tlearn: 0.0080144\ttotal: 1.46s\tremaining: 781ms\n651:\tlearn: 0.0079989\ttotal: 1.46s\tremaining: 779ms\n652:\tlearn: 0.0079901\ttotal: 1.46s\tremaining: 776ms\n653:\tlearn: 0.0079758\ttotal: 1.46s\tremaining: 773ms\n654:\tlearn: 0.0079647\ttotal: 1.46s\tremaining: 770ms\n655:\tlearn: 0.0079567\ttotal: 1.46s\tremaining: 767ms\n656:\tlearn: 0.0079453\ttotal: 1.46s\tremaining: 765ms\n657:\tlearn: 0.0079309\ttotal: 1.47s\tremaining: 762ms\n658:\tlearn: 0.0079164\ttotal: 1.47s\tremaining: 759ms\n659:\tlearn: 0.0079045\ttotal: 1.47s\tremaining: 756ms\n660:\tlearn: 0.0078899\ttotal: 1.47s\tremaining: 754ms\n661:\tlearn: 0.0078796\ttotal: 1.47s\tremaining: 751ms\n662:\tlearn: 0.0078639\ttotal: 1.47s\tremaining: 748ms\n663:\tlearn: 0.0078545\ttotal: 1.47s\tremaining: 746ms\n664:\tlearn: 0.0078433\ttotal: 1.48s\tremaining: 744ms\n665:\tlearn: 0.0078290\ttotal: 1.48s\tremaining: 742ms\n666:\tlearn: 0.0078069\ttotal: 1.48s\tremaining: 739ms\n667:\tlearn: 0.0077959\ttotal: 1.48s\tremaining: 736ms\n668:\tlearn: 0.0077783\ttotal: 1.48s\tremaining: 734ms\n669:\tlearn: 0.0077662\ttotal: 1.48s\tremaining: 731ms\n670:\tlearn: 0.0077531\ttotal: 1.48s\tremaining: 728ms\n671:\tlearn: 0.0077389\ttotal: 1.49s\tremaining: 725ms\n672:\tlearn: 0.0077253\ttotal: 1.49s\tremaining: 724ms\n673:\tlearn: 0.0077062\ttotal: 1.49s\tremaining: 722ms\n674:\tlearn: 0.0076976\ttotal: 1.49s\tremaining: 719ms\n675:\tlearn: 0.0076882\ttotal: 1.49s\tremaining: 716ms\n676:\tlearn: 0.0076778\ttotal: 1.5s\tremaining: 714ms\n677:\tlearn: 0.0076638\ttotal: 1.5s\tremaining: 712ms\n678:\tlearn: 0.0076526\ttotal: 1.5s\tremaining: 710ms\n679:\tlearn: 0.0076419\ttotal: 1.5s\tremaining: 707ms\n680:\tlearn: 0.0076255\ttotal: 1.5s\tremaining: 705ms\n681:\tlearn: 0.0076085\ttotal: 1.51s\tremaining: 703ms\n682:\tlearn: 0.0075984\ttotal: 1.51s\tremaining: 701ms\n683:\tlearn: 0.0075846\ttotal: 1.51s\tremaining: 698ms\n684:\tlearn: 0.0075716\ttotal: 1.51s\tremaining: 696ms\n685:\tlearn: 0.0075521\ttotal: 1.51s\tremaining: 693ms\n686:\tlearn: 0.0075407\ttotal: 1.51s\tremaining: 690ms\n687:\tlearn: 0.0075294\ttotal: 1.52s\tremaining: 688ms\n688:\tlearn: 0.0075178\ttotal: 1.52s\tremaining: 685ms\n689:\tlearn: 0.0075064\ttotal: 1.52s\tremaining: 682ms\n690:\tlearn: 0.0074973\ttotal: 1.52s\tremaining: 680ms\n691:\tlearn: 0.0074832\ttotal: 1.52s\tremaining: 678ms\n692:\tlearn: 0.0074709\ttotal: 1.52s\tremaining: 676ms\n693:\tlearn: 0.0074584\ttotal: 1.53s\tremaining: 673ms\n694:\tlearn: 0.0074424\ttotal: 1.53s\tremaining: 670ms\n695:\tlearn: 0.0074326\ttotal: 1.53s\tremaining: 668ms\n696:\tlearn: 0.0074214\ttotal: 1.53s\tremaining: 665ms\n697:\tlearn: 0.0074080\ttotal: 1.53s\tremaining: 663ms\n698:\tlearn: 0.0073945\ttotal: 1.53s\tremaining: 660ms\n699:\tlearn: 0.0073819\ttotal: 1.53s\tremaining: 658ms\n700:\tlearn: 0.0073721\ttotal: 1.54s\tremaining: 656ms\n701:\tlearn: 0.0073628\ttotal: 1.54s\tremaining: 654ms\n702:\tlearn: 0.0073478\ttotal: 1.54s\tremaining: 651ms\n703:\tlearn: 0.0073353\ttotal: 1.54s\tremaining: 649ms\n704:\tlearn: 0.0073275\ttotal: 1.54s\tremaining: 646ms\n705:\tlearn: 0.0073168\ttotal: 1.54s\tremaining: 643ms\n706:\tlearn: 0.0073075\ttotal: 1.54s\tremaining: 641ms\n707:\tlearn: 0.0072961\ttotal: 1.55s\tremaining: 638ms\n708:\tlearn: 0.0072790\ttotal: 1.55s\tremaining: 635ms\n709:\tlearn: 0.0072657\ttotal: 1.55s\tremaining: 635ms\n710:\tlearn: 0.0072559\ttotal: 1.56s\tremaining: 632ms\n711:\tlearn: 0.0072473\ttotal: 1.56s\tremaining: 630ms\n712:\tlearn: 0.0072360\ttotal: 1.56s\tremaining: 628ms\n713:\tlearn: 0.0072248\ttotal: 1.56s\tremaining: 625ms\n714:\tlearn: 0.0072140\ttotal: 1.56s\tremaining: 623ms\n715:\tlearn: 0.0072028\ttotal: 1.56s\tremaining: 621ms\n716:\tlearn: 0.0071906\ttotal: 1.58s\tremaining: 625ms\n717:\tlearn: 0.0071814\ttotal: 1.58s\tremaining: 623ms\n718:\tlearn: 0.0071718\ttotal: 1.59s\tremaining: 620ms\n719:\tlearn: 0.0071595\ttotal: 1.59s\tremaining: 618ms\n720:\tlearn: 0.0071484\ttotal: 1.59s\tremaining: 617ms\n721:\tlearn: 0.0071385\ttotal: 1.6s\tremaining: 617ms\n722:\tlearn: 0.0071265\ttotal: 1.61s\tremaining: 617ms\n723:\tlearn: 0.0071189\ttotal: 1.61s\tremaining: 616ms\n724:\tlearn: 0.0071022\ttotal: 1.62s\tremaining: 613ms\n725:\tlearn: 0.0070943\ttotal: 1.62s\tremaining: 611ms\n726:\tlearn: 0.0070805\ttotal: 1.62s\tremaining: 609ms\n727:\tlearn: 0.0070716\ttotal: 1.62s\tremaining: 606ms\n728:\tlearn: 0.0070630\ttotal: 1.63s\tremaining: 605ms\n729:\tlearn: 0.0070498\ttotal: 1.63s\tremaining: 602ms\n730:\tlearn: 0.0070436\ttotal: 1.63s\tremaining: 600ms\n731:\tlearn: 0.0070343\ttotal: 1.63s\tremaining: 597ms\n732:\tlearn: 0.0070252\ttotal: 1.63s\tremaining: 595ms\n733:\tlearn: 0.0070178\ttotal: 1.64s\tremaining: 594ms\n734:\tlearn: 0.0070073\ttotal: 1.64s\tremaining: 592ms\n735:\tlearn: 0.0070000\ttotal: 1.64s\tremaining: 590ms\n736:\tlearn: 0.0069882\ttotal: 1.65s\tremaining: 587ms\n737:\tlearn: 0.0069794\ttotal: 1.65s\tremaining: 585ms\n738:\tlearn: 0.0069695\ttotal: 1.66s\tremaining: 585ms\n739:\tlearn: 0.0069623\ttotal: 1.66s\tremaining: 583ms\n740:\tlearn: 0.0069519\ttotal: 1.66s\tremaining: 581ms\n741:\tlearn: 0.0069396\ttotal: 1.66s\tremaining: 578ms\n742:\tlearn: 0.0069320\ttotal: 1.66s\tremaining: 576ms\n743:\tlearn: 0.0069247\ttotal: 1.67s\tremaining: 574ms\n744:\tlearn: 0.0069134\ttotal: 1.67s\tremaining: 572ms\n745:\tlearn: 0.0068981\ttotal: 1.67s\tremaining: 569ms\n746:\tlearn: 0.0068889\ttotal: 1.67s\tremaining: 567ms\n747:\tlearn: 0.0068787\ttotal: 1.67s\tremaining: 564ms\n748:\tlearn: 0.0068714\ttotal: 1.68s\tremaining: 561ms\n749:\tlearn: 0.0068625\ttotal: 1.68s\tremaining: 559ms\n750:\tlearn: 0.0068518\ttotal: 1.68s\tremaining: 556ms\n751:\tlearn: 0.0068412\ttotal: 1.68s\tremaining: 554ms\n752:\tlearn: 0.0068319\ttotal: 1.68s\tremaining: 552ms\n753:\tlearn: 0.0068241\ttotal: 1.68s\tremaining: 549ms\n754:\tlearn: 0.0068162\ttotal: 1.68s\tremaining: 547ms\n755:\tlearn: 0.0068069\ttotal: 1.69s\tremaining: 544ms\n756:\tlearn: 0.0067950\ttotal: 1.69s\tremaining: 542ms\n757:\tlearn: 0.0067839\ttotal: 1.69s\tremaining: 539ms\n758:\tlearn: 0.0067729\ttotal: 1.69s\tremaining: 537ms\n759:\tlearn: 0.0067629\ttotal: 1.69s\tremaining: 534ms\n760:\tlearn: 0.0067536\ttotal: 1.69s\tremaining: 532ms\n761:\tlearn: 0.0067424\ttotal: 1.69s\tremaining: 529ms\n762:\tlearn: 0.0067348\ttotal: 1.7s\tremaining: 527ms\n763:\tlearn: 0.0067193\ttotal: 1.7s\tremaining: 525ms\n764:\tlearn: 0.0067115\ttotal: 1.7s\tremaining: 523ms\n765:\tlearn: 0.0066966\ttotal: 1.7s\tremaining: 520ms\n766:\tlearn: 0.0066887\ttotal: 1.7s\tremaining: 518ms\n767:\tlearn: 0.0066806\ttotal: 1.7s\tremaining: 515ms\n768:\tlearn: 0.0066686\ttotal: 1.71s\tremaining: 512ms\n769:\tlearn: 0.0066616\ttotal: 1.71s\tremaining: 510ms\n770:\tlearn: 0.0066507\ttotal: 1.71s\tremaining: 508ms\n771:\tlearn: 0.0066417\ttotal: 1.71s\tremaining: 505ms\n772:\tlearn: 0.0066342\ttotal: 1.71s\tremaining: 503ms\n773:\tlearn: 0.0066251\ttotal: 1.71s\tremaining: 501ms\n774:\tlearn: 0.0066155\ttotal: 1.72s\tremaining: 499ms\n775:\tlearn: 0.0066076\ttotal: 1.72s\tremaining: 496ms\n776:\tlearn: 0.0066003\ttotal: 1.72s\tremaining: 494ms\n777:\tlearn: 0.0065915\ttotal: 1.72s\tremaining: 491ms\n778:\tlearn: 0.0065828\ttotal: 1.73s\tremaining: 491ms\n779:\tlearn: 0.0065722\ttotal: 1.73s\tremaining: 489ms\n780:\tlearn: 0.0065617\ttotal: 1.73s\tremaining: 486ms\n781:\tlearn: 0.0065546\ttotal: 1.74s\tremaining: 484ms\n782:\tlearn: 0.0065499\ttotal: 1.74s\tremaining: 482ms\n783:\tlearn: 0.0065398\ttotal: 1.74s\tremaining: 479ms\n784:\tlearn: 0.0065291\ttotal: 1.74s\tremaining: 477ms\n785:\tlearn: 0.0065166\ttotal: 1.74s\tremaining: 474ms\n786:\tlearn: 0.0065076\ttotal: 1.74s\tremaining: 472ms\n787:\tlearn: 0.0065000\ttotal: 1.74s\tremaining: 469ms\n788:\tlearn: 0.0064915\ttotal: 1.75s\tremaining: 467ms\n789:\tlearn: 0.0064826\ttotal: 1.75s\tremaining: 465ms\n790:\tlearn: 0.0064743\ttotal: 1.75s\tremaining: 463ms\n791:\tlearn: 0.0064676\ttotal: 1.75s\tremaining: 460ms\n792:\tlearn: 0.0064599\ttotal: 1.75s\tremaining: 458ms\n793:\tlearn: 0.0064535\ttotal: 1.75s\tremaining: 455ms\n794:\tlearn: 0.0064436\ttotal: 1.76s\tremaining: 453ms\n795:\tlearn: 0.0064344\ttotal: 1.76s\tremaining: 451ms\n796:\tlearn: 0.0064249\ttotal: 1.76s\tremaining: 448ms\n797:\tlearn: 0.0064164\ttotal: 1.76s\tremaining: 446ms\n798:\tlearn: 0.0064109\ttotal: 1.77s\tremaining: 446ms\n799:\tlearn: 0.0064038\ttotal: 1.77s\tremaining: 443ms\n800:\tlearn: 0.0063981\ttotal: 1.77s\tremaining: 441ms\n801:\tlearn: 0.0063891\ttotal: 1.77s\tremaining: 438ms\n802:\tlearn: 0.0063824\ttotal: 1.78s\tremaining: 436ms\n803:\tlearn: 0.0063753\ttotal: 1.78s\tremaining: 433ms\n804:\tlearn: 0.0063626\ttotal: 1.78s\tremaining: 431ms\n805:\tlearn: 0.0063538\ttotal: 1.78s\tremaining: 429ms\n806:\tlearn: 0.0063472\ttotal: 1.78s\tremaining: 427ms\n807:\tlearn: 0.0063402\ttotal: 1.79s\tremaining: 425ms\n808:\tlearn: 0.0063298\ttotal: 1.79s\tremaining: 423ms\n809:\tlearn: 0.0063204\ttotal: 1.79s\tremaining: 420ms\n810:\tlearn: 0.0063150\ttotal: 1.79s\tremaining: 418ms\n811:\tlearn: 0.0063086\ttotal: 1.79s\tremaining: 416ms\n812:\tlearn: 0.0063012\ttotal: 1.8s\tremaining: 413ms\n813:\tlearn: 0.0062949\ttotal: 1.8s\tremaining: 411ms\n814:\tlearn: 0.0062893\ttotal: 1.8s\tremaining: 408ms\n815:\tlearn: 0.0062835\ttotal: 1.8s\tremaining: 406ms\n816:\tlearn: 0.0062725\ttotal: 1.8s\tremaining: 404ms\n817:\tlearn: 0.0062654\ttotal: 1.81s\tremaining: 402ms\n818:\tlearn: 0.0062592\ttotal: 1.81s\tremaining: 400ms\n819:\tlearn: 0.0062484\ttotal: 1.81s\tremaining: 397ms\n820:\tlearn: 0.0062359\ttotal: 1.81s\tremaining: 395ms\n821:\tlearn: 0.0062281\ttotal: 1.81s\tremaining: 393ms\n822:\tlearn: 0.0062232\ttotal: 1.81s\tremaining: 390ms\n823:\tlearn: 0.0062164\ttotal: 1.81s\tremaining: 388ms\n824:\tlearn: 0.0062118\ttotal: 1.82s\tremaining: 385ms\n825:\tlearn: 0.0062022\ttotal: 1.82s\tremaining: 383ms\n826:\tlearn: 0.0061958\ttotal: 1.82s\tremaining: 381ms\n827:\tlearn: 0.0061880\ttotal: 1.82s\tremaining: 378ms\n828:\tlearn: 0.0061794\ttotal: 1.82s\tremaining: 376ms\n829:\tlearn: 0.0061713\ttotal: 1.82s\tremaining: 374ms\n830:\tlearn: 0.0061607\ttotal: 1.82s\tremaining: 371ms\n831:\tlearn: 0.0061522\ttotal: 1.83s\tremaining: 369ms\n832:\tlearn: 0.0061462\ttotal: 1.83s\tremaining: 366ms\n833:\tlearn: 0.0061383\ttotal: 1.83s\tremaining: 364ms\n834:\tlearn: 0.0061305\ttotal: 1.83s\tremaining: 362ms\n835:\tlearn: 0.0061241\ttotal: 1.83s\tremaining: 359ms\n836:\tlearn: 0.0061171\ttotal: 1.83s\tremaining: 357ms\n837:\tlearn: 0.0061104\ttotal: 1.83s\tremaining: 355ms\n838:\tlearn: 0.0061027\ttotal: 1.84s\tremaining: 352ms\n839:\tlearn: 0.0060890\ttotal: 1.84s\tremaining: 350ms\n840:\tlearn: 0.0060791\ttotal: 1.84s\tremaining: 348ms\n841:\tlearn: 0.0060700\ttotal: 1.84s\tremaining: 345ms\n842:\tlearn: 0.0060634\ttotal: 1.84s\tremaining: 343ms\n843:\tlearn: 0.0060536\ttotal: 1.84s\tremaining: 341ms\n844:\tlearn: 0.0060443\ttotal: 1.84s\tremaining: 338ms\n845:\tlearn: 0.0060375\ttotal: 1.85s\tremaining: 336ms\n846:\tlearn: 0.0060290\ttotal: 1.85s\tremaining: 334ms\n847:\tlearn: 0.0060238\ttotal: 1.85s\tremaining: 332ms\n848:\tlearn: 0.0060147\ttotal: 1.85s\tremaining: 329ms\n849:\tlearn: 0.0060054\ttotal: 1.85s\tremaining: 327ms\n850:\tlearn: 0.0059957\ttotal: 1.85s\tremaining: 324ms\n851:\tlearn: 0.0059871\ttotal: 1.85s\tremaining: 322ms\n852:\tlearn: 0.0059822\ttotal: 1.85s\tremaining: 320ms\n853:\tlearn: 0.0059756\ttotal: 1.86s\tremaining: 317ms\n854:\tlearn: 0.0059675\ttotal: 1.86s\tremaining: 315ms\n855:\tlearn: 0.0059627\ttotal: 1.86s\tremaining: 313ms\n856:\tlearn: 0.0059518\ttotal: 1.86s\tremaining: 311ms\n857:\tlearn: 0.0059424\ttotal: 1.86s\tremaining: 309ms\n858:\tlearn: 0.0059341\ttotal: 1.87s\tremaining: 306ms\n859:\tlearn: 0.0059274\ttotal: 1.87s\tremaining: 304ms\n860:\tlearn: 0.0059197\ttotal: 1.87s\tremaining: 302ms\n861:\tlearn: 0.0059156\ttotal: 1.88s\tremaining: 301ms\n862:\tlearn: 0.0059083\ttotal: 1.89s\tremaining: 300ms\n863:\tlearn: 0.0059020\ttotal: 1.89s\tremaining: 298ms\n864:\tlearn: 0.0058947\ttotal: 1.9s\tremaining: 296ms\n865:\tlearn: 0.0058867\ttotal: 1.9s\tremaining: 294ms\n866:\tlearn: 0.0058803\ttotal: 1.9s\tremaining: 292ms\n867:\tlearn: 0.0058731\ttotal: 1.91s\tremaining: 290ms\n868:\tlearn: 0.0058660\ttotal: 1.91s\tremaining: 288ms\n869:\tlearn: 0.0058590\ttotal: 1.91s\tremaining: 286ms\n870:\tlearn: 0.0058522\ttotal: 1.92s\tremaining: 284ms\n871:\tlearn: 0.0058423\ttotal: 1.92s\tremaining: 282ms\n872:\tlearn: 0.0058334\ttotal: 1.92s\tremaining: 279ms\n873:\tlearn: 0.0058292\ttotal: 1.92s\tremaining: 277ms\n874:\tlearn: 0.0058211\ttotal: 1.92s\tremaining: 275ms\n875:\tlearn: 0.0058149\ttotal: 1.92s\tremaining: 272ms\n876:\tlearn: 0.0058085\ttotal: 1.93s\tremaining: 270ms\n877:\tlearn: 0.0058017\ttotal: 1.93s\tremaining: 268ms\n878:\tlearn: 0.0057959\ttotal: 1.93s\tremaining: 266ms\n879:\tlearn: 0.0057898\ttotal: 1.93s\tremaining: 264ms\n880:\tlearn: 0.0057802\ttotal: 1.93s\tremaining: 261ms\n881:\tlearn: 0.0057759\ttotal: 1.94s\tremaining: 259ms\n882:\tlearn: 0.0057706\ttotal: 1.94s\tremaining: 257ms\n883:\tlearn: 0.0057640\ttotal: 1.94s\tremaining: 254ms\n884:\tlearn: 0.0057570\ttotal: 1.94s\tremaining: 252ms\n885:\tlearn: 0.0057490\ttotal: 1.94s\tremaining: 250ms\n886:\tlearn: 0.0057437\ttotal: 1.94s\tremaining: 247ms\n887:\tlearn: 0.0057388\ttotal: 1.94s\tremaining: 245ms\n888:\tlearn: 0.0057320\ttotal: 1.94s\tremaining: 243ms\n889:\tlearn: 0.0057216\ttotal: 1.95s\tremaining: 241ms\n890:\tlearn: 0.0057143\ttotal: 1.95s\tremaining: 238ms\n891:\tlearn: 0.0057058\ttotal: 1.95s\tremaining: 236ms\n892:\tlearn: 0.0056983\ttotal: 1.95s\tremaining: 234ms\n893:\tlearn: 0.0056919\ttotal: 1.95s\tremaining: 231ms\n894:\tlearn: 0.0056832\ttotal: 1.95s\tremaining: 229ms\n895:\tlearn: 0.0056783\ttotal: 1.95s\tremaining: 227ms\n896:\tlearn: 0.0056717\ttotal: 1.95s\tremaining: 224ms\n897:\tlearn: 0.0056669\ttotal: 1.95s\tremaining: 222ms\n898:\tlearn: 0.0056621\ttotal: 1.96s\tremaining: 220ms\n899:\tlearn: 0.0056524\ttotal: 1.96s\tremaining: 218ms\n900:\tlearn: 0.0056477\ttotal: 1.96s\tremaining: 216ms\n901:\tlearn: 0.0056395\ttotal: 1.96s\tremaining: 213ms\n902:\tlearn: 0.0056341\ttotal: 1.96s\tremaining: 211ms\n903:\tlearn: 0.0056302\ttotal: 1.97s\tremaining: 209ms\n904:\tlearn: 0.0056229\ttotal: 1.97s\tremaining: 206ms\n905:\tlearn: 0.0056152\ttotal: 1.97s\tremaining: 204ms\n906:\tlearn: 0.0056075\ttotal: 1.97s\tremaining: 202ms\n907:\tlearn: 0.0055993\ttotal: 1.97s\tremaining: 200ms\n908:\tlearn: 0.0055936\ttotal: 1.98s\tremaining: 198ms\n909:\tlearn: 0.0055882\ttotal: 1.98s\tremaining: 196ms\n910:\tlearn: 0.0055804\ttotal: 1.98s\tremaining: 193ms\n911:\tlearn: 0.0055750\ttotal: 1.98s\tremaining: 191ms\n912:\tlearn: 0.0055700\ttotal: 1.98s\tremaining: 189ms\n913:\tlearn: 0.0055639\ttotal: 1.98s\tremaining: 187ms\n914:\tlearn: 0.0055529\ttotal: 1.99s\tremaining: 184ms\n915:\tlearn: 0.0055461\ttotal: 1.99s\tremaining: 182ms\n916:\tlearn: 0.0055414\ttotal: 1.99s\tremaining: 180ms\n917:\tlearn: 0.0055337\ttotal: 1.99s\tremaining: 178ms\n918:\tlearn: 0.0055289\ttotal: 1.99s\tremaining: 175ms\n919:\tlearn: 0.0055217\ttotal: 1.99s\tremaining: 173ms\n920:\tlearn: 0.0055154\ttotal: 2s\tremaining: 171ms\n921:\tlearn: 0.0055069\ttotal: 2s\tremaining: 169ms\n922:\tlearn: 0.0054989\ttotal: 2s\tremaining: 167ms\n923:\tlearn: 0.0054910\ttotal: 2.01s\tremaining: 165ms\n924:\tlearn: 0.0054837\ttotal: 2.01s\tremaining: 163ms\n925:\tlearn: 0.0054781\ttotal: 2.01s\tremaining: 161ms\n926:\tlearn: 0.0054729\ttotal: 2.02s\tremaining: 159ms\n927:\tlearn: 0.0054667\ttotal: 2.02s\tremaining: 157ms\n928:\tlearn: 0.0054600\ttotal: 2.02s\tremaining: 154ms\n929:\tlearn: 0.0054529\ttotal: 2.02s\tremaining: 152ms\n930:\tlearn: 0.0054476\ttotal: 2.02s\tremaining: 150ms\n931:\tlearn: 0.0054436\ttotal: 2.02s\tremaining: 148ms\n932:\tlearn: 0.0054338\ttotal: 2.02s\tremaining: 145ms\n933:\tlearn: 0.0054290\ttotal: 2.02s\tremaining: 143ms\n934:\tlearn: 0.0054235\ttotal: 2.02s\tremaining: 141ms\n935:\tlearn: 0.0054186\ttotal: 2.03s\tremaining: 139ms\n936:\tlearn: 0.0054130\ttotal: 2.03s\tremaining: 136ms\n937:\tlearn: 0.0054068\ttotal: 2.03s\tremaining: 134ms\n938:\tlearn: 0.0053993\ttotal: 2.03s\tremaining: 132ms\n939:\tlearn: 0.0053912\ttotal: 2.03s\tremaining: 130ms\n940:\tlearn: 0.0053868\ttotal: 2.03s\tremaining: 128ms\n941:\tlearn: 0.0053809\ttotal: 2.04s\tremaining: 125ms\n942:\tlearn: 0.0053764\ttotal: 2.04s\tremaining: 123ms\n943:\tlearn: 0.0053704\ttotal: 2.04s\tremaining: 121ms\n944:\tlearn: 0.0053645\ttotal: 2.04s\tremaining: 119ms\n945:\tlearn: 0.0053600\ttotal: 2.04s\tremaining: 117ms\n946:\tlearn: 0.0053553\ttotal: 2.04s\tremaining: 114ms\n947:\tlearn: 0.0053485\ttotal: 2.05s\tremaining: 112ms\n948:\tlearn: 0.0053429\ttotal: 2.05s\tremaining: 110ms\n949:\tlearn: 0.0053380\ttotal: 2.06s\tremaining: 108ms\n950:\tlearn: 0.0053323\ttotal: 2.06s\tremaining: 106ms\n951:\tlearn: 0.0053259\ttotal: 2.06s\tremaining: 104ms\n952:\tlearn: 0.0053204\ttotal: 2.06s\tremaining: 102ms\n953:\tlearn: 0.0053121\ttotal: 2.06s\tremaining: 99.4ms\n954:\tlearn: 0.0053076\ttotal: 2.06s\tremaining: 97.2ms\n955:\tlearn: 0.0053016\ttotal: 2.06s\tremaining: 95ms\n956:\tlearn: 0.0052972\ttotal: 2.07s\tremaining: 92.9ms\n957:\tlearn: 0.0052924\ttotal: 2.07s\tremaining: 90.7ms\n958:\tlearn: 0.0052857\ttotal: 2.07s\tremaining: 88.5ms\n959:\tlearn: 0.0052790\ttotal: 2.07s\tremaining: 86.3ms\n960:\tlearn: 0.0052742\ttotal: 2.07s\tremaining: 84.1ms\n961:\tlearn: 0.0052685\ttotal: 2.07s\tremaining: 81.9ms\n962:\tlearn: 0.0052628\ttotal: 2.07s\tremaining: 79.7ms\n963:\tlearn: 0.0052587\ttotal: 2.08s\tremaining: 77.5ms\n964:\tlearn: 0.0052548\ttotal: 2.08s\tremaining: 75.3ms\n965:\tlearn: 0.0052489\ttotal: 2.08s\tremaining: 73.2ms\n966:\tlearn: 0.0052404\ttotal: 2.08s\tremaining: 71ms\n967:\tlearn: 0.0052350\ttotal: 2.08s\tremaining: 68.8ms\n968:\tlearn: 0.0052311\ttotal: 2.08s\tremaining: 66.7ms\n969:\tlearn: 0.0052246\ttotal: 2.08s\tremaining: 64.5ms\n970:\tlearn: 0.0052207\ttotal: 2.08s\tremaining: 62.3ms\n971:\tlearn: 0.0052135\ttotal: 2.09s\tremaining: 60.1ms\n972:\tlearn: 0.0052082\ttotal: 2.09s\tremaining: 57.9ms\n973:\tlearn: 0.0052041\ttotal: 2.09s\tremaining: 55.8ms\n974:\tlearn: 0.0051988\ttotal: 2.09s\tremaining: 53.6ms\n975:\tlearn: 0.0051903\ttotal: 2.09s\tremaining: 51.4ms\n976:\tlearn: 0.0051838\ttotal: 2.09s\tremaining: 49.3ms\n977:\tlearn: 0.0051764\ttotal: 2.1s\tremaining: 47.2ms\n978:\tlearn: 0.0051713\ttotal: 2.1s\tremaining: 45ms\n979:\tlearn: 0.0051651\ttotal: 2.1s\tremaining: 42.8ms\n980:\tlearn: 0.0051612\ttotal: 2.1s\tremaining: 40.7ms\n981:\tlearn: 0.0051567\ttotal: 2.1s\tremaining: 38.5ms\n982:\tlearn: 0.0051492\ttotal: 2.1s\tremaining: 36.4ms\n983:\tlearn: 0.0051434\ttotal: 2.1s\tremaining: 34.2ms\n984:\tlearn: 0.0051379\ttotal: 2.1s\tremaining: 32.1ms\n985:\tlearn: 0.0051316\ttotal: 2.11s\tremaining: 29.9ms\n986:\tlearn: 0.0051254\ttotal: 2.11s\tremaining: 27.8ms\n987:\tlearn: 0.0051203\ttotal: 2.11s\tremaining: 25.6ms\n988:\tlearn: 0.0051126\ttotal: 2.11s\tremaining: 23.5ms\n989:\tlearn: 0.0051077\ttotal: 2.11s\tremaining: 21.4ms\n990:\tlearn: 0.0051015\ttotal: 2.11s\tremaining: 19.2ms\n991:\tlearn: 0.0050975\ttotal: 2.12s\tremaining: 17.1ms\n992:\tlearn: 0.0050939\ttotal: 2.12s\tremaining: 14.9ms\n993:\tlearn: 0.0050901\ttotal: 2.13s\tremaining: 12.8ms\n994:\tlearn: 0.0050839\ttotal: 2.13s\tremaining: 10.7ms\n995:\tlearn: 0.0050787\ttotal: 2.13s\tremaining: 8.55ms\n996:\tlearn: 0.0050720\ttotal: 2.13s\tremaining: 6.41ms\n997:\tlearn: 0.0050645\ttotal: 2.13s\tremaining: 4.27ms\n998:\tlearn: 0.0050600\ttotal: 2.13s\tremaining: 2.14ms\n999:\tlearn: 0.0050545\ttotal: 2.14s\tremaining: 0us\n0.9336295283663706\n0.06284598661133603\n"
    }
   ],
   "source": [
    "accuracies = cross_val_score(estimator=cat_model, X=X_train, y=y_train, cv=5)\n",
    "print(accuracies.mean())\n",
    "print(accuracies.std())"
   ]
  },
  {
   "cell_type": "code",
   "execution_count": null,
   "metadata": {},
   "outputs": [],
   "source": []
  }
 ]
}